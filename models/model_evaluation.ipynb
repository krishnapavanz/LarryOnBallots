{
 "cells": [
  {
   "cell_type": "markdown",
   "metadata": {},
   "source": [
    "# Model Evaluation"
   ]
  },
  {
   "cell_type": "code",
   "execution_count": 1,
   "metadata": {},
   "outputs": [],
   "source": [
    "# Load libraries\n",
    "import sys\n",
    "import os\n",
    "import warnings\n",
    "import numpy as np\n",
    "import matplotlib.pylab as plt\n",
    "import pandas as pd\n",
    "\n",
    "from sklearn.model_selection import train_test_split\n",
    "from sklearn.neighbors import KNeighborsClassifier\n",
    "from sklearn.tree import DecisionTreeClassifier\n",
    "from sklearn.linear_model import LogisticRegression\n",
    "from sklearn.metrics import classification_report, confusion_matrix, \\\n",
    "accuracy_score, ConfusionMatrixDisplay, f1_score\n",
    "from sklearn.preprocessing import binarize\n",
    "from sklearn import tree\n",
    "from sklearn.tree import export_text\n",
    "import graphviz"
   ]
  },
  {
   "cell_type": "code",
   "execution_count": 2,
   "metadata": {},
   "outputs": [],
   "source": [
    "# Set working directory - ONLY RUN ONCE\n",
    "os.chdir('../')"
   ]
  },
  {
   "cell_type": "code",
   "execution_count": 24,
   "metadata": {},
   "outputs": [],
   "source": [
    "import resources.data_preprocessing as dp\n",
    "import resources.split_normalization as sn\n",
    "import resources.dummies_colinearity as dc\n",
    "import models.random_forest as rf\n",
    "import models.endline_analysis as ea\n",
    "import models.nn as nn\n",
<<<<<<< HEAD
    "import models.lg as lg \n",
    "import plots.plots as plts"
=======
    "import plots.plots as plts\n",
    "import models.decision_tree_2 as dt"
>>>>>>> 3d4ad2bdb94348c82ce7da21f6454f3689afd1d6
   ]
  },
  {
   "cell_type": "code",
   "execution_count": 4,
   "metadata": {},
   "outputs": [],
   "source": [
    "# Hyde warnings\n",
    "warnings.filterwarnings('ignore')"
   ]
  },
  {
   "cell_type": "markdown",
   "metadata": {},
   "source": [
    "### Data loading and preprocessing"
   ]
  },
  {
   "cell_type": "code",
   "execution_count": 5,
   "metadata": {},
   "outputs": [],
   "source": [
    "# File paths\n",
    "file_dir = os.path.abspath('')\n",
    "face_cov_filepath = os.path.join(file_dir,\"data\",\"face_covering.csv\")\n",
    "demographics_filepath = os.path.join(file_dir,\"data\",\"demographics_2021.csv\")"
   ]
  },
  {
   "cell_type": "code",
   "execution_count": 6,
   "metadata": {},
   "outputs": [],
   "source": [
    "# Load data\n",
    "demographics = dp.load_demographics(demographics_filepath)\n",
    "face_covering = dp.load_referendum(face_cov_filepath)"
   ]
  },
  {
   "cell_type": "code",
   "execution_count": 7,
   "metadata": {},
   "outputs": [],
   "source": [
    "# Merge data\n",
    "merged_data_raw = dp.merge_demographics_referendum(demographics, face_covering)\n",
    "merged_data_raw = merged_data_raw[merged_data_raw['yes'].notna()]"
   ]
  },
  {
   "cell_type": "code",
   "execution_count": 8,
   "metadata": {},
   "outputs": [],
   "source": [
    "# Remove irrelevant attributes\n",
    "rm_attr = [\"id\", \"canton_id\", \"municipality_ref\", \"age_percentage_less_20\", \"death_rate\",\n",
    "        \"social_aid_perc\", \"employment_total\", \"establishments_total\", \"establishments_primary\",\n",
    "        \"establishments_secondary\", \"establishments_tertiary\", \"cast_ballots\", \"participation_rate\", \n",
    "        \"registered_voters\", \"blank_votes\", \"invalid_votes\", \"valid_ballots\", \"yes_count\", \"no_count\"]\n",
    "merged_data = merged_data_raw.drop(rm_attr, axis = 1)"
   ]
  },
  {
   "cell_type": "code",
   "execution_count": 9,
   "metadata": {},
   "outputs": [],
   "source": [
    "# Create dummy columns for categorical attributes\n",
    "dummy_cols = [\"canton\"]\n",
    "merged_data = dc.add_dummies(merged_data, dummy_cols)"
   ]
  },
  {
   "cell_type": "code",
   "execution_count": 10,
   "metadata": {},
   "outputs": [],
   "source": [
    "# Separate X and y\n",
    "X_attr = merged_data.columns.to_list()\n",
    "X_attr.remove('yes')\n",
    "X = merged_data.drop([\"yes\"], axis = 1)\n",
    "y_attr = \"yes\"\n",
    "y = merged_data[\"yes\"]"
   ]
  },
  {
   "cell_type": "code",
   "execution_count": 11,
   "metadata": {},
   "outputs": [
    {
     "name": "stdout",
     "output_type": "stream",
     "text": [
      "Shapes:\n",
      "X_train : (1733, 61) \n",
      "X_dev:  (217, 61) \n",
      "X_test:  (217, 61)\n"
     ]
    }
   ],
   "source": [
    "# Split data into train, development and test\n",
    "X_train_all, X_test_all, X_dev_all, y_train, y_test, y_dev = sn.split(X, y)\n",
    "print(\"Shapes:\\nX_train :\", X_train_all.shape, \"\\nX_dev: \", X_dev_all.shape, \"\\nX_test: \", X_test_all.shape)"
   ]
  },
  {
   "cell_type": "code",
   "execution_count": 12,
   "metadata": {},
   "outputs": [],
   "source": [
    "# Handle NAs\n",
    "for dataframe in [X_train_all, X_test_all, X_dev_all]:\n",
    "    dataframe = dp.handle_na(dataframe, fill = \"KNN\", nn=5)"
   ]
  },
  {
   "cell_type": "code",
   "execution_count": 13,
   "metadata": {},
   "outputs": [],
   "source": [
    "# Remove yes_perc (required later for evaluation)\n",
    "X_train = X_train_all.drop([\"yes_perc\", \"municipality_dem\"], axis = 1)\n",
    "X_test = X_test_all.drop([\"yes_perc\", \"municipality_dem\"], axis = 1)\n",
    "X_dev = X_dev_all.drop([\"yes_perc\", \"municipality_dem\"], axis = 1)\n",
    "\n",
    "X_attr_2 = [c for c in X_attr if c not in [\"yes_perc\", \"municipality_dem\"]]"
   ]
  },
  {
   "cell_type": "code",
   "execution_count": 14,
   "metadata": {},
   "outputs": [],
   "source": [
    "# Save column names\n",
    "X_cols = X_train.columns"
   ]
  },
  {
   "cell_type": "code",
   "execution_count": 15,
   "metadata": {},
   "outputs": [],
   "source": [
    "# Scale attributes\n",
    "X_train, X_test, X_dev = sn.min_max_scaling(X_train, X_test, X_dev)"
   ]
  },
  {
   "cell_type": "code",
   "execution_count": 16,
   "metadata": {},
   "outputs": [],
   "source": [
    "# Add column names\n",
    "X_train.columns = X_cols\n",
    "X_test.columns = X_cols\n",
    "X_dev.columns = X_cols"
   ]
  },
  {
   "cell_type": "code",
   "execution_count": 17,
   "metadata": {},
   "outputs": [],
   "source": [
    "# Political variables to remove for model testing \n",
    "political_attr = [\"PLR\", \"PDC\", \"PS\", \"UDC\", \"PEV_PCS\", \"PVL\", \"PBD\", \"PST_Sol\", \"PES\", \"small_right_parties\"]\n",
    "X_train_apol = X_train\n",
    "X_test_apol = X_test\n",
    "X_dev_apol = X_dev\n",
    "\n",
    "for col in political_attr:\n",
    "    idx = political_attr.index(col)\n",
    "    X_train_apol = X_train_apol.drop(X_train_apol.columns[idx], axis=1)\n",
    "    X_test_apol = X_test_apol.drop(X_test_apol.columns[idx], axis=1)\n",
    "    X_dev_apol = X_dev_apol.drop(X_dev_apol.columns[idx], axis=1)\n",
    "\n",
    "X_attr_apol = [c for c in X_attr if c not in political_attr]"
   ]
  },
  {
   "cell_type": "markdown",
   "metadata": {},
   "source": [
    "### Modelling "
   ]
  },
  {
   "cell_type": "code",
   "execution_count": 25,
   "metadata": {},
   "outputs": [],
   "source": [
    "labels = [\"no\", \"yes\"]"
   ]
  },
  {
   "cell_type": "markdown",
   "metadata": {},
   "source": [
    "#### Logistic Regression"
   ]
  },
  {
   "cell_type": "code",
   "execution_count": 26,
   "metadata": {},
   "outputs": [],
   "source": [
    "# Find best params for logistic regression\n",
    "lg_dict, accuracies_lg = lg.logistic_reg_hp(X_train, X_dev, y_train, y_dev)"
   ]
  },
  {
   "cell_type": "code",
   "execution_count": 27,
   "metadata": {},
   "outputs": [
    {
     "data": {
      "text/html": [
       "<div>\n",
       "<style scoped>\n",
       "    .dataframe tbody tr th:only-of-type {\n",
       "        vertical-align: middle;\n",
       "    }\n",
       "\n",
       "    .dataframe tbody tr th {\n",
       "        vertical-align: top;\n",
       "    }\n",
       "\n",
       "    .dataframe thead th {\n",
       "        text-align: right;\n",
       "    }\n",
       "</style>\n",
       "<table border=\"1\" class=\"dataframe\">\n",
       "  <thead>\n",
       "    <tr style=\"text-align: right;\">\n",
       "      <th></th>\n",
       "      <th>C</th>\n",
       "      <th>penalty</th>\n",
       "      <th>solver</th>\n",
       "      <th>mean_acc</th>\n",
       "    </tr>\n",
       "  </thead>\n",
       "  <tbody>\n",
       "    <tr>\n",
       "      <th>0</th>\n",
       "      <td>100.00</td>\n",
       "      <td>l2</td>\n",
       "      <td>newton-cg</td>\n",
       "      <td>0.874188</td>\n",
       "    </tr>\n",
       "    <tr>\n",
       "      <th>1</th>\n",
       "      <td>100.00</td>\n",
       "      <td>l2</td>\n",
       "      <td>lbfgs</td>\n",
       "      <td>0.874188</td>\n",
       "    </tr>\n",
       "    <tr>\n",
       "      <th>2</th>\n",
       "      <td>100.00</td>\n",
       "      <td>l2</td>\n",
       "      <td>liblinear</td>\n",
       "      <td>0.87453</td>\n",
       "    </tr>\n",
       "    <tr>\n",
       "      <th>3</th>\n",
       "      <td>10.00</td>\n",
       "      <td>l2</td>\n",
       "      <td>newton-cg</td>\n",
       "      <td>0.874872</td>\n",
       "    </tr>\n",
       "    <tr>\n",
       "      <th>4</th>\n",
       "      <td>10.00</td>\n",
       "      <td>l2</td>\n",
       "      <td>lbfgs</td>\n",
       "      <td>0.874872</td>\n",
       "    </tr>\n",
       "    <tr>\n",
       "      <th>5</th>\n",
       "      <td>10.00</td>\n",
       "      <td>l2</td>\n",
       "      <td>liblinear</td>\n",
       "      <td>0.875043</td>\n",
       "    </tr>\n",
       "    <tr>\n",
       "      <th>6</th>\n",
       "      <td>1.00</td>\n",
       "      <td>l2</td>\n",
       "      <td>newton-cg</td>\n",
       "      <td>0.868205</td>\n",
       "    </tr>\n",
       "    <tr>\n",
       "      <th>7</th>\n",
       "      <td>1.00</td>\n",
       "      <td>l2</td>\n",
       "      <td>lbfgs</td>\n",
       "      <td>0.868205</td>\n",
       "    </tr>\n",
       "    <tr>\n",
       "      <th>8</th>\n",
       "      <td>1.00</td>\n",
       "      <td>l2</td>\n",
       "      <td>liblinear</td>\n",
       "      <td>0.868718</td>\n",
       "    </tr>\n",
       "    <tr>\n",
       "      <th>9</th>\n",
       "      <td>0.10</td>\n",
       "      <td>l2</td>\n",
       "      <td>newton-cg</td>\n",
       "      <td>0.836923</td>\n",
       "    </tr>\n",
       "    <tr>\n",
       "      <th>10</th>\n",
       "      <td>0.10</td>\n",
       "      <td>l2</td>\n",
       "      <td>lbfgs</td>\n",
       "      <td>0.836923</td>\n",
       "    </tr>\n",
       "    <tr>\n",
       "      <th>11</th>\n",
       "      <td>0.10</td>\n",
       "      <td>l2</td>\n",
       "      <td>liblinear</td>\n",
       "      <td>0.837436</td>\n",
       "    </tr>\n",
       "    <tr>\n",
       "      <th>12</th>\n",
       "      <td>0.01</td>\n",
       "      <td>l2</td>\n",
       "      <td>newton-cg</td>\n",
       "      <td>0.827179</td>\n",
       "    </tr>\n",
       "    <tr>\n",
       "      <th>13</th>\n",
       "      <td>0.01</td>\n",
       "      <td>l2</td>\n",
       "      <td>lbfgs</td>\n",
       "      <td>0.827179</td>\n",
       "    </tr>\n",
       "    <tr>\n",
       "      <th>14</th>\n",
       "      <td>0.01</td>\n",
       "      <td>l2</td>\n",
       "      <td>liblinear</td>\n",
       "      <td>0.827179</td>\n",
       "    </tr>\n",
       "  </tbody>\n",
       "</table>\n",
       "</div>"
      ],
      "text/plain": [
       "         C penalty     solver  mean_acc\n",
       "0   100.00      l2  newton-cg  0.874188\n",
       "1   100.00      l2      lbfgs  0.874188\n",
       "2   100.00      l2  liblinear   0.87453\n",
       "3    10.00      l2  newton-cg  0.874872\n",
       "4    10.00      l2      lbfgs  0.874872\n",
       "5    10.00      l2  liblinear  0.875043\n",
       "6     1.00      l2  newton-cg  0.868205\n",
       "7     1.00      l2      lbfgs  0.868205\n",
       "8     1.00      l2  liblinear  0.868718\n",
       "9     0.10      l2  newton-cg  0.836923\n",
       "10    0.10      l2      lbfgs  0.836923\n",
       "11    0.10      l2  liblinear  0.837436\n",
       "12    0.01      l2  newton-cg  0.827179\n",
       "13    0.01      l2      lbfgs  0.827179\n",
       "14    0.01      l2  liblinear  0.827179"
      ]
     },
     "execution_count": 27,
     "metadata": {},
     "output_type": "execute_result"
    }
   ],
   "source": [
    "accuracies_display = accuracies_lg.params.apply(pd.Series)\n",
    "accuracies_display['mean_acc'] = accuracies_lg['mean_acc']\n",
    "accuracies_display"
   ]
  },
  {
   "cell_type": "code",
   "execution_count": 29,
   "metadata": {},
   "outputs": [],
   "source": [
    "# Make prediction with best params\n",
    "y_pred_lg, logreg = lg.logistic_reg_max_hp(X_train, X_test, y_train, y_test, max_params=lg_dict[\"max_params\"])"
   ]
  },
  {
   "cell_type": "code",
   "execution_count": 30,
   "metadata": {},
   "outputs": [
    {
     "ename": "NameError",
     "evalue": "name 'lg' is not defined",
     "output_type": "error",
     "traceback": [
      "\u001b[0;31m---------------------------------------------------------------------------\u001b[0m",
      "\u001b[0;31mNameError\u001b[0m                                 Traceback (most recent call last)",
      "\u001b[1;32m/Users/williamlennon/Documents/UChicago/Courses/CAPP 30254 Machine Learning/Project/LarryOnBallots/models/model_evaluation.ipynb Cell 27'\u001b[0m in \u001b[0;36m<cell line: 2>\u001b[0;34m()\u001b[0m\n\u001b[1;32m      <a href='vscode-notebook-cell:/Users/williamlennon/Documents/UChicago/Courses/CAPP%2030254%20Machine%20Learning/Project/LarryOnBallots/models/model_evaluation.ipynb#ch0000026?line=0'>1</a>\u001b[0m \u001b[39m# Plot weights of attributes\u001b[39;00m\n\u001b[0;32m----> <a href='vscode-notebook-cell:/Users/williamlennon/Documents/UChicago/Courses/CAPP%2030254%20Machine%20Learning/Project/LarryOnBallots/models/model_evaluation.ipynb#ch0000026?line=1'>2</a>\u001b[0m lg\u001b[39m.\u001b[39mlogistic_reg_plot(X_attr_2, logreg)\n",
      "\u001b[0;31mNameError\u001b[0m: name 'lg' is not defined"
     ]
    }
   ],
   "source": [
    "# Plot weights of attributes\n",
    "lg.logistic_reg_plot(X_attr_2, logreg)"
   ]
  },
  {
   "cell_type": "code",
   "execution_count": null,
   "metadata": {},
   "outputs": [
    {
     "name": "stdout",
     "output_type": "stream",
     "text": [
      "Classification report: \n",
      "               precision    recall  f1-score   support\n",
      "\n",
      "         0.0       0.76      0.50      0.60        26\n",
      "         1.0       0.94      0.98      0.96       191\n",
      "\n",
      "    accuracy                           0.92       217\n",
      "   macro avg       0.85      0.74      0.78       217\n",
      "weighted avg       0.91      0.92      0.91       217\n",
      "\n"
     ]
    }
   ],
   "source": [
    "# Evaluation metrics\n",
    "print(\"Classification report: \\n\", classification_report(y_test, y_pred_lg))"
   ]
  },
  {
   "cell_type": "code",
   "execution_count": null,
   "metadata": {},
   "outputs": [
    {
     "data": {
      "text/plain": [
       "<sklearn.metrics._plot.confusion_matrix.ConfusionMatrixDisplay at 0x1086c2b30>"
      ]
     },
     "execution_count": 24,
     "metadata": {},
     "output_type": "execute_result"
    },
    {
     "data": {
      "image/png": "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",
      "text/plain": [
       "<Figure size 432x288 with 2 Axes>"
      ]
     },
     "metadata": {
      "needs_background": "light"
     },
     "output_type": "display_data"
    }
   ],
   "source": [
    "# Confusion matrix\n",
    "cm = confusion_matrix(y_test, y_pred_lg)\n",
    "ConfusionMatrixDisplay(cm, display_labels=labels).plot()"
   ]
  },
  {
   "cell_type": "code",
   "execution_count": null,
   "metadata": {},
   "outputs": [
    {
     "ename": "ValueError",
     "evalue": "Mime type rendering requires nbformat>=4.2.0 but it is not installed",
     "output_type": "error",
     "traceback": [
      "\u001b[0;31m---------------------------------------------------------------------------\u001b[0m",
      "\u001b[0;31mValueError\u001b[0m                                Traceback (most recent call last)",
      "File \u001b[0;32m/Library/Frameworks/Python.framework/Versions/3.10/lib/python3.10/site-packages/IPython/core/formatters.py:921\u001b[0m, in \u001b[0;36mIPythonDisplayFormatter.__call__\u001b[0;34m(self, obj)\u001b[0m\n\u001b[1;32m    <a href='file:///Library/Frameworks/Python.framework/Versions/3.10/lib/python3.10/site-packages/IPython/core/formatters.py?line=918'>919</a>\u001b[0m method \u001b[39m=\u001b[39m get_real_method(obj, \u001b[39mself\u001b[39m\u001b[39m.\u001b[39mprint_method)\n\u001b[1;32m    <a href='file:///Library/Frameworks/Python.framework/Versions/3.10/lib/python3.10/site-packages/IPython/core/formatters.py?line=919'>920</a>\u001b[0m \u001b[39mif\u001b[39;00m method \u001b[39mis\u001b[39;00m \u001b[39mnot\u001b[39;00m \u001b[39mNone\u001b[39;00m:\n\u001b[0;32m--> <a href='file:///Library/Frameworks/Python.framework/Versions/3.10/lib/python3.10/site-packages/IPython/core/formatters.py?line=920'>921</a>\u001b[0m     method()\n\u001b[1;32m    <a href='file:///Library/Frameworks/Python.framework/Versions/3.10/lib/python3.10/site-packages/IPython/core/formatters.py?line=921'>922</a>\u001b[0m     \u001b[39mreturn\u001b[39;00m \u001b[39mTrue\u001b[39;00m\n",
      "File \u001b[0;32m/Library/Frameworks/Python.framework/Versions/3.10/lib/python3.10/site-packages/plotly/basedatatypes.py:842\u001b[0m, in \u001b[0;36mBaseFigure._ipython_display_\u001b[0;34m(self)\u001b[0m\n\u001b[1;32m    <a href='file:///Library/Frameworks/Python.framework/Versions/3.10/lib/python3.10/site-packages/plotly/basedatatypes.py?line=838'>839</a>\u001b[0m \u001b[39mimport\u001b[39;00m \u001b[39mplotly\u001b[39;00m\u001b[39m.\u001b[39;00m\u001b[39mio\u001b[39;00m \u001b[39mas\u001b[39;00m \u001b[39mpio\u001b[39;00m\n\u001b[1;32m    <a href='file:///Library/Frameworks/Python.framework/Versions/3.10/lib/python3.10/site-packages/plotly/basedatatypes.py?line=840'>841</a>\u001b[0m \u001b[39mif\u001b[39;00m pio\u001b[39m.\u001b[39mrenderers\u001b[39m.\u001b[39mrender_on_display \u001b[39mand\u001b[39;00m pio\u001b[39m.\u001b[39mrenderers\u001b[39m.\u001b[39mdefault:\n\u001b[0;32m--> <a href='file:///Library/Frameworks/Python.framework/Versions/3.10/lib/python3.10/site-packages/plotly/basedatatypes.py?line=841'>842</a>\u001b[0m     pio\u001b[39m.\u001b[39;49mshow(\u001b[39mself\u001b[39;49m)\n\u001b[1;32m    <a href='file:///Library/Frameworks/Python.framework/Versions/3.10/lib/python3.10/site-packages/plotly/basedatatypes.py?line=842'>843</a>\u001b[0m \u001b[39melse\u001b[39;00m:\n\u001b[1;32m    <a href='file:///Library/Frameworks/Python.framework/Versions/3.10/lib/python3.10/site-packages/plotly/basedatatypes.py?line=843'>844</a>\u001b[0m     \u001b[39mprint\u001b[39m(\u001b[39mrepr\u001b[39m(\u001b[39mself\u001b[39m))\n",
      "File \u001b[0;32m/Library/Frameworks/Python.framework/Versions/3.10/lib/python3.10/site-packages/plotly/io/_renderers.py:396\u001b[0m, in \u001b[0;36mshow\u001b[0;34m(fig, renderer, validate, **kwargs)\u001b[0m\n\u001b[1;32m    <a href='file:///Library/Frameworks/Python.framework/Versions/3.10/lib/python3.10/site-packages/plotly/io/_renderers.py?line=390'>391</a>\u001b[0m         \u001b[39mraise\u001b[39;00m \u001b[39mValueError\u001b[39;00m(\n\u001b[1;32m    <a href='file:///Library/Frameworks/Python.framework/Versions/3.10/lib/python3.10/site-packages/plotly/io/_renderers.py?line=391'>392</a>\u001b[0m             \u001b[39m\"\u001b[39m\u001b[39mMime type rendering requires ipython but it is not installed\u001b[39m\u001b[39m\"\u001b[39m\n\u001b[1;32m    <a href='file:///Library/Frameworks/Python.framework/Versions/3.10/lib/python3.10/site-packages/plotly/io/_renderers.py?line=392'>393</a>\u001b[0m         )\n\u001b[1;32m    <a href='file:///Library/Frameworks/Python.framework/Versions/3.10/lib/python3.10/site-packages/plotly/io/_renderers.py?line=394'>395</a>\u001b[0m     \u001b[39mif\u001b[39;00m \u001b[39mnot\u001b[39;00m nbformat \u001b[39mor\u001b[39;00m LooseVersion(nbformat\u001b[39m.\u001b[39m__version__) \u001b[39m<\u001b[39m LooseVersion(\u001b[39m\"\u001b[39m\u001b[39m4.2.0\u001b[39m\u001b[39m\"\u001b[39m):\n\u001b[0;32m--> <a href='file:///Library/Frameworks/Python.framework/Versions/3.10/lib/python3.10/site-packages/plotly/io/_renderers.py?line=395'>396</a>\u001b[0m         \u001b[39mraise\u001b[39;00m \u001b[39mValueError\u001b[39;00m(\n\u001b[1;32m    <a href='file:///Library/Frameworks/Python.framework/Versions/3.10/lib/python3.10/site-packages/plotly/io/_renderers.py?line=396'>397</a>\u001b[0m             \u001b[39m\"\u001b[39m\u001b[39mMime type rendering requires nbformat>=4.2.0 but it is not installed\u001b[39m\u001b[39m\"\u001b[39m\n\u001b[1;32m    <a href='file:///Library/Frameworks/Python.framework/Versions/3.10/lib/python3.10/site-packages/plotly/io/_renderers.py?line=397'>398</a>\u001b[0m         )\n\u001b[1;32m    <a href='file:///Library/Frameworks/Python.framework/Versions/3.10/lib/python3.10/site-packages/plotly/io/_renderers.py?line=399'>400</a>\u001b[0m     ipython_display\u001b[39m.\u001b[39mdisplay(bundle, raw\u001b[39m=\u001b[39m\u001b[39mTrue\u001b[39;00m)\n\u001b[1;32m    <a href='file:///Library/Frameworks/Python.framework/Versions/3.10/lib/python3.10/site-packages/plotly/io/_renderers.py?line=401'>402</a>\u001b[0m \u001b[39m# external renderers\u001b[39;00m\n",
      "\u001b[0;31mValueError\u001b[0m: Mime type rendering requires nbformat>=4.2.0 but it is not installed"
     ]
    },
    {
     "data": {
      "application/vnd.plotly.v1+json": {
       "config": {
        "plotlyServerURL": "https://plot.ly"
       },
       "data": [
        {
         "customdata": [
          [
           "Bretonnières"
          ],
          [
           "Mies"
          ],
          [
           "Ropraz"
          ],
          [
           "Hergiswil bei Willisau"
          ],
          [
           "Pont-en-Ogoz"
          ],
          [
           "Valeyres-sous-Ursins"
          ],
          [
           "Küblis"
          ],
          [
           "Sierre"
          ],
          [
           "Granges-Paccot"
          ],
          [
           "Amlikon-Bissegg"
          ],
          [
           "Saubraz"
          ],
          [
           "Bodio"
          ],
          [
           "Würenlingen"
          ],
          [
           "Wenslingen"
          ],
          [
           "Engelberg"
          ],
          [
           "Zwingen"
          ],
          [
           "Savièse"
          ],
          [
           "Lüterkofen-Ichertswil"
          ],
          [
           "Kappel am Albis"
          ],
          [
           "Bogis-Bossey"
          ],
          [
           "Petit-Val"
          ],
          [
           "Menznau"
          ],
          [
           "Gansingen"
          ],
          [
           "Lostorf"
          ],
          [
           "Mauborget"
          ],
          [
           "Forst-Längenbühl"
          ],
          [
           "Dürnten"
          ],
          [
           "Oberwil (BL)"
          ],
          [
           "Novazzano"
          ],
          [
           "Eiken"
          ],
          [
           "Mollens (VD)"
          ],
          [
           "Mümliswil-Ramiswil"
          ],
          [
           "Ottenbach"
          ],
          [
           "Turtmann-Unterems"
          ],
          [
           "Weggis"
          ],
          [
           "Dietwil"
          ],
          [
           "Gingins"
          ],
          [
           "Presinge"
          ],
          [
           "Kaisten"
          ],
          [
           "Ammerswil"
          ],
          [
           "Hornussen"
          ],
          [
           "Lens"
          ],
          [
           "Konolfingen"
          ],
          [
           "Mörel-Filet"
          ],
          [
           "Schangnau"
          ],
          [
           "Sarmenstorf"
          ],
          [
           "Biasca"
          ],
          [
           "Bremblens"
          ],
          [
           "Eschert"
          ],
          [
           "Le Bémont (JU)"
          ],
          [
           "Härkingen"
          ],
          [
           "Beromünster"
          ],
          [
           "Riedholz"
          ],
          [
           "Herzogenbuchsee"
          ],
          [
           "Fontenais"
          ],
          [
           "Wimmis"
          ],
          [
           "Boudry"
          ],
          [
           "Cortébert"
          ],
          [
           "Hohenrain"
          ],
          [
           "Therwil"
          ],
          [
           "Rüdtligen-Alchenflüh"
          ],
          [
           "Porza"
          ],
          [
           "Comano"
          ],
          [
           "Müllheim"
          ],
          [
           "Bioggio"
          ],
          [
           "Luterbach"
          ],
          [
           "Courchapoix"
          ],
          [
           "Rütschelen"
          ],
          [
           "Innertkirchen"
          ],
          [
           "Gilly"
          ],
          [
           "Riviera"
          ],
          [
           "Bürglen (UR)"
          ],
          [
           "Klosters"
          ],
          [
           "Augst"
          ],
          [
           "Ueberstorf"
          ],
          [
           "Oberwil-Lieli"
          ],
          [
           "Fislisbach"
          ],
          [
           "Mergoscia"
          ],
          [
           "Bois-d'Amont"
          ],
          [
           "Leuk"
          ],
          [
           "Wald (BE)"
          ],
          [
           "Einsiedeln"
          ],
          [
           "Huttwil"
          ],
          [
           "Gambarogno"
          ],
          [
           "Hindelbank"
          ],
          [
           "Rothrist"
          ],
          [
           "Albinen"
          ],
          [
           "Goms"
          ],
          [
           "Vallorbe"
          ],
          [
           "Orbe"
          ],
          [
           "Laufenburg"
          ],
          [
           "Wegenstetten"
          ],
          [
           "Staffelbach"
          ],
          [
           "Coeuve"
          ],
          [
           "Unterlangenegg"
          ],
          [
           "Tramelan"
          ],
          [
           "Les Genevez (JU)"
          ],
          [
           "Trüllikon"
          ],
          [
           "Conthey"
          ],
          [
           "Blenio"
          ],
          [
           "Baldingen"
          ],
          [
           "Oberlunkhofen"
          ],
          [
           "Sargans"
          ],
          [
           "Vullierens"
          ],
          [
           "Centovalli"
          ],
          [
           "Rougemont"
          ],
          [
           "Perroy"
          ],
          [
           "Lenk"
          ],
          [
           "Oberwil bei Büren"
          ],
          [
           "Busswil bei Melchnau"
          ],
          [
           "Täuffelen"
          ],
          [
           "Dalpe"
          ],
          [
           "Coldrerio"
          ],
          [
           "Steinen"
          ],
          [
           "Eschenz"
          ],
          [
           "Brienzwiler"
          ],
          [
           "Morcote"
          ],
          [
           "Beatenberg"
          ],
          [
           "Lignerolle"
          ],
          [
           "Trimmis"
          ],
          [
           "Allaman"
          ],
          [
           "Büron"
          ],
          [
           "Heimiswil"
          ],
          [
           "Valbirse"
          ],
          [
           "Rothenthurm"
          ],
          [
           "Remaufens"
          ],
          [
           "Hägendorf"
          ],
          [
           "Büttikon"
          ],
          [
           "Sion"
          ],
          [
           "Mirchel"
          ],
          [
           "Schöfflisdorf"
          ],
          [
           "Hägglingen"
          ],
          [
           "Egg"
          ],
          [
           "Basadingen-Schlattingen"
          ],
          [
           "Bichelsee-Balterswil"
          ],
          [
           "Alchenstorf"
          ],
          [
           "Buchs (SG)"
          ],
          [
           "Hochfelden"
          ],
          [
           "Avenches"
          ],
          [
           "Studen (BE)"
          ],
          [
           "Kleinbösingen"
          ],
          [
           "Ettingen"
          ],
          [
           "Scheuren"
          ],
          [
           "Dänikon"
          ],
          [
           "Meiringen"
          ],
          [
           "Dallenwil"
          ],
          [
           "Alpthal"
          ],
          [
           "Bergdietikon"
          ],
          [
           "Ehrendingen"
          ],
          [
           "Herrliberg"
          ],
          [
           "Dozwil"
          ],
          [
           "Le Chenit"
          ],
          [
           "Sorvilier"
          ],
          [
           "Steinmaur"
          ],
          [
           "Milvignes"
          ],
          [
           "Niederhasli"
          ],
          [
           "Erstfeld"
          ],
          [
           "Niedergösgen"
          ],
          [
           "Freienbach"
          ],
          [
           "Siglistorf"
          ],
          [
           "Schwellbrunn"
          ],
          [
           "Choulex"
          ],
          [
           "Plasselb"
          ],
          [
           "Grossaffoltern"
          ],
          [
           "Chêne-Bourg"
          ],
          [
           "Bözen"
          ],
          [
           "Truttikon"
          ],
          [
           "Aedermannsdorf"
          ],
          [
           "Ménières"
          ],
          [
           "Ursins"
          ],
          [
           "Eisten"
          ],
          [
           "Monteggio"
          ],
          [
           "Wald (AR)"
          ],
          [
           "Kappel (SO)"
          ],
          [
           "Astano"
          ],
          [
           "Realp"
          ],
          [
           "Lengwil"
          ],
          [
           "Treyvaux"
          ],
          [
           "Château-d'Oex"
          ],
          [
           "Grosshöchstetten"
          ],
          [
           "Eggiwil"
          ],
          [
           "Villorsonnens"
          ],
          [
           "Gretzenbach"
          ],
          [
           "Evolène"
          ],
          [
           "Saint-Légier-La Chiésaz"
          ],
          [
           "Heitenried"
          ],
          [
           "Bürglen (TG)"
          ],
          [
           "Féchy"
          ],
          [
           "Mörigen"
          ],
          [
           "Reinach (BL)"
          ],
          [
           "Liedertswil"
          ]
         ],
         "hovertemplate": "True Y=1.0<br>% Yes=%{x}<br>Error=%{y}<br>Municipality=%{customdata[0]}<extra></extra>",
         "legendgroup": "1.0",
         "marker": {
          "color": "#636efa",
          "symbol": "circle"
         },
         "mode": "markers",
         "name": "1.0",
         "orientation": "v",
         "showlegend": true,
         "type": "scatter",
         "x": [
          55,
          50.4,
          62.8,
          68.1,
          66.5,
          64.5,
          63.5,
          60.1,
          53.7,
          60.4,
          54.5,
          64.9,
          59.4,
          54.4,
          55,
          61.6,
          62.2,
          53.3,
          52.8,
          52.5,
          69.2,
          63.9,
          55.3,
          55.2,
          66.7,
          66.9,
          55.6,
          52.2,
          67.3,
          61.8,
          58.9,
          66.1,
          50.7,
          58.2,
          50.7,
          61.1,
          53.9,
          51.6,
          56.6,
          54.1,
          64.4,
          58.7,
          51.5,
          50.3,
          77.6,
          59.8,
          64,
          64.8,
          78.9,
          63.5,
          65.1,
          55.2,
          50.5,
          50.7,
          59.3,
          61,
          55.2,
          63,
          60.4,
          53.5,
          60.7,
          60.6,
          58.5,
          58.5,
          66.7,
          53.1,
          65.2,
          56.8,
          59.8,
          55.8,
          65.9,
          62.8,
          56.3,
          56.7,
          59,
          60.2,
          50.2,
          63.4,
          56.7,
          55.9,
          55.4,
          59.6,
          60.6,
          60.9,
          57.5,
          62.9,
          60.4,
          50.2,
          65.2,
          55.9,
          54.1,
          63.3,
          72.2,
          68.1,
          63.8,
          63.7,
          54.6,
          63.5,
          63.9,
          66.4,
          59.4,
          51.9,
          52.4,
          52.4,
          53.4,
          65.1,
          54.4,
          61.4,
          59.6,
          68.5,
          54.8,
          57.1,
          63.7,
          61.8,
          54.8,
          62.5,
          54.5,
          60.3,
          60.6,
          56,
          56.2,
          60.7,
          59.1,
          69.4,
          78.5,
          59.1,
          61.4,
          66.5,
          55.7,
          71.2,
          61.7,
          55.2,
          51.8,
          61.1,
          58.9,
          64.3,
          53.3,
          64.8,
          64.4,
          67.4,
          57.1,
          58.2,
          65.1,
          61.8,
          53.4,
          62.3,
          81.1,
          57,
          53.3,
          51.7,
          64.8,
          64.2,
          68,
          58.5,
          51.1,
          58.2,
          63,
          60.3,
          56.9,
          66.5,
          61.8,
          50.8,
          69.3,
          53.9,
          51.7,
          65.8,
          56.1,
          64.6,
          62.7,
          51,
          63.3,
          65.4,
          51.2,
          55.4,
          54.8,
          58.9,
          50.7,
          64.4,
          59.7,
          50.6,
          69.9,
          69.7,
          55.5,
          66.4,
          52,
          57.8,
          61.2,
          53.5,
          62.8,
          54.9,
          70.4
         ],
         "xaxis": "x",
         "y": [
          0,
          0,
          0,
          0,
          0,
          0,
          0,
          0,
          0,
          0,
          0,
          0,
          0,
          0,
          0,
          0,
          0,
          0,
          0,
          1,
          0,
          0,
          0,
          0,
          0,
          0,
          0,
          0,
          0,
          0,
          0,
          0,
          0,
          0,
          0,
          0,
          0,
          0,
          0,
          0,
          0,
          0,
          0,
          0,
          0,
          0,
          0,
          0,
          0,
          0,
          0,
          0,
          0,
          0,
          0,
          0,
          0,
          0,
          0,
          0,
          0,
          0,
          0,
          0,
          0,
          0,
          0,
          0,
          0,
          0,
          0,
          0,
          0,
          0,
          0,
          0,
          0,
          0,
          0,
          0,
          0,
          0,
          0,
          0,
          0,
          0,
          0,
          0,
          0,
          0,
          0,
          0,
          0,
          0,
          0,
          0,
          0,
          0,
          0,
          0,
          0,
          0,
          1,
          0,
          0,
          0,
          0,
          0,
          0,
          0,
          0,
          0,
          0,
          0,
          0,
          0,
          0,
          0,
          0,
          0,
          1,
          0,
          0,
          0,
          0,
          0,
          0,
          0,
          0,
          0,
          0,
          0,
          0,
          0,
          0,
          0,
          0,
          0,
          0,
          0,
          0,
          0,
          0,
          0,
          0,
          0,
          0,
          0,
          0,
          0,
          0,
          0,
          0,
          0,
          0,
          0,
          0,
          0,
          0,
          0,
          0,
          0,
          0,
          0,
          1,
          0,
          0,
          0,
          0,
          0,
          0,
          0,
          0,
          0,
          0,
          0,
          0,
          0,
          0,
          0,
          0,
          0,
          0,
          0,
          0,
          0,
          0,
          0,
          0,
          0,
          0
         ],
         "yaxis": "y"
        },
        {
         "customdata": [
          [
           "Safiental"
          ],
          [
           "Ziefen"
          ],
          [
           "Maur"
          ],
          [
           "Begnins"
          ],
          [
           "Bätterkinden"
          ],
          [
           "Fürstenau"
          ],
          [
           "Apples"
          ],
          [
           "Schelten"
          ],
          [
           "Ittigen"
          ],
          [
           "Muri (AG)"
          ],
          [
           "Veyrier"
          ],
          [
           "Schwerzenbach"
          ],
          [
           "Lutry"
          ],
          [
           "Genève"
          ],
          [
           "Unterbäch"
          ],
          [
           "Richterswil"
          ],
          [
           "Ennetbaden"
          ],
          [
           "Pregny-Chambésy"
          ],
          [
           "Onsernone"
          ],
          [
           "Bedigliora"
          ],
          [
           "Wettswil am Albis"
          ],
          [
           "Hedingen"
          ],
          [
           "La Chaux-de-Fonds"
          ],
          [
           "Carouge (GE)"
          ],
          [
           "Mauraz"
          ],
          [
           "Rheinfelden"
          ]
         ],
         "hovertemplate": "True Y=0.0<br>% Yes=%{x}<br>Error=%{y}<br>Municipality=%{customdata[0]}<extra></extra>",
         "legendgroup": "0.0",
         "marker": {
          "color": "#EF553B",
          "symbol": "circle"
         },
         "mode": "markers",
         "name": "0.0",
         "orientation": "v",
         "showlegend": true,
         "type": "scatter",
         "x": [
          47.4,
          48.3,
          50,
          49.2,
          47.7,
          49.2,
          49.2,
          48.1,
          47.1,
          49.4,
          49,
          46.6,
          50,
          44.8,
          46.5,
          48.1,
          30.9,
          48,
          49.1,
          48.1,
          46.6,
          46.1,
          49.7,
          43.4,
          40.6,
          49.2
         ],
         "xaxis": "x",
         "y": [
          1,
          1,
          1,
          1,
          0,
          1,
          0,
          0,
          0,
          1,
          1,
          0,
          0,
          0,
          1,
          1,
          0,
          1,
          0,
          1,
          0,
          0,
          1,
          0,
          1,
          0
         ],
         "yaxis": "y"
        }
       ],
       "layout": {
        "legend": {
         "title": {
          "text": "True Y"
         },
         "tracegroupgap": 0
        },
        "template": {
         "data": {
          "bar": [
           {
            "error_x": {
             "color": "#2a3f5f"
            },
            "error_y": {
             "color": "#2a3f5f"
            },
            "marker": {
             "line": {
              "color": "#E5ECF6",
              "width": 0.5
             },
             "pattern": {
              "fillmode": "overlay",
              "size": 10,
              "solidity": 0.2
             }
            },
            "type": "bar"
           }
          ],
          "barpolar": [
           {
            "marker": {
             "line": {
              "color": "#E5ECF6",
              "width": 0.5
             },
             "pattern": {
              "fillmode": "overlay",
              "size": 10,
              "solidity": 0.2
             }
            },
            "type": "barpolar"
           }
          ],
          "carpet": [
           {
            "aaxis": {
             "endlinecolor": "#2a3f5f",
             "gridcolor": "white",
             "linecolor": "white",
             "minorgridcolor": "white",
             "startlinecolor": "#2a3f5f"
            },
            "baxis": {
             "endlinecolor": "#2a3f5f",
             "gridcolor": "white",
             "linecolor": "white",
             "minorgridcolor": "white",
             "startlinecolor": "#2a3f5f"
            },
            "type": "carpet"
           }
          ],
          "choropleth": [
           {
            "colorbar": {
             "outlinewidth": 0,
             "ticks": ""
            },
            "type": "choropleth"
           }
          ],
          "contour": [
           {
            "colorbar": {
             "outlinewidth": 0,
             "ticks": ""
            },
            "colorscale": [
             [
              0,
              "#0d0887"
             ],
             [
              0.1111111111111111,
              "#46039f"
             ],
             [
              0.2222222222222222,
              "#7201a8"
             ],
             [
              0.3333333333333333,
              "#9c179e"
             ],
             [
              0.4444444444444444,
              "#bd3786"
             ],
             [
              0.5555555555555556,
              "#d8576b"
             ],
             [
              0.6666666666666666,
              "#ed7953"
             ],
             [
              0.7777777777777778,
              "#fb9f3a"
             ],
             [
              0.8888888888888888,
              "#fdca26"
             ],
             [
              1,
              "#f0f921"
             ]
            ],
            "type": "contour"
           }
          ],
          "contourcarpet": [
           {
            "colorbar": {
             "outlinewidth": 0,
             "ticks": ""
            },
            "type": "contourcarpet"
           }
          ],
          "heatmap": [
           {
            "colorbar": {
             "outlinewidth": 0,
             "ticks": ""
            },
            "colorscale": [
             [
              0,
              "#0d0887"
             ],
             [
              0.1111111111111111,
              "#46039f"
             ],
             [
              0.2222222222222222,
              "#7201a8"
             ],
             [
              0.3333333333333333,
              "#9c179e"
             ],
             [
              0.4444444444444444,
              "#bd3786"
             ],
             [
              0.5555555555555556,
              "#d8576b"
             ],
             [
              0.6666666666666666,
              "#ed7953"
             ],
             [
              0.7777777777777778,
              "#fb9f3a"
             ],
             [
              0.8888888888888888,
              "#fdca26"
             ],
             [
              1,
              "#f0f921"
             ]
            ],
            "type": "heatmap"
           }
          ],
          "heatmapgl": [
           {
            "colorbar": {
             "outlinewidth": 0,
             "ticks": ""
            },
            "colorscale": [
             [
              0,
              "#0d0887"
             ],
             [
              0.1111111111111111,
              "#46039f"
             ],
             [
              0.2222222222222222,
              "#7201a8"
             ],
             [
              0.3333333333333333,
              "#9c179e"
             ],
             [
              0.4444444444444444,
              "#bd3786"
             ],
             [
              0.5555555555555556,
              "#d8576b"
             ],
             [
              0.6666666666666666,
              "#ed7953"
             ],
             [
              0.7777777777777778,
              "#fb9f3a"
             ],
             [
              0.8888888888888888,
              "#fdca26"
             ],
             [
              1,
              "#f0f921"
             ]
            ],
            "type": "heatmapgl"
           }
          ],
          "histogram": [
           {
            "marker": {
             "pattern": {
              "fillmode": "overlay",
              "size": 10,
              "solidity": 0.2
             }
            },
            "type": "histogram"
           }
          ],
          "histogram2d": [
           {
            "colorbar": {
             "outlinewidth": 0,
             "ticks": ""
            },
            "colorscale": [
             [
              0,
              "#0d0887"
             ],
             [
              0.1111111111111111,
              "#46039f"
             ],
             [
              0.2222222222222222,
              "#7201a8"
             ],
             [
              0.3333333333333333,
              "#9c179e"
             ],
             [
              0.4444444444444444,
              "#bd3786"
             ],
             [
              0.5555555555555556,
              "#d8576b"
             ],
             [
              0.6666666666666666,
              "#ed7953"
             ],
             [
              0.7777777777777778,
              "#fb9f3a"
             ],
             [
              0.8888888888888888,
              "#fdca26"
             ],
             [
              1,
              "#f0f921"
             ]
            ],
            "type": "histogram2d"
           }
          ],
          "histogram2dcontour": [
           {
            "colorbar": {
             "outlinewidth": 0,
             "ticks": ""
            },
            "colorscale": [
             [
              0,
              "#0d0887"
             ],
             [
              0.1111111111111111,
              "#46039f"
             ],
             [
              0.2222222222222222,
              "#7201a8"
             ],
             [
              0.3333333333333333,
              "#9c179e"
             ],
             [
              0.4444444444444444,
              "#bd3786"
             ],
             [
              0.5555555555555556,
              "#d8576b"
             ],
             [
              0.6666666666666666,
              "#ed7953"
             ],
             [
              0.7777777777777778,
              "#fb9f3a"
             ],
             [
              0.8888888888888888,
              "#fdca26"
             ],
             [
              1,
              "#f0f921"
             ]
            ],
            "type": "histogram2dcontour"
           }
          ],
          "mesh3d": [
           {
            "colorbar": {
             "outlinewidth": 0,
             "ticks": ""
            },
            "type": "mesh3d"
           }
          ],
          "parcoords": [
           {
            "line": {
             "colorbar": {
              "outlinewidth": 0,
              "ticks": ""
             }
            },
            "type": "parcoords"
           }
          ],
          "pie": [
           {
            "automargin": true,
            "type": "pie"
           }
          ],
          "scatter": [
           {
            "fillpattern": {
             "fillmode": "overlay",
             "size": 10,
             "solidity": 0.2
            },
            "type": "scatter"
           }
          ],
          "scatter3d": [
           {
            "line": {
             "colorbar": {
              "outlinewidth": 0,
              "ticks": ""
             }
            },
            "marker": {
             "colorbar": {
              "outlinewidth": 0,
              "ticks": ""
             }
            },
            "type": "scatter3d"
           }
          ],
          "scattercarpet": [
           {
            "marker": {
             "colorbar": {
              "outlinewidth": 0,
              "ticks": ""
             }
            },
            "type": "scattercarpet"
           }
          ],
          "scattergeo": [
           {
            "marker": {
             "colorbar": {
              "outlinewidth": 0,
              "ticks": ""
             }
            },
            "type": "scattergeo"
           }
          ],
          "scattergl": [
           {
            "marker": {
             "colorbar": {
              "outlinewidth": 0,
              "ticks": ""
             }
            },
            "type": "scattergl"
           }
          ],
          "scattermapbox": [
           {
            "marker": {
             "colorbar": {
              "outlinewidth": 0,
              "ticks": ""
             }
            },
            "type": "scattermapbox"
           }
          ],
          "scatterpolar": [
           {
            "marker": {
             "colorbar": {
              "outlinewidth": 0,
              "ticks": ""
             }
            },
            "type": "scatterpolar"
           }
          ],
          "scatterpolargl": [
           {
            "marker": {
             "colorbar": {
              "outlinewidth": 0,
              "ticks": ""
             }
            },
            "type": "scatterpolargl"
           }
          ],
          "scatterternary": [
           {
            "marker": {
             "colorbar": {
              "outlinewidth": 0,
              "ticks": ""
             }
            },
            "type": "scatterternary"
           }
          ],
          "surface": [
           {
            "colorbar": {
             "outlinewidth": 0,
             "ticks": ""
            },
            "colorscale": [
             [
              0,
              "#0d0887"
             ],
             [
              0.1111111111111111,
              "#46039f"
             ],
             [
              0.2222222222222222,
              "#7201a8"
             ],
             [
              0.3333333333333333,
              "#9c179e"
             ],
             [
              0.4444444444444444,
              "#bd3786"
             ],
             [
              0.5555555555555556,
              "#d8576b"
             ],
             [
              0.6666666666666666,
              "#ed7953"
             ],
             [
              0.7777777777777778,
              "#fb9f3a"
             ],
             [
              0.8888888888888888,
              "#fdca26"
             ],
             [
              1,
              "#f0f921"
             ]
            ],
            "type": "surface"
           }
          ],
          "table": [
           {
            "cells": {
             "fill": {
              "color": "#EBF0F8"
             },
             "line": {
              "color": "white"
             }
            },
            "header": {
             "fill": {
              "color": "#C8D4E3"
             },
             "line": {
              "color": "white"
             }
            },
            "type": "table"
           }
          ]
         },
         "layout": {
          "annotationdefaults": {
           "arrowcolor": "#2a3f5f",
           "arrowhead": 0,
           "arrowwidth": 1
          },
          "autotypenumbers": "strict",
          "coloraxis": {
           "colorbar": {
            "outlinewidth": 0,
            "ticks": ""
           }
          },
          "colorscale": {
           "diverging": [
            [
             0,
             "#8e0152"
            ],
            [
             0.1,
             "#c51b7d"
            ],
            [
             0.2,
             "#de77ae"
            ],
            [
             0.3,
             "#f1b6da"
            ],
            [
             0.4,
             "#fde0ef"
            ],
            [
             0.5,
             "#f7f7f7"
            ],
            [
             0.6,
             "#e6f5d0"
            ],
            [
             0.7,
             "#b8e186"
            ],
            [
             0.8,
             "#7fbc41"
            ],
            [
             0.9,
             "#4d9221"
            ],
            [
             1,
             "#276419"
            ]
           ],
           "sequential": [
            [
             0,
             "#0d0887"
            ],
            [
             0.1111111111111111,
             "#46039f"
            ],
            [
             0.2222222222222222,
             "#7201a8"
            ],
            [
             0.3333333333333333,
             "#9c179e"
            ],
            [
             0.4444444444444444,
             "#bd3786"
            ],
            [
             0.5555555555555556,
             "#d8576b"
            ],
            [
             0.6666666666666666,
             "#ed7953"
            ],
            [
             0.7777777777777778,
             "#fb9f3a"
            ],
            [
             0.8888888888888888,
             "#fdca26"
            ],
            [
             1,
             "#f0f921"
            ]
           ],
           "sequentialminus": [
            [
             0,
             "#0d0887"
            ],
            [
             0.1111111111111111,
             "#46039f"
            ],
            [
             0.2222222222222222,
             "#7201a8"
            ],
            [
             0.3333333333333333,
             "#9c179e"
            ],
            [
             0.4444444444444444,
             "#bd3786"
            ],
            [
             0.5555555555555556,
             "#d8576b"
            ],
            [
             0.6666666666666666,
             "#ed7953"
            ],
            [
             0.7777777777777778,
             "#fb9f3a"
            ],
            [
             0.8888888888888888,
             "#fdca26"
            ],
            [
             1,
             "#f0f921"
            ]
           ]
          },
          "colorway": [
           "#636efa",
           "#EF553B",
           "#00cc96",
           "#ab63fa",
           "#FFA15A",
           "#19d3f3",
           "#FF6692",
           "#B6E880",
           "#FF97FF",
           "#FECB52"
          ],
          "font": {
           "color": "#2a3f5f"
          },
          "geo": {
           "bgcolor": "white",
           "lakecolor": "white",
           "landcolor": "#E5ECF6",
           "showlakes": true,
           "showland": true,
           "subunitcolor": "white"
          },
          "hoverlabel": {
           "align": "left"
          },
          "hovermode": "closest",
          "mapbox": {
           "style": "light"
          },
          "paper_bgcolor": "white",
          "plot_bgcolor": "#E5ECF6",
          "polar": {
           "angularaxis": {
            "gridcolor": "white",
            "linecolor": "white",
            "ticks": ""
           },
           "bgcolor": "#E5ECF6",
           "radialaxis": {
            "gridcolor": "white",
            "linecolor": "white",
            "ticks": ""
           }
          },
          "scene": {
           "xaxis": {
            "backgroundcolor": "#E5ECF6",
            "gridcolor": "white",
            "gridwidth": 2,
            "linecolor": "white",
            "showbackground": true,
            "ticks": "",
            "zerolinecolor": "white"
           },
           "yaxis": {
            "backgroundcolor": "#E5ECF6",
            "gridcolor": "white",
            "gridwidth": 2,
            "linecolor": "white",
            "showbackground": true,
            "ticks": "",
            "zerolinecolor": "white"
           },
           "zaxis": {
            "backgroundcolor": "#E5ECF6",
            "gridcolor": "white",
            "gridwidth": 2,
            "linecolor": "white",
            "showbackground": true,
            "ticks": "",
            "zerolinecolor": "white"
           }
          },
          "shapedefaults": {
           "line": {
            "color": "#2a3f5f"
           }
          },
          "ternary": {
           "aaxis": {
            "gridcolor": "white",
            "linecolor": "white",
            "ticks": ""
           },
           "baxis": {
            "gridcolor": "white",
            "linecolor": "white",
            "ticks": ""
           },
           "bgcolor": "#E5ECF6",
           "caxis": {
            "gridcolor": "white",
            "linecolor": "white",
            "ticks": ""
           }
          },
          "title": {
           "x": 0.05
          },
          "xaxis": {
           "automargin": true,
           "gridcolor": "white",
           "linecolor": "white",
           "ticks": "",
           "title": {
            "standoff": 15
           },
           "zerolinecolor": "white",
           "zerolinewidth": 2
          },
          "yaxis": {
           "automargin": true,
           "gridcolor": "white",
           "linecolor": "white",
           "ticks": "",
           "title": {
            "standoff": 15
           },
           "zerolinecolor": "white",
           "zerolinewidth": 2
          }
         }
        },
        "title": {
         "text": "% Yes & Error Rate"
        },
        "xaxis": {
         "anchor": "y",
         "domain": [
          0,
          1
         ],
         "title": {
          "text": "% Yes"
         }
        },
        "yaxis": {
         "anchor": "x",
         "domain": [
          0,
          1
         ],
         "title": {
          "text": "Error"
         }
        }
       }
      },
      "text/html": [
       "<div>                        <script type=\"text/javascript\">window.PlotlyConfig = {MathJaxConfig: 'local'};</script>\n",
       "        <script src=\"https://cdn.plot.ly/plotly-2.12.1.min.js\"></script>                <div id=\"7b93f1ca-e91c-4a15-8734-9f44d2cc1723\" class=\"plotly-graph-div\" style=\"height:100%; width:100%;\"></div>            <script type=\"text/javascript\">                                    window.PLOTLYENV=window.PLOTLYENV || {};                                    if (document.getElementById(\"7b93f1ca-e91c-4a15-8734-9f44d2cc1723\")) {                    Plotly.newPlot(                        \"7b93f1ca-e91c-4a15-8734-9f44d2cc1723\",                        [{\"customdata\":[[\"Bretonni\\u00e8res\"],[\"Mies\"],[\"Ropraz\"],[\"Hergiswil bei Willisau\"],[\"Pont-en-Ogoz\"],[\"Valeyres-sous-Ursins\"],[\"K\\u00fcblis\"],[\"Sierre\"],[\"Granges-Paccot\"],[\"Amlikon-Bissegg\"],[\"Saubraz\"],[\"Bodio\"],[\"W\\u00fcrenlingen\"],[\"Wenslingen\"],[\"Engelberg\"],[\"Zwingen\"],[\"Savi\\u00e8se\"],[\"L\\u00fcterkofen-Ichertswil\"],[\"Kappel am Albis\"],[\"Bogis-Bossey\"],[\"Petit-Val\"],[\"Menznau\"],[\"Gansingen\"],[\"Lostorf\"],[\"Mauborget\"],[\"Forst-L\\u00e4ngenb\\u00fchl\"],[\"D\\u00fcrnten\"],[\"Oberwil (BL)\"],[\"Novazzano\"],[\"Eiken\"],[\"Mollens (VD)\"],[\"M\\u00fcmliswil-Ramiswil\"],[\"Ottenbach\"],[\"Turtmann-Unterems\"],[\"Weggis\"],[\"Dietwil\"],[\"Gingins\"],[\"Presinge\"],[\"Kaisten\"],[\"Ammerswil\"],[\"Hornussen\"],[\"Lens\"],[\"Konolfingen\"],[\"M\\u00f6rel-Filet\"],[\"Schangnau\"],[\"Sarmenstorf\"],[\"Biasca\"],[\"Bremblens\"],[\"Eschert\"],[\"Le B\\u00e9mont (JU)\"],[\"H\\u00e4rkingen\"],[\"Berom\\u00fcnster\"],[\"Riedholz\"],[\"Herzogenbuchsee\"],[\"Fontenais\"],[\"Wimmis\"],[\"Boudry\"],[\"Cort\\u00e9bert\"],[\"Hohenrain\"],[\"Therwil\"],[\"R\\u00fcdtligen-Alchenfl\\u00fch\"],[\"Porza\"],[\"Comano\"],[\"M\\u00fcllheim\"],[\"Bioggio\"],[\"Luterbach\"],[\"Courchapoix\"],[\"R\\u00fctschelen\"],[\"Innertkirchen\"],[\"Gilly\"],[\"Riviera\"],[\"B\\u00fcrglen (UR)\"],[\"Klosters\"],[\"Augst\"],[\"Ueberstorf\"],[\"Oberwil-Lieli\"],[\"Fislisbach\"],[\"Mergoscia\"],[\"Bois-d'Amont\"],[\"Leuk\"],[\"Wald (BE)\"],[\"Einsiedeln\"],[\"Huttwil\"],[\"Gambarogno\"],[\"Hindelbank\"],[\"Rothrist\"],[\"Albinen\"],[\"Goms\"],[\"Vallorbe\"],[\"Orbe\"],[\"Laufenburg\"],[\"Wegenstetten\"],[\"Staffelbach\"],[\"Coeuve\"],[\"Unterlangenegg\"],[\"Tramelan\"],[\"Les Genevez (JU)\"],[\"Tr\\u00fcllikon\"],[\"Conthey\"],[\"Blenio\"],[\"Baldingen\"],[\"Oberlunkhofen\"],[\"Sargans\"],[\"Vullierens\"],[\"Centovalli\"],[\"Rougemont\"],[\"Perroy\"],[\"Lenk\"],[\"Oberwil bei B\\u00fcren\"],[\"Busswil bei Melchnau\"],[\"T\\u00e4uffelen\"],[\"Dalpe\"],[\"Coldrerio\"],[\"Steinen\"],[\"Eschenz\"],[\"Brienzwiler\"],[\"Morcote\"],[\"Beatenberg\"],[\"Lignerolle\"],[\"Trimmis\"],[\"Allaman\"],[\"B\\u00fcron\"],[\"Heimiswil\"],[\"Valbirse\"],[\"Rothenthurm\"],[\"Remaufens\"],[\"H\\u00e4gendorf\"],[\"B\\u00fcttikon\"],[\"Sion\"],[\"Mirchel\"],[\"Sch\\u00f6fflisdorf\"],[\"H\\u00e4gglingen\"],[\"Egg\"],[\"Basadingen-Schlattingen\"],[\"Bichelsee-Balterswil\"],[\"Alchenstorf\"],[\"Buchs (SG)\"],[\"Hochfelden\"],[\"Avenches\"],[\"Studen (BE)\"],[\"Kleinb\\u00f6singen\"],[\"Ettingen\"],[\"Scheuren\"],[\"D\\u00e4nikon\"],[\"Meiringen\"],[\"Dallenwil\"],[\"Alpthal\"],[\"Bergdietikon\"],[\"Ehrendingen\"],[\"Herrliberg\"],[\"Dozwil\"],[\"Le Chenit\"],[\"Sorvilier\"],[\"Steinmaur\"],[\"Milvignes\"],[\"Niederhasli\"],[\"Erstfeld\"],[\"Niederg\\u00f6sgen\"],[\"Freienbach\"],[\"Siglistorf\"],[\"Schwellbrunn\"],[\"Choulex\"],[\"Plasselb\"],[\"Grossaffoltern\"],[\"Ch\\u00eane-Bourg\"],[\"B\\u00f6zen\"],[\"Truttikon\"],[\"Aedermannsdorf\"],[\"M\\u00e9ni\\u00e8res\"],[\"Ursins\"],[\"Eisten\"],[\"Monteggio\"],[\"Wald (AR)\"],[\"Kappel (SO)\"],[\"Astano\"],[\"Realp\"],[\"Lengwil\"],[\"Treyvaux\"],[\"Ch\\u00e2teau-d'Oex\"],[\"Grossh\\u00f6chstetten\"],[\"Eggiwil\"],[\"Villorsonnens\"],[\"Gretzenbach\"],[\"Evol\\u00e8ne\"],[\"Saint-L\\u00e9gier-La Chi\\u00e9saz\"],[\"Heitenried\"],[\"B\\u00fcrglen (TG)\"],[\"F\\u00e9chy\"],[\"M\\u00f6rigen\"],[\"Reinach (BL)\"],[\"Liedertswil\"]],\"hovertemplate\":\"True Y=1.0<br>% Yes=%{x}<br>Error=%{y}<br>Municipality=%{customdata[0]}<extra></extra>\",\"legendgroup\":\"1.0\",\"marker\":{\"color\":\"#636efa\",\"symbol\":\"circle\"},\"mode\":\"markers\",\"name\":\"1.0\",\"orientation\":\"v\",\"showlegend\":true,\"x\":[55.0,50.4,62.8,68.1,66.5,64.5,63.5,60.1,53.7,60.4,54.5,64.9,59.4,54.4,55.0,61.6,62.2,53.3,52.8,52.5,69.2,63.9,55.3,55.2,66.7,66.9,55.6,52.2,67.3,61.8,58.9,66.1,50.7,58.2,50.7,61.1,53.9,51.6,56.6,54.1,64.4,58.7,51.5,50.3,77.6,59.8,64.0,64.8,78.9,63.5,65.1,55.2,50.5,50.7,59.3,61.0,55.2,63.0,60.4,53.5,60.7,60.6,58.5,58.5,66.7,53.1,65.2,56.8,59.8,55.8,65.9,62.8,56.3,56.7,59.0,60.2,50.2,63.4,56.7,55.9,55.4,59.6,60.6,60.9,57.5,62.9,60.4,50.2,65.2,55.9,54.1,63.3,72.2,68.1,63.8,63.7,54.6,63.5,63.9,66.4,59.4,51.9,52.4,52.4,53.4,65.1,54.4,61.4,59.6,68.5,54.8,57.1,63.7,61.8,54.8,62.5,54.5,60.3,60.6,56.0,56.2,60.7,59.1,69.4,78.5,59.1,61.4,66.5,55.7,71.2,61.7,55.2,51.8,61.1,58.9,64.3,53.3,64.8,64.4,67.4,57.1,58.2,65.1,61.8,53.4,62.3,81.1,57.0,53.3,51.7,64.8,64.2,68.0,58.5,51.1,58.2,63.0,60.3,56.9,66.5,61.8,50.8,69.3,53.9,51.7,65.8,56.1,64.6,62.7,51.0,63.3,65.4,51.2,55.4,54.8,58.9,50.7,64.4,59.7,50.6,69.9,69.7,55.5,66.4,52.0,57.8,61.2,53.5,62.8,54.9,70.4],\"xaxis\":\"x\",\"y\":[0.0,0.0,0.0,0.0,0.0,0.0,0.0,0.0,0.0,0.0,0.0,0.0,0.0,0.0,0.0,0.0,0.0,0.0,0.0,1.0,0.0,0.0,0.0,0.0,0.0,0.0,0.0,0.0,0.0,0.0,0.0,0.0,0.0,0.0,0.0,0.0,0.0,0.0,0.0,0.0,0.0,0.0,0.0,0.0,0.0,0.0,0.0,0.0,0.0,0.0,0.0,0.0,0.0,0.0,0.0,0.0,0.0,0.0,0.0,0.0,0.0,0.0,0.0,0.0,0.0,0.0,0.0,0.0,0.0,0.0,0.0,0.0,0.0,0.0,0.0,0.0,0.0,0.0,0.0,0.0,0.0,0.0,0.0,0.0,0.0,0.0,0.0,0.0,0.0,0.0,0.0,0.0,0.0,0.0,0.0,0.0,0.0,0.0,0.0,0.0,0.0,0.0,1.0,0.0,0.0,0.0,0.0,0.0,0.0,0.0,0.0,0.0,0.0,0.0,0.0,0.0,0.0,0.0,0.0,0.0,1.0,0.0,0.0,0.0,0.0,0.0,0.0,0.0,0.0,0.0,0.0,0.0,0.0,0.0,0.0,0.0,0.0,0.0,0.0,0.0,0.0,0.0,0.0,0.0,0.0,0.0,0.0,0.0,0.0,0.0,0.0,0.0,0.0,0.0,0.0,0.0,0.0,0.0,0.0,0.0,0.0,0.0,0.0,0.0,1.0,0.0,0.0,0.0,0.0,0.0,0.0,0.0,0.0,0.0,0.0,0.0,0.0,0.0,0.0,0.0,0.0,0.0,0.0,0.0,0.0,0.0,0.0,0.0,0.0,0.0,0.0],\"yaxis\":\"y\",\"type\":\"scatter\"},{\"customdata\":[[\"Safiental\"],[\"Ziefen\"],[\"Maur\"],[\"Begnins\"],[\"B\\u00e4tterkinden\"],[\"F\\u00fcrstenau\"],[\"Apples\"],[\"Schelten\"],[\"Ittigen\"],[\"Muri (AG)\"],[\"Veyrier\"],[\"Schwerzenbach\"],[\"Lutry\"],[\"Gen\\u00e8ve\"],[\"Unterb\\u00e4ch\"],[\"Richterswil\"],[\"Ennetbaden\"],[\"Pregny-Chamb\\u00e9sy\"],[\"Onsernone\"],[\"Bedigliora\"],[\"Wettswil am Albis\"],[\"Hedingen\"],[\"La Chaux-de-Fonds\"],[\"Carouge (GE)\"],[\"Mauraz\"],[\"Rheinfelden\"]],\"hovertemplate\":\"True Y=0.0<br>% Yes=%{x}<br>Error=%{y}<br>Municipality=%{customdata[0]}<extra></extra>\",\"legendgroup\":\"0.0\",\"marker\":{\"color\":\"#EF553B\",\"symbol\":\"circle\"},\"mode\":\"markers\",\"name\":\"0.0\",\"orientation\":\"v\",\"showlegend\":true,\"x\":[47.4,48.3,50.0,49.2,47.7,49.2,49.2,48.1,47.1,49.4,49.0,46.6,50.0,44.8,46.5,48.1,30.9,48.0,49.1,48.1,46.6,46.1,49.7,43.4,40.6,49.2],\"xaxis\":\"x\",\"y\":[1.0,1.0,1.0,1.0,0.0,1.0,0.0,0.0,0.0,1.0,1.0,0.0,0.0,0.0,1.0,1.0,0.0,1.0,0.0,1.0,0.0,0.0,1.0,0.0,1.0,0.0],\"yaxis\":\"y\",\"type\":\"scatter\"}],                        {\"template\":{\"data\":{\"histogram2dcontour\":[{\"type\":\"histogram2dcontour\",\"colorbar\":{\"outlinewidth\":0,\"ticks\":\"\"},\"colorscale\":[[0.0,\"#0d0887\"],[0.1111111111111111,\"#46039f\"],[0.2222222222222222,\"#7201a8\"],[0.3333333333333333,\"#9c179e\"],[0.4444444444444444,\"#bd3786\"],[0.5555555555555556,\"#d8576b\"],[0.6666666666666666,\"#ed7953\"],[0.7777777777777778,\"#fb9f3a\"],[0.8888888888888888,\"#fdca26\"],[1.0,\"#f0f921\"]]}],\"choropleth\":[{\"type\":\"choropleth\",\"colorbar\":{\"outlinewidth\":0,\"ticks\":\"\"}}],\"histogram2d\":[{\"type\":\"histogram2d\",\"colorbar\":{\"outlinewidth\":0,\"ticks\":\"\"},\"colorscale\":[[0.0,\"#0d0887\"],[0.1111111111111111,\"#46039f\"],[0.2222222222222222,\"#7201a8\"],[0.3333333333333333,\"#9c179e\"],[0.4444444444444444,\"#bd3786\"],[0.5555555555555556,\"#d8576b\"],[0.6666666666666666,\"#ed7953\"],[0.7777777777777778,\"#fb9f3a\"],[0.8888888888888888,\"#fdca26\"],[1.0,\"#f0f921\"]]}],\"heatmap\":[{\"type\":\"heatmap\",\"colorbar\":{\"outlinewidth\":0,\"ticks\":\"\"},\"colorscale\":[[0.0,\"#0d0887\"],[0.1111111111111111,\"#46039f\"],[0.2222222222222222,\"#7201a8\"],[0.3333333333333333,\"#9c179e\"],[0.4444444444444444,\"#bd3786\"],[0.5555555555555556,\"#d8576b\"],[0.6666666666666666,\"#ed7953\"],[0.7777777777777778,\"#fb9f3a\"],[0.8888888888888888,\"#fdca26\"],[1.0,\"#f0f921\"]]}],\"heatmapgl\":[{\"type\":\"heatmapgl\",\"colorbar\":{\"outlinewidth\":0,\"ticks\":\"\"},\"colorscale\":[[0.0,\"#0d0887\"],[0.1111111111111111,\"#46039f\"],[0.2222222222222222,\"#7201a8\"],[0.3333333333333333,\"#9c179e\"],[0.4444444444444444,\"#bd3786\"],[0.5555555555555556,\"#d8576b\"],[0.6666666666666666,\"#ed7953\"],[0.7777777777777778,\"#fb9f3a\"],[0.8888888888888888,\"#fdca26\"],[1.0,\"#f0f921\"]]}],\"contourcarpet\":[{\"type\":\"contourcarpet\",\"colorbar\":{\"outlinewidth\":0,\"ticks\":\"\"}}],\"contour\":[{\"type\":\"contour\",\"colorbar\":{\"outlinewidth\":0,\"ticks\":\"\"},\"colorscale\":[[0.0,\"#0d0887\"],[0.1111111111111111,\"#46039f\"],[0.2222222222222222,\"#7201a8\"],[0.3333333333333333,\"#9c179e\"],[0.4444444444444444,\"#bd3786\"],[0.5555555555555556,\"#d8576b\"],[0.6666666666666666,\"#ed7953\"],[0.7777777777777778,\"#fb9f3a\"],[0.8888888888888888,\"#fdca26\"],[1.0,\"#f0f921\"]]}],\"surface\":[{\"type\":\"surface\",\"colorbar\":{\"outlinewidth\":0,\"ticks\":\"\"},\"colorscale\":[[0.0,\"#0d0887\"],[0.1111111111111111,\"#46039f\"],[0.2222222222222222,\"#7201a8\"],[0.3333333333333333,\"#9c179e\"],[0.4444444444444444,\"#bd3786\"],[0.5555555555555556,\"#d8576b\"],[0.6666666666666666,\"#ed7953\"],[0.7777777777777778,\"#fb9f3a\"],[0.8888888888888888,\"#fdca26\"],[1.0,\"#f0f921\"]]}],\"mesh3d\":[{\"type\":\"mesh3d\",\"colorbar\":{\"outlinewidth\":0,\"ticks\":\"\"}}],\"scatter\":[{\"fillpattern\":{\"fillmode\":\"overlay\",\"size\":10,\"solidity\":0.2},\"type\":\"scatter\"}],\"parcoords\":[{\"type\":\"parcoords\",\"line\":{\"colorbar\":{\"outlinewidth\":0,\"ticks\":\"\"}}}],\"scatterpolargl\":[{\"type\":\"scatterpolargl\",\"marker\":{\"colorbar\":{\"outlinewidth\":0,\"ticks\":\"\"}}}],\"bar\":[{\"error_x\":{\"color\":\"#2a3f5f\"},\"error_y\":{\"color\":\"#2a3f5f\"},\"marker\":{\"line\":{\"color\":\"#E5ECF6\",\"width\":0.5},\"pattern\":{\"fillmode\":\"overlay\",\"size\":10,\"solidity\":0.2}},\"type\":\"bar\"}],\"scattergeo\":[{\"type\":\"scattergeo\",\"marker\":{\"colorbar\":{\"outlinewidth\":0,\"ticks\":\"\"}}}],\"scatterpolar\":[{\"type\":\"scatterpolar\",\"marker\":{\"colorbar\":{\"outlinewidth\":0,\"ticks\":\"\"}}}],\"histogram\":[{\"marker\":{\"pattern\":{\"fillmode\":\"overlay\",\"size\":10,\"solidity\":0.2}},\"type\":\"histogram\"}],\"scattergl\":[{\"type\":\"scattergl\",\"marker\":{\"colorbar\":{\"outlinewidth\":0,\"ticks\":\"\"}}}],\"scatter3d\":[{\"type\":\"scatter3d\",\"line\":{\"colorbar\":{\"outlinewidth\":0,\"ticks\":\"\"}},\"marker\":{\"colorbar\":{\"outlinewidth\":0,\"ticks\":\"\"}}}],\"scattermapbox\":[{\"type\":\"scattermapbox\",\"marker\":{\"colorbar\":{\"outlinewidth\":0,\"ticks\":\"\"}}}],\"scatterternary\":[{\"type\":\"scatterternary\",\"marker\":{\"colorbar\":{\"outlinewidth\":0,\"ticks\":\"\"}}}],\"scattercarpet\":[{\"type\":\"scattercarpet\",\"marker\":{\"colorbar\":{\"outlinewidth\":0,\"ticks\":\"\"}}}],\"carpet\":[{\"aaxis\":{\"endlinecolor\":\"#2a3f5f\",\"gridcolor\":\"white\",\"linecolor\":\"white\",\"minorgridcolor\":\"white\",\"startlinecolor\":\"#2a3f5f\"},\"baxis\":{\"endlinecolor\":\"#2a3f5f\",\"gridcolor\":\"white\",\"linecolor\":\"white\",\"minorgridcolor\":\"white\",\"startlinecolor\":\"#2a3f5f\"},\"type\":\"carpet\"}],\"table\":[{\"cells\":{\"fill\":{\"color\":\"#EBF0F8\"},\"line\":{\"color\":\"white\"}},\"header\":{\"fill\":{\"color\":\"#C8D4E3\"},\"line\":{\"color\":\"white\"}},\"type\":\"table\"}],\"barpolar\":[{\"marker\":{\"line\":{\"color\":\"#E5ECF6\",\"width\":0.5},\"pattern\":{\"fillmode\":\"overlay\",\"size\":10,\"solidity\":0.2}},\"type\":\"barpolar\"}],\"pie\":[{\"automargin\":true,\"type\":\"pie\"}]},\"layout\":{\"autotypenumbers\":\"strict\",\"colorway\":[\"#636efa\",\"#EF553B\",\"#00cc96\",\"#ab63fa\",\"#FFA15A\",\"#19d3f3\",\"#FF6692\",\"#B6E880\",\"#FF97FF\",\"#FECB52\"],\"font\":{\"color\":\"#2a3f5f\"},\"hovermode\":\"closest\",\"hoverlabel\":{\"align\":\"left\"},\"paper_bgcolor\":\"white\",\"plot_bgcolor\":\"#E5ECF6\",\"polar\":{\"bgcolor\":\"#E5ECF6\",\"angularaxis\":{\"gridcolor\":\"white\",\"linecolor\":\"white\",\"ticks\":\"\"},\"radialaxis\":{\"gridcolor\":\"white\",\"linecolor\":\"white\",\"ticks\":\"\"}},\"ternary\":{\"bgcolor\":\"#E5ECF6\",\"aaxis\":{\"gridcolor\":\"white\",\"linecolor\":\"white\",\"ticks\":\"\"},\"baxis\":{\"gridcolor\":\"white\",\"linecolor\":\"white\",\"ticks\":\"\"},\"caxis\":{\"gridcolor\":\"white\",\"linecolor\":\"white\",\"ticks\":\"\"}},\"coloraxis\":{\"colorbar\":{\"outlinewidth\":0,\"ticks\":\"\"}},\"colorscale\":{\"sequential\":[[0.0,\"#0d0887\"],[0.1111111111111111,\"#46039f\"],[0.2222222222222222,\"#7201a8\"],[0.3333333333333333,\"#9c179e\"],[0.4444444444444444,\"#bd3786\"],[0.5555555555555556,\"#d8576b\"],[0.6666666666666666,\"#ed7953\"],[0.7777777777777778,\"#fb9f3a\"],[0.8888888888888888,\"#fdca26\"],[1.0,\"#f0f921\"]],\"sequentialminus\":[[0.0,\"#0d0887\"],[0.1111111111111111,\"#46039f\"],[0.2222222222222222,\"#7201a8\"],[0.3333333333333333,\"#9c179e\"],[0.4444444444444444,\"#bd3786\"],[0.5555555555555556,\"#d8576b\"],[0.6666666666666666,\"#ed7953\"],[0.7777777777777778,\"#fb9f3a\"],[0.8888888888888888,\"#fdca26\"],[1.0,\"#f0f921\"]],\"diverging\":[[0,\"#8e0152\"],[0.1,\"#c51b7d\"],[0.2,\"#de77ae\"],[0.3,\"#f1b6da\"],[0.4,\"#fde0ef\"],[0.5,\"#f7f7f7\"],[0.6,\"#e6f5d0\"],[0.7,\"#b8e186\"],[0.8,\"#7fbc41\"],[0.9,\"#4d9221\"],[1,\"#276419\"]]},\"xaxis\":{\"gridcolor\":\"white\",\"linecolor\":\"white\",\"ticks\":\"\",\"title\":{\"standoff\":15},\"zerolinecolor\":\"white\",\"automargin\":true,\"zerolinewidth\":2},\"yaxis\":{\"gridcolor\":\"white\",\"linecolor\":\"white\",\"ticks\":\"\",\"title\":{\"standoff\":15},\"zerolinecolor\":\"white\",\"automargin\":true,\"zerolinewidth\":2},\"scene\":{\"xaxis\":{\"backgroundcolor\":\"#E5ECF6\",\"gridcolor\":\"white\",\"linecolor\":\"white\",\"showbackground\":true,\"ticks\":\"\",\"zerolinecolor\":\"white\",\"gridwidth\":2},\"yaxis\":{\"backgroundcolor\":\"#E5ECF6\",\"gridcolor\":\"white\",\"linecolor\":\"white\",\"showbackground\":true,\"ticks\":\"\",\"zerolinecolor\":\"white\",\"gridwidth\":2},\"zaxis\":{\"backgroundcolor\":\"#E5ECF6\",\"gridcolor\":\"white\",\"linecolor\":\"white\",\"showbackground\":true,\"ticks\":\"\",\"zerolinecolor\":\"white\",\"gridwidth\":2}},\"shapedefaults\":{\"line\":{\"color\":\"#2a3f5f\"}},\"annotationdefaults\":{\"arrowcolor\":\"#2a3f5f\",\"arrowhead\":0,\"arrowwidth\":1},\"geo\":{\"bgcolor\":\"white\",\"landcolor\":\"#E5ECF6\",\"subunitcolor\":\"white\",\"showland\":true,\"showlakes\":true,\"lakecolor\":\"white\"},\"title\":{\"x\":0.05},\"mapbox\":{\"style\":\"light\"}}},\"xaxis\":{\"anchor\":\"y\",\"domain\":[0.0,1.0],\"title\":{\"text\":\"% Yes\"}},\"yaxis\":{\"anchor\":\"x\",\"domain\":[0.0,1.0],\"title\":{\"text\":\"Error\"}},\"legend\":{\"title\":{\"text\":\"True Y\"},\"tracegroupgap\":0},\"title\":{\"text\":\"% Yes & Error Rate\"}},                        {\"responsive\": true}                    )                };                            </script>        </div>"
      ],
      "text/plain": [
       "Figure({\n",
       "    'data': [{'customdata': array([['Bretonnières'],\n",
       "                                   ['Mies'],\n",
       "                                   ['Ropraz'],\n",
       "                                   ['Hergiswil bei Willisau'],\n",
       "                                   ['Pont-en-Ogoz'],\n",
       "                                   ['Valeyres-sous-Ursins'],\n",
       "                                   ['Küblis'],\n",
       "                                   ['Sierre'],\n",
       "                                   ['Granges-Paccot'],\n",
       "                                   ['Amlikon-Bissegg'],\n",
       "                                   ['Saubraz'],\n",
       "                                   ['Bodio'],\n",
       "                                   ['Würenlingen'],\n",
       "                                   ['Wenslingen'],\n",
       "                                   ['Engelberg'],\n",
       "                                   ['Zwingen'],\n",
       "                                   ['Savièse'],\n",
       "                                   ['Lüterkofen-Ichertswil'],\n",
       "                                   ['Kappel am Albis'],\n",
       "                                   ['Bogis-Bossey'],\n",
       "                                   ['Petit-Val'],\n",
       "                                   ['Menznau'],\n",
       "                                   ['Gansingen'],\n",
       "                                   ['Lostorf'],\n",
       "                                   ['Mauborget'],\n",
       "                                   ['Forst-Längenbühl'],\n",
       "                                   ['Dürnten'],\n",
       "                                   ['Oberwil (BL)'],\n",
       "                                   ['Novazzano'],\n",
       "                                   ['Eiken'],\n",
       "                                   ['Mollens (VD)'],\n",
       "                                   ['Mümliswil-Ramiswil'],\n",
       "                                   ['Ottenbach'],\n",
       "                                   ['Turtmann-Unterems'],\n",
       "                                   ['Weggis'],\n",
       "                                   ['Dietwil'],\n",
       "                                   ['Gingins'],\n",
       "                                   ['Presinge'],\n",
       "                                   ['Kaisten'],\n",
       "                                   ['Ammerswil'],\n",
       "                                   ['Hornussen'],\n",
       "                                   ['Lens'],\n",
       "                                   ['Konolfingen'],\n",
       "                                   ['Mörel-Filet'],\n",
       "                                   ['Schangnau'],\n",
       "                                   ['Sarmenstorf'],\n",
       "                                   ['Biasca'],\n",
       "                                   ['Bremblens'],\n",
       "                                   ['Eschert'],\n",
       "                                   ['Le Bémont (JU)'],\n",
       "                                   ['Härkingen'],\n",
       "                                   ['Beromünster'],\n",
       "                                   ['Riedholz'],\n",
       "                                   ['Herzogenbuchsee'],\n",
       "                                   ['Fontenais'],\n",
       "                                   ['Wimmis'],\n",
       "                                   ['Boudry'],\n",
       "                                   ['Cortébert'],\n",
       "                                   ['Hohenrain'],\n",
       "                                   ['Therwil'],\n",
       "                                   ['Rüdtligen-Alchenflüh'],\n",
       "                                   ['Porza'],\n",
       "                                   ['Comano'],\n",
       "                                   ['Müllheim'],\n",
       "                                   ['Bioggio'],\n",
       "                                   ['Luterbach'],\n",
       "                                   ['Courchapoix'],\n",
       "                                   ['Rütschelen'],\n",
       "                                   ['Innertkirchen'],\n",
       "                                   ['Gilly'],\n",
       "                                   ['Riviera'],\n",
       "                                   ['Bürglen (UR)'],\n",
       "                                   ['Klosters'],\n",
       "                                   ['Augst'],\n",
       "                                   ['Ueberstorf'],\n",
       "                                   ['Oberwil-Lieli'],\n",
       "                                   ['Fislisbach'],\n",
       "                                   ['Mergoscia'],\n",
       "                                   [\"Bois-d'Amont\"],\n",
       "                                   ['Leuk'],\n",
       "                                   ['Wald (BE)'],\n",
       "                                   ['Einsiedeln'],\n",
       "                                   ['Huttwil'],\n",
       "                                   ['Gambarogno'],\n",
       "                                   ['Hindelbank'],\n",
       "                                   ['Rothrist'],\n",
       "                                   ['Albinen'],\n",
       "                                   ['Goms'],\n",
       "                                   ['Vallorbe'],\n",
       "                                   ['Orbe'],\n",
       "                                   ['Laufenburg'],\n",
       "                                   ['Wegenstetten'],\n",
       "                                   ['Staffelbach'],\n",
       "                                   ['Coeuve'],\n",
       "                                   ['Unterlangenegg'],\n",
       "                                   ['Tramelan'],\n",
       "                                   ['Les Genevez (JU)'],\n",
       "                                   ['Trüllikon'],\n",
       "                                   ['Conthey'],\n",
       "                                   ['Blenio'],\n",
       "                                   ['Baldingen'],\n",
       "                                   ['Oberlunkhofen'],\n",
       "                                   ['Sargans'],\n",
       "                                   ['Vullierens'],\n",
       "                                   ['Centovalli'],\n",
       "                                   ['Rougemont'],\n",
       "                                   ['Perroy'],\n",
       "                                   ['Lenk'],\n",
       "                                   ['Oberwil bei Büren'],\n",
       "                                   ['Busswil bei Melchnau'],\n",
       "                                   ['Täuffelen'],\n",
       "                                   ['Dalpe'],\n",
       "                                   ['Coldrerio'],\n",
       "                                   ['Steinen'],\n",
       "                                   ['Eschenz'],\n",
       "                                   ['Brienzwiler'],\n",
       "                                   ['Morcote'],\n",
       "                                   ['Beatenberg'],\n",
       "                                   ['Lignerolle'],\n",
       "                                   ['Trimmis'],\n",
       "                                   ['Allaman'],\n",
       "                                   ['Büron'],\n",
       "                                   ['Heimiswil'],\n",
       "                                   ['Valbirse'],\n",
       "                                   ['Rothenthurm'],\n",
       "                                   ['Remaufens'],\n",
       "                                   ['Hägendorf'],\n",
       "                                   ['Büttikon'],\n",
       "                                   ['Sion'],\n",
       "                                   ['Mirchel'],\n",
       "                                   ['Schöfflisdorf'],\n",
       "                                   ['Hägglingen'],\n",
       "                                   ['Egg'],\n",
       "                                   ['Basadingen-Schlattingen'],\n",
       "                                   ['Bichelsee-Balterswil'],\n",
       "                                   ['Alchenstorf'],\n",
       "                                   ['Buchs (SG)'],\n",
       "                                   ['Hochfelden'],\n",
       "                                   ['Avenches'],\n",
       "                                   ['Studen (BE)'],\n",
       "                                   ['Kleinbösingen'],\n",
       "                                   ['Ettingen'],\n",
       "                                   ['Scheuren'],\n",
       "                                   ['Dänikon'],\n",
       "                                   ['Meiringen'],\n",
       "                                   ['Dallenwil'],\n",
       "                                   ['Alpthal'],\n",
       "                                   ['Bergdietikon'],\n",
       "                                   ['Ehrendingen'],\n",
       "                                   ['Herrliberg'],\n",
       "                                   ['Dozwil'],\n",
       "                                   ['Le Chenit'],\n",
       "                                   ['Sorvilier'],\n",
       "                                   ['Steinmaur'],\n",
       "                                   ['Milvignes'],\n",
       "                                   ['Niederhasli'],\n",
       "                                   ['Erstfeld'],\n",
       "                                   ['Niedergösgen'],\n",
       "                                   ['Freienbach'],\n",
       "                                   ['Siglistorf'],\n",
       "                                   ['Schwellbrunn'],\n",
       "                                   ['Choulex'],\n",
       "                                   ['Plasselb'],\n",
       "                                   ['Grossaffoltern'],\n",
       "                                   ['Chêne-Bourg'],\n",
       "                                   ['Bözen'],\n",
       "                                   ['Truttikon'],\n",
       "                                   ['Aedermannsdorf'],\n",
       "                                   ['Ménières'],\n",
       "                                   ['Ursins'],\n",
       "                                   ['Eisten'],\n",
       "                                   ['Monteggio'],\n",
       "                                   ['Wald (AR)'],\n",
       "                                   ['Kappel (SO)'],\n",
       "                                   ['Astano'],\n",
       "                                   ['Realp'],\n",
       "                                   ['Lengwil'],\n",
       "                                   ['Treyvaux'],\n",
       "                                   [\"Château-d'Oex\"],\n",
       "                                   ['Grosshöchstetten'],\n",
       "                                   ['Eggiwil'],\n",
       "                                   ['Villorsonnens'],\n",
       "                                   ['Gretzenbach'],\n",
       "                                   ['Evolène'],\n",
       "                                   ['Saint-Légier-La Chiésaz'],\n",
       "                                   ['Heitenried'],\n",
       "                                   ['Bürglen (TG)'],\n",
       "                                   ['Féchy'],\n",
       "                                   ['Mörigen'],\n",
       "                                   ['Reinach (BL)'],\n",
       "                                   ['Liedertswil']], dtype=object),\n",
       "              'hovertemplate': ('True Y=1.0<br>% Yes=%{x}<br>Er' ... '{customdata[0]}<extra></extra>'),\n",
       "              'legendgroup': '1.0',\n",
       "              'marker': {'color': '#636efa', 'symbol': 'circle'},\n",
       "              'mode': 'markers',\n",
       "              'name': '1.0',\n",
       "              'orientation': 'v',\n",
       "              'showlegend': True,\n",
       "              'type': 'scatter',\n",
       "              'x': array([55.0, 50.4, 62.8, 68.1, 66.5, 64.5, 63.5, 60.1, 53.7, 60.4, 54.5, 64.9,\n",
       "                          59.4, 54.4, 55.0, 61.6, 62.2, 53.3, 52.8, 52.5, 69.2, 63.9, 55.3, 55.2,\n",
       "                          66.7, 66.9, 55.6, 52.2, 67.3, 61.8, 58.9, 66.1, 50.7, 58.2, 50.7, 61.1,\n",
       "                          53.9, 51.6, 56.6, 54.1, 64.4, 58.7, 51.5, 50.3, 77.6, 59.8, 64.0, 64.8,\n",
       "                          78.9, 63.5, 65.1, 55.2, 50.5, 50.7, 59.3, 61.0, 55.2, 63.0, 60.4, 53.5,\n",
       "                          60.7, 60.6, 58.5, 58.5, 66.7, 53.1, 65.2, 56.8, 59.8, 55.8, 65.9, 62.8,\n",
       "                          56.3, 56.7, 59.0, 60.2, 50.2, 63.4, 56.7, 55.9, 55.4, 59.6, 60.6, 60.9,\n",
       "                          57.5, 62.9, 60.4, 50.2, 65.2, 55.9, 54.1, 63.3, 72.2, 68.1, 63.8, 63.7,\n",
       "                          54.6, 63.5, 63.9, 66.4, 59.4, 51.9, 52.4, 52.4, 53.4, 65.1, 54.4, 61.4,\n",
       "                          59.6, 68.5, 54.8, 57.1, 63.7, 61.8, 54.8, 62.5, 54.5, 60.3, 60.6, 56.0,\n",
       "                          56.2, 60.7, 59.1, 69.4, 78.5, 59.1, 61.4, 66.5, 55.7, 71.2, 61.7, 55.2,\n",
       "                          51.8, 61.1, 58.9, 64.3, 53.3, 64.8, 64.4, 67.4, 57.1, 58.2, 65.1, 61.8,\n",
       "                          53.4, 62.3, 81.1, 57.0, 53.3, 51.7, 64.8, 64.2, 68.0, 58.5, 51.1, 58.2,\n",
       "                          63.0, 60.3, 56.9, 66.5, 61.8, 50.8, 69.3, 53.9, 51.7, 65.8, 56.1, 64.6,\n",
       "                          62.7, 51.0, 63.3, 65.4, 51.2, 55.4, 54.8, 58.9, 50.7, 64.4, 59.7, 50.6,\n",
       "                          69.9, 69.7, 55.5, 66.4, 52.0, 57.8, 61.2, 53.5, 62.8, 54.9, 70.4],\n",
       "                         dtype=object),\n",
       "              'xaxis': 'x',\n",
       "              'y': array([0.0, 0.0, 0.0, 0.0, 0.0, 0.0, 0.0, 0.0, 0.0, 0.0, 0.0, 0.0, 0.0, 0.0,\n",
       "                          0.0, 0.0, 0.0, 0.0, 0.0, 1.0, 0.0, 0.0, 0.0, 0.0, 0.0, 0.0, 0.0, 0.0,\n",
       "                          0.0, 0.0, 0.0, 0.0, 0.0, 0.0, 0.0, 0.0, 0.0, 0.0, 0.0, 0.0, 0.0, 0.0,\n",
       "                          0.0, 0.0, 0.0, 0.0, 0.0, 0.0, 0.0, 0.0, 0.0, 0.0, 0.0, 0.0, 0.0, 0.0,\n",
       "                          0.0, 0.0, 0.0, 0.0, 0.0, 0.0, 0.0, 0.0, 0.0, 0.0, 0.0, 0.0, 0.0, 0.0,\n",
       "                          0.0, 0.0, 0.0, 0.0, 0.0, 0.0, 0.0, 0.0, 0.0, 0.0, 0.0, 0.0, 0.0, 0.0,\n",
       "                          0.0, 0.0, 0.0, 0.0, 0.0, 0.0, 0.0, 0.0, 0.0, 0.0, 0.0, 0.0, 0.0, 0.0,\n",
       "                          0.0, 0.0, 0.0, 0.0, 1.0, 0.0, 0.0, 0.0, 0.0, 0.0, 0.0, 0.0, 0.0, 0.0,\n",
       "                          0.0, 0.0, 0.0, 0.0, 0.0, 0.0, 0.0, 0.0, 1.0, 0.0, 0.0, 0.0, 0.0, 0.0,\n",
       "                          0.0, 0.0, 0.0, 0.0, 0.0, 0.0, 0.0, 0.0, 0.0, 0.0, 0.0, 0.0, 0.0, 0.0,\n",
       "                          0.0, 0.0, 0.0, 0.0, 0.0, 0.0, 0.0, 0.0, 0.0, 0.0, 0.0, 0.0, 0.0, 0.0,\n",
       "                          0.0, 0.0, 0.0, 0.0, 0.0, 0.0, 0.0, 0.0, 0.0, 0.0, 1.0, 0.0, 0.0, 0.0,\n",
       "                          0.0, 0.0, 0.0, 0.0, 0.0, 0.0, 0.0, 0.0, 0.0, 0.0, 0.0, 0.0, 0.0, 0.0,\n",
       "                          0.0, 0.0, 0.0, 0.0, 0.0, 0.0, 0.0, 0.0, 0.0], dtype=object),\n",
       "              'yaxis': 'y'},\n",
       "             {'customdata': array([['Safiental'],\n",
       "                                   ['Ziefen'],\n",
       "                                   ['Maur'],\n",
       "                                   ['Begnins'],\n",
       "                                   ['Bätterkinden'],\n",
       "                                   ['Fürstenau'],\n",
       "                                   ['Apples'],\n",
       "                                   ['Schelten'],\n",
       "                                   ['Ittigen'],\n",
       "                                   ['Muri (AG)'],\n",
       "                                   ['Veyrier'],\n",
       "                                   ['Schwerzenbach'],\n",
       "                                   ['Lutry'],\n",
       "                                   ['Genève'],\n",
       "                                   ['Unterbäch'],\n",
       "                                   ['Richterswil'],\n",
       "                                   ['Ennetbaden'],\n",
       "                                   ['Pregny-Chambésy'],\n",
       "                                   ['Onsernone'],\n",
       "                                   ['Bedigliora'],\n",
       "                                   ['Wettswil am Albis'],\n",
       "                                   ['Hedingen'],\n",
       "                                   ['La Chaux-de-Fonds'],\n",
       "                                   ['Carouge (GE)'],\n",
       "                                   ['Mauraz'],\n",
       "                                   ['Rheinfelden']], dtype=object),\n",
       "              'hovertemplate': ('True Y=0.0<br>% Yes=%{x}<br>Er' ... '{customdata[0]}<extra></extra>'),\n",
       "              'legendgroup': '0.0',\n",
       "              'marker': {'color': '#EF553B', 'symbol': 'circle'},\n",
       "              'mode': 'markers',\n",
       "              'name': '0.0',\n",
       "              'orientation': 'v',\n",
       "              'showlegend': True,\n",
       "              'type': 'scatter',\n",
       "              'x': array([47.4, 48.3, 50.0, 49.2, 47.7, 49.2, 49.2, 48.1, 47.1, 49.4, 49.0, 46.6,\n",
       "                          50.0, 44.8, 46.5, 48.1, 30.9, 48.0, 49.1, 48.1, 46.6, 46.1, 49.7, 43.4,\n",
       "                          40.6, 49.2], dtype=object),\n",
       "              'xaxis': 'x',\n",
       "              'y': array([1.0, 1.0, 1.0, 1.0, 0.0, 1.0, 0.0, 0.0, 0.0, 1.0, 1.0, 0.0, 0.0, 0.0,\n",
       "                          1.0, 1.0, 0.0, 1.0, 0.0, 1.0, 0.0, 0.0, 1.0, 0.0, 1.0, 0.0],\n",
       "                         dtype=object),\n",
       "              'yaxis': 'y'}],\n",
       "    'layout': {'legend': {'title': {'text': 'True Y'}, 'tracegroupgap': 0},\n",
       "               'template': '...',\n",
       "               'title': {'text': '% Yes & Error Rate'},\n",
       "               'xaxis': {'anchor': 'y', 'domain': [0.0, 1.0], 'title': {'text': '% Yes'}},\n",
       "               'yaxis': {'anchor': 'x', 'domain': [0.0, 1.0], 'title': {'text': 'Error'}}}\n",
       "})"
      ]
     },
     "execution_count": 25,
     "metadata": {},
     "output_type": "execute_result"
    }
   ],
   "source": [
    "# Plot % Yes & Error\n",
    "plts.plot_yes_perc_error(X_test_all, y_test, y_pred_lg) "
   ]
  },
  {
   "cell_type": "markdown",
   "metadata": {},
   "source": [
    "#### KNN"
   ]
  },
  {
   "cell_type": "code",
   "execution_count": null,
   "metadata": {},
   "outputs": [],
   "source": [
    "# Find best k for KNN model\n",
    "best_k_dict, accuracies_knn = ea.knn_analysis_hp(X_train, X_dev, y_train, y_dev)"
   ]
  },
  {
   "cell_type": "code",
   "execution_count": null,
   "metadata": {},
   "outputs": [],
   "source": [
    "accuracies_knn"
   ]
  },
  {
   "cell_type": "code",
   "execution_count": null,
   "metadata": {},
   "outputs": [],
   "source": [
    "# Plot k vs accuracy \n",
    "ea.knn_k_plot(accuracies_knn)"
   ]
  },
  {
   "cell_type": "code",
   "execution_count": null,
   "metadata": {},
   "outputs": [],
   "source": [
    "# Make prediction with best k\n",
    "y_pred_knn = ea.knn_analysis_max_k(X_train, X_test, y_train, y_test, best_k_dict[\"max_k\"])"
   ]
  },
  {
   "cell_type": "code",
   "execution_count": null,
   "metadata": {},
   "outputs": [],
   "source": [
    "# Evaluation metrics\n",
    "print(\"Classification report: \\n\", classification_report(y_test, y_pred_knn))"
   ]
  },
  {
   "cell_type": "code",
   "execution_count": null,
   "metadata": {},
   "outputs": [],
   "source": [
    "# Confusion matrix\n",
    "cm = confusion_matrix(y_test, y_pred_knn)\n",
    "ConfusionMatrixDisplay(cm, display_labels=labels).plot()"
   ]
  },
  {
   "cell_type": "code",
   "execution_count": null,
   "metadata": {},
   "outputs": [],
   "source": [
    "# Plot % Yes & Error\n",
    "plts.plot_yes_perc_error(X_test_all, y_test, y_pred_knn) "
   ]
  },
  {
   "cell_type": "markdown",
   "metadata": {},
   "source": [
    "#### Decision Tree"
   ]
  },
  {
   "cell_type": "code",
   "execution_count": 24,
   "metadata": {},
   "outputs": [
    {
     "data": {
      "text/html": [
       "<div>\n",
       "<style scoped>\n",
       "    .dataframe tbody tr th:only-of-type {\n",
       "        vertical-align: middle;\n",
       "    }\n",
       "\n",
       "    .dataframe tbody tr th {\n",
       "        vertical-align: top;\n",
       "    }\n",
       "\n",
       "    .dataframe thead th {\n",
       "        text-align: right;\n",
       "    }\n",
       "</style>\n",
       "<table border=\"1\" class=\"dataframe\">\n",
       "  <thead>\n",
       "    <tr style=\"text-align: right;\">\n",
       "      <th></th>\n",
       "      <th>criterion</th>\n",
       "      <th>depth</th>\n",
       "      <th>accu_rate</th>\n",
       "    </tr>\n",
       "  </thead>\n",
       "  <tbody>\n",
       "    <tr>\n",
       "      <th>0</th>\n",
       "      <td>gini</td>\n",
       "      <td>1</td>\n",
       "      <td>0.83871</td>\n",
       "    </tr>\n",
       "    <tr>\n",
       "      <th>1</th>\n",
       "      <td>gini</td>\n",
       "      <td>2</td>\n",
       "      <td>0.83871</td>\n",
       "    </tr>\n",
       "    <tr>\n",
       "      <th>2</th>\n",
       "      <td>gini</td>\n",
       "      <td>3</td>\n",
       "      <td>0.866359</td>\n",
       "    </tr>\n",
       "    <tr>\n",
       "      <th>3</th>\n",
       "      <td>gini</td>\n",
       "      <td>4</td>\n",
       "      <td>0.83871</td>\n",
       "    </tr>\n",
       "    <tr>\n",
       "      <th>4</th>\n",
       "      <td>gini</td>\n",
       "      <td>5</td>\n",
       "      <td>0.792627</td>\n",
       "    </tr>\n",
       "    <tr>\n",
       "      <th>...</th>\n",
       "      <td>...</td>\n",
       "      <td>...</td>\n",
       "      <td>...</td>\n",
       "    </tr>\n",
       "    <tr>\n",
       "      <th>113</th>\n",
       "      <td>entropy</td>\n",
       "      <td>55</td>\n",
       "      <td>0.824885</td>\n",
       "    </tr>\n",
       "    <tr>\n",
       "      <th>114</th>\n",
       "      <td>entropy</td>\n",
       "      <td>56</td>\n",
       "      <td>0.824885</td>\n",
       "    </tr>\n",
       "    <tr>\n",
       "      <th>115</th>\n",
       "      <td>entropy</td>\n",
       "      <td>57</td>\n",
       "      <td>0.824885</td>\n",
       "    </tr>\n",
       "    <tr>\n",
       "      <th>116</th>\n",
       "      <td>entropy</td>\n",
       "      <td>58</td>\n",
       "      <td>0.824885</td>\n",
       "    </tr>\n",
       "    <tr>\n",
       "      <th>117</th>\n",
       "      <td>entropy</td>\n",
       "      <td>59</td>\n",
       "      <td>0.824885</td>\n",
       "    </tr>\n",
       "  </tbody>\n",
       "</table>\n",
       "<p>118 rows × 3 columns</p>\n",
       "</div>"
      ],
      "text/plain": [
       "    criterion depth accu_rate\n",
       "0        gini     1   0.83871\n",
       "1        gini     2   0.83871\n",
       "2        gini     3  0.866359\n",
       "3        gini     4   0.83871\n",
       "4        gini     5  0.792627\n",
       "..        ...   ...       ...\n",
       "113   entropy    55  0.824885\n",
       "114   entropy    56  0.824885\n",
       "115   entropy    57  0.824885\n",
       "116   entropy    58  0.824885\n",
       "117   entropy    59  0.824885\n",
       "\n",
       "[118 rows x 3 columns]"
      ]
     },
     "execution_count": 24,
     "metadata": {},
     "output_type": "execute_result"
    }
   ],
   "source": [
    "# Find best params for decision tree\n",
    "dt_best_params_dict, accuracies_dt = dt.decision_tree_hp(X_train, X_dev, y_train, y_dev)\n",
    "accuracies_dt"
   ]
  },
  {
   "cell_type": "code",
   "execution_count": 25,
   "metadata": {},
   "outputs": [
    {
     "data": {
      "image/png": "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",
      "text/plain": [
       "<Figure size 864x432 with 1 Axes>"
      ]
     },
     "metadata": {
      "needs_background": "light"
     },
     "output_type": "display_data"
    },
    {
     "data": {
      "text/plain": [
       "<module 'matplotlib.pylab' from '/Library/Frameworks/Python.framework/Versions/3.10/lib/python3.10/site-packages/matplotlib/pylab.py'>"
      ]
     },
     "execution_count": 25,
     "metadata": {},
     "output_type": "execute_result"
    }
   ],
   "source": [
    "# Plot depth vs accuracy \n",
    "dt.decision_tree_depth_plot(accuracies_dt)"
   ]
  },
  {
   "cell_type": "code",
   "execution_count": 26,
   "metadata": {},
   "outputs": [],
   "source": [
    "# Make prediction with best params\n",
    "y_pred_dt, clf = ea.decision_tree_max_hp(X_train, X_test, y_train, y_test, \n",
    "                                    dt_best_params_dict[\"max_criterion\"], \n",
    "                                    dt_best_params_dict[\"max_depth_tree\"])"
   ]
  },
  {
   "cell_type": "code",
   "execution_count": 27,
   "metadata": {},
   "outputs": [
    {
     "name": "stdout",
     "output_type": "stream",
     "text": [
      "TTextual model: \n",
      "\n",
      "|--- UDC <= 0.38\n",
      "|   |--- PVL <= 0.27\n",
      "|   |   |--- PES <= 0.52\n",
      "|   |   |   |--- class: 1.0\n",
      "|   |   |--- PES >  0.52\n",
      "|   |   |   |--- class: 1.0\n",
      "|   |--- PVL >  0.27\n",
      "|   |   |--- population <= 0.02\n",
      "|   |   |   |--- class: 1.0\n",
      "|   |   |--- population >  0.02\n",
      "|   |   |   |--- class: 0.0\n",
      "|--- UDC >  0.38\n",
      "|   |--- PLR <= 0.75\n",
      "|   |   |--- PVL <= 0.59\n",
      "|   |   |   |--- class: 1.0\n",
      "|   |   |--- PVL >  0.59\n",
      "|   |   |   |--- class: 1.0\n",
      "|   |--- PLR >  0.75\n",
      "|   |   |--- employment_secondary <= 0.03\n",
      "|   |   |   |--- class: 1.0\n",
      "|   |   |--- employment_secondary >  0.03\n",
      "|   |   |   |--- class: 0.0\n",
      "\n",
      "digraph Tree {\n",
      "node [shape=box, style=\"filled, rounded\", color=\"black\", fontname=\"helvetica\"] ;\n",
      "edge [fontname=\"helvetica\"] ;\n",
      "0 [label=<UDC &le; 0.379<br/>gini = 0.288<br/>samples = 1733<br/>value = [302, 1431]>, fillcolor=\"#63b2ea\"] ;\n",
      "1 [label=<PVL &le; 0.267<br/>gini = 0.402<br/>samples = 952<br/>value = [265, 687]>, fillcolor=\"#85c3ef\"] ;\n",
      "0 -> 1 [labeldistance=2.5, labelangle=45, headlabel=\"True\"] ;\n",
      "2 [label=<PES &le; 0.517<br/>gini = 0.219<br/>samples = 502<br/>value = [63, 439]>, fillcolor=\"#55abe9\"] ;\n",
      "1 -> 2 ;\n",
      "3 [label=<gini = 0.164<br/>samples = 433<br/>value = [39, 394]>, fillcolor=\"#4da7e8\"] ;\n",
      "2 -> 3 ;\n",
      "4 [label=<gini = 0.454<br/>samples = 69<br/>value = [24, 45]>, fillcolor=\"#a3d1f3\"] ;\n",
      "2 -> 4 ;\n",
      "5 [label=<population &le; 0.02<br/>gini = 0.495<br/>samples = 450<br/>value = [202, 248]>, fillcolor=\"#daedfa\"] ;\n",
      "1 -> 5 ;\n",
      "6 [label=<gini = 0.469<br/>samples = 372<br/>value = [140, 232]>, fillcolor=\"#b0d8f5\"] ;\n",
      "5 -> 6 ;\n",
      "7 [label=<gini = 0.326<br/>samples = 78<br/>value = [62, 16]>, fillcolor=\"#eca26c\"] ;\n",
      "5 -> 7 ;\n",
      "8 [label=<PLR &le; 0.746<br/>gini = 0.09<br/>samples = 781<br/>value = [37, 744]>, fillcolor=\"#43a2e6\"] ;\n",
      "0 -> 8 [labeldistance=2.5, labelangle=-45, headlabel=\"False\"] ;\n",
      "9 [label=<PVL &le; 0.595<br/>gini = 0.084<br/>samples = 777<br/>value = [34, 743]>, fillcolor=\"#42a1e6\"] ;\n",
      "8 -> 9 ;\n",
      "10 [label=<gini = 0.073<br/>samples = 762<br/>value = [29, 733]>, fillcolor=\"#41a1e6\"] ;\n",
      "9 -> 10 ;\n",
      "11 [label=<gini = 0.444<br/>samples = 15<br/>value = [5, 10]>, fillcolor=\"#9ccef2\"] ;\n",
      "9 -> 11 ;\n",
      "12 [label=<employment_secondary &le; 0.029<br/>gini = 0.375<br/>samples = 4<br/>value = [3, 1]>, fillcolor=\"#eeab7b\"] ;\n",
      "8 -> 12 ;\n",
      "13 [label=<gini = 0.0<br/>samples = 1<br/>value = [0, 1]>, fillcolor=\"#399de5\"] ;\n",
      "12 -> 13 ;\n",
      "14 [label=<gini = 0.0<br/>samples = 3<br/>value = [3, 0]>, fillcolor=\"#e58139\"] ;\n",
      "12 -> 14 ;\n",
      "}\n",
      "\n"
     ]
    }
   ],
   "source": [
    "dt.plot_best_decision_tree(clf, X_attr_2)"
   ]
  },
  {
   "cell_type": "code",
   "execution_count": null,
   "metadata": {},
   "outputs": [],
   "source": [
    "# Evaluation metrics\n",
    "print(\"Classification report: \\n\", classification_report(y_test, y_pred_dt))"
   ]
  },
  {
   "cell_type": "code",
   "execution_count": null,
   "metadata": {},
   "outputs": [],
   "source": [
    "# Confusion matrix\n",
    "cm = confusion_matrix(y_test, y_pred_dt)\n",
    "ConfusionMatrixDisplay(cm, display_labels=labels).plot()"
   ]
  },
  {
   "cell_type": "code",
   "execution_count": null,
   "metadata": {},
   "outputs": [],
   "source": [
    "# Plot % Yes & Error\n",
    "plts.plot_yes_perc_error(X_test_all, y_test, y_pred_dt) "
   ]
  },
  {
   "cell_type": "markdown",
   "metadata": {},
   "source": [
    "#### Random Forest"
   ]
  },
  {
   "cell_type": "code",
   "execution_count": null,
   "metadata": {},
   "outputs": [],
   "source": [
    "# Find best params for Random Forest model\n",
    "best_params_rf, best_acc_rf, accuracies_rf = rf.random_forest(X_train=X_train, X_dev=X_dev, \n",
    "                                            y_train=y_train, y_dev=y_dev, random_state = True)"
   ]
  },
  {
   "cell_type": "code",
   "execution_count": null,
   "metadata": {},
   "outputs": [],
   "source": [
    "accuracies_rf"
   ]
  },
  {
   "cell_type": "code",
   "execution_count": null,
   "metadata": {},
   "outputs": [],
   "source": [
    "# Plot random forests' accuracies based on parameters\n",
    "rf.plot_random_forest(accuracies_rf)"
   ]
  },
  {
   "cell_type": "code",
   "execution_count": null,
   "metadata": {
    "scrolled": true
   },
   "outputs": [],
   "source": [
    "# Make prediction with best model\n",
    "y_test_pred_rf = rf.predict_random_forest(best_params_rf, X_train, y_train, X_test, random_state = True)"
   ]
  },
  {
   "cell_type": "code",
   "execution_count": null,
   "metadata": {},
   "outputs": [],
   "source": [
    "# Evaluation metrics \n",
    "print(\"Test Data - Classification Report: \\n\", classification_report(y_test, y_test_pred_rf))"
   ]
  },
  {
   "cell_type": "code",
   "execution_count": null,
   "metadata": {},
   "outputs": [],
   "source": [
    "# Confusion matrix\n",
    "cm = confusion_matrix(y_test, y_test_pred_rf)\n",
    "ConfusionMatrixDisplay(cm, display_labels=labels).plot()"
   ]
  },
  {
   "cell_type": "code",
   "execution_count": null,
   "metadata": {},
   "outputs": [],
   "source": [
    "# Feature Importance\n",
    "rf.feature_importance_random_forest(X_train, y_train, best_params_rf)"
   ]
  },
  {
   "cell_type": "code",
   "execution_count": null,
   "metadata": {},
   "outputs": [],
   "source": [
    "# Plot % Yes & Error\n",
    "plts.plot_yes_perc_error(X_test_all, y_test, y_test_pred_rf) "
   ]
  },
  {
   "cell_type": "markdown",
   "metadata": {},
   "source": [
    "#### Neural Networks "
   ]
  },
  {
   "cell_type": "code",
   "execution_count": null,
   "metadata": {},
   "outputs": [],
   "source": [
    "# Find best params for neural net\n",
    "best_parameters_nn, best_accuracy_nn, accuracies_nn = nn.fit_nn(X_train, X_dev, y_train, y_dev)"
   ]
  },
  {
   "cell_type": "code",
   "execution_count": null,
   "metadata": {},
   "outputs": [],
   "source": [
    "accuracies_nn"
   ]
  },
  {
   "cell_type": "code",
   "execution_count": null,
   "metadata": {},
   "outputs": [],
   "source": [
    "# Plot tested params & accuracies\n",
    "nn.plot_nn(accuracies_nn)"
   ]
  },
  {
   "cell_type": "code",
   "execution_count": null,
   "metadata": {},
   "outputs": [],
   "source": [
    "# Make prediction with best model \n",
    "y_pred_nn = nn.predict_best_model_nn(best_parameters_nn, X_train, y_train, X_test)"
   ]
  },
  {
   "cell_type": "code",
   "execution_count": null,
   "metadata": {},
   "outputs": [],
   "source": [
    "# Evaluation metrics\n",
    "print(\"Classification report: \\n\", classification_report(y_test, y_pred_nn))"
   ]
  },
  {
   "cell_type": "code",
   "execution_count": null,
   "metadata": {},
   "outputs": [],
   "source": [
    "# Confusion matrix\n",
    "cm = confusion_matrix(y_test, y_pred_nn)\n",
    "ConfusionMatrixDisplay(cm, display_labels=labels).plot()"
   ]
  },
  {
   "cell_type": "code",
   "execution_count": null,
   "metadata": {},
   "outputs": [],
   "source": [
    "# Plot % Yes & Error\n",
    "plts.plot_yes_perc_error(X_test_all, y_test, y_pred_nn) "
   ]
  },
  {
   "cell_type": "markdown",
   "metadata": {},
   "source": [
    "### Conclusions"
   ]
  },
  {
   "cell_type": "code",
   "execution_count": null,
   "metadata": {},
   "outputs": [],
   "source": [
    "# Table comparing best models and accuracies?\n",
    "models = ['Logistic Regression', 'KNN', 'Decision Trees', 'Random_Forest', 'Neural Networks']\n",
    "outputs = [y_pred_lg, y_pred_knn, y_pred_dt, y_test_pred_rf, y_pred_nn]\n",
    "table = []\n",
    "\n",
    "for model, y_pred in zip(models, outputs):\n",
    "    tn, fp, fn, tp = confusion_matrix(y_test, y_pred).ravel()\n",
    "    accuracy_all = (tn + tp) / len(y_pred)\n",
    "    specificity = tn / (tn + fp) \n",
    "    recall = tp / (tp + fn)\n",
    "    table.append([model, accuracy_all, specificity, recall])\n",
    "                  \n",
    " \n",
    "all_results = pd.DataFrame(table, columns= ['Model','Accuracy','Specificity', 'Recall'])\n",
    "all_results\n",
    "    "
   ]
  }
 ],
 "metadata": {
  "interpreter": {
   "hash": "aee8b7b246df8f9039afb4144a1f6fd8d2ca17a180786b69acc140d282b71a49"
  },
  "kernelspec": {
   "display_name": "Python 3.10.4 64-bit",
   "language": "python",
   "name": "python3"
  },
  "language_info": {
   "codemirror_mode": {
    "name": "ipython",
    "version": 3
   },
   "file_extension": ".py",
   "mimetype": "text/x-python",
   "name": "python",
   "nbconvert_exporter": "python",
   "pygments_lexer": "ipython3",
   "version": "3.10.4"
  },
  "vscode": {
   "interpreter": {
    "hash": "26de051ba29f2982a8de78e945f0abaf191376122a1563185a90213a26c5da77"
   }
  }
 },
 "nbformat": 4,
 "nbformat_minor": 2
}
