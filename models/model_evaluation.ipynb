{
 "cells": [
  {
   "cell_type": "markdown",
   "metadata": {},
   "source": [
    "# Model Evaluation"
   ]
  },
  {
   "cell_type": "code",
   "execution_count": 1,
   "metadata": {
    "vscode": {
     "languageId": "plaintext"
    }
   },
   "outputs": [],
   "source": [
    "# Load libraries\n",
    "import numpy as np\n",
    "import matplotlib.pylab as plt\n",
    "import pandas as pd\n",
    "\n",
    "from sklearn.model_selection import train_test_split\n",
    "from sklearn.neighbors import KNeighborsClassifier\n",
    "from sklearn.metrics import classification_report, confusion_matrix, accuracy_score\n",
    "from sklearn.preprocessing import binarize\n",
    "\n",
    "import sys\n",
    "import os"
   ]
  },
  {
   "cell_type": "code",
   "execution_count": 2,
   "metadata": {},
   "outputs": [],
   "source": [
    "# Set working directory - ONLY RUN ONCE\n",
    "os.chdir('../')"
   ]
  },
  {
   "cell_type": "code",
   "execution_count": 3,
   "metadata": {},
   "outputs": [],
   "source": [
    "import resources.data_preprocessing as dp\n",
    "import resources.split_normalization as sn\n",
    "import resources.dummies_colinearity as dc"
   ]
  },
  {
   "cell_type": "code",
   "execution_count": 4,
   "metadata": {},
   "outputs": [],
   "source": [
    "# File paths\n",
    "file_dir = os.path.abspath('')\n",
    "face_cov_filepath = os.path.join(file_dir,\"data\",\"face_covering.csv\")\n",
    "demographics_filepath = os.path.join(file_dir,\"data\",\"demographics_2021.csv\")"
   ]
  },
  {
   "cell_type": "code",
   "execution_count": 5,
   "metadata": {},
   "outputs": [],
   "source": [
    "# Load data\n",
    "demographics = dp.load_demographics(demographics_filepath)\n",
    "face_covering = dp.load_referendum(face_cov_filepath)\n",
    "\n",
    "# Merge data\n",
    "merged_data = dp.merge_demographics_referendum(demographics, face_covering)"
   ]
  },
  {
   "cell_type": "code",
   "execution_count": 6,
   "metadata": {},
   "outputs": [],
   "source": [
    "# Remove irrelevant attributes\n",
    "rm_attr = [\"id\", \"municipality_dem\", \"canton_id\", \"municipality_ref\", \"yes_count\", \"no_count\", \"yes_perc\"]\n",
    "merged_data = merged_data.drop(rm_attr, axis = 1)\n",
    "\n",
    "# Create dummy columns for categorical attributes\n",
    "dummy_cols = [\"canton\"]\n",
    "merged_data = dc.add_dummies(merged_data, dummy_cols)"
   ]
  },
  {
   "cell_type": "code",
   "execution_count": 7,
   "metadata": {},
   "outputs": [],
   "source": [
    "# Separate X and y\n",
    "X_attr = merged_data.columns.to_list().remove('yes')\n",
    "X = merged_data.drop([\"yes\"], axis = 1).values\n",
    "y_attr = \"yes\"\n",
    "y = merged_data[\"yes\"].values"
   ]
  },
  {
   "cell_type": "code",
   "execution_count": 8,
   "metadata": {},
   "outputs": [
    {
     "name": "stdout",
     "output_type": "stream",
     "text": [
      "X_train:  (1737, 73) X_dev:  (218, 73) X_test:  (217, 73)\n"
     ]
    }
   ],
   "source": [
    "# Split data into train, development and test\n",
    "X_train, X_test, X_dev, y_train, y_test, y_dev = sn.split(X, y)\n",
    "print(\"X_train: \", X_train.shape, \"X_dev: \", X_dev.shape, \"X_test: \", X_test.shape)"
   ]
  },
  {
   "cell_type": "code",
   "execution_count": 9,
   "metadata": {},
   "outputs": [],
   "source": [
    "# Scale attributes\n",
    "X_train, X_test, X_dev = sn.min_max_scaling(X_train, X_test, X_dev)"
   ]
  },
  {
   "cell_type": "code",
   "execution_count": 23,
   "metadata": {},
   "outputs": [],
   "source": [
    "# MODELS"
   ]
  },
  {
   "cell_type": "code",
   "execution_count": null,
   "metadata": {},
   "outputs": [],
   "source": []
  }
 ],
 "metadata": {
  "kernelspec": {
   "display_name": "Python 3 (ipykernel)",
   "language": "python",
   "name": "python3"
  },
  "language_info": {
   "codemirror_mode": {
    "name": "ipython",
    "version": 3
   },
   "file_extension": ".py",
   "mimetype": "text/x-python",
   "name": "python",
   "nbconvert_exporter": "python",
   "pygments_lexer": "ipython3",
   "version": "3.9.10"
  }
 },
 "nbformat": 4,
 "nbformat_minor": 2
}
