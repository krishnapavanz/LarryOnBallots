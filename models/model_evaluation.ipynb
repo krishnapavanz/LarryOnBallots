{
 "cells": [
  {
   "cell_type": "markdown",
   "metadata": {},
   "source": [
    "# Model Evaluation"
   ]
  },
  {
   "cell_type": "code",
   "execution_count": 1,
   "metadata": {
    "vscode": {
     "languageId": "plaintext"
    }
   },
   "outputs": [],
   "source": [
    "# Load libraries\n",
    "import sys\n",
    "import os\n",
    "import warnings\n",
    "import numpy as np\n",
    "import matplotlib.pylab as plt\n",
    "import pandas as pd\n",
    "\n",
    "from sklearn.model_selection import train_test_split\n",
    "from sklearn.neighbors import KNeighborsClassifier\n",
    "from sklearn.tree import DecisionTreeClassifier\n",
    "from sklearn.linear_model import LogisticRegression\n",
    "from sklearn.metrics import classification_report, confusion_matrix, \\\n",
    "accuracy_score, ConfusionMatrixDisplay, f1_score\n",
    "from sklearn.preprocessing import binarize"
   ]
  },
  {
   "cell_type": "code",
   "execution_count": 3,
   "metadata": {},
   "outputs": [],
   "source": [
    "# Set working directory - ONLY RUN ONCE\n",
    "os.chdir('../')"
   ]
  },
  {
   "cell_type": "code",
   "execution_count": 4,
   "metadata": {},
   "outputs": [],
   "source": [
    "import resources.data_preprocessing as dp\n",
    "import resources.split_normalization as sn\n",
    "import resources.dummies_colinearity as dc\n",
    "import models.random_forest as rf\n",
    "import models.endline_analysis as ea\n",
    "import plots.plots as plts"
   ]
  },
  {
   "cell_type": "code",
   "execution_count": 5,
   "metadata": {},
   "outputs": [],
   "source": [
    "# Hyde warnings\n",
    "warnings.filterwarnings('ignore')"
   ]
  },
  {
   "cell_type": "markdown",
   "metadata": {},
   "source": [
    "### Data loading and preprocessing"
   ]
  },
  {
   "cell_type": "code",
   "execution_count": 6,
   "metadata": {},
   "outputs": [],
   "source": [
    "# File paths\n",
    "file_dir = os.path.abspath('')\n",
    "face_cov_filepath = os.path.join(file_dir,\"data\",\"face_covering.csv\")\n",
    "demographics_filepath = os.path.join(file_dir,\"data\",\"demographics_2021.csv\")"
   ]
  },
  {
   "cell_type": "code",
   "execution_count": 7,
   "metadata": {},
   "outputs": [],
   "source": [
    "# Load data\n",
    "demographics = dp.load_demographics(demographics_filepath)\n",
    "face_covering = dp.load_referendum(face_cov_filepath)\n",
    "\n",
    "# Merge data\n",
    "merged_data_raw = dp.merge_demographics_referendum(demographics, face_covering)\n",
    "merged_data_raw = merged_data_raw[merged_data_raw['yes'].notna()]"
   ]
  },
  {
   "cell_type": "code",
   "execution_count": 8,
   "metadata": {},
   "outputs": [],
   "source": [
    "# Remove irrelevant attributes\n",
    "rm_attr = [\"id\", \"canton_id\", \"municipality_ref\", \"age_percentage_less_20\", \"death_rate\",\n",
    "           \"social_aid_perc\", \"employment_total\", \"establishments_total\", \"establishments_primary\",\n",
    "           \"establishments_secondary\", \"establishments_tertiary\",\n",
    "           \"registered_voters\", \"blank_votes\", \"invalid_votes\", \"valid_ballots\", \"yes_count\", \"no_count\"]\n",
    "merged_data = merged_data_raw.drop(rm_attr, axis = 1)"
   ]
  },
  {
   "cell_type": "code",
   "execution_count": 9,
   "metadata": {},
   "outputs": [],
   "source": [
    "# Create dummy columns for categorical attributes\n",
    "dummy_cols = [\"canton\"]\n",
    "merged_data = dc.add_dummies(merged_data, dummy_cols)"
   ]
  },
  {
   "cell_type": "code",
   "execution_count": 10,
   "metadata": {},
   "outputs": [],
   "source": [
    "# Handle NAs\n",
    "\n",
    "# TO CHANGE TO AFTER SPLIT!!! \n",
    "merged_data = dp.handle_na(merged_data, fill = \"KNN\", nn=5)"
   ]
  },
  {
   "cell_type": "code",
   "execution_count": 11,
   "metadata": {},
   "outputs": [],
   "source": [
    "# Separate X and y\n",
    "X_attr = merged_data.columns.to_list()\n",
    "X_attr.remove('yes')\n",
    "X = merged_data.drop([\"yes\"], axis = 1)\n",
    "y_attr = \"yes\"\n",
    "y = merged_data[\"yes\"]"
   ]
  },
  {
   "cell_type": "code",
   "execution_count": 12,
   "metadata": {},
   "outputs": [
    {
     "name": "stdout",
     "output_type": "stream",
     "text": [
      "X_train:  (1733, 63) X_dev:  (217, 63) X_test:  (217, 63)\n"
     ]
    }
   ],
   "source": [
    "# Split data into train, development and test\n",
    "X_train_all, X_test_all, X_dev_all, y_train, y_test, y_dev = sn.split(X, y)\n",
    "print(\"X_train: \", X_train_all.shape, \"X_dev: \", X_dev_all.shape, \"X_test: \", X_test_all.shape)"
   ]
  },
  {
   "cell_type": "code",
   "execution_count": 13,
   "metadata": {},
   "outputs": [],
   "source": [
    "# Remove yes_perc (required later for evaluation)\n",
    "X_train = X_train_all.drop([\"yes_perc\", \"municipality_dem\"], axis = 1)\n",
    "X_test = X_test_all.drop([\"yes_perc\", \"municipality_dem\"], axis = 1)\n",
    "X_dev = X_dev_all.drop([\"yes_perc\", \"municipality_dem\"], axis = 1)\n",
    "\n",
    "# Scale attributes\n",
    "X_train, X_test, X_dev = sn.min_max_scaling(X_train, X_test, X_dev)"
   ]
  },
  {
   "cell_type": "code",
   "execution_count": 14,
   "metadata": {},
   "outputs": [],
   "source": [
    "# Round to 6 decimal places\n",
    "X_train = X_train.round(6)\n",
    "X_test = X_test.round(6)\n",
    "X_dev = X_dev.round(6)"
   ]
  },
  {
   "cell_type": "code",
   "execution_count": 21,
   "metadata": {},
   "outputs": [],
   "source": [
    "# Political variables to remove for model testing \n",
    "political_attr = [\"PLR\", \"PDC\", \"PS\", \"UDC\", \"PEV_PCS\", \"PVL\", \"PBD\", \"PST_Sol\", \"PES\", \"small_right_parties\"]\n",
    "X_train_apol = X_train\n",
    "X_test_apol = X_test\n",
    "X_dev_apol = X_dev\n",
    "\n",
    "for col in political_attr:\n",
    "    idx = political_attr.index(col)\n",
    "    X_train_apol = X_train_apol.drop(X_train_apol.columns[idx], axis=1)\n",
    "    X_test_apol = X_test_apol.drop(X_test_apol.columns[idx], axis=1)\n",
    "    X_dev_apol = X_dev_apol.drop(X_dev_apol.columns[idx], axis=1)\n",
    "\n",
    "X_attr_apol = [c for c in X_attr if c not in political_attr]"
   ]
  },
  {
   "cell_type": "markdown",
   "metadata": {},
   "source": [
    "### Modelling "
   ]
  },
  {
   "cell_type": "code",
   "execution_count": 16,
   "metadata": {},
   "outputs": [],
   "source": [
    "labels = [\"no\", \"yes\"]"
   ]
  },
  {
   "cell_type": "markdown",
   "metadata": {},
   "source": [
    "#### Logistic Regression"
   ]
  },
  {
   "cell_type": "code",
   "execution_count": 17,
   "metadata": {},
   "outputs": [
    {
     "name": "stderr",
     "output_type": "stream",
     "text": [
      "/Library/Frameworks/Python.framework/Versions/3.9/lib/python3.9/site-packages/sklearn/linear_model/_logistic.py:814: ConvergenceWarning: lbfgs failed to converge (status=1):\n",
      "STOP: TOTAL NO. of ITERATIONS REACHED LIMIT.\n",
      "\n",
      "Increase the number of iterations (max_iter) or scale the data as shown in:\n",
      "    https://scikit-learn.org/stable/modules/preprocessing.html\n",
      "Please also refer to the documentation for alternative solver options:\n",
      "    https://scikit-learn.org/stable/modules/linear_model.html#logistic-regression\n",
      "  n_iter_i = _check_optimize_result(\n",
      "/Library/Frameworks/Python.framework/Versions/3.9/lib/python3.9/site-packages/sklearn/linear_model/_logistic.py:814: ConvergenceWarning: lbfgs failed to converge (status=1):\n",
      "STOP: TOTAL NO. of ITERATIONS REACHED LIMIT.\n",
      "\n",
      "Increase the number of iterations (max_iter) or scale the data as shown in:\n",
      "    https://scikit-learn.org/stable/modules/preprocessing.html\n",
      "Please also refer to the documentation for alternative solver options:\n",
      "    https://scikit-learn.org/stable/modules/linear_model.html#logistic-regression\n",
      "  n_iter_i = _check_optimize_result(\n",
      "/Library/Frameworks/Python.framework/Versions/3.9/lib/python3.9/site-packages/sklearn/linear_model/_logistic.py:814: ConvergenceWarning: lbfgs failed to converge (status=1):\n",
      "STOP: TOTAL NO. of ITERATIONS REACHED LIMIT.\n",
      "\n",
      "Increase the number of iterations (max_iter) or scale the data as shown in:\n",
      "    https://scikit-learn.org/stable/modules/preprocessing.html\n",
      "Please also refer to the documentation for alternative solver options:\n",
      "    https://scikit-learn.org/stable/modules/linear_model.html#logistic-regression\n",
      "  n_iter_i = _check_optimize_result(\n",
      "/Library/Frameworks/Python.framework/Versions/3.9/lib/python3.9/site-packages/sklearn/linear_model/_logistic.py:814: ConvergenceWarning: lbfgs failed to converge (status=1):\n",
      "STOP: TOTAL NO. of ITERATIONS REACHED LIMIT.\n",
      "\n",
      "Increase the number of iterations (max_iter) or scale the data as shown in:\n",
      "    https://scikit-learn.org/stable/modules/preprocessing.html\n",
      "Please also refer to the documentation for alternative solver options:\n",
      "    https://scikit-learn.org/stable/modules/linear_model.html#logistic-regression\n",
      "  n_iter_i = _check_optimize_result(\n",
      "/Library/Frameworks/Python.framework/Versions/3.9/lib/python3.9/site-packages/sklearn/linear_model/_logistic.py:814: ConvergenceWarning: lbfgs failed to converge (status=1):\n",
      "STOP: TOTAL NO. of ITERATIONS REACHED LIMIT.\n",
      "\n",
      "Increase the number of iterations (max_iter) or scale the data as shown in:\n",
      "    https://scikit-learn.org/stable/modules/preprocessing.html\n",
      "Please also refer to the documentation for alternative solver options:\n",
      "    https://scikit-learn.org/stable/modules/linear_model.html#logistic-regression\n",
      "  n_iter_i = _check_optimize_result(\n",
      "/Library/Frameworks/Python.framework/Versions/3.9/lib/python3.9/site-packages/sklearn/linear_model/_logistic.py:814: ConvergenceWarning: lbfgs failed to converge (status=1):\n",
      "STOP: TOTAL NO. of ITERATIONS REACHED LIMIT.\n",
      "\n",
      "Increase the number of iterations (max_iter) or scale the data as shown in:\n",
      "    https://scikit-learn.org/stable/modules/preprocessing.html\n",
      "Please also refer to the documentation for alternative solver options:\n",
      "    https://scikit-learn.org/stable/modules/linear_model.html#logistic-regression\n",
      "  n_iter_i = _check_optimize_result(\n",
      "/Library/Frameworks/Python.framework/Versions/3.9/lib/python3.9/site-packages/sklearn/linear_model/_logistic.py:814: ConvergenceWarning: lbfgs failed to converge (status=1):\n",
      "STOP: TOTAL NO. of ITERATIONS REACHED LIMIT.\n",
      "\n",
      "Increase the number of iterations (max_iter) or scale the data as shown in:\n",
      "    https://scikit-learn.org/stable/modules/preprocessing.html\n",
      "Please also refer to the documentation for alternative solver options:\n",
      "    https://scikit-learn.org/stable/modules/linear_model.html#logistic-regression\n",
      "  n_iter_i = _check_optimize_result(\n",
      "/Library/Frameworks/Python.framework/Versions/3.9/lib/python3.9/site-packages/sklearn/linear_model/_logistic.py:814: ConvergenceWarning: lbfgs failed to converge (status=1):\n",
      "STOP: TOTAL NO. of ITERATIONS REACHED LIMIT.\n",
      "\n",
      "Increase the number of iterations (max_iter) or scale the data as shown in:\n",
      "    https://scikit-learn.org/stable/modules/preprocessing.html\n",
      "Please also refer to the documentation for alternative solver options:\n",
      "    https://scikit-learn.org/stable/modules/linear_model.html#logistic-regression\n",
      "  n_iter_i = _check_optimize_result(\n",
      "/Library/Frameworks/Python.framework/Versions/3.9/lib/python3.9/site-packages/sklearn/linear_model/_logistic.py:814: ConvergenceWarning: lbfgs failed to converge (status=1):\n",
      "STOP: TOTAL NO. of ITERATIONS REACHED LIMIT.\n",
      "\n",
      "Increase the number of iterations (max_iter) or scale the data as shown in:\n",
      "    https://scikit-learn.org/stable/modules/preprocessing.html\n",
      "Please also refer to the documentation for alternative solver options:\n",
      "    https://scikit-learn.org/stable/modules/linear_model.html#logistic-regression\n",
      "  n_iter_i = _check_optimize_result(\n",
      "/Library/Frameworks/Python.framework/Versions/3.9/lib/python3.9/site-packages/sklearn/linear_model/_logistic.py:814: ConvergenceWarning: lbfgs failed to converge (status=1):\n",
      "STOP: TOTAL NO. of ITERATIONS REACHED LIMIT.\n",
      "\n",
      "Increase the number of iterations (max_iter) or scale the data as shown in:\n",
      "    https://scikit-learn.org/stable/modules/preprocessing.html\n",
      "Please also refer to the documentation for alternative solver options:\n",
      "    https://scikit-learn.org/stable/modules/linear_model.html#logistic-regression\n",
      "  n_iter_i = _check_optimize_result(\n",
      "/Library/Frameworks/Python.framework/Versions/3.9/lib/python3.9/site-packages/sklearn/linear_model/_logistic.py:814: ConvergenceWarning: lbfgs failed to converge (status=1):\n",
      "STOP: TOTAL NO. of ITERATIONS REACHED LIMIT.\n",
      "\n",
      "Increase the number of iterations (max_iter) or scale the data as shown in:\n",
      "    https://scikit-learn.org/stable/modules/preprocessing.html\n",
      "Please also refer to the documentation for alternative solver options:\n",
      "    https://scikit-learn.org/stable/modules/linear_model.html#logistic-regression\n",
      "  n_iter_i = _check_optimize_result(\n",
      "/Library/Frameworks/Python.framework/Versions/3.9/lib/python3.9/site-packages/sklearn/linear_model/_logistic.py:814: ConvergenceWarning: lbfgs failed to converge (status=1):\n",
      "STOP: TOTAL NO. of ITERATIONS REACHED LIMIT.\n",
      "\n",
      "Increase the number of iterations (max_iter) or scale the data as shown in:\n",
      "    https://scikit-learn.org/stable/modules/preprocessing.html\n",
      "Please also refer to the documentation for alternative solver options:\n",
      "    https://scikit-learn.org/stable/modules/linear_model.html#logistic-regression\n",
      "  n_iter_i = _check_optimize_result(\n",
      "/Library/Frameworks/Python.framework/Versions/3.9/lib/python3.9/site-packages/sklearn/linear_model/_logistic.py:814: ConvergenceWarning: lbfgs failed to converge (status=1):\n",
      "STOP: TOTAL NO. of ITERATIONS REACHED LIMIT.\n",
      "\n",
      "Increase the number of iterations (max_iter) or scale the data as shown in:\n",
      "    https://scikit-learn.org/stable/modules/preprocessing.html\n",
      "Please also refer to the documentation for alternative solver options:\n",
      "    https://scikit-learn.org/stable/modules/linear_model.html#logistic-regression\n",
      "  n_iter_i = _check_optimize_result(\n",
      "/Library/Frameworks/Python.framework/Versions/3.9/lib/python3.9/site-packages/sklearn/linear_model/_logistic.py:814: ConvergenceWarning: lbfgs failed to converge (status=1):\n",
      "STOP: TOTAL NO. of ITERATIONS REACHED LIMIT.\n",
      "\n",
      "Increase the number of iterations (max_iter) or scale the data as shown in:\n",
      "    https://scikit-learn.org/stable/modules/preprocessing.html\n",
      "Please also refer to the documentation for alternative solver options:\n",
      "    https://scikit-learn.org/stable/modules/linear_model.html#logistic-regression\n",
      "  n_iter_i = _check_optimize_result(\n",
      "/Library/Frameworks/Python.framework/Versions/3.9/lib/python3.9/site-packages/sklearn/linear_model/_logistic.py:814: ConvergenceWarning: lbfgs failed to converge (status=1):\n",
      "STOP: TOTAL NO. of ITERATIONS REACHED LIMIT.\n",
      "\n",
      "Increase the number of iterations (max_iter) or scale the data as shown in:\n",
      "    https://scikit-learn.org/stable/modules/preprocessing.html\n",
      "Please also refer to the documentation for alternative solver options:\n",
      "    https://scikit-learn.org/stable/modules/linear_model.html#logistic-regression\n",
      "  n_iter_i = _check_optimize_result(\n"
     ]
    }
   ],
   "source": [
    "# Find best params for logistic regression\n",
    "lg_dict, accuracies_lg = ea.logistic_reg_hp(X_train, y_train)\n",
    "C = lg_dict[\"max_params\"][\"C\"]\n",
    "solver = lg_dict[\"max_params\"][\"solver\"]\n",
    "penalty = lg_dict[\"max_params\"][\"penalty\"]"
   ]
  },
  {
   "cell_type": "code",
   "execution_count": 90,
   "metadata": {},
   "outputs": [
    {
     "data": {
      "text/html": [
       "<div>\n",
       "<style scoped>\n",
       "    .dataframe tbody tr th:only-of-type {\n",
       "        vertical-align: middle;\n",
       "    }\n",
       "\n",
       "    .dataframe tbody tr th {\n",
       "        vertical-align: top;\n",
       "    }\n",
       "\n",
       "    .dataframe thead th {\n",
       "        text-align: right;\n",
       "    }\n",
       "</style>\n",
       "<table border=\"1\" class=\"dataframe\">\n",
       "  <thead>\n",
       "    <tr style=\"text-align: right;\">\n",
       "      <th></th>\n",
       "      <th>k</th>\n",
       "      <th>accu_rate</th>\n",
       "    </tr>\n",
       "  </thead>\n",
       "  <tbody>\n",
       "    <tr>\n",
       "      <th>0</th>\n",
       "      <td>1.0</td>\n",
       "      <td>0.815668</td>\n",
       "    </tr>\n",
       "    <tr>\n",
       "      <th>1</th>\n",
       "      <td>3.0</td>\n",
       "      <td>0.847926</td>\n",
       "    </tr>\n",
       "    <tr>\n",
       "      <th>2</th>\n",
       "      <td>5.0</td>\n",
       "      <td>0.843318</td>\n",
       "    </tr>\n",
       "    <tr>\n",
       "      <th>3</th>\n",
       "      <td>7.0</td>\n",
       "      <td>0.83871</td>\n",
       "    </tr>\n",
       "    <tr>\n",
       "      <th>4</th>\n",
       "      <td>9.0</td>\n",
       "      <td>0.83871</td>\n",
       "    </tr>\n",
       "    <tr>\n",
       "      <th>5</th>\n",
       "      <td>11.0</td>\n",
       "      <td>0.843318</td>\n",
       "    </tr>\n",
       "    <tr>\n",
       "      <th>6</th>\n",
       "      <td>13.0</td>\n",
       "      <td>0.861751</td>\n",
       "    </tr>\n",
       "    <tr>\n",
       "      <th>7</th>\n",
       "      <td>15.0</td>\n",
       "      <td>0.861751</td>\n",
       "    </tr>\n",
       "    <tr>\n",
       "      <th>8</th>\n",
       "      <td>17.0</td>\n",
       "      <td>0.861751</td>\n",
       "    </tr>\n",
       "    <tr>\n",
       "      <th>9</th>\n",
       "      <td>19.0</td>\n",
       "      <td>0.861751</td>\n",
       "    </tr>\n",
       "    <tr>\n",
       "      <th>10</th>\n",
       "      <td>21.0</td>\n",
       "      <td>0.857143</td>\n",
       "    </tr>\n",
       "    <tr>\n",
       "      <th>11</th>\n",
       "      <td>23.0</td>\n",
       "      <td>0.861751</td>\n",
       "    </tr>\n",
       "    <tr>\n",
       "      <th>12</th>\n",
       "      <td>25.0</td>\n",
       "      <td>0.857143</td>\n",
       "    </tr>\n",
       "    <tr>\n",
       "      <th>13</th>\n",
       "      <td>27.0</td>\n",
       "      <td>0.843318</td>\n",
       "    </tr>\n",
       "    <tr>\n",
       "      <th>14</th>\n",
       "      <td>29.0</td>\n",
       "      <td>0.843318</td>\n",
       "    </tr>\n",
       "    <tr>\n",
       "      <th>15</th>\n",
       "      <td>31.0</td>\n",
       "      <td>0.847926</td>\n",
       "    </tr>\n",
       "    <tr>\n",
       "      <th>16</th>\n",
       "      <td>33.0</td>\n",
       "      <td>0.847926</td>\n",
       "    </tr>\n",
       "    <tr>\n",
       "      <th>17</th>\n",
       "      <td>35.0</td>\n",
       "      <td>0.852535</td>\n",
       "    </tr>\n",
       "    <tr>\n",
       "      <th>18</th>\n",
       "      <td>37.0</td>\n",
       "      <td>0.852535</td>\n",
       "    </tr>\n",
       "    <tr>\n",
       "      <th>19</th>\n",
       "      <td>39.0</td>\n",
       "      <td>0.843318</td>\n",
       "    </tr>\n",
       "  </tbody>\n",
       "</table>\n",
       "</div>"
      ],
      "text/plain": [
       "       k accu_rate\n",
       "0    1.0  0.815668\n",
       "1    3.0  0.847926\n",
       "2    5.0  0.843318\n",
       "3    7.0   0.83871\n",
       "4    9.0   0.83871\n",
       "5   11.0  0.843318\n",
       "6   13.0  0.861751\n",
       "7   15.0  0.861751\n",
       "8   17.0  0.861751\n",
       "9   19.0  0.861751\n",
       "10  21.0  0.857143\n",
       "11  23.0  0.861751\n",
       "12  25.0  0.857143\n",
       "13  27.0  0.843318\n",
       "14  29.0  0.843318\n",
       "15  31.0  0.847926\n",
       "16  33.0  0.847926\n",
       "17  35.0  0.852535\n",
       "18  37.0  0.852535\n",
       "19  39.0  0.843318"
      ]
     },
     "execution_count": 90,
     "metadata": {},
     "output_type": "execute_result"
    }
   ],
   "source": [
    "accuracies"
   ]
  },
  {
   "cell_type": "code",
   "execution_count": 63,
   "metadata": {},
   "outputs": [],
   "source": [
    "# Make prediction with best params\n",
    "\n",
    "# !TO MOVE TO A FUNCTION\n",
    "logreg = LogisticRegression(random_state=0, C = C, solver = solver, penalty = penalty)\n",
    "logreg.fit(X_train, y_train)\n",
    "y_pred_lg = logreg.predict(X_test)"
   ]
  },
  {
   "cell_type": "code",
   "execution_count": 64,
   "metadata": {},
   "outputs": [
    {
     "name": "stdout",
     "output_type": "stream",
     "text": [
      "Accuracy:  0.9308755760368663\n",
      "F score:  0.961439588688946\n",
      "Classification report: \n",
      "               precision    recall  f1-score   support\n",
      "\n",
      "         0.0       0.79      0.58      0.67        26\n",
      "         1.0       0.94      0.98      0.96       191\n",
      "\n",
      "    accuracy                           0.93       217\n",
      "   macro avg       0.87      0.78      0.81       217\n",
      "weighted avg       0.93      0.93      0.93       217\n",
      "\n"
     ]
    }
   ],
   "source": [
    "# Accuracy & F-Score\n",
    "print(\"Accuracy: \", accuracy_score(y_test, y_pred_lg))\n",
    "print(\"F score: \", f1_score(y_test, y_pred_lg))\n",
    "print(\"Classification report: \\n\", classification_report(y_test, y_pred_lg))"
   ]
  },
  {
   "cell_type": "code",
   "execution_count": 65,
   "metadata": {},
   "outputs": [
    {
     "data": {
      "text/plain": [
       "<sklearn.metrics._plot.confusion_matrix.ConfusionMatrixDisplay at 0x7fa719fc1970>"
      ]
     },
     "execution_count": 65,
     "metadata": {},
     "output_type": "execute_result"
    },
    {
     "data": {
      "image/png": "[encoded data removed]",
      "text/plain": [
       "<Figure size 432x288 with 2 Axes>"
      ]
     },
     "metadata": {
      "needs_background": "light"
     },
     "output_type": "display_data"
    }
   ],
   "source": [
    "# Confusion matrix\n",
    "cm = confusion_matrix(y_test, y_pred_lg)\n",
    "ConfusionMatrixDisplay(cm, display_labels=labels).plot()"
   ]
  },
  {
   "cell_type": "code",
   "execution_count": 66,
   "metadata": {},
   "outputs": [
    {
     "data": {
      "application/vnd.plotly.v1+json": {
       "config": {
        "plotlyServerURL": "https://plot.ly"
       },
       "data": [
        {
         "customdata": [
          [
           "Bretonnières"
          ],
          [
           "Mies"
          ],
          [
           "Ropraz"
          ],
          [
           "Hergiswil bei Willisau"
          ],
          [
           "Pont-en-Ogoz"
          ],
          [
           "Valeyres-sous-Ursins"
          ],
          [
           "Küblis"
          ],
          [
           "Sierre"
          ],
          [
           "Granges-Paccot"
          ],
          [
           "Amlikon-Bissegg"
          ],
          [
           "Saubraz"
          ],
          [
           "Bodio"
          ],
          [
           "Würenlingen"
          ],
          [
           "Wenslingen"
          ],
          [
           "Engelberg"
          ],
          [
           "Zwingen"
          ],
          [
           "Savièse"
          ],
          [
           "Lüterkofen-Ichertswil"
          ],
          [
           "Kappel am Albis"
          ],
          [
           "Bogis-Bossey"
          ],
          [
           "Petit-Val"
          ],
          [
           "Menznau"
          ],
          [
           "Gansingen"
          ],
          [
           "Lostorf"
          ],
          [
           "Mauborget"
          ],
          [
           "Forst-Längenbühl"
          ],
          [
           "Dürnten"
          ],
          [
           "Oberwil (BL)"
          ],
          [
           "Novazzano"
          ],
          [
           "Eiken"
          ],
          [
           "Mollens (VD)"
          ],
          [
           "Mümliswil-Ramiswil"
          ],
          [
           "Ottenbach"
          ],
          [
           "Turtmann-Unterems"
          ],
          [
           "Weggis"
          ],
          [
           "Dietwil"
          ],
          [
           "Gingins"
          ],
          [
           "Presinge"
          ],
          [
           "Kaisten"
          ],
          [
           "Ammerswil"
          ],
          [
           "Hornussen"
          ],
          [
           "Lens"
          ],
          [
           "Konolfingen"
          ],
          [
           "Mörel-Filet"
          ],
          [
           "Schangnau"
          ],
          [
           "Sarmenstorf"
          ],
          [
           "Biasca"
          ],
          [
           "Bremblens"
          ],
          [
           "Eschert"
          ],
          [
           "Le Bémont (JU)"
          ],
          [
           "Härkingen"
          ],
          [
           "Beromünster"
          ],
          [
           "Riedholz"
          ],
          [
           "Herzogenbuchsee"
          ],
          [
           "Fontenais"
          ],
          [
           "Wimmis"
          ],
          [
           "Boudry"
          ],
          [
           "Cortébert"
          ],
          [
           "Hohenrain"
          ],
          [
           "Therwil"
          ],
          [
           "Rüdtligen-Alchenflüh"
          ],
          [
           "Porza"
          ],
          [
           "Comano"
          ],
          [
           "Müllheim"
          ],
          [
           "Bioggio"
          ],
          [
           "Luterbach"
          ],
          [
           "Courchapoix"
          ],
          [
           "Rütschelen"
          ],
          [
           "Innertkirchen"
          ],
          [
           "Gilly"
          ],
          [
           "Riviera"
          ],
          [
           "Bürglen (UR)"
          ],
          [
           "Klosters"
          ],
          [
           "Augst"
          ],
          [
           "Ueberstorf"
          ],
          [
           "Oberwil-Lieli"
          ],
          [
           "Fislisbach"
          ],
          [
           "Mergoscia"
          ],
          [
           "Bois-d'Amont"
          ],
          [
           "Leuk"
          ],
          [
           "Wald (BE)"
          ],
          [
           "Einsiedeln"
          ],
          [
           "Huttwil"
          ],
          [
           "Gambarogno"
          ],
          [
           "Hindelbank"
          ],
          [
           "Rothrist"
          ],
          [
           "Albinen"
          ],
          [
           "Goms"
          ],
          [
           "Vallorbe"
          ],
          [
           "Orbe"
          ],
          [
           "Laufenburg"
          ],
          [
           "Wegenstetten"
          ],
          [
           "Staffelbach"
          ],
          [
           "Coeuve"
          ],
          [
           "Unterlangenegg"
          ],
          [
           "Tramelan"
          ],
          [
           "Les Genevez (JU)"
          ],
          [
           "Trüllikon"
          ],
          [
           "Conthey"
          ],
          [
           "Blenio"
          ],
          [
           "Baldingen"
          ],
          [
           "Oberlunkhofen"
          ],
          [
           "Sargans"
          ],
          [
           "Vullierens"
          ],
          [
           "Centovalli"
          ],
          [
           "Rougemont"
          ],
          [
           "Perroy"
          ],
          [
           "Lenk"
          ],
          [
           "Oberwil bei Büren"
          ],
          [
           "Busswil bei Melchnau"
          ],
          [
           "Täuffelen"
          ],
          [
           "Dalpe"
          ],
          [
           "Coldrerio"
          ],
          [
           "Steinen"
          ],
          [
           "Eschenz"
          ],
          [
           "Brienzwiler"
          ],
          [
           "Morcote"
          ],
          [
           "Beatenberg"
          ],
          [
           "Lignerolle"
          ],
          [
           "Trimmis"
          ],
          [
           "Allaman"
          ],
          [
           "Büron"
          ],
          [
           "Heimiswil"
          ],
          [
           "Valbirse"
          ],
          [
           "Rothenthurm"
          ],
          [
           "Remaufens"
          ],
          [
           "Hägendorf"
          ],
          [
           "Büttikon"
          ],
          [
           "Sion"
          ],
          [
           "Mirchel"
          ],
          [
           "Schöfflisdorf"
          ],
          [
           "Hägglingen"
          ],
          [
           "Egg"
          ],
          [
           "Basadingen-Schlattingen"
          ],
          [
           "Bichelsee-Balterswil"
          ],
          [
           "Alchenstorf"
          ],
          [
           "Buchs (SG)"
          ],
          [
           "Hochfelden"
          ],
          [
           "Avenches"
          ],
          [
           "Studen (BE)"
          ],
          [
           "Kleinbösingen"
          ],
          [
           "Ettingen"
          ],
          [
           "Scheuren"
          ],
          [
           "Dänikon"
          ],
          [
           "Meiringen"
          ],
          [
           "Dallenwil"
          ],
          [
           "Alpthal"
          ],
          [
           "Bergdietikon"
          ],
          [
           "Ehrendingen"
          ],
          [
           "Herrliberg"
          ],
          [
           "Dozwil"
          ],
          [
           "Le Chenit"
          ],
          [
           "Sorvilier"
          ],
          [
           "Steinmaur"
          ],
          [
           "Milvignes"
          ],
          [
           "Niederhasli"
          ],
          [
           "Erstfeld"
          ],
          [
           "Niedergösgen"
          ],
          [
           "Freienbach"
          ],
          [
           "Siglistorf"
          ],
          [
           "Schwellbrunn"
          ],
          [
           "Choulex"
          ],
          [
           "Plasselb"
          ],
          [
           "Grossaffoltern"
          ],
          [
           "Chêne-Bourg"
          ],
          [
           "Bözen"
          ],
          [
           "Truttikon"
          ],
          [
           "Aedermannsdorf"
          ],
          [
           "Ménières"
          ],
          [
           "Ursins"
          ],
          [
           "Eisten"
          ],
          [
           "Monteggio"
          ],
          [
           "Wald (AR)"
          ],
          [
           "Kappel (SO)"
          ],
          [
           "Astano"
          ],
          [
           "Realp"
          ],
          [
           "Lengwil"
          ],
          [
           "Treyvaux"
          ],
          [
           "Château-d'Oex"
          ],
          [
           "Grosshöchstetten"
          ],
          [
           "Eggiwil"
          ],
          [
           "Villorsonnens"
          ],
          [
           "Gretzenbach"
          ],
          [
           "Evolène"
          ],
          [
           "Saint-Légier-La Chiésaz"
          ],
          [
           "Heitenried"
          ],
          [
           "Bürglen (TG)"
          ],
          [
           "Féchy"
          ],
          [
           "Mörigen"
          ],
          [
           "Reinach (BL)"
          ],
          [
           "Liedertswil"
          ]
         ],
         "hovertemplate": "True Y=1.0<br>% Yes=%{x}<br>Error=%{y}<br>Municipality=%{customdata[0]}<extra></extra>",
         "legendgroup": "1.0",
         "marker": {
          "color": "#636efa",
          "symbol": "circle"
         },
         "mode": "markers",
         "name": "1.0",
         "orientation": "v",
         "showlegend": true,
         "type": "scatter",
         "x": [
          55,
          50.4,
          62.8,
          68.1,
          66.5,
          64.5,
          63.5,
          60.1,
          53.7,
          60.4,
          54.5,
          64.9,
          59.4,
          54.4,
          55,
          61.6,
          62.2,
          53.3,
          52.8,
          52.5,
          69.2,
          63.9,
          55.3,
          55.2,
          66.7,
          66.9,
          55.6,
          52.2,
          67.3,
          61.8,
          58.9,
          66.1,
          50.7,
          58.2,
          50.7,
          61.1,
          53.9,
          51.6,
          56.6,
          54.1,
          64.4,
          58.7,
          51.5,
          50.3,
          77.6,
          59.8,
          64,
          64.8,
          78.9,
          63.5,
          65.1,
          55.2,
          50.5,
          50.7,
          59.3,
          61,
          55.2,
          63,
          60.4,
          53.5,
          60.7,
          60.6,
          58.5,
          58.5,
          66.7,
          53.1,
          65.2,
          56.8,
          59.8,
          55.8,
          65.9,
          62.8,
          56.3,
          56.7,
          59,
          60.2,
          50.2,
          63.4,
          56.7,
          55.9,
          55.4,
          59.6,
          60.6,
          60.9,
          57.5,
          62.9,
          60.4,
          50.2,
          65.2,
          55.9,
          54.1,
          63.3,
          72.2,
          68.1,
          63.8,
          63.7,
          54.6,
          63.5,
          63.9,
          66.4,
          59.4,
          51.9,
          52.4,
          52.4,
          53.4,
          65.1,
          54.4,
          61.4,
          59.6,
          68.5,
          54.8,
          57.1,
          63.7,
          61.8,
          54.8,
          62.5,
          54.5,
          60.3,
          60.6,
          56,
          56.2,
          60.7,
          59.1,
          69.4,
          78.5,
          59.1,
          61.4,
          66.5,
          55.7,
          71.2,
          61.7,
          55.2,
          51.8,
          61.1,
          58.9,
          64.3,
          53.3,
          64.8,
          64.4,
          67.4,
          57.1,
          58.2,
          65.1,
          61.8,
          53.4,
          62.3,
          81.1,
          57,
          53.3,
          51.7,
          64.8,
          64.2,
          68,
          58.5,
          51.1,
          58.2,
          63,
          60.3,
          56.9,
          66.5,
          61.8,
          50.8,
          69.3,
          53.9,
          51.7,
          65.8,
          56.1,
          64.6,
          62.7,
          51,
          63.3,
          65.4,
          51.2,
          55.4,
          54.8,
          58.9,
          50.7,
          64.4,
          59.7,
          50.6,
          69.9,
          69.7,
          55.5,
          66.4,
          52,
          57.8,
          61.2,
          53.5,
          62.8,
          54.9,
          70.4
         ],
         "xaxis": "x",
         "y": [
          null,
          null,
          null,
          null,
          null,
          null,
          null,
          null,
          null,
          null,
          null,
          null,
          null,
          null,
          null,
          null,
          null,
          null,
          0,
          null,
          null,
          null,
          null,
          null,
          null,
          null,
          0,
          null,
          null,
          null,
          null,
          null,
          0,
          null,
          null,
          null,
          null,
          null,
          null,
          null,
          null,
          null,
          null,
          null,
          null,
          null,
          null,
          null,
          null,
          null,
          null,
          null,
          null,
          null,
          null,
          null,
          null,
          null,
          null,
          null,
          null,
          null,
          null,
          null,
          null,
          null,
          null,
          0,
          null,
          null,
          null,
          null,
          null,
          null,
          null,
          null,
          null,
          null,
          null,
          null,
          null,
          null,
          null,
          null,
          null,
          null,
          null,
          null,
          null,
          null,
          null,
          null,
          null,
          null,
          null,
          null,
          null,
          0,
          null,
          null,
          null,
          null,
          null,
          null,
          null,
          null,
          null,
          null,
          null,
          0,
          null,
          null,
          null,
          null,
          null,
          null,
          null,
          null,
          null,
          null,
          null,
          null,
          null,
          null,
          null,
          null,
          null,
          null,
          null,
          null,
          0,
          null,
          0,
          null,
          null,
          null,
          null,
          0,
          null,
          null,
          null,
          null,
          null,
          0,
          null,
          null,
          null,
          null,
          null,
          0,
          null,
          null,
          null,
          0,
          null,
          1,
          null,
          null,
          null,
          null,
          null,
          null,
          null,
          0,
          null,
          null,
          0,
          null,
          null,
          null,
          null,
          null,
          null,
          null,
          null,
          null,
          null,
          null,
          null,
          null,
          null,
          null,
          null,
          null,
          null,
          null,
          null,
          null,
          null,
          null,
          null
         ],
         "yaxis": "y"
        },
        {
         "customdata": [
          [
           "Safiental"
          ],
          [
           "Ziefen"
          ],
          [
           "Maur"
          ],
          [
           "Begnins"
          ],
          [
           "Bätterkinden"
          ],
          [
           "Fürstenau"
          ],
          [
           "Apples"
          ],
          [
           "Schelten"
          ],
          [
           "Ittigen"
          ],
          [
           "Muri (AG)"
          ],
          [
           "Veyrier"
          ],
          [
           "Schwerzenbach"
          ],
          [
           "Lutry"
          ],
          [
           "Genève"
          ],
          [
           "Unterbäch"
          ],
          [
           "Richterswil"
          ],
          [
           "Ennetbaden"
          ],
          [
           "Pregny-Chambésy"
          ],
          [
           "Onsernone"
          ],
          [
           "Bedigliora"
          ],
          [
           "Wettswil am Albis"
          ],
          [
           "Hedingen"
          ],
          [
           "La Chaux-de-Fonds"
          ],
          [
           "Carouge (GE)"
          ],
          [
           "Mauraz"
          ],
          [
           "Rheinfelden"
          ]
         ],
         "hovertemplate": "True Y=0.0<br>% Yes=%{x}<br>Error=%{y}<br>Municipality=%{customdata[0]}<extra></extra>",
         "legendgroup": "0.0",
         "marker": {
          "color": "#EF553B",
          "symbol": "circle"
         },
         "mode": "markers",
         "name": "0.0",
         "orientation": "v",
         "showlegend": true,
         "type": "scatter",
         "x": [
          47.4,
          48.3,
          50,
          49.2,
          47.7,
          49.2,
          49.2,
          48.1,
          47.1,
          49.4,
          49,
          46.6,
          50,
          44.8,
          46.5,
          48.1,
          30.9,
          48,
          49.1,
          48.1,
          46.6,
          46.1,
          49.7,
          43.4,
          40.6,
          49.2
         ],
         "xaxis": "x",
         "y": [
          null,
          null,
          0,
          null,
          null,
          null,
          null,
          null,
          1,
          null,
          null,
          1,
          null,
          null,
          null,
          1,
          null,
          null,
          null,
          null,
          0,
          1,
          null,
          null,
          null,
          null
         ],
         "yaxis": "y"
        }
       ],
       "layout": {
        "legend": {
         "title": {
          "text": "True Y"
         },
         "tracegroupgap": 0
        },
        "template": {
         "data": {
          "bar": [
           {
            "error_x": {
             "color": "#2a3f5f"
            },
            "error_y": {
             "color": "#2a3f5f"
            },
            "marker": {
             "line": {
              "color": "#E5ECF6",
              "width": 0.5
             },
             "pattern": {
              "fillmode": "overlay",
              "size": 10,
              "solidity": 0.2
             }
            },
            "type": "bar"
           }
          ],
          "barpolar": [
           {
            "marker": {
             "line": {
              "color": "#E5ECF6",
              "width": 0.5
             },
             "pattern": {
              "fillmode": "overlay",
              "size": 10,
              "solidity": 0.2
             }
            },
            "type": "barpolar"
           }
          ],
          "carpet": [
           {
            "aaxis": {
             "endlinecolor": "#2a3f5f",
             "gridcolor": "white",
             "linecolor": "white",
             "minorgridcolor": "white",
             "startlinecolor": "#2a3f5f"
            },
            "baxis": {
             "endlinecolor": "#2a3f5f",
             "gridcolor": "white",
             "linecolor": "white",
             "minorgridcolor": "white",
             "startlinecolor": "#2a3f5f"
            },
            "type": "carpet"
           }
          ],
          "choropleth": [
           {
            "colorbar": {
             "outlinewidth": 0,
             "ticks": ""
            },
            "type": "choropleth"
           }
          ],
          "contour": [
           {
            "colorbar": {
             "outlinewidth": 0,
             "ticks": ""
            },
            "colorscale": [
             [
              0,
              "#0d0887"
             ],
             [
              0.1111111111111111,
              "#46039f"
             ],
             [
              0.2222222222222222,
              "#7201a8"
             ],
             [
              0.3333333333333333,
              "#9c179e"
             ],
             [
              0.4444444444444444,
              "#bd3786"
             ],
             [
              0.5555555555555556,
              "#d8576b"
             ],
             [
              0.6666666666666666,
              "#ed7953"
             ],
             [
              0.7777777777777778,
              "#fb9f3a"
             ],
             [
              0.8888888888888888,
              "#fdca26"
             ],
             [
              1,
              "#f0f921"
             ]
            ],
            "type": "contour"
           }
          ],
          "contourcarpet": [
           {
            "colorbar": {
             "outlinewidth": 0,
             "ticks": ""
            },
            "type": "contourcarpet"
           }
          ],
          "heatmap": [
           {
            "colorbar": {
             "outlinewidth": 0,
             "ticks": ""
            },
            "colorscale": [
             [
              0,
              "#0d0887"
             ],
             [
              0.1111111111111111,
              "#46039f"
             ],
             [
              0.2222222222222222,
              "#7201a8"
             ],
             [
              0.3333333333333333,
              "#9c179e"
             ],
             [
              0.4444444444444444,
              "#bd3786"
             ],
             [
              0.5555555555555556,
              "#d8576b"
             ],
             [
              0.6666666666666666,
              "#ed7953"
             ],
             [
              0.7777777777777778,
              "#fb9f3a"
             ],
             [
              0.8888888888888888,
              "#fdca26"
             ],
             [
              1,
              "#f0f921"
             ]
            ],
            "type": "heatmap"
           }
          ],
          "heatmapgl": [
           {
            "colorbar": {
             "outlinewidth": 0,
             "ticks": ""
            },
            "colorscale": [
             [
              0,
              "#0d0887"
             ],
             [
              0.1111111111111111,
              "#46039f"
             ],
             [
              0.2222222222222222,
              "#7201a8"
             ],
             [
              0.3333333333333333,
              "#9c179e"
             ],
             [
              0.4444444444444444,
              "#bd3786"
             ],
             [
              0.5555555555555556,
              "#d8576b"
             ],
             [
              0.6666666666666666,
              "#ed7953"
             ],
             [
              0.7777777777777778,
              "#fb9f3a"
             ],
             [
              0.8888888888888888,
              "#fdca26"
             ],
             [
              1,
              "#f0f921"
             ]
            ],
            "type": "heatmapgl"
           }
          ],
          "histogram": [
           {
            "marker": {
             "pattern": {
              "fillmode": "overlay",
              "size": 10,
              "solidity": 0.2
             }
            },
            "type": "histogram"
           }
          ],
          "histogram2d": [
           {
            "colorbar": {
             "outlinewidth": 0,
             "ticks": ""
            },
            "colorscale": [
             [
              0,
              "#0d0887"
             ],
             [
              0.1111111111111111,
              "#46039f"
             ],
             [
              0.2222222222222222,
              "#7201a8"
             ],
             [
              0.3333333333333333,
              "#9c179e"
             ],
             [
              0.4444444444444444,
              "#bd3786"
             ],
             [
              0.5555555555555556,
              "#d8576b"
             ],
             [
              0.6666666666666666,
              "#ed7953"
             ],
             [
              0.7777777777777778,
              "#fb9f3a"
             ],
             [
              0.8888888888888888,
              "#fdca26"
             ],
             [
              1,
              "#f0f921"
             ]
            ],
            "type": "histogram2d"
           }
          ],
          "histogram2dcontour": [
           {
            "colorbar": {
             "outlinewidth": 0,
             "ticks": ""
            },
            "colorscale": [
             [
              0,
              "#0d0887"
             ],
             [
              0.1111111111111111,
              "#46039f"
             ],
             [
              0.2222222222222222,
              "#7201a8"
             ],
             [
              0.3333333333333333,
              "#9c179e"
             ],
             [
              0.4444444444444444,
              "#bd3786"
             ],
             [
              0.5555555555555556,
              "#d8576b"
             ],
             [
              0.6666666666666666,
              "#ed7953"
             ],
             [
              0.7777777777777778,
              "#fb9f3a"
             ],
             [
              0.8888888888888888,
              "#fdca26"
             ],
             [
              1,
              "#f0f921"
             ]
            ],
            "type": "histogram2dcontour"
           }
          ],
          "mesh3d": [
           {
            "colorbar": {
             "outlinewidth": 0,
             "ticks": ""
            },
            "type": "mesh3d"
           }
          ],
          "parcoords": [
           {
            "line": {
             "colorbar": {
              "outlinewidth": 0,
              "ticks": ""
             }
            },
            "type": "parcoords"
           }
          ],
          "pie": [
           {
            "automargin": true,
            "type": "pie"
           }
          ],
          "scatter": [
           {
            "marker": {
             "colorbar": {
              "outlinewidth": 0,
              "ticks": ""
             }
            },
            "type": "scatter"
           }
          ],
          "scatter3d": [
           {
            "line": {
             "colorbar": {
              "outlinewidth": 0,
              "ticks": ""
             }
            },
            "marker": {
             "colorbar": {
              "outlinewidth": 0,
              "ticks": ""
             }
            },
            "type": "scatter3d"
           }
          ],
          "scattercarpet": [
           {
            "marker": {
             "colorbar": {
              "outlinewidth": 0,
              "ticks": ""
             }
            },
            "type": "scattercarpet"
           }
          ],
          "scattergeo": [
           {
            "marker": {
             "colorbar": {
              "outlinewidth": 0,
              "ticks": ""
             }
            },
            "type": "scattergeo"
           }
          ],
          "scattergl": [
           {
            "marker": {
             "colorbar": {
              "outlinewidth": 0,
              "ticks": ""
             }
            },
            "type": "scattergl"
           }
          ],
          "scattermapbox": [
           {
            "marker": {
             "colorbar": {
              "outlinewidth": 0,
              "ticks": ""
             }
            },
            "type": "scattermapbox"
           }
          ],
          "scatterpolar": [
           {
            "marker": {
             "colorbar": {
              "outlinewidth": 0,
              "ticks": ""
             }
            },
            "type": "scatterpolar"
           }
          ],
          "scatterpolargl": [
           {
            "marker": {
             "colorbar": {
              "outlinewidth": 0,
              "ticks": ""
             }
            },
            "type": "scatterpolargl"
           }
          ],
          "scatterternary": [
           {
            "marker": {
             "colorbar": {
              "outlinewidth": 0,
              "ticks": ""
             }
            },
            "type": "scatterternary"
           }
          ],
          "surface": [
           {
            "colorbar": {
             "outlinewidth": 0,
             "ticks": ""
            },
            "colorscale": [
             [
              0,
              "#0d0887"
             ],
             [
              0.1111111111111111,
              "#46039f"
             ],
             [
              0.2222222222222222,
              "#7201a8"
             ],
             [
              0.3333333333333333,
              "#9c179e"
             ],
             [
              0.4444444444444444,
              "#bd3786"
             ],
             [
              0.5555555555555556,
              "#d8576b"
             ],
             [
              0.6666666666666666,
              "#ed7953"
             ],
             [
              0.7777777777777778,
              "#fb9f3a"
             ],
             [
              0.8888888888888888,
              "#fdca26"
             ],
             [
              1,
              "#f0f921"
             ]
            ],
            "type": "surface"
           }
          ],
          "table": [
           {
            "cells": {
             "fill": {
              "color": "#EBF0F8"
             },
             "line": {
              "color": "white"
             }
            },
            "header": {
             "fill": {
              "color": "#C8D4E3"
             },
             "line": {
              "color": "white"
             }
            },
            "type": "table"
           }
          ]
         },
         "layout": {
          "annotationdefaults": {
           "arrowcolor": "#2a3f5f",
           "arrowhead": 0,
           "arrowwidth": 1
          },
          "autotypenumbers": "strict",
          "coloraxis": {
           "colorbar": {
            "outlinewidth": 0,
            "ticks": ""
           }
          },
          "colorscale": {
           "diverging": [
            [
             0,
             "#8e0152"
            ],
            [
             0.1,
             "#c51b7d"
            ],
            [
             0.2,
             "#de77ae"
            ],
            [
             0.3,
             "#f1b6da"
            ],
            [
             0.4,
             "#fde0ef"
            ],
            [
             0.5,
             "#f7f7f7"
            ],
            [
             0.6,
             "#e6f5d0"
            ],
            [
             0.7,
             "#b8e186"
            ],
            [
             0.8,
             "#7fbc41"
            ],
            [
             0.9,
             "#4d9221"
            ],
            [
             1,
             "#276419"
            ]
           ],
           "sequential": [
            [
             0,
             "#0d0887"
            ],
            [
             0.1111111111111111,
             "#46039f"
            ],
            [
             0.2222222222222222,
             "#7201a8"
            ],
            [
             0.3333333333333333,
             "#9c179e"
            ],
            [
             0.4444444444444444,
             "#bd3786"
            ],
            [
             0.5555555555555556,
             "#d8576b"
            ],
            [
             0.6666666666666666,
             "#ed7953"
            ],
            [
             0.7777777777777778,
             "#fb9f3a"
            ],
            [
             0.8888888888888888,
             "#fdca26"
            ],
            [
             1,
             "#f0f921"
            ]
           ],
           "sequentialminus": [
            [
             0,
             "#0d0887"
            ],
            [
             0.1111111111111111,
             "#46039f"
            ],
            [
             0.2222222222222222,
             "#7201a8"
            ],
            [
             0.3333333333333333,
             "#9c179e"
            ],
            [
             0.4444444444444444,
             "#bd3786"
            ],
            [
             0.5555555555555556,
             "#d8576b"
            ],
            [
             0.6666666666666666,
             "#ed7953"
            ],
            [
             0.7777777777777778,
             "#fb9f3a"
            ],
            [
             0.8888888888888888,
             "#fdca26"
            ],
            [
             1,
             "#f0f921"
            ]
           ]
          },
          "colorway": [
           "#636efa",
           "#EF553B",
           "#00cc96",
           "#ab63fa",
           "#FFA15A",
           "#19d3f3",
           "#FF6692",
           "#B6E880",
           "#FF97FF",
           "#FECB52"
          ],
          "font": {
           "color": "#2a3f5f"
          },
          "geo": {
           "bgcolor": "white",
           "lakecolor": "white",
           "landcolor": "#E5ECF6",
           "showlakes": true,
           "showland": true,
           "subunitcolor": "white"
          },
          "hoverlabel": {
           "align": "left"
          },
          "hovermode": "closest",
          "mapbox": {
           "style": "light"
          },
          "paper_bgcolor": "white",
          "plot_bgcolor": "#E5ECF6",
          "polar": {
           "angularaxis": {
            "gridcolor": "white",
            "linecolor": "white",
            "ticks": ""
           },
           "bgcolor": "#E5ECF6",
           "radialaxis": {
            "gridcolor": "white",
            "linecolor": "white",
            "ticks": ""
           }
          },
          "scene": {
           "xaxis": {
            "backgroundcolor": "#E5ECF6",
            "gridcolor": "white",
            "gridwidth": 2,
            "linecolor": "white",
            "showbackground": true,
            "ticks": "",
            "zerolinecolor": "white"
           },
           "yaxis": {
            "backgroundcolor": "#E5ECF6",
            "gridcolor": "white",
            "gridwidth": 2,
            "linecolor": "white",
            "showbackground": true,
            "ticks": "",
            "zerolinecolor": "white"
           },
           "zaxis": {
            "backgroundcolor": "#E5ECF6",
            "gridcolor": "white",
            "gridwidth": 2,
            "linecolor": "white",
            "showbackground": true,
            "ticks": "",
            "zerolinecolor": "white"
           }
          },
          "shapedefaults": {
           "line": {
            "color": "#2a3f5f"
           }
          },
          "ternary": {
           "aaxis": {
            "gridcolor": "white",
            "linecolor": "white",
            "ticks": ""
           },
           "baxis": {
            "gridcolor": "white",
            "linecolor": "white",
            "ticks": ""
           },
           "bgcolor": "#E5ECF6",
           "caxis": {
            "gridcolor": "white",
            "linecolor": "white",
            "ticks": ""
           }
          },
          "title": {
           "x": 0.05
          },
          "xaxis": {
           "automargin": true,
           "gridcolor": "white",
           "linecolor": "white",
           "ticks": "",
           "title": {
            "standoff": 15
           },
           "zerolinecolor": "white",
           "zerolinewidth": 2
          },
          "yaxis": {
           "automargin": true,
           "gridcolor": "white",
           "linecolor": "white",
           "ticks": "",
           "title": {
            "standoff": 15
           },
           "zerolinecolor": "white",
           "zerolinewidth": 2
          }
         }
        },
        "title": {
         "text": "% Yes & Error Rate"
        },
        "xaxis": {
         "anchor": "y",
         "domain": [
          0,
          1
         ],
         "title": {
          "text": "% Yes"
         }
        },
        "yaxis": {
         "anchor": "x",
         "domain": [
          0,
          1
         ],
         "title": {
          "text": "Error"
         }
        }
       }
      },
      "text/html": [
       "<div>                            <div id=\"2976d0e7-ec9f-44f1-9d90-fd442163b716\" class=\"plotly-graph-div\" style=\"height:525px; width:100%;\"></div>            <script type=\"text/javascript\">                require([\"plotly\"], function(Plotly) {                    window.PLOTLYENV=window.PLOTLYENV || {};                                    if (document.getElementById(\"2976d0e7-ec9f-44f1-9d90-fd442163b716\")) {                    Plotly.newPlot(                        \"2976d0e7-ec9f-44f1-9d90-fd442163b716\",                        [{\"customdata\":[[\"Bretonni\\u00e8res\"],[\"Mies\"],[\"Ropraz\"],[\"Hergiswil bei Willisau\"],[\"Pont-en-Ogoz\"],[\"Valeyres-sous-Ursins\"],[\"K\\u00fcblis\"],[\"Sierre\"],[\"Granges-Paccot\"],[\"Amlikon-Bissegg\"],[\"Saubraz\"],[\"Bodio\"],[\"W\\u00fcrenlingen\"],[\"Wenslingen\"],[\"Engelberg\"],[\"Zwingen\"],[\"Savi\\u00e8se\"],[\"L\\u00fcterkofen-Ichertswil\"],[\"Kappel am Albis\"],[\"Bogis-Bossey\"],[\"Petit-Val\"],[\"Menznau\"],[\"Gansingen\"],[\"Lostorf\"],[\"Mauborget\"],[\"Forst-L\\u00e4ngenb\\u00fchl\"],[\"D\\u00fcrnten\"],[\"Oberwil (BL)\"],[\"Novazzano\"],[\"Eiken\"],[\"Mollens (VD)\"],[\"M\\u00fcmliswil-Ramiswil\"],[\"Ottenbach\"],[\"Turtmann-Unterems\"],[\"Weggis\"],[\"Dietwil\"],[\"Gingins\"],[\"Presinge\"],[\"Kaisten\"],[\"Ammerswil\"],[\"Hornussen\"],[\"Lens\"],[\"Konolfingen\"],[\"M\\u00f6rel-Filet\"],[\"Schangnau\"],[\"Sarmenstorf\"],[\"Biasca\"],[\"Bremblens\"],[\"Eschert\"],[\"Le B\\u00e9mont (JU)\"],[\"H\\u00e4rkingen\"],[\"Berom\\u00fcnster\"],[\"Riedholz\"],[\"Herzogenbuchsee\"],[\"Fontenais\"],[\"Wimmis\"],[\"Boudry\"],[\"Cort\\u00e9bert\"],[\"Hohenrain\"],[\"Therwil\"],[\"R\\u00fcdtligen-Alchenfl\\u00fch\"],[\"Porza\"],[\"Comano\"],[\"M\\u00fcllheim\"],[\"Bioggio\"],[\"Luterbach\"],[\"Courchapoix\"],[\"R\\u00fctschelen\"],[\"Innertkirchen\"],[\"Gilly\"],[\"Riviera\"],[\"B\\u00fcrglen (UR)\"],[\"Klosters\"],[\"Augst\"],[\"Ueberstorf\"],[\"Oberwil-Lieli\"],[\"Fislisbach\"],[\"Mergoscia\"],[\"Bois-d'Amont\"],[\"Leuk\"],[\"Wald (BE)\"],[\"Einsiedeln\"],[\"Huttwil\"],[\"Gambarogno\"],[\"Hindelbank\"],[\"Rothrist\"],[\"Albinen\"],[\"Goms\"],[\"Vallorbe\"],[\"Orbe\"],[\"Laufenburg\"],[\"Wegenstetten\"],[\"Staffelbach\"],[\"Coeuve\"],[\"Unterlangenegg\"],[\"Tramelan\"],[\"Les Genevez (JU)\"],[\"Tr\\u00fcllikon\"],[\"Conthey\"],[\"Blenio\"],[\"Baldingen\"],[\"Oberlunkhofen\"],[\"Sargans\"],[\"Vullierens\"],[\"Centovalli\"],[\"Rougemont\"],[\"Perroy\"],[\"Lenk\"],[\"Oberwil bei B\\u00fcren\"],[\"Busswil bei Melchnau\"],[\"T\\u00e4uffelen\"],[\"Dalpe\"],[\"Coldrerio\"],[\"Steinen\"],[\"Eschenz\"],[\"Brienzwiler\"],[\"Morcote\"],[\"Beatenberg\"],[\"Lignerolle\"],[\"Trimmis\"],[\"Allaman\"],[\"B\\u00fcron\"],[\"Heimiswil\"],[\"Valbirse\"],[\"Rothenthurm\"],[\"Remaufens\"],[\"H\\u00e4gendorf\"],[\"B\\u00fcttikon\"],[\"Sion\"],[\"Mirchel\"],[\"Sch\\u00f6fflisdorf\"],[\"H\\u00e4gglingen\"],[\"Egg\"],[\"Basadingen-Schlattingen\"],[\"Bichelsee-Balterswil\"],[\"Alchenstorf\"],[\"Buchs (SG)\"],[\"Hochfelden\"],[\"Avenches\"],[\"Studen (BE)\"],[\"Kleinb\\u00f6singen\"],[\"Ettingen\"],[\"Scheuren\"],[\"D\\u00e4nikon\"],[\"Meiringen\"],[\"Dallenwil\"],[\"Alpthal\"],[\"Bergdietikon\"],[\"Ehrendingen\"],[\"Herrliberg\"],[\"Dozwil\"],[\"Le Chenit\"],[\"Sorvilier\"],[\"Steinmaur\"],[\"Milvignes\"],[\"Niederhasli\"],[\"Erstfeld\"],[\"Niederg\\u00f6sgen\"],[\"Freienbach\"],[\"Siglistorf\"],[\"Schwellbrunn\"],[\"Choulex\"],[\"Plasselb\"],[\"Grossaffoltern\"],[\"Ch\\u00eane-Bourg\"],[\"B\\u00f6zen\"],[\"Truttikon\"],[\"Aedermannsdorf\"],[\"M\\u00e9ni\\u00e8res\"],[\"Ursins\"],[\"Eisten\"],[\"Monteggio\"],[\"Wald (AR)\"],[\"Kappel (SO)\"],[\"Astano\"],[\"Realp\"],[\"Lengwil\"],[\"Treyvaux\"],[\"Ch\\u00e2teau-d'Oex\"],[\"Grossh\\u00f6chstetten\"],[\"Eggiwil\"],[\"Villorsonnens\"],[\"Gretzenbach\"],[\"Evol\\u00e8ne\"],[\"Saint-L\\u00e9gier-La Chi\\u00e9saz\"],[\"Heitenried\"],[\"B\\u00fcrglen (TG)\"],[\"F\\u00e9chy\"],[\"M\\u00f6rigen\"],[\"Reinach (BL)\"],[\"Liedertswil\"]],\"hovertemplate\":\"True Y=1.0<br>% Yes=%{x}<br>Error=%{y}<br>Municipality=%{customdata[0]}<extra></extra>\",\"legendgroup\":\"1.0\",\"marker\":{\"color\":\"#636efa\",\"symbol\":\"circle\"},\"mode\":\"markers\",\"name\":\"1.0\",\"orientation\":\"v\",\"showlegend\":true,\"x\":[55.0,50.4,62.8,68.1,66.5,64.5,63.5,60.1,53.7,60.4,54.5,64.9,59.4,54.4,55.0,61.6,62.2,53.3,52.8,52.5,69.2,63.9,55.3,55.2,66.7,66.9,55.6,52.2,67.3,61.8,58.9,66.1,50.7,58.2,50.7,61.1,53.9,51.6,56.6,54.1,64.4,58.7,51.5,50.3,77.6,59.8,64.0,64.8,78.9,63.5,65.1,55.2,50.5,50.7,59.3,61.0,55.2,63.0,60.4,53.5,60.7,60.6,58.5,58.5,66.7,53.1,65.2,56.8,59.8,55.8,65.9,62.8,56.3,56.7,59.0,60.2,50.2,63.4,56.7,55.9,55.4,59.6,60.6,60.9,57.5,62.9,60.4,50.2,65.2,55.9,54.1,63.3,72.2,68.1,63.8,63.7,54.6,63.5,63.9,66.4,59.4,51.9,52.4,52.4,53.4,65.1,54.4,61.4,59.6,68.5,54.8,57.1,63.7,61.8,54.8,62.5,54.5,60.3,60.6,56.0,56.2,60.7,59.1,69.4,78.5,59.1,61.4,66.5,55.7,71.2,61.7,55.2,51.8,61.1,58.9,64.3,53.3,64.8,64.4,67.4,57.1,58.2,65.1,61.8,53.4,62.3,81.1,57.0,53.3,51.7,64.8,64.2,68.0,58.5,51.1,58.2,63.0,60.3,56.9,66.5,61.8,50.8,69.3,53.9,51.7,65.8,56.1,64.6,62.7,51.0,63.3,65.4,51.2,55.4,54.8,58.9,50.7,64.4,59.7,50.6,69.9,69.7,55.5,66.4,52.0,57.8,61.2,53.5,62.8,54.9,70.4],\"xaxis\":\"x\",\"y\":[null,null,null,null,null,null,null,null,null,null,null,null,null,null,null,null,null,null,0.0,null,null,null,null,null,null,null,0.0,null,null,null,null,null,0.0,null,null,null,null,null,null,null,null,null,null,null,null,null,null,null,null,null,null,null,null,null,null,null,null,null,null,null,null,null,null,null,null,null,null,0.0,null,null,null,null,null,null,null,null,null,null,null,null,null,null,null,null,null,null,null,null,null,null,null,null,null,null,null,null,null,0.0,null,null,null,null,null,null,null,null,null,null,null,0.0,null,null,null,null,null,null,null,null,null,null,null,null,null,null,null,null,null,null,null,null,0.0,null,0.0,null,null,null,null,0.0,null,null,null,null,null,0.0,null,null,null,null,null,0.0,null,null,null,0.0,null,1.0,null,null,null,null,null,null,null,0.0,null,null,0.0,null,null,null,null,null,null,null,null,null,null,null,null,null,null,null,null,null,null,null,null,null,null,null,null],\"yaxis\":\"y\",\"type\":\"scatter\"},{\"customdata\":[[\"Safiental\"],[\"Ziefen\"],[\"Maur\"],[\"Begnins\"],[\"B\\u00e4tterkinden\"],[\"F\\u00fcrstenau\"],[\"Apples\"],[\"Schelten\"],[\"Ittigen\"],[\"Muri (AG)\"],[\"Veyrier\"],[\"Schwerzenbach\"],[\"Lutry\"],[\"Gen\\u00e8ve\"],[\"Unterb\\u00e4ch\"],[\"Richterswil\"],[\"Ennetbaden\"],[\"Pregny-Chamb\\u00e9sy\"],[\"Onsernone\"],[\"Bedigliora\"],[\"Wettswil am Albis\"],[\"Hedingen\"],[\"La Chaux-de-Fonds\"],[\"Carouge (GE)\"],[\"Mauraz\"],[\"Rheinfelden\"]],\"hovertemplate\":\"True Y=0.0<br>% Yes=%{x}<br>Error=%{y}<br>Municipality=%{customdata[0]}<extra></extra>\",\"legendgroup\":\"0.0\",\"marker\":{\"color\":\"#EF553B\",\"symbol\":\"circle\"},\"mode\":\"markers\",\"name\":\"0.0\",\"orientation\":\"v\",\"showlegend\":true,\"x\":[47.4,48.3,50.0,49.2,47.7,49.2,49.2,48.1,47.1,49.4,49.0,46.6,50.0,44.8,46.5,48.1,30.9,48.0,49.1,48.1,46.6,46.1,49.7,43.4,40.6,49.2],\"xaxis\":\"x\",\"y\":[null,null,0.0,null,null,null,null,null,1.0,null,null,1.0,null,null,null,1.0,null,null,null,null,0.0,1.0,null,null,null,null],\"yaxis\":\"y\",\"type\":\"scatter\"}],                        {\"template\":{\"data\":{\"bar\":[{\"error_x\":{\"color\":\"#2a3f5f\"},\"error_y\":{\"color\":\"#2a3f5f\"},\"marker\":{\"line\":{\"color\":\"#E5ECF6\",\"width\":0.5},\"pattern\":{\"fillmode\":\"overlay\",\"size\":10,\"solidity\":0.2}},\"type\":\"bar\"}],\"barpolar\":[{\"marker\":{\"line\":{\"color\":\"#E5ECF6\",\"width\":0.5},\"pattern\":{\"fillmode\":\"overlay\",\"size\":10,\"solidity\":0.2}},\"type\":\"barpolar\"}],\"carpet\":[{\"aaxis\":{\"endlinecolor\":\"#2a3f5f\",\"gridcolor\":\"white\",\"linecolor\":\"white\",\"minorgridcolor\":\"white\",\"startlinecolor\":\"#2a3f5f\"},\"baxis\":{\"endlinecolor\":\"#2a3f5f\",\"gridcolor\":\"white\",\"linecolor\":\"white\",\"minorgridcolor\":\"white\",\"startlinecolor\":\"#2a3f5f\"},\"type\":\"carpet\"}],\"choropleth\":[{\"colorbar\":{\"outlinewidth\":0,\"ticks\":\"\"},\"type\":\"choropleth\"}],\"contour\":[{\"colorbar\":{\"outlinewidth\":0,\"ticks\":\"\"},\"colorscale\":[[0.0,\"#0d0887\"],[0.1111111111111111,\"#46039f\"],[0.2222222222222222,\"#7201a8\"],[0.3333333333333333,\"#9c179e\"],[0.4444444444444444,\"#bd3786\"],[0.5555555555555556,\"#d8576b\"],[0.6666666666666666,\"#ed7953\"],[0.7777777777777778,\"#fb9f3a\"],[0.8888888888888888,\"#fdca26\"],[1.0,\"#f0f921\"]],\"type\":\"contour\"}],\"contourcarpet\":[{\"colorbar\":{\"outlinewidth\":0,\"ticks\":\"\"},\"type\":\"contourcarpet\"}],\"heatmap\":[{\"colorbar\":{\"outlinewidth\":0,\"ticks\":\"\"},\"colorscale\":[[0.0,\"#0d0887\"],[0.1111111111111111,\"#46039f\"],[0.2222222222222222,\"#7201a8\"],[0.3333333333333333,\"#9c179e\"],[0.4444444444444444,\"#bd3786\"],[0.5555555555555556,\"#d8576b\"],[0.6666666666666666,\"#ed7953\"],[0.7777777777777778,\"#fb9f3a\"],[0.8888888888888888,\"#fdca26\"],[1.0,\"#f0f921\"]],\"type\":\"heatmap\"}],\"heatmapgl\":[{\"colorbar\":{\"outlinewidth\":0,\"ticks\":\"\"},\"colorscale\":[[0.0,\"#0d0887\"],[0.1111111111111111,\"#46039f\"],[0.2222222222222222,\"#7201a8\"],[0.3333333333333333,\"#9c179e\"],[0.4444444444444444,\"#bd3786\"],[0.5555555555555556,\"#d8576b\"],[0.6666666666666666,\"#ed7953\"],[0.7777777777777778,\"#fb9f3a\"],[0.8888888888888888,\"#fdca26\"],[1.0,\"#f0f921\"]],\"type\":\"heatmapgl\"}],\"histogram\":[{\"marker\":{\"pattern\":{\"fillmode\":\"overlay\",\"size\":10,\"solidity\":0.2}},\"type\":\"histogram\"}],\"histogram2d\":[{\"colorbar\":{\"outlinewidth\":0,\"ticks\":\"\"},\"colorscale\":[[0.0,\"#0d0887\"],[0.1111111111111111,\"#46039f\"],[0.2222222222222222,\"#7201a8\"],[0.3333333333333333,\"#9c179e\"],[0.4444444444444444,\"#bd3786\"],[0.5555555555555556,\"#d8576b\"],[0.6666666666666666,\"#ed7953\"],[0.7777777777777778,\"#fb9f3a\"],[0.8888888888888888,\"#fdca26\"],[1.0,\"#f0f921\"]],\"type\":\"histogram2d\"}],\"histogram2dcontour\":[{\"colorbar\":{\"outlinewidth\":0,\"ticks\":\"\"},\"colorscale\":[[0.0,\"#0d0887\"],[0.1111111111111111,\"#46039f\"],[0.2222222222222222,\"#7201a8\"],[0.3333333333333333,\"#9c179e\"],[0.4444444444444444,\"#bd3786\"],[0.5555555555555556,\"#d8576b\"],[0.6666666666666666,\"#ed7953\"],[0.7777777777777778,\"#fb9f3a\"],[0.8888888888888888,\"#fdca26\"],[1.0,\"#f0f921\"]],\"type\":\"histogram2dcontour\"}],\"mesh3d\":[{\"colorbar\":{\"outlinewidth\":0,\"ticks\":\"\"},\"type\":\"mesh3d\"}],\"parcoords\":[{\"line\":{\"colorbar\":{\"outlinewidth\":0,\"ticks\":\"\"}},\"type\":\"parcoords\"}],\"pie\":[{\"automargin\":true,\"type\":\"pie\"}],\"scatter\":[{\"marker\":{\"colorbar\":{\"outlinewidth\":0,\"ticks\":\"\"}},\"type\":\"scatter\"}],\"scatter3d\":[{\"line\":{\"colorbar\":{\"outlinewidth\":0,\"ticks\":\"\"}},\"marker\":{\"colorbar\":{\"outlinewidth\":0,\"ticks\":\"\"}},\"type\":\"scatter3d\"}],\"scattercarpet\":[{\"marker\":{\"colorbar\":{\"outlinewidth\":0,\"ticks\":\"\"}},\"type\":\"scattercarpet\"}],\"scattergeo\":[{\"marker\":{\"colorbar\":{\"outlinewidth\":0,\"ticks\":\"\"}},\"type\":\"scattergeo\"}],\"scattergl\":[{\"marker\":{\"colorbar\":{\"outlinewidth\":0,\"ticks\":\"\"}},\"type\":\"scattergl\"}],\"scattermapbox\":[{\"marker\":{\"colorbar\":{\"outlinewidth\":0,\"ticks\":\"\"}},\"type\":\"scattermapbox\"}],\"scatterpolar\":[{\"marker\":{\"colorbar\":{\"outlinewidth\":0,\"ticks\":\"\"}},\"type\":\"scatterpolar\"}],\"scatterpolargl\":[{\"marker\":{\"colorbar\":{\"outlinewidth\":0,\"ticks\":\"\"}},\"type\":\"scatterpolargl\"}],\"scatterternary\":[{\"marker\":{\"colorbar\":{\"outlinewidth\":0,\"ticks\":\"\"}},\"type\":\"scatterternary\"}],\"surface\":[{\"colorbar\":{\"outlinewidth\":0,\"ticks\":\"\"},\"colorscale\":[[0.0,\"#0d0887\"],[0.1111111111111111,\"#46039f\"],[0.2222222222222222,\"#7201a8\"],[0.3333333333333333,\"#9c179e\"],[0.4444444444444444,\"#bd3786\"],[0.5555555555555556,\"#d8576b\"],[0.6666666666666666,\"#ed7953\"],[0.7777777777777778,\"#fb9f3a\"],[0.8888888888888888,\"#fdca26\"],[1.0,\"#f0f921\"]],\"type\":\"surface\"}],\"table\":[{\"cells\":{\"fill\":{\"color\":\"#EBF0F8\"},\"line\":{\"color\":\"white\"}},\"header\":{\"fill\":{\"color\":\"#C8D4E3\"},\"line\":{\"color\":\"white\"}},\"type\":\"table\"}]},\"layout\":{\"annotationdefaults\":{\"arrowcolor\":\"#2a3f5f\",\"arrowhead\":0,\"arrowwidth\":1},\"autotypenumbers\":\"strict\",\"coloraxis\":{\"colorbar\":{\"outlinewidth\":0,\"ticks\":\"\"}},\"colorscale\":{\"diverging\":[[0,\"#8e0152\"],[0.1,\"#c51b7d\"],[0.2,\"#de77ae\"],[0.3,\"#f1b6da\"],[0.4,\"#fde0ef\"],[0.5,\"#f7f7f7\"],[0.6,\"#e6f5d0\"],[0.7,\"#b8e186\"],[0.8,\"#7fbc41\"],[0.9,\"#4d9221\"],[1,\"#276419\"]],\"sequential\":[[0.0,\"#0d0887\"],[0.1111111111111111,\"#46039f\"],[0.2222222222222222,\"#7201a8\"],[0.3333333333333333,\"#9c179e\"],[0.4444444444444444,\"#bd3786\"],[0.5555555555555556,\"#d8576b\"],[0.6666666666666666,\"#ed7953\"],[0.7777777777777778,\"#fb9f3a\"],[0.8888888888888888,\"#fdca26\"],[1.0,\"#f0f921\"]],\"sequentialminus\":[[0.0,\"#0d0887\"],[0.1111111111111111,\"#46039f\"],[0.2222222222222222,\"#7201a8\"],[0.3333333333333333,\"#9c179e\"],[0.4444444444444444,\"#bd3786\"],[0.5555555555555556,\"#d8576b\"],[0.6666666666666666,\"#ed7953\"],[0.7777777777777778,\"#fb9f3a\"],[0.8888888888888888,\"#fdca26\"],[1.0,\"#f0f921\"]]},\"colorway\":[\"#636efa\",\"#EF553B\",\"#00cc96\",\"#ab63fa\",\"#FFA15A\",\"#19d3f3\",\"#FF6692\",\"#B6E880\",\"#FF97FF\",\"#FECB52\"],\"font\":{\"color\":\"#2a3f5f\"},\"geo\":{\"bgcolor\":\"white\",\"lakecolor\":\"white\",\"landcolor\":\"#E5ECF6\",\"showlakes\":true,\"showland\":true,\"subunitcolor\":\"white\"},\"hoverlabel\":{\"align\":\"left\"},\"hovermode\":\"closest\",\"mapbox\":{\"style\":\"light\"},\"paper_bgcolor\":\"white\",\"plot_bgcolor\":\"#E5ECF6\",\"polar\":{\"angularaxis\":{\"gridcolor\":\"white\",\"linecolor\":\"white\",\"ticks\":\"\"},\"bgcolor\":\"#E5ECF6\",\"radialaxis\":{\"gridcolor\":\"white\",\"linecolor\":\"white\",\"ticks\":\"\"}},\"scene\":{\"xaxis\":{\"backgroundcolor\":\"#E5ECF6\",\"gridcolor\":\"white\",\"gridwidth\":2,\"linecolor\":\"white\",\"showbackground\":true,\"ticks\":\"\",\"zerolinecolor\":\"white\"},\"yaxis\":{\"backgroundcolor\":\"#E5ECF6\",\"gridcolor\":\"white\",\"gridwidth\":2,\"linecolor\":\"white\",\"showbackground\":true,\"ticks\":\"\",\"zerolinecolor\":\"white\"},\"zaxis\":{\"backgroundcolor\":\"#E5ECF6\",\"gridcolor\":\"white\",\"gridwidth\":2,\"linecolor\":\"white\",\"showbackground\":true,\"ticks\":\"\",\"zerolinecolor\":\"white\"}},\"shapedefaults\":{\"line\":{\"color\":\"#2a3f5f\"}},\"ternary\":{\"aaxis\":{\"gridcolor\":\"white\",\"linecolor\":\"white\",\"ticks\":\"\"},\"baxis\":{\"gridcolor\":\"white\",\"linecolor\":\"white\",\"ticks\":\"\"},\"bgcolor\":\"#E5ECF6\",\"caxis\":{\"gridcolor\":\"white\",\"linecolor\":\"white\",\"ticks\":\"\"}},\"title\":{\"x\":0.05},\"xaxis\":{\"automargin\":true,\"gridcolor\":\"white\",\"linecolor\":\"white\",\"ticks\":\"\",\"title\":{\"standoff\":15},\"zerolinecolor\":\"white\",\"zerolinewidth\":2},\"yaxis\":{\"automargin\":true,\"gridcolor\":\"white\",\"linecolor\":\"white\",\"ticks\":\"\",\"title\":{\"standoff\":15},\"zerolinecolor\":\"white\",\"zerolinewidth\":2}}},\"xaxis\":{\"anchor\":\"y\",\"domain\":[0.0,1.0],\"title\":{\"text\":\"% Yes\"}},\"yaxis\":{\"anchor\":\"x\",\"domain\":[0.0,1.0],\"title\":{\"text\":\"Error\"}},\"legend\":{\"title\":{\"text\":\"True Y\"},\"tracegroupgap\":0},\"title\":{\"text\":\"% Yes & Error Rate\"}},                        {\"responsive\": true}                    ).then(function(){\n",
       "                            \n",
       "var gd = document.getElementById('2976d0e7-ec9f-44f1-9d90-fd442163b716');\n",
       "var x = new MutationObserver(function (mutations, observer) {{\n",
       "        var display = window.getComputedStyle(gd).display;\n",
       "        if (!display || display === 'none') {{\n",
       "            console.log([gd, 'removed!']);\n",
       "            Plotly.purge(gd);\n",
       "            observer.disconnect();\n",
       "        }}\n",
       "}});\n",
       "\n",
       "// Listen for the removal of the full notebook cells\n",
       "var notebookContainer = gd.closest('#notebook-container');\n",
       "if (notebookContainer) {{\n",
       "    x.observe(notebookContainer, {childList: true});\n",
       "}}\n",
       "\n",
       "// Listen for the clearing of the current output cell\n",
       "var outputEl = gd.closest('.output');\n",
       "if (outputEl) {{\n",
       "    x.observe(outputEl, {childList: true});\n",
       "}}\n",
       "\n",
       "                        })                };                });            </script>        </div>"
      ]
     },
     "metadata": {},
     "output_type": "display_data"
    }
   ],
   "source": [
    "# Plot % Yes & Error\n",
    "plts.plot_yes_perc_error(X_test_all, y_test, y_pred_lg) "
   ]
  },
  {
   "cell_type": "markdown",
   "metadata": {},
   "source": [
    "#### KNN"
   ]
  },
  {
   "cell_type": "code",
   "execution_count": 74,
   "metadata": {},
   "outputs": [],
   "source": [
    "# Find best k for KNN model\n",
    "best_k_dict, accuracies = ea.knn_analysis_hp(X_train, X_dev, y_train, y_dev)\n",
    "best_k = best_k_dict[\"max_k\"]"
   ]
  },
  {
   "cell_type": "code",
   "execution_count": 75,
   "metadata": {},
   "outputs": [],
   "source": [
    "# Plot k vs accuracy - Move Pavan's code to function from knn_analysis.py"
   ]
  },
  {
   "cell_type": "code",
   "execution_count": 76,
   "metadata": {},
   "outputs": [],
   "source": [
    "# Make prediction with best k\n",
    "\n",
    "# !TO MOVE TO A FUNCTION\n",
    "classifier = KNeighborsClassifier(n_neighbors=best_k)\n",
    "classifier.fit(X_train, y_train)\n",
    "y_pred_knn = classifier.predict(X_test)"
   ]
  },
  {
   "cell_type": "code",
   "execution_count": 77,
   "metadata": {},
   "outputs": [
    {
     "name": "stdout",
     "output_type": "stream",
     "text": [
      "Accuracy:  0.9032258064516129\n",
      "F score:  0.9468354430379746\n",
      "Classification report: \n",
      "               precision    recall  f1-score   support\n",
      "\n",
      "         0.0       0.69      0.35      0.46        26\n",
      "         1.0       0.92      0.98      0.95       191\n",
      "\n",
      "    accuracy                           0.90       217\n",
      "   macro avg       0.80      0.66      0.70       217\n",
      "weighted avg       0.89      0.90      0.89       217\n",
      "\n"
     ]
    }
   ],
   "source": [
    "# Accuracy & F-Score\n",
    "print(\"Accuracy: \", accuracy_score(y_test, y_pred_knn))\n",
    "print(\"F score: \", f1_score(y_test, y_pred_knn))\n",
    "print(\"Classification report: \\n\", classification_report(y_test, y_pred_knn))"
   ]
  },
  {
   "cell_type": "code",
   "execution_count": 78,
   "metadata": {},
   "outputs": [
    {
     "data": {
      "text/plain": [
       "<sklearn.metrics._plot.confusion_matrix.ConfusionMatrixDisplay at 0x7fa72972b2e0>"
      ]
     },
     "execution_count": 78,
     "metadata": {},
     "output_type": "execute_result"
    },
    {
     "data": {
      "image/png": "[encoded data removed]",
      "text/plain": [
       "<Figure size 432x288 with 2 Axes>"
      ]
     },
     "metadata": {
      "needs_background": "light"
     },
     "output_type": "display_data"
    }
   ],
   "source": [
    "# Confusion matrix\n",
    "cm = confusion_matrix(y_test, y_pred_knn)\n",
    "ConfusionMatrixDisplay(cm, display_labels=labels).plot()"
   ]
  },
  {
   "cell_type": "code",
   "execution_count": 79,
   "metadata": {},
   "outputs": [
    {
     "data": {
      "application/vnd.plotly.v1+json": {
       "config": {
        "plotlyServerURL": "https://plot.ly"
       },
       "data": [
        {
         "customdata": [
          [
           "Bretonnières"
          ],
          [
           "Mies"
          ],
          [
           "Ropraz"
          ],
          [
           "Hergiswil bei Willisau"
          ],
          [
           "Pont-en-Ogoz"
          ],
          [
           "Valeyres-sous-Ursins"
          ],
          [
           "Küblis"
          ],
          [
           "Sierre"
          ],
          [
           "Granges-Paccot"
          ],
          [
           "Amlikon-Bissegg"
          ],
          [
           "Saubraz"
          ],
          [
           "Bodio"
          ],
          [
           "Würenlingen"
          ],
          [
           "Wenslingen"
          ],
          [
           "Engelberg"
          ],
          [
           "Zwingen"
          ],
          [
           "Savièse"
          ],
          [
           "Lüterkofen-Ichertswil"
          ],
          [
           "Kappel am Albis"
          ],
          [
           "Bogis-Bossey"
          ],
          [
           "Petit-Val"
          ],
          [
           "Menznau"
          ],
          [
           "Gansingen"
          ],
          [
           "Lostorf"
          ],
          [
           "Mauborget"
          ],
          [
           "Forst-Längenbühl"
          ],
          [
           "Dürnten"
          ],
          [
           "Oberwil (BL)"
          ],
          [
           "Novazzano"
          ],
          [
           "Eiken"
          ],
          [
           "Mollens (VD)"
          ],
          [
           "Mümliswil-Ramiswil"
          ],
          [
           "Ottenbach"
          ],
          [
           "Turtmann-Unterems"
          ],
          [
           "Weggis"
          ],
          [
           "Dietwil"
          ],
          [
           "Gingins"
          ],
          [
           "Presinge"
          ],
          [
           "Kaisten"
          ],
          [
           "Ammerswil"
          ],
          [
           "Hornussen"
          ],
          [
           "Lens"
          ],
          [
           "Konolfingen"
          ],
          [
           "Mörel-Filet"
          ],
          [
           "Schangnau"
          ],
          [
           "Sarmenstorf"
          ],
          [
           "Biasca"
          ],
          [
           "Bremblens"
          ],
          [
           "Eschert"
          ],
          [
           "Le Bémont (JU)"
          ],
          [
           "Härkingen"
          ],
          [
           "Beromünster"
          ],
          [
           "Riedholz"
          ],
          [
           "Herzogenbuchsee"
          ],
          [
           "Fontenais"
          ],
          [
           "Wimmis"
          ],
          [
           "Boudry"
          ],
          [
           "Cortébert"
          ],
          [
           "Hohenrain"
          ],
          [
           "Therwil"
          ],
          [
           "Rüdtligen-Alchenflüh"
          ],
          [
           "Porza"
          ],
          [
           "Comano"
          ],
          [
           "Müllheim"
          ],
          [
           "Bioggio"
          ],
          [
           "Luterbach"
          ],
          [
           "Courchapoix"
          ],
          [
           "Rütschelen"
          ],
          [
           "Innertkirchen"
          ],
          [
           "Gilly"
          ],
          [
           "Riviera"
          ],
          [
           "Bürglen (UR)"
          ],
          [
           "Klosters"
          ],
          [
           "Augst"
          ],
          [
           "Ueberstorf"
          ],
          [
           "Oberwil-Lieli"
          ],
          [
           "Fislisbach"
          ],
          [
           "Mergoscia"
          ],
          [
           "Bois-d'Amont"
          ],
          [
           "Leuk"
          ],
          [
           "Wald (BE)"
          ],
          [
           "Einsiedeln"
          ],
          [
           "Huttwil"
          ],
          [
           "Gambarogno"
          ],
          [
           "Hindelbank"
          ],
          [
           "Rothrist"
          ],
          [
           "Albinen"
          ],
          [
           "Goms"
          ],
          [
           "Vallorbe"
          ],
          [
           "Orbe"
          ],
          [
           "Laufenburg"
          ],
          [
           "Wegenstetten"
          ],
          [
           "Staffelbach"
          ],
          [
           "Coeuve"
          ],
          [
           "Unterlangenegg"
          ],
          [
           "Tramelan"
          ],
          [
           "Les Genevez (JU)"
          ],
          [
           "Trüllikon"
          ],
          [
           "Conthey"
          ],
          [
           "Blenio"
          ],
          [
           "Baldingen"
          ],
          [
           "Oberlunkhofen"
          ],
          [
           "Sargans"
          ],
          [
           "Vullierens"
          ],
          [
           "Centovalli"
          ],
          [
           "Rougemont"
          ],
          [
           "Perroy"
          ],
          [
           "Lenk"
          ],
          [
           "Oberwil bei Büren"
          ],
          [
           "Busswil bei Melchnau"
          ],
          [
           "Täuffelen"
          ],
          [
           "Dalpe"
          ],
          [
           "Coldrerio"
          ],
          [
           "Steinen"
          ],
          [
           "Eschenz"
          ],
          [
           "Brienzwiler"
          ],
          [
           "Morcote"
          ],
          [
           "Beatenberg"
          ],
          [
           "Lignerolle"
          ],
          [
           "Trimmis"
          ],
          [
           "Allaman"
          ],
          [
           "Büron"
          ],
          [
           "Heimiswil"
          ],
          [
           "Valbirse"
          ],
          [
           "Rothenthurm"
          ],
          [
           "Remaufens"
          ],
          [
           "Hägendorf"
          ],
          [
           "Büttikon"
          ],
          [
           "Sion"
          ],
          [
           "Mirchel"
          ],
          [
           "Schöfflisdorf"
          ],
          [
           "Hägglingen"
          ],
          [
           "Egg"
          ],
          [
           "Basadingen-Schlattingen"
          ],
          [
           "Bichelsee-Balterswil"
          ],
          [
           "Alchenstorf"
          ],
          [
           "Buchs (SG)"
          ],
          [
           "Hochfelden"
          ],
          [
           "Avenches"
          ],
          [
           "Studen (BE)"
          ],
          [
           "Kleinbösingen"
          ],
          [
           "Ettingen"
          ],
          [
           "Scheuren"
          ],
          [
           "Dänikon"
          ],
          [
           "Meiringen"
          ],
          [
           "Dallenwil"
          ],
          [
           "Alpthal"
          ],
          [
           "Bergdietikon"
          ],
          [
           "Ehrendingen"
          ],
          [
           "Herrliberg"
          ],
          [
           "Dozwil"
          ],
          [
           "Le Chenit"
          ],
          [
           "Sorvilier"
          ],
          [
           "Steinmaur"
          ],
          [
           "Milvignes"
          ],
          [
           "Niederhasli"
          ],
          [
           "Erstfeld"
          ],
          [
           "Niedergösgen"
          ],
          [
           "Freienbach"
          ],
          [
           "Siglistorf"
          ],
          [
           "Schwellbrunn"
          ],
          [
           "Choulex"
          ],
          [
           "Plasselb"
          ],
          [
           "Grossaffoltern"
          ],
          [
           "Chêne-Bourg"
          ],
          [
           "Bözen"
          ],
          [
           "Truttikon"
          ],
          [
           "Aedermannsdorf"
          ],
          [
           "Ménières"
          ],
          [
           "Ursins"
          ],
          [
           "Eisten"
          ],
          [
           "Monteggio"
          ],
          [
           "Wald (AR)"
          ],
          [
           "Kappel (SO)"
          ],
          [
           "Astano"
          ],
          [
           "Realp"
          ],
          [
           "Lengwil"
          ],
          [
           "Treyvaux"
          ],
          [
           "Château-d'Oex"
          ],
          [
           "Grosshöchstetten"
          ],
          [
           "Eggiwil"
          ],
          [
           "Villorsonnens"
          ],
          [
           "Gretzenbach"
          ],
          [
           "Evolène"
          ],
          [
           "Saint-Légier-La Chiésaz"
          ],
          [
           "Heitenried"
          ],
          [
           "Bürglen (TG)"
          ],
          [
           "Féchy"
          ],
          [
           "Mörigen"
          ],
          [
           "Reinach (BL)"
          ],
          [
           "Liedertswil"
          ]
         ],
         "hovertemplate": "True Y=1.0<br>% Yes=%{x}<br>Error=%{y}<br>Municipality=%{customdata[0]}<extra></extra>",
         "legendgroup": "1.0",
         "marker": {
          "color": "#636efa",
          "symbol": "circle"
         },
         "mode": "markers",
         "name": "1.0",
         "orientation": "v",
         "showlegend": true,
         "type": "scatter",
         "x": [
          55,
          50.4,
          62.8,
          68.1,
          66.5,
          64.5,
          63.5,
          60.1,
          53.7,
          60.4,
          54.5,
          64.9,
          59.4,
          54.4,
          55,
          61.6,
          62.2,
          53.3,
          52.8,
          52.5,
          69.2,
          63.9,
          55.3,
          55.2,
          66.7,
          66.9,
          55.6,
          52.2,
          67.3,
          61.8,
          58.9,
          66.1,
          50.7,
          58.2,
          50.7,
          61.1,
          53.9,
          51.6,
          56.6,
          54.1,
          64.4,
          58.7,
          51.5,
          50.3,
          77.6,
          59.8,
          64,
          64.8,
          78.9,
          63.5,
          65.1,
          55.2,
          50.5,
          50.7,
          59.3,
          61,
          55.2,
          63,
          60.4,
          53.5,
          60.7,
          60.6,
          58.5,
          58.5,
          66.7,
          53.1,
          65.2,
          56.8,
          59.8,
          55.8,
          65.9,
          62.8,
          56.3,
          56.7,
          59,
          60.2,
          50.2,
          63.4,
          56.7,
          55.9,
          55.4,
          59.6,
          60.6,
          60.9,
          57.5,
          62.9,
          60.4,
          50.2,
          65.2,
          55.9,
          54.1,
          63.3,
          72.2,
          68.1,
          63.8,
          63.7,
          54.6,
          63.5,
          63.9,
          66.4,
          59.4,
          51.9,
          52.4,
          52.4,
          53.4,
          65.1,
          54.4,
          61.4,
          59.6,
          68.5,
          54.8,
          57.1,
          63.7,
          61.8,
          54.8,
          62.5,
          54.5,
          60.3,
          60.6,
          56,
          56.2,
          60.7,
          59.1,
          69.4,
          78.5,
          59.1,
          61.4,
          66.5,
          55.7,
          71.2,
          61.7,
          55.2,
          51.8,
          61.1,
          58.9,
          64.3,
          53.3,
          64.8,
          64.4,
          67.4,
          57.1,
          58.2,
          65.1,
          61.8,
          53.4,
          62.3,
          81.1,
          57,
          53.3,
          51.7,
          64.8,
          64.2,
          68,
          58.5,
          51.1,
          58.2,
          63,
          60.3,
          56.9,
          66.5,
          61.8,
          50.8,
          69.3,
          53.9,
          51.7,
          65.8,
          56.1,
          64.6,
          62.7,
          51,
          63.3,
          65.4,
          51.2,
          55.4,
          54.8,
          58.9,
          50.7,
          64.4,
          59.7,
          50.6,
          69.9,
          69.7,
          55.5,
          66.4,
          52,
          57.8,
          61.2,
          53.5,
          62.8,
          54.9,
          70.4
         ],
         "xaxis": "x",
         "y": [
          null,
          null,
          null,
          null,
          null,
          null,
          null,
          null,
          null,
          null,
          null,
          null,
          null,
          null,
          null,
          null,
          null,
          null,
          0,
          null,
          null,
          null,
          null,
          null,
          null,
          null,
          0,
          null,
          null,
          null,
          null,
          null,
          0,
          null,
          null,
          null,
          null,
          null,
          null,
          null,
          null,
          null,
          null,
          null,
          null,
          null,
          null,
          null,
          null,
          null,
          null,
          null,
          null,
          null,
          null,
          null,
          null,
          null,
          null,
          null,
          null,
          null,
          null,
          null,
          null,
          null,
          null,
          0,
          null,
          null,
          null,
          null,
          null,
          null,
          null,
          null,
          null,
          null,
          null,
          null,
          null,
          null,
          null,
          null,
          null,
          null,
          null,
          null,
          null,
          null,
          null,
          null,
          null,
          null,
          null,
          null,
          null,
          0,
          null,
          null,
          null,
          null,
          null,
          null,
          null,
          null,
          null,
          null,
          null,
          0,
          null,
          null,
          null,
          null,
          null,
          null,
          null,
          null,
          null,
          null,
          null,
          null,
          null,
          null,
          null,
          null,
          null,
          null,
          null,
          null,
          0,
          null,
          0,
          null,
          null,
          null,
          null,
          0,
          null,
          null,
          null,
          null,
          null,
          0,
          null,
          null,
          null,
          null,
          null,
          0,
          null,
          null,
          null,
          0,
          null,
          1,
          null,
          null,
          null,
          null,
          null,
          null,
          null,
          0,
          null,
          null,
          0,
          null,
          null,
          null,
          null,
          null,
          null,
          null,
          null,
          null,
          null,
          null,
          null,
          null,
          null,
          null,
          null,
          null,
          null,
          null,
          null,
          null,
          null,
          null,
          null
         ],
         "yaxis": "y"
        },
        {
         "customdata": [
          [
           "Safiental"
          ],
          [
           "Ziefen"
          ],
          [
           "Maur"
          ],
          [
           "Begnins"
          ],
          [
           "Bätterkinden"
          ],
          [
           "Fürstenau"
          ],
          [
           "Apples"
          ],
          [
           "Schelten"
          ],
          [
           "Ittigen"
          ],
          [
           "Muri (AG)"
          ],
          [
           "Veyrier"
          ],
          [
           "Schwerzenbach"
          ],
          [
           "Lutry"
          ],
          [
           "Genève"
          ],
          [
           "Unterbäch"
          ],
          [
           "Richterswil"
          ],
          [
           "Ennetbaden"
          ],
          [
           "Pregny-Chambésy"
          ],
          [
           "Onsernone"
          ],
          [
           "Bedigliora"
          ],
          [
           "Wettswil am Albis"
          ],
          [
           "Hedingen"
          ],
          [
           "La Chaux-de-Fonds"
          ],
          [
           "Carouge (GE)"
          ],
          [
           "Mauraz"
          ],
          [
           "Rheinfelden"
          ]
         ],
         "hovertemplate": "True Y=0.0<br>% Yes=%{x}<br>Error=%{y}<br>Municipality=%{customdata[0]}<extra></extra>",
         "legendgroup": "0.0",
         "marker": {
          "color": "#EF553B",
          "symbol": "circle"
         },
         "mode": "markers",
         "name": "0.0",
         "orientation": "v",
         "showlegend": true,
         "type": "scatter",
         "x": [
          47.4,
          48.3,
          50,
          49.2,
          47.7,
          49.2,
          49.2,
          48.1,
          47.1,
          49.4,
          49,
          46.6,
          50,
          44.8,
          46.5,
          48.1,
          30.9,
          48,
          49.1,
          48.1,
          46.6,
          46.1,
          49.7,
          43.4,
          40.6,
          49.2
         ],
         "xaxis": "x",
         "y": [
          null,
          null,
          1,
          null,
          null,
          null,
          null,
          null,
          1,
          null,
          null,
          1,
          null,
          null,
          null,
          1,
          null,
          null,
          null,
          null,
          1,
          1,
          null,
          null,
          null,
          null
         ],
         "yaxis": "y"
        }
       ],
       "layout": {
        "legend": {
         "title": {
          "text": "True Y"
         },
         "tracegroupgap": 0
        },
        "template": {
         "data": {
          "bar": [
           {
            "error_x": {
             "color": "#2a3f5f"
            },
            "error_y": {
             "color": "#2a3f5f"
            },
            "marker": {
             "line": {
              "color": "#E5ECF6",
              "width": 0.5
             },
             "pattern": {
              "fillmode": "overlay",
              "size": 10,
              "solidity": 0.2
             }
            },
            "type": "bar"
           }
          ],
          "barpolar": [
           {
            "marker": {
             "line": {
              "color": "#E5ECF6",
              "width": 0.5
             },
             "pattern": {
              "fillmode": "overlay",
              "size": 10,
              "solidity": 0.2
             }
            },
            "type": "barpolar"
           }
          ],
          "carpet": [
           {
            "aaxis": {
             "endlinecolor": "#2a3f5f",
             "gridcolor": "white",
             "linecolor": "white",
             "minorgridcolor": "white",
             "startlinecolor": "#2a3f5f"
            },
            "baxis": {
             "endlinecolor": "#2a3f5f",
             "gridcolor": "white",
             "linecolor": "white",
             "minorgridcolor": "white",
             "startlinecolor": "#2a3f5f"
            },
            "type": "carpet"
           }
          ],
          "choropleth": [
           {
            "colorbar": {
             "outlinewidth": 0,
             "ticks": ""
            },
            "type": "choropleth"
           }
          ],
          "contour": [
           {
            "colorbar": {
             "outlinewidth": 0,
             "ticks": ""
            },
            "colorscale": [
             [
              0,
              "#0d0887"
             ],
             [
              0.1111111111111111,
              "#46039f"
             ],
             [
              0.2222222222222222,
              "#7201a8"
             ],
             [
              0.3333333333333333,
              "#9c179e"
             ],
             [
              0.4444444444444444,
              "#bd3786"
             ],
             [
              0.5555555555555556,
              "#d8576b"
             ],
             [
              0.6666666666666666,
              "#ed7953"
             ],
             [
              0.7777777777777778,
              "#fb9f3a"
             ],
             [
              0.8888888888888888,
              "#fdca26"
             ],
             [
              1,
              "#f0f921"
             ]
            ],
            "type": "contour"
           }
          ],
          "contourcarpet": [
           {
            "colorbar": {
             "outlinewidth": 0,
             "ticks": ""
            },
            "type": "contourcarpet"
           }
          ],
          "heatmap": [
           {
            "colorbar": {
             "outlinewidth": 0,
             "ticks": ""
            },
            "colorscale": [
             [
              0,
              "#0d0887"
             ],
             [
              0.1111111111111111,
              "#46039f"
             ],
             [
              0.2222222222222222,
              "#7201a8"
             ],
             [
              0.3333333333333333,
              "#9c179e"
             ],
             [
              0.4444444444444444,
              "#bd3786"
             ],
             [
              0.5555555555555556,
              "#d8576b"
             ],
             [
              0.6666666666666666,
              "#ed7953"
             ],
             [
              0.7777777777777778,
              "#fb9f3a"
             ],
             [
              0.8888888888888888,
              "#fdca26"
             ],
             [
              1,
              "#f0f921"
             ]
            ],
            "type": "heatmap"
           }
          ],
          "heatmapgl": [
           {
            "colorbar": {
             "outlinewidth": 0,
             "ticks": ""
            },
            "colorscale": [
             [
              0,
              "#0d0887"
             ],
             [
              0.1111111111111111,
              "#46039f"
             ],
             [
              0.2222222222222222,
              "#7201a8"
             ],
             [
              0.3333333333333333,
              "#9c179e"
             ],
             [
              0.4444444444444444,
              "#bd3786"
             ],
             [
              0.5555555555555556,
              "#d8576b"
             ],
             [
              0.6666666666666666,
              "#ed7953"
             ],
             [
              0.7777777777777778,
              "#fb9f3a"
             ],
             [
              0.8888888888888888,
              "#fdca26"
             ],
             [
              1,
              "#f0f921"
             ]
            ],
            "type": "heatmapgl"
           }
          ],
          "histogram": [
           {
            "marker": {
             "pattern": {
              "fillmode": "overlay",
              "size": 10,
              "solidity": 0.2
             }
            },
            "type": "histogram"
           }
          ],
          "histogram2d": [
           {
            "colorbar": {
             "outlinewidth": 0,
             "ticks": ""
            },
            "colorscale": [
             [
              0,
              "#0d0887"
             ],
             [
              0.1111111111111111,
              "#46039f"
             ],
             [
              0.2222222222222222,
              "#7201a8"
             ],
             [
              0.3333333333333333,
              "#9c179e"
             ],
             [
              0.4444444444444444,
              "#bd3786"
             ],
             [
              0.5555555555555556,
              "#d8576b"
             ],
             [
              0.6666666666666666,
              "#ed7953"
             ],
             [
              0.7777777777777778,
              "#fb9f3a"
             ],
             [
              0.8888888888888888,
              "#fdca26"
             ],
             [
              1,
              "#f0f921"
             ]
            ],
            "type": "histogram2d"
           }
          ],
          "histogram2dcontour": [
           {
            "colorbar": {
             "outlinewidth": 0,
             "ticks": ""
            },
            "colorscale": [
             [
              0,
              "#0d0887"
             ],
             [
              0.1111111111111111,
              "#46039f"
             ],
             [
              0.2222222222222222,
              "#7201a8"
             ],
             [
              0.3333333333333333,
              "#9c179e"
             ],
             [
              0.4444444444444444,
              "#bd3786"
             ],
             [
              0.5555555555555556,
              "#d8576b"
             ],
             [
              0.6666666666666666,
              "#ed7953"
             ],
             [
              0.7777777777777778,
              "#fb9f3a"
             ],
             [
              0.8888888888888888,
              "#fdca26"
             ],
             [
              1,
              "#f0f921"
             ]
            ],
            "type": "histogram2dcontour"
           }
          ],
          "mesh3d": [
           {
            "colorbar": {
             "outlinewidth": 0,
             "ticks": ""
            },
            "type": "mesh3d"
           }
          ],
          "parcoords": [
           {
            "line": {
             "colorbar": {
              "outlinewidth": 0,
              "ticks": ""
             }
            },
            "type": "parcoords"
           }
          ],
          "pie": [
           {
            "automargin": true,
            "type": "pie"
           }
          ],
          "scatter": [
           {
            "marker": {
             "colorbar": {
              "outlinewidth": 0,
              "ticks": ""
             }
            },
            "type": "scatter"
           }
          ],
          "scatter3d": [
           {
            "line": {
             "colorbar": {
              "outlinewidth": 0,
              "ticks": ""
             }
            },
            "marker": {
             "colorbar": {
              "outlinewidth": 0,
              "ticks": ""
             }
            },
            "type": "scatter3d"
           }
          ],
          "scattercarpet": [
           {
            "marker": {
             "colorbar": {
              "outlinewidth": 0,
              "ticks": ""
             }
            },
            "type": "scattercarpet"
           }
          ],
          "scattergeo": [
           {
            "marker": {
             "colorbar": {
              "outlinewidth": 0,
              "ticks": ""
             }
            },
            "type": "scattergeo"
           }
          ],
          "scattergl": [
           {
            "marker": {
             "colorbar": {
              "outlinewidth": 0,
              "ticks": ""
             }
            },
            "type": "scattergl"
           }
          ],
          "scattermapbox": [
           {
            "marker": {
             "colorbar": {
              "outlinewidth": 0,
              "ticks": ""
             }
            },
            "type": "scattermapbox"
           }
          ],
          "scatterpolar": [
           {
            "marker": {
             "colorbar": {
              "outlinewidth": 0,
              "ticks": ""
             }
            },
            "type": "scatterpolar"
           }
          ],
          "scatterpolargl": [
           {
            "marker": {
             "colorbar": {
              "outlinewidth": 0,
              "ticks": ""
             }
            },
            "type": "scatterpolargl"
           }
          ],
          "scatterternary": [
           {
            "marker": {
             "colorbar": {
              "outlinewidth": 0,
              "ticks": ""
             }
            },
            "type": "scatterternary"
           }
          ],
          "surface": [
           {
            "colorbar": {
             "outlinewidth": 0,
             "ticks": ""
            },
            "colorscale": [
             [
              0,
              "#0d0887"
             ],
             [
              0.1111111111111111,
              "#46039f"
             ],
             [
              0.2222222222222222,
              "#7201a8"
             ],
             [
              0.3333333333333333,
              "#9c179e"
             ],
             [
              0.4444444444444444,
              "#bd3786"
             ],
             [
              0.5555555555555556,
              "#d8576b"
             ],
             [
              0.6666666666666666,
              "#ed7953"
             ],
             [
              0.7777777777777778,
              "#fb9f3a"
             ],
             [
              0.8888888888888888,
              "#fdca26"
             ],
             [
              1,
              "#f0f921"
             ]
            ],
            "type": "surface"
           }
          ],
          "table": [
           {
            "cells": {
             "fill": {
              "color": "#EBF0F8"
             },
             "line": {
              "color": "white"
             }
            },
            "header": {
             "fill": {
              "color": "#C8D4E3"
             },
             "line": {
              "color": "white"
             }
            },
            "type": "table"
           }
          ]
         },
         "layout": {
          "annotationdefaults": {
           "arrowcolor": "#2a3f5f",
           "arrowhead": 0,
           "arrowwidth": 1
          },
          "autotypenumbers": "strict",
          "coloraxis": {
           "colorbar": {
            "outlinewidth": 0,
            "ticks": ""
           }
          },
          "colorscale": {
           "diverging": [
            [
             0,
             "#8e0152"
            ],
            [
             0.1,
             "#c51b7d"
            ],
            [
             0.2,
             "#de77ae"
            ],
            [
             0.3,
             "#f1b6da"
            ],
            [
             0.4,
             "#fde0ef"
            ],
            [
             0.5,
             "#f7f7f7"
            ],
            [
             0.6,
             "#e6f5d0"
            ],
            [
             0.7,
             "#b8e186"
            ],
            [
             0.8,
             "#7fbc41"
            ],
            [
             0.9,
             "#4d9221"
            ],
            [
             1,
             "#276419"
            ]
           ],
           "sequential": [
            [
             0,
             "#0d0887"
            ],
            [
             0.1111111111111111,
             "#46039f"
            ],
            [
             0.2222222222222222,
             "#7201a8"
            ],
            [
             0.3333333333333333,
             "#9c179e"
            ],
            [
             0.4444444444444444,
             "#bd3786"
            ],
            [
             0.5555555555555556,
             "#d8576b"
            ],
            [
             0.6666666666666666,
             "#ed7953"
            ],
            [
             0.7777777777777778,
             "#fb9f3a"
            ],
            [
             0.8888888888888888,
             "#fdca26"
            ],
            [
             1,
             "#f0f921"
            ]
           ],
           "sequentialminus": [
            [
             0,
             "#0d0887"
            ],
            [
             0.1111111111111111,
             "#46039f"
            ],
            [
             0.2222222222222222,
             "#7201a8"
            ],
            [
             0.3333333333333333,
             "#9c179e"
            ],
            [
             0.4444444444444444,
             "#bd3786"
            ],
            [
             0.5555555555555556,
             "#d8576b"
            ],
            [
             0.6666666666666666,
             "#ed7953"
            ],
            [
             0.7777777777777778,
             "#fb9f3a"
            ],
            [
             0.8888888888888888,
             "#fdca26"
            ],
            [
             1,
             "#f0f921"
            ]
           ]
          },
          "colorway": [
           "#636efa",
           "#EF553B",
           "#00cc96",
           "#ab63fa",
           "#FFA15A",
           "#19d3f3",
           "#FF6692",
           "#B6E880",
           "#FF97FF",
           "#FECB52"
          ],
          "font": {
           "color": "#2a3f5f"
          },
          "geo": {
           "bgcolor": "white",
           "lakecolor": "white",
           "landcolor": "#E5ECF6",
           "showlakes": true,
           "showland": true,
           "subunitcolor": "white"
          },
          "hoverlabel": {
           "align": "left"
          },
          "hovermode": "closest",
          "mapbox": {
           "style": "light"
          },
          "paper_bgcolor": "white",
          "plot_bgcolor": "#E5ECF6",
          "polar": {
           "angularaxis": {
            "gridcolor": "white",
            "linecolor": "white",
            "ticks": ""
           },
           "bgcolor": "#E5ECF6",
           "radialaxis": {
            "gridcolor": "white",
            "linecolor": "white",
            "ticks": ""
           }
          },
          "scene": {
           "xaxis": {
            "backgroundcolor": "#E5ECF6",
            "gridcolor": "white",
            "gridwidth": 2,
            "linecolor": "white",
            "showbackground": true,
            "ticks": "",
            "zerolinecolor": "white"
           },
           "yaxis": {
            "backgroundcolor": "#E5ECF6",
            "gridcolor": "white",
            "gridwidth": 2,
            "linecolor": "white",
            "showbackground": true,
            "ticks": "",
            "zerolinecolor": "white"
           },
           "zaxis": {
            "backgroundcolor": "#E5ECF6",
            "gridcolor": "white",
            "gridwidth": 2,
            "linecolor": "white",
            "showbackground": true,
            "ticks": "",
            "zerolinecolor": "white"
           }
          },
          "shapedefaults": {
           "line": {
            "color": "#2a3f5f"
           }
          },
          "ternary": {
           "aaxis": {
            "gridcolor": "white",
            "linecolor": "white",
            "ticks": ""
           },
           "baxis": {
            "gridcolor": "white",
            "linecolor": "white",
            "ticks": ""
           },
           "bgcolor": "#E5ECF6",
           "caxis": {
            "gridcolor": "white",
            "linecolor": "white",
            "ticks": ""
           }
          },
          "title": {
           "x": 0.05
          },
          "xaxis": {
           "automargin": true,
           "gridcolor": "white",
           "linecolor": "white",
           "ticks": "",
           "title": {
            "standoff": 15
           },
           "zerolinecolor": "white",
           "zerolinewidth": 2
          },
          "yaxis": {
           "automargin": true,
           "gridcolor": "white",
           "linecolor": "white",
           "ticks": "",
           "title": {
            "standoff": 15
           },
           "zerolinecolor": "white",
           "zerolinewidth": 2
          }
         }
        },
        "title": {
         "text": "% Yes & Error Rate"
        },
        "xaxis": {
         "anchor": "y",
         "domain": [
          0,
          1
         ],
         "title": {
          "text": "% Yes"
         }
        },
        "yaxis": {
         "anchor": "x",
         "domain": [
          0,
          1
         ],
         "title": {
          "text": "Error"
         }
        }
       }
      },
      "text/html": [
       "<div>                            <div id=\"92a1977d-3009-456d-9e6c-73a1e0a7e379\" class=\"plotly-graph-div\" style=\"height:525px; width:100%;\"></div>            <script type=\"text/javascript\">                require([\"plotly\"], function(Plotly) {                    window.PLOTLYENV=window.PLOTLYENV || {};                                    if (document.getElementById(\"92a1977d-3009-456d-9e6c-73a1e0a7e379\")) {                    Plotly.newPlot(                        \"92a1977d-3009-456d-9e6c-73a1e0a7e379\",                        [{\"customdata\":[[\"Bretonni\\u00e8res\"],[\"Mies\"],[\"Ropraz\"],[\"Hergiswil bei Willisau\"],[\"Pont-en-Ogoz\"],[\"Valeyres-sous-Ursins\"],[\"K\\u00fcblis\"],[\"Sierre\"],[\"Granges-Paccot\"],[\"Amlikon-Bissegg\"],[\"Saubraz\"],[\"Bodio\"],[\"W\\u00fcrenlingen\"],[\"Wenslingen\"],[\"Engelberg\"],[\"Zwingen\"],[\"Savi\\u00e8se\"],[\"L\\u00fcterkofen-Ichertswil\"],[\"Kappel am Albis\"],[\"Bogis-Bossey\"],[\"Petit-Val\"],[\"Menznau\"],[\"Gansingen\"],[\"Lostorf\"],[\"Mauborget\"],[\"Forst-L\\u00e4ngenb\\u00fchl\"],[\"D\\u00fcrnten\"],[\"Oberwil (BL)\"],[\"Novazzano\"],[\"Eiken\"],[\"Mollens (VD)\"],[\"M\\u00fcmliswil-Ramiswil\"],[\"Ottenbach\"],[\"Turtmann-Unterems\"],[\"Weggis\"],[\"Dietwil\"],[\"Gingins\"],[\"Presinge\"],[\"Kaisten\"],[\"Ammerswil\"],[\"Hornussen\"],[\"Lens\"],[\"Konolfingen\"],[\"M\\u00f6rel-Filet\"],[\"Schangnau\"],[\"Sarmenstorf\"],[\"Biasca\"],[\"Bremblens\"],[\"Eschert\"],[\"Le B\\u00e9mont (JU)\"],[\"H\\u00e4rkingen\"],[\"Berom\\u00fcnster\"],[\"Riedholz\"],[\"Herzogenbuchsee\"],[\"Fontenais\"],[\"Wimmis\"],[\"Boudry\"],[\"Cort\\u00e9bert\"],[\"Hohenrain\"],[\"Therwil\"],[\"R\\u00fcdtligen-Alchenfl\\u00fch\"],[\"Porza\"],[\"Comano\"],[\"M\\u00fcllheim\"],[\"Bioggio\"],[\"Luterbach\"],[\"Courchapoix\"],[\"R\\u00fctschelen\"],[\"Innertkirchen\"],[\"Gilly\"],[\"Riviera\"],[\"B\\u00fcrglen (UR)\"],[\"Klosters\"],[\"Augst\"],[\"Ueberstorf\"],[\"Oberwil-Lieli\"],[\"Fislisbach\"],[\"Mergoscia\"],[\"Bois-d'Amont\"],[\"Leuk\"],[\"Wald (BE)\"],[\"Einsiedeln\"],[\"Huttwil\"],[\"Gambarogno\"],[\"Hindelbank\"],[\"Rothrist\"],[\"Albinen\"],[\"Goms\"],[\"Vallorbe\"],[\"Orbe\"],[\"Laufenburg\"],[\"Wegenstetten\"],[\"Staffelbach\"],[\"Coeuve\"],[\"Unterlangenegg\"],[\"Tramelan\"],[\"Les Genevez (JU)\"],[\"Tr\\u00fcllikon\"],[\"Conthey\"],[\"Blenio\"],[\"Baldingen\"],[\"Oberlunkhofen\"],[\"Sargans\"],[\"Vullierens\"],[\"Centovalli\"],[\"Rougemont\"],[\"Perroy\"],[\"Lenk\"],[\"Oberwil bei B\\u00fcren\"],[\"Busswil bei Melchnau\"],[\"T\\u00e4uffelen\"],[\"Dalpe\"],[\"Coldrerio\"],[\"Steinen\"],[\"Eschenz\"],[\"Brienzwiler\"],[\"Morcote\"],[\"Beatenberg\"],[\"Lignerolle\"],[\"Trimmis\"],[\"Allaman\"],[\"B\\u00fcron\"],[\"Heimiswil\"],[\"Valbirse\"],[\"Rothenthurm\"],[\"Remaufens\"],[\"H\\u00e4gendorf\"],[\"B\\u00fcttikon\"],[\"Sion\"],[\"Mirchel\"],[\"Sch\\u00f6fflisdorf\"],[\"H\\u00e4gglingen\"],[\"Egg\"],[\"Basadingen-Schlattingen\"],[\"Bichelsee-Balterswil\"],[\"Alchenstorf\"],[\"Buchs (SG)\"],[\"Hochfelden\"],[\"Avenches\"],[\"Studen (BE)\"],[\"Kleinb\\u00f6singen\"],[\"Ettingen\"],[\"Scheuren\"],[\"D\\u00e4nikon\"],[\"Meiringen\"],[\"Dallenwil\"],[\"Alpthal\"],[\"Bergdietikon\"],[\"Ehrendingen\"],[\"Herrliberg\"],[\"Dozwil\"],[\"Le Chenit\"],[\"Sorvilier\"],[\"Steinmaur\"],[\"Milvignes\"],[\"Niederhasli\"],[\"Erstfeld\"],[\"Niederg\\u00f6sgen\"],[\"Freienbach\"],[\"Siglistorf\"],[\"Schwellbrunn\"],[\"Choulex\"],[\"Plasselb\"],[\"Grossaffoltern\"],[\"Ch\\u00eane-Bourg\"],[\"B\\u00f6zen\"],[\"Truttikon\"],[\"Aedermannsdorf\"],[\"M\\u00e9ni\\u00e8res\"],[\"Ursins\"],[\"Eisten\"],[\"Monteggio\"],[\"Wald (AR)\"],[\"Kappel (SO)\"],[\"Astano\"],[\"Realp\"],[\"Lengwil\"],[\"Treyvaux\"],[\"Ch\\u00e2teau-d'Oex\"],[\"Grossh\\u00f6chstetten\"],[\"Eggiwil\"],[\"Villorsonnens\"],[\"Gretzenbach\"],[\"Evol\\u00e8ne\"],[\"Saint-L\\u00e9gier-La Chi\\u00e9saz\"],[\"Heitenried\"],[\"B\\u00fcrglen (TG)\"],[\"F\\u00e9chy\"],[\"M\\u00f6rigen\"],[\"Reinach (BL)\"],[\"Liedertswil\"]],\"hovertemplate\":\"True Y=1.0<br>% Yes=%{x}<br>Error=%{y}<br>Municipality=%{customdata[0]}<extra></extra>\",\"legendgroup\":\"1.0\",\"marker\":{\"color\":\"#636efa\",\"symbol\":\"circle\"},\"mode\":\"markers\",\"name\":\"1.0\",\"orientation\":\"v\",\"showlegend\":true,\"x\":[55.0,50.4,62.8,68.1,66.5,64.5,63.5,60.1,53.7,60.4,54.5,64.9,59.4,54.4,55.0,61.6,62.2,53.3,52.8,52.5,69.2,63.9,55.3,55.2,66.7,66.9,55.6,52.2,67.3,61.8,58.9,66.1,50.7,58.2,50.7,61.1,53.9,51.6,56.6,54.1,64.4,58.7,51.5,50.3,77.6,59.8,64.0,64.8,78.9,63.5,65.1,55.2,50.5,50.7,59.3,61.0,55.2,63.0,60.4,53.5,60.7,60.6,58.5,58.5,66.7,53.1,65.2,56.8,59.8,55.8,65.9,62.8,56.3,56.7,59.0,60.2,50.2,63.4,56.7,55.9,55.4,59.6,60.6,60.9,57.5,62.9,60.4,50.2,65.2,55.9,54.1,63.3,72.2,68.1,63.8,63.7,54.6,63.5,63.9,66.4,59.4,51.9,52.4,52.4,53.4,65.1,54.4,61.4,59.6,68.5,54.8,57.1,63.7,61.8,54.8,62.5,54.5,60.3,60.6,56.0,56.2,60.7,59.1,69.4,78.5,59.1,61.4,66.5,55.7,71.2,61.7,55.2,51.8,61.1,58.9,64.3,53.3,64.8,64.4,67.4,57.1,58.2,65.1,61.8,53.4,62.3,81.1,57.0,53.3,51.7,64.8,64.2,68.0,58.5,51.1,58.2,63.0,60.3,56.9,66.5,61.8,50.8,69.3,53.9,51.7,65.8,56.1,64.6,62.7,51.0,63.3,65.4,51.2,55.4,54.8,58.9,50.7,64.4,59.7,50.6,69.9,69.7,55.5,66.4,52.0,57.8,61.2,53.5,62.8,54.9,70.4],\"xaxis\":\"x\",\"y\":[null,null,null,null,null,null,null,null,null,null,null,null,null,null,null,null,null,null,0.0,null,null,null,null,null,null,null,0.0,null,null,null,null,null,0.0,null,null,null,null,null,null,null,null,null,null,null,null,null,null,null,null,null,null,null,null,null,null,null,null,null,null,null,null,null,null,null,null,null,null,0.0,null,null,null,null,null,null,null,null,null,null,null,null,null,null,null,null,null,null,null,null,null,null,null,null,null,null,null,null,null,0.0,null,null,null,null,null,null,null,null,null,null,null,0.0,null,null,null,null,null,null,null,null,null,null,null,null,null,null,null,null,null,null,null,null,0.0,null,0.0,null,null,null,null,0.0,null,null,null,null,null,0.0,null,null,null,null,null,0.0,null,null,null,0.0,null,1.0,null,null,null,null,null,null,null,0.0,null,null,0.0,null,null,null,null,null,null,null,null,null,null,null,null,null,null,null,null,null,null,null,null,null,null,null,null],\"yaxis\":\"y\",\"type\":\"scatter\"},{\"customdata\":[[\"Safiental\"],[\"Ziefen\"],[\"Maur\"],[\"Begnins\"],[\"B\\u00e4tterkinden\"],[\"F\\u00fcrstenau\"],[\"Apples\"],[\"Schelten\"],[\"Ittigen\"],[\"Muri (AG)\"],[\"Veyrier\"],[\"Schwerzenbach\"],[\"Lutry\"],[\"Gen\\u00e8ve\"],[\"Unterb\\u00e4ch\"],[\"Richterswil\"],[\"Ennetbaden\"],[\"Pregny-Chamb\\u00e9sy\"],[\"Onsernone\"],[\"Bedigliora\"],[\"Wettswil am Albis\"],[\"Hedingen\"],[\"La Chaux-de-Fonds\"],[\"Carouge (GE)\"],[\"Mauraz\"],[\"Rheinfelden\"]],\"hovertemplate\":\"True Y=0.0<br>% Yes=%{x}<br>Error=%{y}<br>Municipality=%{customdata[0]}<extra></extra>\",\"legendgroup\":\"0.0\",\"marker\":{\"color\":\"#EF553B\",\"symbol\":\"circle\"},\"mode\":\"markers\",\"name\":\"0.0\",\"orientation\":\"v\",\"showlegend\":true,\"x\":[47.4,48.3,50.0,49.2,47.7,49.2,49.2,48.1,47.1,49.4,49.0,46.6,50.0,44.8,46.5,48.1,30.9,48.0,49.1,48.1,46.6,46.1,49.7,43.4,40.6,49.2],\"xaxis\":\"x\",\"y\":[null,null,1.0,null,null,null,null,null,1.0,null,null,1.0,null,null,null,1.0,null,null,null,null,1.0,1.0,null,null,null,null],\"yaxis\":\"y\",\"type\":\"scatter\"}],                        {\"template\":{\"data\":{\"bar\":[{\"error_x\":{\"color\":\"#2a3f5f\"},\"error_y\":{\"color\":\"#2a3f5f\"},\"marker\":{\"line\":{\"color\":\"#E5ECF6\",\"width\":0.5},\"pattern\":{\"fillmode\":\"overlay\",\"size\":10,\"solidity\":0.2}},\"type\":\"bar\"}],\"barpolar\":[{\"marker\":{\"line\":{\"color\":\"#E5ECF6\",\"width\":0.5},\"pattern\":{\"fillmode\":\"overlay\",\"size\":10,\"solidity\":0.2}},\"type\":\"barpolar\"}],\"carpet\":[{\"aaxis\":{\"endlinecolor\":\"#2a3f5f\",\"gridcolor\":\"white\",\"linecolor\":\"white\",\"minorgridcolor\":\"white\",\"startlinecolor\":\"#2a3f5f\"},\"baxis\":{\"endlinecolor\":\"#2a3f5f\",\"gridcolor\":\"white\",\"linecolor\":\"white\",\"minorgridcolor\":\"white\",\"startlinecolor\":\"#2a3f5f\"},\"type\":\"carpet\"}],\"choropleth\":[{\"colorbar\":{\"outlinewidth\":0,\"ticks\":\"\"},\"type\":\"choropleth\"}],\"contour\":[{\"colorbar\":{\"outlinewidth\":0,\"ticks\":\"\"},\"colorscale\":[[0.0,\"#0d0887\"],[0.1111111111111111,\"#46039f\"],[0.2222222222222222,\"#7201a8\"],[0.3333333333333333,\"#9c179e\"],[0.4444444444444444,\"#bd3786\"],[0.5555555555555556,\"#d8576b\"],[0.6666666666666666,\"#ed7953\"],[0.7777777777777778,\"#fb9f3a\"],[0.8888888888888888,\"#fdca26\"],[1.0,\"#f0f921\"]],\"type\":\"contour\"}],\"contourcarpet\":[{\"colorbar\":{\"outlinewidth\":0,\"ticks\":\"\"},\"type\":\"contourcarpet\"}],\"heatmap\":[{\"colorbar\":{\"outlinewidth\":0,\"ticks\":\"\"},\"colorscale\":[[0.0,\"#0d0887\"],[0.1111111111111111,\"#46039f\"],[0.2222222222222222,\"#7201a8\"],[0.3333333333333333,\"#9c179e\"],[0.4444444444444444,\"#bd3786\"],[0.5555555555555556,\"#d8576b\"],[0.6666666666666666,\"#ed7953\"],[0.7777777777777778,\"#fb9f3a\"],[0.8888888888888888,\"#fdca26\"],[1.0,\"#f0f921\"]],\"type\":\"heatmap\"}],\"heatmapgl\":[{\"colorbar\":{\"outlinewidth\":0,\"ticks\":\"\"},\"colorscale\":[[0.0,\"#0d0887\"],[0.1111111111111111,\"#46039f\"],[0.2222222222222222,\"#7201a8\"],[0.3333333333333333,\"#9c179e\"],[0.4444444444444444,\"#bd3786\"],[0.5555555555555556,\"#d8576b\"],[0.6666666666666666,\"#ed7953\"],[0.7777777777777778,\"#fb9f3a\"],[0.8888888888888888,\"#fdca26\"],[1.0,\"#f0f921\"]],\"type\":\"heatmapgl\"}],\"histogram\":[{\"marker\":{\"pattern\":{\"fillmode\":\"overlay\",\"size\":10,\"solidity\":0.2}},\"type\":\"histogram\"}],\"histogram2d\":[{\"colorbar\":{\"outlinewidth\":0,\"ticks\":\"\"},\"colorscale\":[[0.0,\"#0d0887\"],[0.1111111111111111,\"#46039f\"],[0.2222222222222222,\"#7201a8\"],[0.3333333333333333,\"#9c179e\"],[0.4444444444444444,\"#bd3786\"],[0.5555555555555556,\"#d8576b\"],[0.6666666666666666,\"#ed7953\"],[0.7777777777777778,\"#fb9f3a\"],[0.8888888888888888,\"#fdca26\"],[1.0,\"#f0f921\"]],\"type\":\"histogram2d\"}],\"histogram2dcontour\":[{\"colorbar\":{\"outlinewidth\":0,\"ticks\":\"\"},\"colorscale\":[[0.0,\"#0d0887\"],[0.1111111111111111,\"#46039f\"],[0.2222222222222222,\"#7201a8\"],[0.3333333333333333,\"#9c179e\"],[0.4444444444444444,\"#bd3786\"],[0.5555555555555556,\"#d8576b\"],[0.6666666666666666,\"#ed7953\"],[0.7777777777777778,\"#fb9f3a\"],[0.8888888888888888,\"#fdca26\"],[1.0,\"#f0f921\"]],\"type\":\"histogram2dcontour\"}],\"mesh3d\":[{\"colorbar\":{\"outlinewidth\":0,\"ticks\":\"\"},\"type\":\"mesh3d\"}],\"parcoords\":[{\"line\":{\"colorbar\":{\"outlinewidth\":0,\"ticks\":\"\"}},\"type\":\"parcoords\"}],\"pie\":[{\"automargin\":true,\"type\":\"pie\"}],\"scatter\":[{\"marker\":{\"colorbar\":{\"outlinewidth\":0,\"ticks\":\"\"}},\"type\":\"scatter\"}],\"scatter3d\":[{\"line\":{\"colorbar\":{\"outlinewidth\":0,\"ticks\":\"\"}},\"marker\":{\"colorbar\":{\"outlinewidth\":0,\"ticks\":\"\"}},\"type\":\"scatter3d\"}],\"scattercarpet\":[{\"marker\":{\"colorbar\":{\"outlinewidth\":0,\"ticks\":\"\"}},\"type\":\"scattercarpet\"}],\"scattergeo\":[{\"marker\":{\"colorbar\":{\"outlinewidth\":0,\"ticks\":\"\"}},\"type\":\"scattergeo\"}],\"scattergl\":[{\"marker\":{\"colorbar\":{\"outlinewidth\":0,\"ticks\":\"\"}},\"type\":\"scattergl\"}],\"scattermapbox\":[{\"marker\":{\"colorbar\":{\"outlinewidth\":0,\"ticks\":\"\"}},\"type\":\"scattermapbox\"}],\"scatterpolar\":[{\"marker\":{\"colorbar\":{\"outlinewidth\":0,\"ticks\":\"\"}},\"type\":\"scatterpolar\"}],\"scatterpolargl\":[{\"marker\":{\"colorbar\":{\"outlinewidth\":0,\"ticks\":\"\"}},\"type\":\"scatterpolargl\"}],\"scatterternary\":[{\"marker\":{\"colorbar\":{\"outlinewidth\":0,\"ticks\":\"\"}},\"type\":\"scatterternary\"}],\"surface\":[{\"colorbar\":{\"outlinewidth\":0,\"ticks\":\"\"},\"colorscale\":[[0.0,\"#0d0887\"],[0.1111111111111111,\"#46039f\"],[0.2222222222222222,\"#7201a8\"],[0.3333333333333333,\"#9c179e\"],[0.4444444444444444,\"#bd3786\"],[0.5555555555555556,\"#d8576b\"],[0.6666666666666666,\"#ed7953\"],[0.7777777777777778,\"#fb9f3a\"],[0.8888888888888888,\"#fdca26\"],[1.0,\"#f0f921\"]],\"type\":\"surface\"}],\"table\":[{\"cells\":{\"fill\":{\"color\":\"#EBF0F8\"},\"line\":{\"color\":\"white\"}},\"header\":{\"fill\":{\"color\":\"#C8D4E3\"},\"line\":{\"color\":\"white\"}},\"type\":\"table\"}]},\"layout\":{\"annotationdefaults\":{\"arrowcolor\":\"#2a3f5f\",\"arrowhead\":0,\"arrowwidth\":1},\"autotypenumbers\":\"strict\",\"coloraxis\":{\"colorbar\":{\"outlinewidth\":0,\"ticks\":\"\"}},\"colorscale\":{\"diverging\":[[0,\"#8e0152\"],[0.1,\"#c51b7d\"],[0.2,\"#de77ae\"],[0.3,\"#f1b6da\"],[0.4,\"#fde0ef\"],[0.5,\"#f7f7f7\"],[0.6,\"#e6f5d0\"],[0.7,\"#b8e186\"],[0.8,\"#7fbc41\"],[0.9,\"#4d9221\"],[1,\"#276419\"]],\"sequential\":[[0.0,\"#0d0887\"],[0.1111111111111111,\"#46039f\"],[0.2222222222222222,\"#7201a8\"],[0.3333333333333333,\"#9c179e\"],[0.4444444444444444,\"#bd3786\"],[0.5555555555555556,\"#d8576b\"],[0.6666666666666666,\"#ed7953\"],[0.7777777777777778,\"#fb9f3a\"],[0.8888888888888888,\"#fdca26\"],[1.0,\"#f0f921\"]],\"sequentialminus\":[[0.0,\"#0d0887\"],[0.1111111111111111,\"#46039f\"],[0.2222222222222222,\"#7201a8\"],[0.3333333333333333,\"#9c179e\"],[0.4444444444444444,\"#bd3786\"],[0.5555555555555556,\"#d8576b\"],[0.6666666666666666,\"#ed7953\"],[0.7777777777777778,\"#fb9f3a\"],[0.8888888888888888,\"#fdca26\"],[1.0,\"#f0f921\"]]},\"colorway\":[\"#636efa\",\"#EF553B\",\"#00cc96\",\"#ab63fa\",\"#FFA15A\",\"#19d3f3\",\"#FF6692\",\"#B6E880\",\"#FF97FF\",\"#FECB52\"],\"font\":{\"color\":\"#2a3f5f\"},\"geo\":{\"bgcolor\":\"white\",\"lakecolor\":\"white\",\"landcolor\":\"#E5ECF6\",\"showlakes\":true,\"showland\":true,\"subunitcolor\":\"white\"},\"hoverlabel\":{\"align\":\"left\"},\"hovermode\":\"closest\",\"mapbox\":{\"style\":\"light\"},\"paper_bgcolor\":\"white\",\"plot_bgcolor\":\"#E5ECF6\",\"polar\":{\"angularaxis\":{\"gridcolor\":\"white\",\"linecolor\":\"white\",\"ticks\":\"\"},\"bgcolor\":\"#E5ECF6\",\"radialaxis\":{\"gridcolor\":\"white\",\"linecolor\":\"white\",\"ticks\":\"\"}},\"scene\":{\"xaxis\":{\"backgroundcolor\":\"#E5ECF6\",\"gridcolor\":\"white\",\"gridwidth\":2,\"linecolor\":\"white\",\"showbackground\":true,\"ticks\":\"\",\"zerolinecolor\":\"white\"},\"yaxis\":{\"backgroundcolor\":\"#E5ECF6\",\"gridcolor\":\"white\",\"gridwidth\":2,\"linecolor\":\"white\",\"showbackground\":true,\"ticks\":\"\",\"zerolinecolor\":\"white\"},\"zaxis\":{\"backgroundcolor\":\"#E5ECF6\",\"gridcolor\":\"white\",\"gridwidth\":2,\"linecolor\":\"white\",\"showbackground\":true,\"ticks\":\"\",\"zerolinecolor\":\"white\"}},\"shapedefaults\":{\"line\":{\"color\":\"#2a3f5f\"}},\"ternary\":{\"aaxis\":{\"gridcolor\":\"white\",\"linecolor\":\"white\",\"ticks\":\"\"},\"baxis\":{\"gridcolor\":\"white\",\"linecolor\":\"white\",\"ticks\":\"\"},\"bgcolor\":\"#E5ECF6\",\"caxis\":{\"gridcolor\":\"white\",\"linecolor\":\"white\",\"ticks\":\"\"}},\"title\":{\"x\":0.05},\"xaxis\":{\"automargin\":true,\"gridcolor\":\"white\",\"linecolor\":\"white\",\"ticks\":\"\",\"title\":{\"standoff\":15},\"zerolinecolor\":\"white\",\"zerolinewidth\":2},\"yaxis\":{\"automargin\":true,\"gridcolor\":\"white\",\"linecolor\":\"white\",\"ticks\":\"\",\"title\":{\"standoff\":15},\"zerolinecolor\":\"white\",\"zerolinewidth\":2}}},\"xaxis\":{\"anchor\":\"y\",\"domain\":[0.0,1.0],\"title\":{\"text\":\"% Yes\"}},\"yaxis\":{\"anchor\":\"x\",\"domain\":[0.0,1.0],\"title\":{\"text\":\"Error\"}},\"legend\":{\"title\":{\"text\":\"True Y\"},\"tracegroupgap\":0},\"title\":{\"text\":\"% Yes & Error Rate\"}},                        {\"responsive\": true}                    ).then(function(){\n",
       "                            \n",
       "var gd = document.getElementById('92a1977d-3009-456d-9e6c-73a1e0a7e379');\n",
       "var x = new MutationObserver(function (mutations, observer) {{\n",
       "        var display = window.getComputedStyle(gd).display;\n",
       "        if (!display || display === 'none') {{\n",
       "            console.log([gd, 'removed!']);\n",
       "            Plotly.purge(gd);\n",
       "            observer.disconnect();\n",
       "        }}\n",
       "}});\n",
       "\n",
       "// Listen for the removal of the full notebook cells\n",
       "var notebookContainer = gd.closest('#notebook-container');\n",
       "if (notebookContainer) {{\n",
       "    x.observe(notebookContainer, {childList: true});\n",
       "}}\n",
       "\n",
       "// Listen for the clearing of the current output cell\n",
       "var outputEl = gd.closest('.output');\n",
       "if (outputEl) {{\n",
       "    x.observe(outputEl, {childList: true});\n",
       "}}\n",
       "\n",
       "                        })                };                });            </script>        </div>"
      ]
     },
     "metadata": {},
     "output_type": "display_data"
    }
   ],
   "source": [
    "# Plot % Yes & Error\n",
    "plts.plot_yes_perc_error(X_test_all, y_test, y_pred_knn) "
   ]
  },
  {
   "cell_type": "markdown",
   "metadata": {},
   "source": [
    "#### Decision Tree"
   ]
  },
  {
   "cell_type": "code",
   "execution_count": 88,
   "metadata": {},
   "outputs": [
    {
     "ename": "KeyError",
     "evalue": "'log_loss'",
     "output_type": "error",
     "traceback": [
      "\u001b[0;31m---------------------------------------------------------------------------\u001b[0m",
      "\u001b[0;31mKeyError\u001b[0m                                  Traceback (most recent call last)",
      "Input \u001b[0;32mIn [88]\u001b[0m, in \u001b[0;36m<module>\u001b[0;34m\u001b[0m\n\u001b[1;32m      1\u001b[0m \u001b[38;5;66;03m# Find best params for decision tree\u001b[39;00m\n\u001b[0;32m----> 2\u001b[0m dt_best_params_dict, accuracies \u001b[38;5;241m=\u001b[39m \u001b[43mea\u001b[49m\u001b[38;5;241;43m.\u001b[39;49m\u001b[43mdecision_tree_hp\u001b[49m\u001b[43m(\u001b[49m\u001b[43mX_train\u001b[49m\u001b[43m,\u001b[49m\u001b[43m \u001b[49m\u001b[43mX_dev\u001b[49m\u001b[43m,\u001b[49m\u001b[43m \u001b[49m\u001b[43my_train\u001b[49m\u001b[43m,\u001b[49m\u001b[43m \u001b[49m\u001b[43my_dev\u001b[49m\u001b[43m)\u001b[49m\n\u001b[1;32m      3\u001b[0m best_criterion \u001b[38;5;241m=\u001b[39m dt_best_params_dict[\u001b[38;5;124m\"\u001b[39m\u001b[38;5;124mmax_criterion\u001b[39m\u001b[38;5;124m\"\u001b[39m]\n\u001b[1;32m      4\u001b[0m best_depth_tree \u001b[38;5;241m=\u001b[39m dt_best_params_dict[\u001b[38;5;124m\"\u001b[39m\u001b[38;5;124mmax_depth_tree\u001b[39m\u001b[38;5;124m\"\u001b[39m]\n",
      "File \u001b[0;32m~/Library/CloudStorage/OneDrive-TheUniversityofChicago/Classes/ML/LarryOnBallots/models/endline_analysis.py:96\u001b[0m, in \u001b[0;36mdecision_tree_hp\u001b[0;34m(X_train, X_dev, y_train, y_dev)\u001b[0m\n\u001b[1;32m     94\u001b[0m \u001b[38;5;28;01mfor\u001b[39;00m depth \u001b[38;5;129;01min\u001b[39;00m \u001b[38;5;28mrange\u001b[39m(\u001b[38;5;241m1\u001b[39m, \u001b[38;5;241m7\u001b[39m, \u001b[38;5;241m1\u001b[39m):\n\u001b[1;32m     95\u001b[0m     clf_model \u001b[38;5;241m=\u001b[39m DecisionTreeClassifier(criterion\u001b[38;5;241m=\u001b[39mcrit, random_state\u001b[38;5;241m=\u001b[39m\u001b[38;5;241m42\u001b[39m, max_depth\u001b[38;5;241m=\u001b[39mdepth)\n\u001b[0;32m---> 96\u001b[0m     \u001b[43mclf_model\u001b[49m\u001b[38;5;241;43m.\u001b[39;49m\u001b[43mfit\u001b[49m\u001b[43m(\u001b[49m\u001b[43mX_train\u001b[49m\u001b[43m,\u001b[49m\u001b[43my_train\u001b[49m\u001b[43m)\u001b[49m\n\u001b[1;32m     97\u001b[0m     acc_rate \u001b[38;5;241m=\u001b[39m clf_model\u001b[38;5;241m.\u001b[39mscore(X_dev, y_dev)\n\u001b[1;32m     98\u001b[0m     acc_df \u001b[38;5;241m=\u001b[39m acc_df\u001b[38;5;241m.\u001b[39mappend({\u001b[38;5;124m'\u001b[39m\u001b[38;5;124mcriterion\u001b[39m\u001b[38;5;124m'\u001b[39m:crit, \u001b[38;5;124m'\u001b[39m\u001b[38;5;124mdepth\u001b[39m\u001b[38;5;124m'\u001b[39m: depth, \u001b[38;5;124m'\u001b[39m\u001b[38;5;124maccu_rate\u001b[39m\u001b[38;5;124m'\u001b[39m:acc_rate}, \\\n\u001b[1;32m     99\u001b[0m     ignore_index\u001b[38;5;241m=\u001b[39m\u001b[38;5;28;01mTrue\u001b[39;00m)\n",
      "File \u001b[0;32m/Library/Frameworks/Python.framework/Versions/3.9/lib/python3.9/site-packages/sklearn/tree/_classes.py:937\u001b[0m, in \u001b[0;36mDecisionTreeClassifier.fit\u001b[0;34m(self, X, y, sample_weight, check_input, X_idx_sorted)\u001b[0m\n\u001b[1;32m    899\u001b[0m \u001b[38;5;28;01mdef\u001b[39;00m \u001b[38;5;21mfit\u001b[39m(\n\u001b[1;32m    900\u001b[0m     \u001b[38;5;28mself\u001b[39m, X, y, sample_weight\u001b[38;5;241m=\u001b[39m\u001b[38;5;28;01mNone\u001b[39;00m, check_input\u001b[38;5;241m=\u001b[39m\u001b[38;5;28;01mTrue\u001b[39;00m, X_idx_sorted\u001b[38;5;241m=\u001b[39m\u001b[38;5;124m\"\u001b[39m\u001b[38;5;124mdeprecated\u001b[39m\u001b[38;5;124m\"\u001b[39m\n\u001b[1;32m    901\u001b[0m ):\n\u001b[1;32m    902\u001b[0m     \u001b[38;5;124;03m\"\"\"Build a decision tree classifier from the training set (X, y).\u001b[39;00m\n\u001b[1;32m    903\u001b[0m \n\u001b[1;32m    904\u001b[0m \u001b[38;5;124;03m    Parameters\u001b[39;00m\n\u001b[0;32m   (...)\u001b[0m\n\u001b[1;32m    934\u001b[0m \u001b[38;5;124;03m        Fitted estimator.\u001b[39;00m\n\u001b[1;32m    935\u001b[0m \u001b[38;5;124;03m    \"\"\"\u001b[39;00m\n\u001b[0;32m--> 937\u001b[0m     \u001b[38;5;28;43msuper\u001b[39;49m\u001b[43m(\u001b[49m\u001b[43m)\u001b[49m\u001b[38;5;241;43m.\u001b[39;49m\u001b[43mfit\u001b[49m\u001b[43m(\u001b[49m\n\u001b[1;32m    938\u001b[0m \u001b[43m        \u001b[49m\u001b[43mX\u001b[49m\u001b[43m,\u001b[49m\n\u001b[1;32m    939\u001b[0m \u001b[43m        \u001b[49m\u001b[43my\u001b[49m\u001b[43m,\u001b[49m\n\u001b[1;32m    940\u001b[0m \u001b[43m        \u001b[49m\u001b[43msample_weight\u001b[49m\u001b[38;5;241;43m=\u001b[39;49m\u001b[43msample_weight\u001b[49m\u001b[43m,\u001b[49m\n\u001b[1;32m    941\u001b[0m \u001b[43m        \u001b[49m\u001b[43mcheck_input\u001b[49m\u001b[38;5;241;43m=\u001b[39;49m\u001b[43mcheck_input\u001b[49m\u001b[43m,\u001b[49m\n\u001b[1;32m    942\u001b[0m \u001b[43m        \u001b[49m\u001b[43mX_idx_sorted\u001b[49m\u001b[38;5;241;43m=\u001b[39;49m\u001b[43mX_idx_sorted\u001b[49m\u001b[43m,\u001b[49m\n\u001b[1;32m    943\u001b[0m \u001b[43m    \u001b[49m\u001b[43m)\u001b[49m\n\u001b[1;32m    944\u001b[0m     \u001b[38;5;28;01mreturn\u001b[39;00m \u001b[38;5;28mself\u001b[39m\n",
      "File \u001b[0;32m/Library/Frameworks/Python.framework/Versions/3.9/lib/python3.9/site-packages/sklearn/tree/_classes.py:352\u001b[0m, in \u001b[0;36mBaseDecisionTree.fit\u001b[0;34m(self, X, y, sample_weight, check_input, X_idx_sorted)\u001b[0m\n\u001b[1;32m    350\u001b[0m \u001b[38;5;28;01mif\u001b[39;00m \u001b[38;5;129;01mnot\u001b[39;00m \u001b[38;5;28misinstance\u001b[39m(criterion, Criterion):\n\u001b[1;32m    351\u001b[0m     \u001b[38;5;28;01mif\u001b[39;00m is_classification:\n\u001b[0;32m--> 352\u001b[0m         criterion \u001b[38;5;241m=\u001b[39m \u001b[43mCRITERIA_CLF\u001b[49m\u001b[43m[\u001b[49m\u001b[38;5;28;43mself\u001b[39;49m\u001b[38;5;241;43m.\u001b[39;49m\u001b[43mcriterion\u001b[49m\u001b[43m]\u001b[49m(\n\u001b[1;32m    353\u001b[0m             \u001b[38;5;28mself\u001b[39m\u001b[38;5;241m.\u001b[39mn_outputs_, \u001b[38;5;28mself\u001b[39m\u001b[38;5;241m.\u001b[39mn_classes_\n\u001b[1;32m    354\u001b[0m         )\n\u001b[1;32m    355\u001b[0m     \u001b[38;5;28;01melse\u001b[39;00m:\n\u001b[1;32m    356\u001b[0m         criterion \u001b[38;5;241m=\u001b[39m CRITERIA_REG[\u001b[38;5;28mself\u001b[39m\u001b[38;5;241m.\u001b[39mcriterion](\u001b[38;5;28mself\u001b[39m\u001b[38;5;241m.\u001b[39mn_outputs_, n_samples)\n",
      "\u001b[0;31mKeyError\u001b[0m: 'log_loss'"
     ]
    }
   ],
   "source": [
    "# Find best params for decision tree\n",
    "dt_best_params_dict, accuracies_dt = ea.decision_tree_hp(X_train, X_dev, y_train, y_dev)\n",
    "accuracies_dt"
   ]
  },
  {
   "cell_type": "code",
   "execution_count": null,
   "metadata": {},
   "outputs": [],
   "source": [
    "# Make prediction with best params\n",
    "\n",
    "# !TO MOVE TO A FUNCTION\n",
    "def xx(dt_best_params_dict):\n",
    "    clf_model = DecisionTreeClassifier(criterion=dt_best_params_dict[\"best_criterion\"], \n",
    "                                       random_state=42, \n",
    "                                       max_depth=dt_best_params_dict[\"best_depth_tree\"])\n",
    "    clf_model.fit(X_train,y_train)\n",
    "    y_pred = clf_model.predict(X_test)\n",
    "    return (clf_model, y_pred)"
   ]
  },
  {
   "cell_type": "code",
   "execution_count": null,
   "metadata": {},
   "outputs": [],
   "source": [
    "# Plot best decision tree - Move Pavan's code in decision_tree.py to function"
   ]
  },
  {
   "cell_type": "code",
   "execution_count": null,
   "metadata": {},
   "outputs": [],
   "source": [
    "# Accuracy & F-Score\n",
    "print(\"Accuracy: \", accuracy_score(y_test, y_pred_dt))\n",
    "print(\"F score: \", f1_score(y_test, y_pred_dt))\n",
    "print(\"Classification report: \\n\", classification_report(y_test, y_pred_dt))"
   ]
  },
  {
   "cell_type": "code",
   "execution_count": null,
   "metadata": {},
   "outputs": [],
   "source": [
    "# Confusion matrix\n",
    "cm = confusion_matrix(y_test, y_pred_dt)\n",
    "ConfusionMatrixDisplay(cm, display_labels=labels).plot()"
   ]
  },
  {
   "cell_type": "code",
   "execution_count": null,
   "metadata": {},
   "outputs": [],
   "source": [
    "# Plot % Yes & Error\n",
    "plts.plot_yes_perc_error(X_test_all, y_test, y_pred_dt) "
   ]
  },
  {
   "cell_type": "code",
   "execution_count": null,
   "metadata": {},
   "outputs": [],
   "source": []
  },
  {
   "cell_type": "markdown",
   "metadata": {},
   "source": [
    "#### Random Forest"
   ]
  },
  {
   "cell_type": "code",
   "execution_count": 97,
   "metadata": {},
   "outputs": [
    {
     "ename": "AttributeError",
     "evalue": "'DataFrame' object has no attribute 'display'",
     "output_type": "error",
     "traceback": [
      "\u001b[0;31m---------------------------------------------------------------------------\u001b[0m",
      "\u001b[0;31mAttributeError\u001b[0m                            Traceback (most recent call last)",
      "Input \u001b[0;32mIn [97]\u001b[0m, in \u001b[0;36m<module>\u001b[0;34m\u001b[0m\n\u001b[1;32m      1\u001b[0m \u001b[38;5;66;03m# Find best params for Random Forest model\u001b[39;00m\n\u001b[1;32m      2\u001b[0m best_params_rf, best_acc_rf, accuracies_rf \u001b[38;5;241m=\u001b[39m rf\u001b[38;5;241m.\u001b[39mrandom_forest(X_train\u001b[38;5;241m=\u001b[39mX_train, X_dev\u001b[38;5;241m=\u001b[39mX_dev, \n\u001b[1;32m      3\u001b[0m                                             y_train\u001b[38;5;241m=\u001b[39my_train, y_dev\u001b[38;5;241m=\u001b[39my_dev, random_state \u001b[38;5;241m=\u001b[39m \u001b[38;5;28;01mTrue\u001b[39;00m)\n\u001b[0;32m----> 4\u001b[0m \u001b[43maccuracies_rf\u001b[49m\u001b[38;5;241;43m.\u001b[39;49m\u001b[43mdisplay\u001b[49m()\n",
      "File \u001b[0;32m/Library/Frameworks/Python.framework/Versions/3.9/lib/python3.9/site-packages/pandas/core/generic.py:5583\u001b[0m, in \u001b[0;36mNDFrame.__getattr__\u001b[0;34m(self, name)\u001b[0m\n\u001b[1;32m   5576\u001b[0m \u001b[38;5;28;01mif\u001b[39;00m (\n\u001b[1;32m   5577\u001b[0m     name \u001b[38;5;129;01mnot\u001b[39;00m \u001b[38;5;129;01min\u001b[39;00m \u001b[38;5;28mself\u001b[39m\u001b[38;5;241m.\u001b[39m_internal_names_set\n\u001b[1;32m   5578\u001b[0m     \u001b[38;5;129;01mand\u001b[39;00m name \u001b[38;5;129;01mnot\u001b[39;00m \u001b[38;5;129;01min\u001b[39;00m \u001b[38;5;28mself\u001b[39m\u001b[38;5;241m.\u001b[39m_metadata\n\u001b[1;32m   5579\u001b[0m     \u001b[38;5;129;01mand\u001b[39;00m name \u001b[38;5;129;01mnot\u001b[39;00m \u001b[38;5;129;01min\u001b[39;00m \u001b[38;5;28mself\u001b[39m\u001b[38;5;241m.\u001b[39m_accessors\n\u001b[1;32m   5580\u001b[0m     \u001b[38;5;129;01mand\u001b[39;00m \u001b[38;5;28mself\u001b[39m\u001b[38;5;241m.\u001b[39m_info_axis\u001b[38;5;241m.\u001b[39m_can_hold_identifiers_and_holds_name(name)\n\u001b[1;32m   5581\u001b[0m ):\n\u001b[1;32m   5582\u001b[0m     \u001b[38;5;28;01mreturn\u001b[39;00m \u001b[38;5;28mself\u001b[39m[name]\n\u001b[0;32m-> 5583\u001b[0m \u001b[38;5;28;01mreturn\u001b[39;00m \u001b[38;5;28;43mobject\u001b[39;49m\u001b[38;5;241;43m.\u001b[39;49m\u001b[38;5;21;43m__getattribute__\u001b[39;49m\u001b[43m(\u001b[49m\u001b[38;5;28;43mself\u001b[39;49m\u001b[43m,\u001b[49m\u001b[43m \u001b[49m\u001b[43mname\u001b[49m\u001b[43m)\u001b[49m\n",
      "\u001b[0;31mAttributeError\u001b[0m: 'DataFrame' object has no attribute 'display'"
     ]
    }
   ],
   "source": [
    "# Find best params for Random Forest model\n",
    "best_params_rf, best_acc_rf, accuracies_rf = rf.random_forest(X_train=X_train, X_dev=X_dev, \n",
    "                                            y_train=y_train, y_dev=y_dev, random_state = True)"
   ]
  },
  {
   "cell_type": "code",
   "execution_count": null,
   "metadata": {},
   "outputs": [],
   "source": [
    "accuracies_rf.display()"
   ]
  },
  {
   "cell_type": "code",
   "execution_count": 53,
   "metadata": {},
   "outputs": [
    {
     "data": {
      "image/png": "[encoded data removed]",
      "text/plain": [
       "<Figure size 720x360 with 1 Axes>"
      ]
     },
     "metadata": {
      "needs_background": "light"
     },
     "output_type": "display_data"
    }
   ],
   "source": [
    "# Plot random forests' accuracies based on parameters\n",
    "rf.plot_random_forest(accuracies)"
   ]
  },
  {
   "cell_type": "code",
   "execution_count": 96,
   "metadata": {
    "scrolled": true
   },
   "outputs": [],
   "source": [
    "# Make prediction with best model\n",
    "y_test_pred_rf = rf.predict_random_forest(best_params_rf, X_train, y_train, X_test, random_state = True)"
   ]
  },
  {
   "cell_type": "code",
   "execution_count": 94,
   "metadata": {},
   "outputs": [
    {
     "ename": "NameError",
     "evalue": "name 'y_train_pred_rf' is not defined",
     "output_type": "error",
     "traceback": [
      "\u001b[0;31m---------------------------------------------------------------------------\u001b[0m",
      "\u001b[0;31mNameError\u001b[0m                                 Traceback (most recent call last)",
      "Input \u001b[0;32mIn [94]\u001b[0m, in \u001b[0;36m<module>\u001b[0;34m\u001b[0m\n\u001b[1;32m      1\u001b[0m \u001b[38;5;66;03m# Evaluation metrics \u001b[39;00m\n\u001b[0;32m----> 2\u001b[0m \u001b[38;5;28mprint\u001b[39m(\u001b[38;5;124m\"\u001b[39m\u001b[38;5;124mTrain Data - Classification Report: \u001b[39m\u001b[38;5;130;01m\\n\u001b[39;00m\u001b[38;5;124m\"\u001b[39m, classification_report(y_train, \u001b[43my_train_pred_rf\u001b[49m))\n\u001b[1;32m      3\u001b[0m \u001b[38;5;28mprint\u001b[39m(\u001b[38;5;124m\"\u001b[39m\u001b[38;5;124mTest Data - Classification Report: \u001b[39m\u001b[38;5;130;01m\\n\u001b[39;00m\u001b[38;5;124m\"\u001b[39m, classification_report(y_test, y_test_pred_rf))\n",
      "\u001b[0;31mNameError\u001b[0m: name 'y_train_pred_rf' is not defined"
     ]
    }
   ],
   "source": [
    "# Evaluation metrics \n",
    "print(\"Test Data - Classification Report: \\n\", classification_report(y_test, y_test_pred_rf))"
   ]
  },
  {
   "cell_type": "code",
   "execution_count": 60,
   "metadata": {},
   "outputs": [
    {
     "data": {
      "text/plain": [
       "<sklearn.metrics._plot.confusion_matrix.ConfusionMatrixDisplay at 0x7fa729737430>"
      ]
     },
     "execution_count": 60,
     "metadata": {},
     "output_type": "execute_result"
    },
    {
     "data": {
      "image/png": "[encoded data removed]",
      "text/plain": [
       "<Figure size 432x288 with 2 Axes>"
      ]
     },
     "metadata": {
      "needs_background": "light"
     },
     "output_type": "display_data"
    }
   ],
   "source": [
    "# Confusion matrix\n",
    "cm = confusion_matrix(y_test, y_pred_rf)\n",
    "ConfusionMatrixDisplay(cm, display_labels=labels).plot()"
   ]
  },
  {
   "cell_type": "code",
   "execution_count": 87,
   "metadata": {},
   "outputs": [
    {
     "name": "stdout",
     "output_type": "stream",
     "text": [
      "Figure({\n",
      "    'data': [{'customdata': array([['Bretonnières'],\n",
      "                                   ['Mies'],\n",
      "                                   ['Ropraz'],\n",
      "                                   ['Hergiswil bei Willisau'],\n",
      "                                   ['Pont-en-Ogoz'],\n",
      "                                   ['Valeyres-sous-Ursins'],\n",
      "                                   ['Küblis'],\n",
      "                                   ['Sierre'],\n",
      "                                   ['Granges-Paccot'],\n",
      "                                   ['Amlikon-Bissegg'],\n",
      "                                   ['Saubraz'],\n",
      "                                   ['Bodio'],\n",
      "                                   ['Würenlingen'],\n",
      "                                   ['Wenslingen'],\n",
      "                                   ['Engelberg'],\n",
      "                                   ['Zwingen'],\n",
      "                                   ['Savièse'],\n",
      "                                   ['Lüterkofen-Ichertswil'],\n",
      "                                   ['Kappel am Albis'],\n",
      "                                   ['Bogis-Bossey'],\n",
      "                                   ['Petit-Val'],\n",
      "                                   ['Menznau'],\n",
      "                                   ['Gansingen'],\n",
      "                                   ['Lostorf'],\n",
      "                                   ['Mauborget'],\n",
      "                                   ['Forst-Längenbühl'],\n",
      "                                   ['Dürnten'],\n",
      "                                   ['Oberwil (BL)'],\n",
      "                                   ['Novazzano'],\n",
      "                                   ['Eiken'],\n",
      "                                   ['Mollens (VD)'],\n",
      "                                   ['Mümliswil-Ramiswil'],\n",
      "                                   ['Ottenbach'],\n",
      "                                   ['Turtmann-Unterems'],\n",
      "                                   ['Weggis'],\n",
      "                                   ['Dietwil'],\n",
      "                                   ['Gingins'],\n",
      "                                   ['Presinge'],\n",
      "                                   ['Kaisten'],\n",
      "                                   ['Ammerswil'],\n",
      "                                   ['Hornussen'],\n",
      "                                   ['Lens'],\n",
      "                                   ['Konolfingen'],\n",
      "                                   ['Mörel-Filet'],\n",
      "                                   ['Schangnau'],\n",
      "                                   ['Sarmenstorf'],\n",
      "                                   ['Biasca'],\n",
      "                                   ['Bremblens'],\n",
      "                                   ['Eschert'],\n",
      "                                   ['Le Bémont (JU)'],\n",
      "                                   ['Härkingen'],\n",
      "                                   ['Beromünster'],\n",
      "                                   ['Riedholz'],\n",
      "                                   ['Herzogenbuchsee'],\n",
      "                                   ['Fontenais'],\n",
      "                                   ['Wimmis'],\n",
      "                                   ['Boudry'],\n",
      "                                   ['Cortébert'],\n",
      "                                   ['Hohenrain'],\n",
      "                                   ['Therwil'],\n",
      "                                   ['Rüdtligen-Alchenflüh'],\n",
      "                                   ['Porza'],\n",
      "                                   ['Comano'],\n",
      "                                   ['Müllheim'],\n",
      "                                   ['Bioggio'],\n",
      "                                   ['Luterbach'],\n",
      "                                   ['Courchapoix'],\n",
      "                                   ['Rütschelen'],\n",
      "                                   ['Innertkirchen'],\n",
      "                                   ['Gilly'],\n",
      "                                   ['Riviera'],\n",
      "                                   ['Bürglen (UR)'],\n",
      "                                   ['Klosters'],\n",
      "                                   ['Augst'],\n",
      "                                   ['Ueberstorf'],\n",
      "                                   ['Oberwil-Lieli'],\n",
      "                                   ['Fislisbach'],\n",
      "                                   ['Mergoscia'],\n",
      "                                   [\"Bois-d'Amont\"],\n",
      "                                   ['Leuk'],\n",
      "                                   ['Wald (BE)'],\n",
      "                                   ['Einsiedeln'],\n",
      "                                   ['Huttwil'],\n",
      "                                   ['Gambarogno'],\n",
      "                                   ['Hindelbank'],\n",
      "                                   ['Rothrist'],\n",
      "                                   ['Albinen'],\n",
      "                                   ['Goms'],\n",
      "                                   ['Vallorbe'],\n",
      "                                   ['Orbe'],\n",
      "                                   ['Laufenburg'],\n",
      "                                   ['Wegenstetten'],\n",
      "                                   ['Staffelbach'],\n",
      "                                   ['Coeuve'],\n",
      "                                   ['Unterlangenegg'],\n",
      "                                   ['Tramelan'],\n",
      "                                   ['Les Genevez (JU)'],\n",
      "                                   ['Trüllikon'],\n",
      "                                   ['Conthey'],\n",
      "                                   ['Blenio'],\n",
      "                                   ['Baldingen'],\n",
      "                                   ['Oberlunkhofen'],\n",
      "                                   ['Sargans'],\n",
      "                                   ['Vullierens'],\n",
      "                                   ['Centovalli'],\n",
      "                                   ['Rougemont'],\n",
      "                                   ['Perroy'],\n",
      "                                   ['Lenk'],\n",
      "                                   ['Oberwil bei Büren'],\n",
      "                                   ['Busswil bei Melchnau'],\n",
      "                                   ['Täuffelen'],\n",
      "                                   ['Dalpe'],\n",
      "                                   ['Coldrerio'],\n",
      "                                   ['Steinen'],\n",
      "                                   ['Eschenz'],\n",
      "                                   ['Brienzwiler'],\n",
      "                                   ['Morcote'],\n",
      "                                   ['Beatenberg'],\n",
      "                                   ['Lignerolle'],\n",
      "                                   ['Trimmis'],\n",
      "                                   ['Allaman'],\n",
      "                                   ['Büron'],\n",
      "                                   ['Heimiswil'],\n",
      "                                   ['Valbirse'],\n",
      "                                   ['Rothenthurm'],\n",
      "                                   ['Remaufens'],\n",
      "                                   ['Hägendorf'],\n",
      "                                   ['Büttikon'],\n",
      "                                   ['Sion'],\n",
      "                                   ['Mirchel'],\n",
      "                                   ['Schöfflisdorf'],\n",
      "                                   ['Hägglingen'],\n",
      "                                   ['Egg'],\n",
      "                                   ['Basadingen-Schlattingen'],\n",
      "                                   ['Bichelsee-Balterswil'],\n",
      "                                   ['Alchenstorf'],\n",
      "                                   ['Buchs (SG)'],\n",
      "                                   ['Hochfelden'],\n",
      "                                   ['Avenches'],\n",
      "                                   ['Studen (BE)'],\n",
      "                                   ['Kleinbösingen'],\n",
      "                                   ['Ettingen'],\n",
      "                                   ['Scheuren'],\n",
      "                                   ['Dänikon'],\n",
      "                                   ['Meiringen'],\n",
      "                                   ['Dallenwil'],\n",
      "                                   ['Alpthal'],\n",
      "                                   ['Bergdietikon'],\n",
      "                                   ['Ehrendingen'],\n",
      "                                   ['Herrliberg'],\n",
      "                                   ['Dozwil'],\n",
      "                                   ['Le Chenit'],\n",
      "                                   ['Sorvilier'],\n",
      "                                   ['Steinmaur'],\n",
      "                                   ['Milvignes'],\n",
      "                                   ['Niederhasli'],\n",
      "                                   ['Erstfeld'],\n",
      "                                   ['Niedergösgen'],\n",
      "                                   ['Freienbach'],\n",
      "                                   ['Siglistorf'],\n",
      "                                   ['Schwellbrunn'],\n",
      "                                   ['Choulex'],\n",
      "                                   ['Plasselb'],\n",
      "                                   ['Grossaffoltern'],\n",
      "                                   ['Chêne-Bourg'],\n",
      "                                   ['Bözen'],\n",
      "                                   ['Truttikon'],\n",
      "                                   ['Aedermannsdorf'],\n",
      "                                   ['Ménières'],\n",
      "                                   ['Ursins'],\n",
      "                                   ['Eisten'],\n",
      "                                   ['Monteggio'],\n",
      "                                   ['Wald (AR)'],\n",
      "                                   ['Kappel (SO)'],\n",
      "                                   ['Astano'],\n",
      "                                   ['Realp'],\n",
      "                                   ['Lengwil'],\n",
      "                                   ['Treyvaux'],\n",
      "                                   [\"Château-d'Oex\"],\n",
      "                                   ['Grosshöchstetten'],\n",
      "                                   ['Eggiwil'],\n",
      "                                   ['Villorsonnens'],\n",
      "                                   ['Gretzenbach'],\n",
      "                                   ['Evolène'],\n",
      "                                   ['Saint-Légier-La Chiésaz'],\n",
      "                                   ['Heitenried'],\n",
      "                                   ['Bürglen (TG)'],\n",
      "                                   ['Féchy'],\n",
      "                                   ['Mörigen'],\n",
      "                                   ['Reinach (BL)'],\n",
      "                                   ['Liedertswil']], dtype=object),\n",
      "              'hovertemplate': ('True Y=1.0<br>% Yes=%{x}<br>Er' ... '{customdata[0]}<extra></extra>'),\n",
      "              'legendgroup': '1.0',\n",
      "              'marker': {'color': '#636efa', 'symbol': 'circle'},\n",
      "              'mode': 'markers',\n",
      "              'name': '1.0',\n",
      "              'orientation': 'v',\n",
      "              'showlegend': True,\n",
      "              'type': 'scatter',\n",
      "              'x': array([55.0, 50.4, 62.8, 68.1, 66.5, 64.5, 63.5, 60.1, 53.7, 60.4, 54.5, 64.9,\n",
      "                          59.4, 54.4, 55.0, 61.6, 62.2, 53.3, 52.8, 52.5, 69.2, 63.9, 55.3, 55.2,\n",
      "                          66.7, 66.9, 55.6, 52.2, 67.3, 61.8, 58.9, 66.1, 50.7, 58.2, 50.7, 61.1,\n",
      "                          53.9, 51.6, 56.6, 54.1, 64.4, 58.7, 51.5, 50.3, 77.6, 59.8, 64.0, 64.8,\n",
      "                          78.9, 63.5, 65.1, 55.2, 50.5, 50.7, 59.3, 61.0, 55.2, 63.0, 60.4, 53.5,\n",
      "                          60.7, 60.6, 58.5, 58.5, 66.7, 53.1, 65.2, 56.8, 59.8, 55.8, 65.9, 62.8,\n",
      "                          56.3, 56.7, 59.0, 60.2, 50.2, 63.4, 56.7, 55.9, 55.4, 59.6, 60.6, 60.9,\n",
      "                          57.5, 62.9, 60.4, 50.2, 65.2, 55.9, 54.1, 63.3, 72.2, 68.1, 63.8, 63.7,\n",
      "                          54.6, 63.5, 63.9, 66.4, 59.4, 51.9, 52.4, 52.4, 53.4, 65.1, 54.4, 61.4,\n",
      "                          59.6, 68.5, 54.8, 57.1, 63.7, 61.8, 54.8, 62.5, 54.5, 60.3, 60.6, 56.0,\n",
      "                          56.2, 60.7, 59.1, 69.4, 78.5, 59.1, 61.4, 66.5, 55.7, 71.2, 61.7, 55.2,\n",
      "                          51.8, 61.1, 58.9, 64.3, 53.3, 64.8, 64.4, 67.4, 57.1, 58.2, 65.1, 61.8,\n",
      "                          53.4, 62.3, 81.1, 57.0, 53.3, 51.7, 64.8, 64.2, 68.0, 58.5, 51.1, 58.2,\n",
      "                          63.0, 60.3, 56.9, 66.5, 61.8, 50.8, 69.3, 53.9, 51.7, 65.8, 56.1, 64.6,\n",
      "                          62.7, 51.0, 63.3, 65.4, 51.2, 55.4, 54.8, 58.9, 50.7, 64.4, 59.7, 50.6,\n",
      "                          69.9, 69.7, 55.5, 66.4, 52.0, 57.8, 61.2, 53.5, 62.8, 54.9, 70.4],\n",
      "                         dtype=object),\n",
      "              'xaxis': 'x',\n",
      "              'y': array([nan, nan, nan, nan, nan, nan, nan, nan, nan, nan, nan, nan, nan, nan,\n",
      "                          nan, nan, nan, nan, 0.0, nan, nan, nan, nan, nan, nan, nan, 0.0, nan,\n",
      "                          nan, nan, nan, nan, 1.0, nan, nan, nan, nan, nan, nan, nan, nan, nan,\n",
      "                          nan, nan, nan, nan, nan, nan, nan, nan, nan, nan, nan, nan, nan, nan,\n",
      "                          nan, nan, nan, nan, nan, nan, nan, nan, nan, nan, nan, 0.0, nan, nan,\n",
      "                          nan, nan, nan, nan, nan, nan, nan, nan, nan, nan, nan, nan, nan, nan,\n",
      "                          nan, nan, nan, nan, nan, nan, nan, nan, nan, nan, nan, nan, nan, 0.0,\n",
      "                          nan, nan, nan, nan, nan, nan, nan, nan, nan, nan, nan, 0.0, nan, nan,\n",
      "                          nan, nan, nan, nan, nan, nan, nan, nan, nan, nan, nan, nan, nan, nan,\n",
      "                          nan, nan, nan, nan, 0.0, nan, 0.0, nan, nan, nan, nan, 0.0, nan, nan,\n",
      "                          nan, nan, nan, 0.0, nan, nan, nan, nan, nan, 0.0, nan, nan, nan, 0.0,\n",
      "                          nan, 0.0, nan, nan, nan, nan, nan, nan, nan, 0.0, nan, nan, 0.0, nan,\n",
      "                          nan, nan, nan, nan, nan, nan, nan, nan, nan, nan, nan, nan, nan, nan,\n",
      "                          nan, nan, nan, nan, nan, nan, nan, nan, nan], dtype=object),\n",
      "              'yaxis': 'y'},\n",
      "             {'customdata': array([['Safiental'],\n",
      "                                   ['Ziefen'],\n",
      "                                   ['Maur'],\n",
      "                                   ['Begnins'],\n",
      "                                   ['Bätterkinden'],\n",
      "                                   ['Fürstenau'],\n",
      "                                   ['Apples'],\n",
      "                                   ['Schelten'],\n",
      "                                   ['Ittigen'],\n",
      "                                   ['Muri (AG)'],\n",
      "                                   ['Veyrier'],\n",
      "                                   ['Schwerzenbach'],\n",
      "                                   ['Lutry'],\n",
      "                                   ['Genève'],\n",
      "                                   ['Unterbäch'],\n",
      "                                   ['Richterswil'],\n",
      "                                   ['Ennetbaden'],\n",
      "                                   ['Pregny-Chambésy'],\n",
      "                                   ['Onsernone'],\n",
      "                                   ['Bedigliora'],\n",
      "                                   ['Wettswil am Albis'],\n",
      "                                   ['Hedingen'],\n",
      "                                   ['La Chaux-de-Fonds'],\n",
      "                                   ['Carouge (GE)'],\n",
      "                                   ['Mauraz'],\n",
      "                                   ['Rheinfelden']], dtype=object),\n",
      "              'hovertemplate': ('True Y=0.0<br>% Yes=%{x}<br>Er' ... '{customdata[0]}<extra></extra>'),\n",
      "              'legendgroup': '0.0',\n",
      "              'marker': {'color': '#EF553B', 'symbol': 'circle'},\n",
      "              'mode': 'markers',\n",
      "              'name': '0.0',\n",
      "              'orientation': 'v',\n",
      "              'showlegend': True,\n",
      "              'type': 'scatter',\n",
      "              'x': array([47.4, 48.3, 50.0, 49.2, 47.7, 49.2, 49.2, 48.1, 47.1, 49.4, 49.0, 46.6,\n",
      "                          50.0, 44.8, 46.5, 48.1, 30.9, 48.0, 49.1, 48.1, 46.6, 46.1, 49.7, 43.4,\n",
      "                          40.6, 49.2], dtype=object),\n",
      "              'xaxis': 'x',\n",
      "              'y': array([nan, nan, 1.0, nan, nan, nan, nan, nan, 1.0, nan, nan, 1.0, nan, nan,\n",
      "                          nan, 1.0, nan, nan, nan, nan, 1.0, 1.0, nan, nan, nan, nan],\n",
      "                         dtype=object),\n",
      "              'yaxis': 'y'}],\n",
      "    'layout': {'legend': {'title': {'text': 'True Y'}, 'tracegroupgap': 0},\n",
      "               'template': '...',\n",
      "               'title': {'text': '% Yes & Error Rate'},\n",
      "               'xaxis': {'anchor': 'y', 'domain': [0.0, 1.0], 'title': {'text': '% Yes'}},\n",
      "               'yaxis': {'anchor': 'x', 'domain': [0.0, 1.0], 'title': {'text': 'Error'}}}\n",
      "})\n"
     ]
    }
   ],
   "source": [
    "# REVIEW PLOT \n",
    "# Plot % Yes & Error\n",
    "ys = plts.plot_yes_perc_error(X_test_all, y_test, y_pred_rf) \n",
    "print(ys)"
   ]
  },
  {
   "cell_type": "markdown",
   "metadata": {},
   "source": [
    "#### Neural Networks "
   ]
  },
  {
   "cell_type": "code",
   "execution_count": null,
   "metadata": {},
   "outputs": [],
   "source": [
    "# Find best params for neural net\n",
    "\n",
    "# MISSING IMPLEMENTATION\n",
    "nn_best_params, accuracies = nn(X_train, X_dev, y_train, y_dev)"
   ]
  },
  {
   "cell_type": "code",
   "execution_count": null,
   "metadata": {},
   "outputs": [],
   "source": [
    "# Plots??"
   ]
  },
  {
   "cell_type": "code",
   "execution_count": null,
   "metadata": {},
   "outputs": [],
   "source": [
    "# Make prediction with best model \n",
    "\n",
    "# MISSING IMPLEMENTATION \n",
    "y_pred_nn = []"
   ]
  },
  {
   "cell_type": "code",
   "execution_count": null,
   "metadata": {},
   "outputs": [],
   "source": [
    "# Accuracy & F-Score\n",
    "print(\"Accuracy: \", accuracy_score(y_test, y_pred_nn))\n",
    "print(\"F score: \", f1_score(y_test, y_pred_nn))\n",
    "print(\"Classification report: \\n\", classification_report(y_test, y_pred_nn))"
   ]
  },
  {
   "cell_type": "code",
   "execution_count": null,
   "metadata": {},
   "outputs": [],
   "source": [
    "# Confusion matrix\n",
    "cm = confusion_matrix(y_test, y_pred_nn)\n",
    "ConfusionMatrixDisplay(cm, display_labels=labels).plot()"
   ]
  },
  {
   "cell_type": "code",
   "execution_count": null,
   "metadata": {},
   "outputs": [],
   "source": [
    "# Plot % Yes & Error\n",
    "plts.plot_yes_perc_error(X_test_all, y_test, y_pred_nn) "
   ]
  },
  {
   "cell_type": "code",
   "execution_count": null,
   "metadata": {},
   "outputs": [],
   "source": []
  },
  {
   "cell_type": "markdown",
   "metadata": {},
   "source": [
    "### Conclusions"
   ]
  },
  {
   "cell_type": "code",
   "execution_count": null,
   "metadata": {},
   "outputs": [],
   "source": [
    "# Table comparing best models and accuracies?"
   ]
  },
  {
   "cell_type": "code",
   "execution_count": null,
   "metadata": {},
   "outputs": [],
   "source": []
  }
 ],
 "metadata": {
  "kernelspec": {
   "display_name": "Python 3 (ipykernel)",
   "language": "python",
   "name": "python3"
  },
  "language_info": {
   "codemirror_mode": {
    "name": "ipython",
    "version": 3
   },
   "file_extension": ".py",
   "mimetype": "text/x-python",
   "name": "python",
   "nbconvert_exporter": "python",
   "pygments_lexer": "ipython3",
   "version": "3.9.10"
  }
 },
 "nbformat": 4,
 "nbformat_minor": 2
}
