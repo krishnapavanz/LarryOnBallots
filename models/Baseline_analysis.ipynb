{
 "cells": [
  {
   "cell_type": "code",
   "execution_count": 70,
   "id": "8a9c9a4e-633c-409b-ae98-faf494db9740",
   "metadata": {},
   "outputs": [],
   "source": [
    "import numpy as np\n",
    "import matplotlib.pylab as plt\n",
    "import pandas as pd\n",
    "\n",
    "from sklearn.model_selection import train_test_split\n",
    "from sklearn.neighbors import KNeighborsClassifier\n",
    "from sklearn.metrics import classification_report, confusion_matrix, accuracy_score\n",
    "from sklearn.preprocessing import binarize\n",
    "\n",
    "\n",
    "import sys\n",
    "import os\n",
    "\n",
    "sys.path.append(os.path.abspath('../resources'))\n",
    "import data_preprocessing as dp\n",
    "import split_normalization as sn\n",
    "\n",
    "file_dir = os.path.abspath('')\n",
    "\n",
    "face_cov_filepath = os.path.join(file_dir,\"..\",\"data\",\"face_covering.csv\")\n",
    "demographics_filepath = os.path.join(file_dir,\"..\",\"data\",\"demographics_2021.csv\")"
   ]
  },
  {
   "cell_type": "code",
   "execution_count": 71,
   "id": "1b4ab2d2-1245-4ca3-ab30-7a7fdcf496e6",
   "metadata": {},
   "outputs": [],
   "source": [
    "\n",
    "# Loading data\n",
    "demographics = dp.load_demographics(demographics_filepath)\n",
    "face_covering = dp.load_referendum(face_cov_filepath)\n",
    "\n",
    "# Merging data\n",
    "merged_data = dp.merge_demographics_referendum(demographics, face_covering)\n",
    "\n",
    "# 'names' can be edited to select a different set of columns\n",
    "names = ['population_density', 'foreigner_percentage', \\\n",
    "    'age_percentage_between_20_64', 'agriculture_surface_perc', \\\n",
    "    'participation_rate', 'yes_perc']\n",
    "df_filtered = merged_data.filter(names, axis=1)\n",
    "df_filtered = df_filtered.dropna()\n",
    "\n",
    "# Filtering data\n",
    "X = df_filtered.iloc[:, :-1].values\n",
    "y = df_filtered.iloc[:, len(names)-1].values\n",
    "\n",
    "# Converting continuous values to binary\n",
    "# Assuming that a referendum is passed when yes_perc >= 51\n",
    "y = np.array([1 if x >=51 else 0 for x in y])\n",
    "\n",
    "\n",
    "# Splitting data into train, development and test\n",
    "X_train, X_test, X_dev, y_train, y_test, y_dev = sn.split(X, y)\n"
   ]
  },
  {
   "cell_type": "markdown",
   "id": "a86ddaf9-5df1-4312-8173-2e5d86c4ad48",
   "metadata": {},
   "source": [
    "### KNN Analysis"
   ]
  },
  {
   "cell_type": "code",
   "execution_count": 72,
   "id": "651cf451-5550-4b9a-b093-e776a8b1c1c7",
   "metadata": {},
   "outputs": [
    {
     "name": "stdout",
     "output_type": "stream",
     "text": [
      "\n",
      "Development data: \n",
      "\n",
      "Confusion matrix: \n",
      " [[ 15  29]\n",
      " [ 16 157]]\n",
      "Classification report: \n",
      "               precision    recall  f1-score   support\n",
      "\n",
      "           0       0.48      0.34      0.40        44\n",
      "           1       0.84      0.91      0.87       173\n",
      "\n",
      "    accuracy                           0.79       217\n",
      "   macro avg       0.66      0.62      0.64       217\n",
      "weighted avg       0.77      0.79      0.78       217\n",
      "\n",
      "Accuracy score: \n",
      " 0.7926267281105991\n"
     ]
    },
    {
     "data": {
      "text/plain": [
       "Text(0, 0.5, 'Mean Error')"
      ]
     },
     "execution_count": 72,
     "metadata": {},
     "output_type": "execute_result"
    },
    {
     "data": {
      "image/png": "[encoded data removed]",
      "text/plain": [
       "<Figure size 864x432 with 1 Axes>"
      ]
     },
     "metadata": {
      "needs_background": "light"
     },
     "output_type": "display_data"
    }
   ],
   "source": [
    "\n",
    "## Development data\n",
    "print(\"\\nDevelopment data: \\n\")\n",
    "# Normalizing data\n",
    "X_train_reg, X_dev_reg = sn.min_max_scaling(X_train, X_dev)\n",
    "\n",
    "# Training KNN Classifier\n",
    "classifier = KNeighborsClassifier(n_neighbors=5)\n",
    "classifier.fit(X_train_reg, y_train)\n",
    "\n",
    "# Testing with development data\n",
    "y_dev_pred = classifier.predict(X_dev_reg)\n",
    "print(\"Confusion matrix: \\n\", confusion_matrix(y_dev, y_dev_pred))\n",
    "print(\"Classification report: \\n\",classification_report(y_dev, y_dev_pred))\n",
    "print(\"Accuracy score: \\n\",accuracy_score(y_dev, y_dev_pred))\n",
    "\n",
    "error = []\n",
    "# Calculating error for K values between 1 and 40\n",
    "for i in range(1, 40):\n",
    "    knn = KNeighborsClassifier(n_neighbors=i)\n",
    "    knn.fit(X_train, y_train)\n",
    "    pred_i_dev = knn.predict(X_dev)\n",
    "    error.append(np.mean(pred_i_dev != y_dev))\n",
    "plt.figure(figsize=(12, 6))\n",
    "plt.plot(range(1, 40), error, color='red', linestyle='dashed', marker='o',\n",
    "         markerfacecolor='blue', markersize=10)\n",
    "plt.title('Error Rate K Value with Development data')\n",
    "plt.xlabel('K Value')\n",
    "plt.ylabel('Mean Error')\n"
   ]
  },
  {
   "cell_type": "code",
   "execution_count": 73,
   "id": "fe5ff786-091d-4e6f-bf03-093c8630c610",
   "metadata": {},
   "outputs": [
    {
     "name": "stdout",
     "output_type": "stream",
     "text": [
      "\n",
      "Test data: \n",
      "\n",
      "Confusion matrix: \n",
      " [[ 11  26]\n",
      " [ 10 170]]\n",
      "Classification report: \n",
      "               precision    recall  f1-score   support\n",
      "\n",
      "           0       0.52      0.30      0.38        37\n",
      "           1       0.87      0.94      0.90       180\n",
      "\n",
      "    accuracy                           0.83       217\n",
      "   macro avg       0.70      0.62      0.64       217\n",
      "weighted avg       0.81      0.83      0.81       217\n",
      "\n",
      "Accuracy score: \n",
      " 0.8341013824884793\n"
     ]
    },
    {
     "data": {
      "text/plain": [
       "Text(0, 0.5, 'Mean Error')"
      ]
     },
     "execution_count": 73,
     "metadata": {},
     "output_type": "execute_result"
    },
    {
     "data": {
      "image/png": "[encoded data removed]",
      "text/plain": [
       "<Figure size 864x432 with 1 Axes>"
      ]
     },
     "metadata": {
      "needs_background": "light"
     },
     "output_type": "display_data"
    }
   ],
   "source": [
    "## Test data\n",
    "print(\"\\nTest data: \\n\")\n",
    "# Normalizing data\n",
    "X_train_reg, X_test_reg = sn.min_max_scaling(X_train, X_test)\n",
    "\n",
    "# Training KNN Classifier\n",
    "classifier = KNeighborsClassifier(n_neighbors=5)\n",
    "classifier.fit(X_train_reg, y_train)\n",
    "\n",
    "# Testing with test data\n",
    "y_test_pred = classifier.predict(X_test_reg)\n",
    "print(\"Confusion matrix: \\n\", confusion_matrix(y_test, y_test_pred))\n",
    "print(\"Classification report: \\n\",classification_report(y_test, y_test_pred))\n",
    "print(\"Accuracy score: \\n\",accuracy_score(y_test, y_test_pred))\n",
    "\n",
    "error = []\n",
    "# Calculating error for K values between 1 and 40\n",
    "for i in range(1, 40):\n",
    "    knn = KNeighborsClassifier(n_neighbors=i)\n",
    "    knn.fit(X_train, y_train)\n",
    "    pred_i_test = knn.predict(X_test)\n",
    "    error.append(np.mean(pred_i_test != y_test))\n",
    "\n",
    "plt.figure(figsize=(12, 6))\n",
    "plt.plot(range(1, 40), error, color='red', linestyle='dashed', marker='o',\n",
    "         markerfacecolor='blue', markersize=10)\n",
    "plt.title('Error Rate K Value with Test data')\n",
    "plt.xlabel('K Value')\n",
    "plt.ylabel('Mean Error')"
   ]
  },
  {
   "cell_type": "markdown",
   "id": "6cb0da5b-b955-4baf-9b79-539c7622636a",
   "metadata": {},
   "source": [
    "### Decision Tree"
   ]
  },
  {
   "cell_type": "code",
   "execution_count": 74,
   "id": "a92b98b4-6b6b-4abc-a306-f43e742ed0d9",
   "metadata": {},
   "outputs": [],
   "source": [
    "from sklearn.tree import DecisionTreeClassifier\n",
    "from sklearn import tree\n",
    "import graphviz\n",
    "from sklearn.tree import export_text\n",
    "from IPython.display import display"
   ]
  },
  {
   "cell_type": "code",
   "execution_count": 75,
   "id": "85ef3b06-5c46-40c8-8792-4996aef421e6",
   "metadata": {},
   "outputs": [
    {
     "data": {
      "text/plain": [
       "DecisionTreeClassifier(max_depth=3, min_samples_leaf=5, random_state=42)"
      ]
     },
     "execution_count": 75,
     "metadata": {},
     "output_type": "execute_result"
    }
   ],
   "source": [
    "# Training Decision tree\n",
    "clf_model = DecisionTreeClassifier(criterion=\"gini\", random_state=42, max_depth=3, min_samples_leaf=5)\n",
    "clf_model.fit(X_train,y_train)"
   ]
  },
  {
   "cell_type": "code",
   "execution_count": 76,
   "id": "7d364b16-ca2f-477e-95d5-2b5042ded6cd",
   "metadata": {},
   "outputs": [
    {
     "name": "stdout",
     "output_type": "stream",
     "text": [
      "\n",
      "Development data: \n",
      "\n",
      "Confusion matrix: \n",
      " [[ 15  29]\n",
      " [  9 164]]\n",
      "Classification report: \n",
      "               precision    recall  f1-score   support\n",
      "\n",
      "           0       0.62      0.34      0.44        44\n",
      "           1       0.85      0.95      0.90       173\n",
      "\n",
      "    accuracy                           0.82       217\n",
      "   macro avg       0.74      0.64      0.67       217\n",
      "weighted avg       0.80      0.82      0.80       217\n",
      "\n",
      "Accuracy score: \n",
      " 0.8248847926267281\n",
      "|--- population_density <= 637.50\n",
      "|   |--- participation_rate <= 54.05\n",
      "|   |   |--- agriculture_surface_perc <= 32.85\n",
      "|   |   |   |--- class: 1\n",
      "|   |   |--- agriculture_surface_perc >  32.85\n",
      "|   |   |   |--- class: 1\n",
      "|   |--- participation_rate >  54.05\n",
      "|   |   |--- population_density <= 241.00\n",
      "|   |   |   |--- class: 1\n",
      "|   |   |--- population_density >  241.00\n",
      "|   |   |   |--- class: 1\n",
      "|--- population_density >  637.50\n",
      "|   |--- participation_rate <= 50.45\n",
      "|   |   |--- population_density <= 2606.50\n",
      "|   |   |   |--- class: 1\n",
      "|   |   |--- population_density >  2606.50\n",
      "|   |   |   |--- class: 0\n",
      "|   |--- participation_rate >  50.45\n",
      "|   |   |--- population_density <= 1159.50\n",
      "|   |   |   |--- class: 0\n",
      "|   |   |--- population_density >  1159.50\n",
      "|   |   |   |--- class: 0\n",
      "\n"
     ]
    }
   ],
   "source": [
    "## Development data\n",
    "print(\"\\nDevelopment data: \\n\")\n",
    "# Testing with development data\n",
    "y_dev_pred = clf_model.predict(X_dev)\n",
    "print(\"Confusion matrix: \\n\", confusion_matrix(y_dev, y_dev_pred))\n",
    "print(\"Classification report: \\n\",classification_report(y_dev, y_dev_pred))\n",
    "print(\"Accuracy score: \\n\",accuracy_score(y_dev, y_dev_pred))\n",
    "\n",
    "# Plotting the Decision tree\n",
    "target = [\"0\", \"1\"]\n",
    "feature_names = names[:-1]\n",
    "\n",
    "# Graphical model\n",
    "# dot_data = tree.export_graphviz(clf_model,\n",
    "#                                 out_file=None,\n",
    "#                       feature_names=feature_names,\n",
    "#                       class_names=target,\n",
    "#                       filled=True, rounded=True,\n",
    "#                       special_characters=True)\n",
    "# graph = graphviz.Source(dot_data)\n",
    "# display(graph)\n",
    "\n",
    "# Textual model\n",
    "r = export_text(clf_model, feature_names=feature_names)\n",
    "print(r)"
   ]
  },
  {
   "cell_type": "code",
   "execution_count": 77,
   "id": "d1ac031c-43b9-42de-b425-d0c780e61160",
   "metadata": {},
   "outputs": [
    {
     "name": "stdout",
     "output_type": "stream",
     "text": [
      "\n",
      "Test data: \n",
      "\n",
      "Confusion matrix: \n",
      " [[ 11  26]\n",
      " [ 15 165]]\n",
      "Classification report: \n",
      "               precision    recall  f1-score   support\n",
      "\n",
      "           0       0.42      0.30      0.35        37\n",
      "           1       0.86      0.92      0.89       180\n",
      "\n",
      "    accuracy                           0.81       217\n",
      "   macro avg       0.64      0.61      0.62       217\n",
      "weighted avg       0.79      0.81      0.80       217\n",
      "\n",
      "Accuracy score: \n",
      " 0.8110599078341014\n",
      "Textual model: \n",
      "\n",
      "|--- population_density <= 637.50\n",
      "|   |--- participation_rate <= 54.05\n",
      "|   |   |--- agriculture_surface_perc <= 32.85\n",
      "|   |   |   |--- class: 1\n",
      "|   |   |--- agriculture_surface_perc >  32.85\n",
      "|   |   |   |--- class: 1\n",
      "|   |--- participation_rate >  54.05\n",
      "|   |   |--- population_density <= 241.00\n",
      "|   |   |   |--- class: 1\n",
      "|   |   |--- population_density >  241.00\n",
      "|   |   |   |--- class: 1\n",
      "|--- population_density >  637.50\n",
      "|   |--- participation_rate <= 50.45\n",
      "|   |   |--- population_density <= 2606.50\n",
      "|   |   |   |--- class: 1\n",
      "|   |   |--- population_density >  2606.50\n",
      "|   |   |   |--- class: 0\n",
      "|   |--- participation_rate >  50.45\n",
      "|   |   |--- population_density <= 1159.50\n",
      "|   |   |   |--- class: 0\n",
      "|   |   |--- population_density >  1159.50\n",
      "|   |   |   |--- class: 0\n",
      "\n"
     ]
    }
   ],
   "source": [
    "\n",
    "## Test data\n",
    "# Testing with test data\n",
    "print(\"\\nTest data: \\n\")\n",
    "y_test_pred = clf_model.predict(X_test)\n",
    "print(\"Confusion matrix: \\n\", confusion_matrix(y_test, y_test_pred))\n",
    "print(\"Classification report: \\n\",classification_report(y_test, y_test_pred))\n",
    "print(\"Accuracy score: \\n\",accuracy_score(y_test, y_test_pred))\n",
    "\n",
    "# Plotting the Decision tree\n",
    "target = [0, 1]\n",
    "feature_names = names[:-1]\n",
    "\n",
    "# Graphical model\n",
    "# dot_data = tree.export_graphviz(clf_model,\n",
    "#                                 out_file=None,\n",
    "#                       feature_names=feature_names,\n",
    "#                       class_names=target,\n",
    "#                       filled=True, rounded=True,\n",
    "#                       special_characters=True)\n",
    "# graph = graphviz.Source(dot_data)\n",
    "# print(graph)\n",
    "\n",
    "# Textual model\n",
    "print(\"Textual model: \\n\")\n",
    "r = export_text(clf_model, feature_names=feature_names)\n",
    "print(r)"
   ]
  },
  {
   "cell_type": "markdown",
   "id": "756d620e-e59d-4248-9388-3bda03faadde",
   "metadata": {},
   "source": [
    "### Logistic regression"
   ]
  },
  {
   "cell_type": "code",
   "execution_count": 78,
   "id": "3575f37f-96fc-4ca7-83aa-1f2be559f69d",
   "metadata": {},
   "outputs": [],
   "source": [
    "from sklearn.linear_model import LogisticRegression\n",
    "from sklearn import metrics"
   ]
  },
  {
   "cell_type": "code",
   "execution_count": 79,
   "id": "8c57ea74-b6de-44a2-b29f-c4d513fc2184",
   "metadata": {},
   "outputs": [
    {
     "data": {
      "text/plain": [
       "LogisticRegression()"
      ]
     },
     "execution_count": 79,
     "metadata": {},
     "output_type": "execute_result"
    }
   ],
   "source": [
    "## Logistic regression\n",
    "logreg = LogisticRegression()\n",
    "# Instantiate the  model (using the default parameters)\n",
    "logreg = LogisticRegression()\n",
    "\n",
    "# fit the model with data\n",
    "logreg.fit(X_train,y_train)"
   ]
  },
  {
   "cell_type": "code",
   "execution_count": 80,
   "id": "4af5d4b5-0dd6-465b-8375-2d9c177946db",
   "metadata": {},
   "outputs": [
    {
     "name": "stdout",
     "output_type": "stream",
     "text": [
      "\n",
      "Development data: \n",
      "\n",
      "Confusion matrix: \n",
      " [[  5  39]\n",
      " [  4 169]]\n",
      "Classification report: \n",
      "               precision    recall  f1-score   support\n",
      "\n",
      "           0       0.56      0.11      0.19        44\n",
      "           1       0.81      0.98      0.89       173\n",
      "\n",
      "    accuracy                           0.80       217\n",
      "   macro avg       0.68      0.55      0.54       217\n",
      "weighted avg       0.76      0.80      0.75       217\n",
      "\n",
      "Accuracy score: \n",
      " 0.8018433179723502\n"
     ]
    },
    {
     "data": {
      "image/png": "[encoded data removed]",
      "text/plain": [
       "<Figure size 432x288 with 1 Axes>"
      ]
     },
     "metadata": {
      "needs_background": "light"
     },
     "output_type": "display_data"
    }
   ],
   "source": [
    "\n",
    "## Development data\n",
    "print(\"\\nDevelopment data: \\n\")\n",
    "# Testing with development data\n",
    "y_dev_pred = logreg.predict(X_dev)\n",
    "print(\"Confusion matrix: \\n\", confusion_matrix(y_dev, y_dev_pred))\n",
    "print(\"Classification report: \\n\",classification_report(y_dev, y_dev_pred))\n",
    "print(\"Accuracy score: \\n\",accuracy_score(y_dev, y_dev_pred))\n",
    "\n",
    "y_dev_pred_proba = logreg.predict_proba(X_dev)[::,1]\n",
    "fpr, tpr, _ = metrics.roc_curve(y_dev,  y_dev_pred_proba)\n",
    "auc = metrics.roc_auc_score(y_dev,  y_dev_pred_proba)\n",
    "plt.plot(fpr,tpr,label=\"data 1, auc=\"+str(auc))\n",
    "plt.legend(loc=4)\n",
    "plt.show()"
   ]
  },
  {
   "cell_type": "code",
   "execution_count": 81,
   "id": "e67caf99-e803-4c47-a066-84cfc3072b93",
   "metadata": {},
   "outputs": [
    {
     "name": "stdout",
     "output_type": "stream",
     "text": [
      "\n",
      "Test data: \n",
      "\n",
      "Confusion matrix: \n",
      " [[  6  31]\n",
      " [  2 178]]\n",
      "Classification report: \n",
      "               precision    recall  f1-score   support\n",
      "\n",
      "           0       0.75      0.16      0.27        37\n",
      "           1       0.85      0.99      0.92       180\n",
      "\n",
      "    accuracy                           0.85       217\n",
      "   macro avg       0.80      0.58      0.59       217\n",
      "weighted avg       0.83      0.85      0.80       217\n",
      "\n",
      "Accuracy score: \n",
      " 0.847926267281106\n"
     ]
    },
    {
     "data": {
      "image/png": "[encoded data removed]",
      "text/plain": [
       "<Figure size 432x288 with 1 Axes>"
      ]
     },
     "metadata": {
      "needs_background": "light"
     },
     "output_type": "display_data"
    }
   ],
   "source": [
    "\n",
    "## Test data\n",
    "print(\"\\nTest data: \\n\")\n",
    "# Testing with development data\n",
    "y_test_pred = logreg.predict(X_test)\n",
    "print(\"Confusion matrix: \\n\", confusion_matrix(y_test, y_test_pred))\n",
    "print(\"Classification report: \\n\",classification_report(y_test, y_test_pred))\n",
    "print(\"Accuracy score: \\n\",accuracy_score(y_test, y_test_pred))\n",
    "\n",
    "y_test_pred_proba = logreg.predict_proba(X_test)[::,1]\n",
    "fpr, tpr, _ = metrics.roc_curve(y_test,  y_test_pred_proba)\n",
    "auc = metrics.roc_auc_score(y_test,  y_test_pred_proba)\n",
    "plt.plot(fpr,tpr,label=\"data 1, auc=\"+str(auc))\n",
    "plt.legend(loc=4)\n",
    "plt.show()"
   ]
  },
  {
   "cell_type": "code",
   "execution_count": null,
   "id": "28ec4683-e1dd-4fc0-8d46-fb26694a81f2",
   "metadata": {},
   "outputs": [],
   "source": []
  }
 ],
 "metadata": {
  "kernelspec": {
   "display_name": "Python 3 (ipykernel)",
   "language": "python",
   "name": "python3"
  },
  "language_info": {
   "codemirror_mode": {
    "name": "ipython",
    "version": 3
   },
   "file_extension": ".py",
   "mimetype": "text/x-python",
   "name": "python",
   "nbconvert_exporter": "python",
   "pygments_lexer": "ipython3",
   "version": "3.9.7"
  }
 },
 "nbformat": 4,
 "nbformat_minor": 5
}
