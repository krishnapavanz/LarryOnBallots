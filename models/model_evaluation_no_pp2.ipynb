{
 "cells": [
  {
   "cell_type": "markdown",
   "metadata": {},
   "source": [
    "# Model Evaluation"
   ]
  },
  {
   "cell_type": "code",
   "execution_count": 1,
   "metadata": {},
   "outputs": [],
   "source": [
    "# Load libraries\n",
    "import sys\n",
    "import os\n",
    "import warnings\n",
    "import numpy as np\n",
    "import matplotlib.pylab as plt\n",
    "import pandas as pd\n",
    "\n",
    "from sklearn.model_selection import train_test_split\n",
    "from sklearn.neighbors import KNeighborsClassifier\n",
    "from sklearn.tree import DecisionTreeClassifier\n",
    "from sklearn.linear_model import LogisticRegression\n",
    "from sklearn.metrics import classification_report, confusion_matrix, \\\n",
    "accuracy_score, ConfusionMatrixDisplay, f1_score\n",
    "from sklearn.preprocessing import binarize\n",
    "from sklearn.tree import export_text"
   ]
  },
  {
   "cell_type": "code",
   "execution_count": 2,
   "metadata": {},
   "outputs": [],
   "source": [
    "# Set working directory - ONLY RUN ONCE\n",
    "os.chdir('../')"
   ]
  },
  {
   "cell_type": "code",
   "execution_count": 3,
   "metadata": {},
   "outputs": [],
   "source": [
    "import resources.data_preprocessing as dp\n",
    "import resources.split_normalization as sn\n",
    "import resources.dummies_colinearity as dc\n",
    "import models.lg as lg\n",
    "import models.decision_tree_2 as dt\n",
    "import models.random_forest as rf\n",
    "import models.endline_analysis as ea\n",
    "import models.nn as nn\n",
    "import plots.plots as plts"
   ]
  },
  {
   "cell_type": "code",
   "execution_count": 4,
   "metadata": {},
   "outputs": [],
   "source": [
    "# Hyde warnings\n",
    "warnings.filterwarnings('ignore')"
   ]
  },
  {
   "cell_type": "markdown",
   "metadata": {},
   "source": [
    "### Data loading and preprocessing"
   ]
  },
  {
   "cell_type": "code",
   "execution_count": 5,
   "metadata": {},
   "outputs": [],
   "source": [
    "# File paths\n",
    "file_dir = os.path.abspath('')\n",
    "face_cov_filepath = os.path.join(file_dir,\"data\",\"face_covering.csv\")\n",
    "demographics_filepath = os.path.join(file_dir,\"data\",\"demographics_2021.csv\")"
   ]
  },
  {
   "cell_type": "code",
   "execution_count": 6,
   "metadata": {},
   "outputs": [],
   "source": [
    "# Load data\n",
    "demographics = dp.load_demographics(demographics_filepath)\n",
    "face_covering = dp.load_referendum(face_cov_filepath)"
   ]
  },
  {
   "cell_type": "code",
   "execution_count": 7,
   "metadata": {},
   "outputs": [],
   "source": [
    "# Merge data\n",
    "merged_data_raw = dp.merge_demographics_referendum(demographics, face_covering)\n",
    "merged_data_raw = merged_data_raw[merged_data_raw['yes'].notna()]"
   ]
  },
  {
   "cell_type": "code",
   "execution_count": 8,
   "metadata": {},
   "outputs": [],
   "source": [
    "# Remove irrelevant attributes\n",
    "rm_attr = [\"id\", \"canton_id\", \"municipality_ref\", \"age_percentage_less_20\", \"death_rate\",\n",
    "        \"social_aid_perc\", \"employment_total\", \"establishments_total\", \"establishments_primary\",\n",
    "        \"establishments_secondary\", \"establishments_tertiary\", \"cast_ballots\", \"participation_rate\", \n",
    "        \"registered_voters\", \"blank_votes\", \"invalid_votes\", \"valid_ballots\", \"yes_count\", \"no_count\",\n",
    "          \"PLR\", \"PDC\", \"PS\", \"UDC\", \"PEV_PCS\", \"PVL\", \"PBD\", \"PST_Sol\", \"PES\", \"small_right_parties\"]\n",
    "merged_data = merged_data_raw.drop(rm_attr, axis = 1)"
   ]
  },
  {
   "cell_type": "code",
   "execution_count": 9,
   "metadata": {},
   "outputs": [],
   "source": [
    "# Create dummy columns for categorical attributes\n",
    "dummy_cols = [\"canton\"]\n",
    "merged_data = dc.add_dummies(merged_data, dummy_cols)"
   ]
  },
  {
   "cell_type": "code",
   "execution_count": 10,
   "metadata": {},
   "outputs": [],
   "source": [
    "# Separate X and y\n",
    "X_attr = merged_data.columns.to_list()\n",
    "X_attr.remove('yes')\n",
    "X = merged_data.drop([\"yes\"], axis = 1)\n",
    "y_attr = \"yes\"\n",
    "y = merged_data[\"yes\"]"
   ]
  },
  {
   "cell_type": "code",
   "execution_count": 11,
   "metadata": {},
   "outputs": [
    {
     "name": "stdout",
     "output_type": "stream",
     "text": [
      "Shapes:\n",
      "X_train : (1733, 51) \n",
      "X_dev:  (217, 51) \n",
      "X_test:  (217, 51)\n"
     ]
    }
   ],
   "source": [
    "# Split data into train, development and test\n",
    "X_train_all, X_test_all, X_dev_all, y_train, y_test, y_dev = sn.split(X, y)\n",
    "print(\"Shapes:\\nX_train :\", X_train_all.shape, \"\\nX_dev: \", X_dev_all.shape, \"\\nX_test: \", X_test_all.shape)"
   ]
  },
  {
   "cell_type": "code",
   "execution_count": 12,
   "metadata": {},
   "outputs": [],
   "source": [
    "# Handle NAs\n",
    "for dataframe in [X_train_all, X_test_all, X_dev_all]:\n",
    "    dataframe = dp.handle_na(dataframe, fill = \"KNN\", nn=5)"
   ]
  },
  {
   "cell_type": "code",
   "execution_count": 13,
   "metadata": {},
   "outputs": [],
   "source": [
    "# Remove yes_perc (required later for evaluation)\n",
    "X_train = X_train_all.drop([\"yes_perc\", \"municipality_dem\"], axis = 1)\n",
    "X_test = X_test_all.drop([\"yes_perc\", \"municipality_dem\"], axis = 1)\n",
    "X_dev = X_dev_all.drop([\"yes_perc\", \"municipality_dem\"], axis = 1)\n",
    "\n",
    "X_attr_2 = [c for c in X_attr if c not in [\"yes_perc\", \"municipality_dem\"]]"
   ]
  },
  {
   "cell_type": "code",
   "execution_count": 14,
   "metadata": {},
   "outputs": [],
   "source": [
    "# Save column names\n",
    "X_cols = X_train.columns"
   ]
  },
  {
   "cell_type": "code",
   "execution_count": 15,
   "metadata": {},
   "outputs": [],
   "source": [
    "# Scale attributes\n",
    "X_train, X_test, X_dev = sn.min_max_scaling(X_train, X_test, X_dev)"
   ]
  },
  {
   "cell_type": "code",
   "execution_count": 16,
   "metadata": {},
   "outputs": [],
   "source": [
    "# Add column names\n",
    "X_train.columns = X_cols\n",
    "X_test.columns = X_cols\n",
    "X_dev.columns = X_cols"
   ]
  },
  {
   "cell_type": "code",
   "execution_count": 17,
   "metadata": {},
   "outputs": [
    {
     "data": {
      "text/plain": [
       "['population',\n",
       " 'population_variation',\n",
       " 'population_density',\n",
       " 'foreigner_percentage',\n",
       " 'age_percentage_between_20_64',\n",
       " 'age_percentage_more_64',\n",
       " 'marriage_rate',\n",
       " 'divorce_rate',\n",
       " 'birth_rate',\n",
       " 'private_households',\n",
       " 'avg_household_size',\n",
       " 'total_surface',\n",
       " 'housing_and_infrastructure_surface',\n",
       " 'housing_and_infrastructure_surface_variation',\n",
       " 'agriculture_surface_perc',\n",
       " 'agriculture_variation_surface_perc',\n",
       " 'forest_surface_perc',\n",
       " 'unproductive_surface_perc',\n",
       " 'employment_primary',\n",
       " 'employment_secondary',\n",
       " 'employment_tertiary',\n",
       " 'empty_housing_units',\n",
       " 'new_housing_units_per_capita',\n",
       " 'canton_Aargau',\n",
       " 'canton_Appenzell_Ausserrhoden',\n",
       " 'canton_Appenzell_Innerrhoden',\n",
       " 'canton_Basel_Landschaft',\n",
       " 'canton_Basel_Stadt',\n",
       " 'canton_Bern',\n",
       " 'canton_Fribourg',\n",
       " 'canton_Geneve',\n",
       " 'canton_Glarus',\n",
       " 'canton_Graubunden',\n",
       " 'canton_Jura',\n",
       " 'canton_Luzern',\n",
       " 'canton_Neuchatel',\n",
       " 'canton_Nidwalden',\n",
       " 'canton_Obwalden',\n",
       " 'canton_Schaffhausen',\n",
       " 'canton_Schwyz',\n",
       " 'canton_Solothurn',\n",
       " 'canton_St_Gallen',\n",
       " 'canton_Thurgau',\n",
       " 'canton_Ticino',\n",
       " 'canton_Uri',\n",
       " 'canton_Vaud',\n",
       " 'canton_Wallis',\n",
       " 'canton_Zug',\n",
       " 'canton_Zurich']"
      ]
     },
     "execution_count": 17,
     "metadata": {},
     "output_type": "execute_result"
    }
   ],
   "source": [
    "list(X_train)"
   ]
  },
  {
   "cell_type": "markdown",
   "metadata": {},
   "source": [
    "### Modelling "
   ]
  },
  {
   "cell_type": "code",
   "execution_count": 18,
   "metadata": {},
   "outputs": [],
   "source": [
    "labels = [\"no\", \"yes\"]"
   ]
  },
  {
   "cell_type": "markdown",
   "metadata": {},
   "source": [
    "#### Logistic Regression"
   ]
  },
  {
   "cell_type": "code",
   "execution_count": 20,
   "metadata": {},
   "outputs": [],
   "source": [
    "# Find best params for logistic regression\n",
    "lg_dict, accuracies_lg = lg.logistic_reg_hp(X_train, X_dev, y_train, y_dev)"
   ]
  },
  {
   "cell_type": "code",
   "execution_count": 21,
   "metadata": {},
   "outputs": [
    {
     "data": {
      "text/html": [
       "<div>\n",
       "<style scoped>\n",
       "    .dataframe tbody tr th:only-of-type {\n",
       "        vertical-align: middle;\n",
       "    }\n",
       "\n",
       "    .dataframe tbody tr th {\n",
       "        vertical-align: top;\n",
       "    }\n",
       "\n",
       "    .dataframe thead th {\n",
       "        text-align: right;\n",
       "    }\n",
       "</style>\n",
       "<table border=\"1\" class=\"dataframe\">\n",
       "  <thead>\n",
       "    <tr style=\"text-align: right;\">\n",
       "      <th></th>\n",
       "      <th>C</th>\n",
       "      <th>penalty</th>\n",
       "      <th>solver</th>\n",
       "      <th>mean_acc</th>\n",
       "    </tr>\n",
       "  </thead>\n",
       "  <tbody>\n",
       "    <tr>\n",
       "      <th>0</th>\n",
       "      <td>100.00</td>\n",
       "      <td>l2</td>\n",
       "      <td>newton-cg</td>\n",
       "      <td>0.839487</td>\n",
       "    </tr>\n",
       "    <tr>\n",
       "      <th>1</th>\n",
       "      <td>100.00</td>\n",
       "      <td>l2</td>\n",
       "      <td>lbfgs</td>\n",
       "      <td>0.839487</td>\n",
       "    </tr>\n",
       "    <tr>\n",
       "      <th>2</th>\n",
       "      <td>100.00</td>\n",
       "      <td>l2</td>\n",
       "      <td>liblinear</td>\n",
       "      <td>0.839658</td>\n",
       "    </tr>\n",
       "    <tr>\n",
       "      <th>3</th>\n",
       "      <td>10.00</td>\n",
       "      <td>l2</td>\n",
       "      <td>newton-cg</td>\n",
       "      <td>0.838632</td>\n",
       "    </tr>\n",
       "    <tr>\n",
       "      <th>4</th>\n",
       "      <td>10.00</td>\n",
       "      <td>l2</td>\n",
       "      <td>lbfgs</td>\n",
       "      <td>0.838632</td>\n",
       "    </tr>\n",
       "    <tr>\n",
       "      <th>5</th>\n",
       "      <td>10.00</td>\n",
       "      <td>l2</td>\n",
       "      <td>liblinear</td>\n",
       "      <td>0.838462</td>\n",
       "    </tr>\n",
       "    <tr>\n",
       "      <th>6</th>\n",
       "      <td>1.00</td>\n",
       "      <td>l2</td>\n",
       "      <td>newton-cg</td>\n",
       "      <td>0.833162</td>\n",
       "    </tr>\n",
       "    <tr>\n",
       "      <th>7</th>\n",
       "      <td>1.00</td>\n",
       "      <td>l2</td>\n",
       "      <td>lbfgs</td>\n",
       "      <td>0.833162</td>\n",
       "    </tr>\n",
       "    <tr>\n",
       "      <th>8</th>\n",
       "      <td>1.00</td>\n",
       "      <td>l2</td>\n",
       "      <td>liblinear</td>\n",
       "      <td>0.833162</td>\n",
       "    </tr>\n",
       "    <tr>\n",
       "      <th>9</th>\n",
       "      <td>0.10</td>\n",
       "      <td>l2</td>\n",
       "      <td>newton-cg</td>\n",
       "      <td>0.829402</td>\n",
       "    </tr>\n",
       "    <tr>\n",
       "      <th>10</th>\n",
       "      <td>0.10</td>\n",
       "      <td>l2</td>\n",
       "      <td>lbfgs</td>\n",
       "      <td>0.829402</td>\n",
       "    </tr>\n",
       "    <tr>\n",
       "      <th>11</th>\n",
       "      <td>0.10</td>\n",
       "      <td>l2</td>\n",
       "      <td>liblinear</td>\n",
       "      <td>0.82906</td>\n",
       "    </tr>\n",
       "    <tr>\n",
       "      <th>12</th>\n",
       "      <td>0.01</td>\n",
       "      <td>l2</td>\n",
       "      <td>newton-cg</td>\n",
       "      <td>0.827179</td>\n",
       "    </tr>\n",
       "    <tr>\n",
       "      <th>13</th>\n",
       "      <td>0.01</td>\n",
       "      <td>l2</td>\n",
       "      <td>lbfgs</td>\n",
       "      <td>0.827179</td>\n",
       "    </tr>\n",
       "    <tr>\n",
       "      <th>14</th>\n",
       "      <td>0.01</td>\n",
       "      <td>l2</td>\n",
       "      <td>liblinear</td>\n",
       "      <td>0.827179</td>\n",
       "    </tr>\n",
       "  </tbody>\n",
       "</table>\n",
       "</div>"
      ],
      "text/plain": [
       "         C penalty     solver  mean_acc\n",
       "0   100.00      l2  newton-cg  0.839487\n",
       "1   100.00      l2      lbfgs  0.839487\n",
       "2   100.00      l2  liblinear  0.839658\n",
       "3    10.00      l2  newton-cg  0.838632\n",
       "4    10.00      l2      lbfgs  0.838632\n",
       "5    10.00      l2  liblinear  0.838462\n",
       "6     1.00      l2  newton-cg  0.833162\n",
       "7     1.00      l2      lbfgs  0.833162\n",
       "8     1.00      l2  liblinear  0.833162\n",
       "9     0.10      l2  newton-cg  0.829402\n",
       "10    0.10      l2      lbfgs  0.829402\n",
       "11    0.10      l2  liblinear   0.82906\n",
       "12    0.01      l2  newton-cg  0.827179\n",
       "13    0.01      l2      lbfgs  0.827179\n",
       "14    0.01      l2  liblinear  0.827179"
      ]
     },
     "execution_count": 21,
     "metadata": {},
     "output_type": "execute_result"
    }
   ],
   "source": [
    "accuracies_display = accuracies_lg.params.apply(pd.Series)\n",
    "accuracies_display['mean_acc'] = accuracies_lg['mean_acc']\n",
    "accuracies_display"
   ]
  },
  {
   "cell_type": "code",
   "execution_count": 22,
   "metadata": {},
   "outputs": [],
   "source": [
    "# Make prediction with best params\n",
    "y_pred_lg, logreg = lg.logistic_reg_max_hp(X_train, X_test, y_train, y_test, max_params=lg_dict[\"max_params\"])"
   ]
  },
  {
   "cell_type": "code",
   "execution_count": 24,
   "metadata": {},
   "outputs": [
    {
     "data": {
      "application/vnd.plotly.v1+json": {
       "config": {
        "plotlyServerURL": "https://plot.ly"
       },
       "data": [
        {
         "alignmentgroup": "True",
         "cliponaxis": false,
         "hovertemplate": "attribute=%{x}<br>weight=%{y}<extra></extra>",
         "legendgroup": "",
         "marker": {
          "color": "#636efa",
          "pattern": {
           "shape": ""
          }
         },
         "name": "",
         "offsetgroup": "",
         "orientation": "v",
         "showlegend": false,
         "textangle": 0,
         "textfont": {
          "size": 12
         },
         "textposition": "outside",
         "texttemplate": "%{y:.2s}",
         "type": "bar",
         "x": [
          "employment_secondary",
          "housing_and_infrastructure_surface_variation",
          "age_percentage_between_20_64",
          "canton_Schwyz",
          "agriculture_variation_surface_perc",
          "canton_Basel_Stadt",
          "employment_primary",
          "total_surface",
          "canton_Ticino",
          "population_variation",
          "age_percentage_more_64",
          "canton_Obwalden",
          "canton_Appenzell_Innerrhoden",
          "divorce_rate",
          "marriage_rate",
          "new_housing_units_per_capita",
          "agriculture_surface_perc",
          "foreigner_percentage",
          "canton_Uri",
          "population_density",
          "canton_Wallis",
          "canton_Schaffhausen",
          "canton_Aargau",
          "canton_Fribourg",
          "canton_Neuchatel",
          "canton_Basel_Landschaft",
          "canton_Nidwalden",
          "forest_surface_perc",
          "canton_Geneve",
          "empty_housing_units",
          "unproductive_surface_perc",
          "canton_St_Gallen",
          "canton_Zurich",
          "canton_Bern",
          "birth_rate",
          "canton_Jura",
          "canton_Zug",
          "canton_Solothurn",
          "canton_Thurgau",
          "canton_Vaud",
          "canton_Luzern",
          "canton_Graubunden",
          "housing_and_infrastructure_surface",
          "canton_Appenzell_Ausserrhoden",
          "avg_household_size",
          "canton_Glarus",
          "private_households",
          "employment_tertiary",
          "population"
         ],
         "xaxis": "x",
         "y": [
          11.1,
          5.6,
          3.9,
          3.9,
          3.8,
          3.7,
          3.1,
          3.1,
          2.5,
          2.4,
          2.3,
          2.3,
          2.1,
          1.7,
          1.2,
          0.6,
          0.6,
          0.4,
          0.2,
          0.1,
          0,
          -0.1,
          -0.3,
          -0.3,
          -0.4,
          -0.4,
          -0.5,
          -0.5,
          -0.6,
          -0.6,
          -0.8,
          -0.8,
          -0.9,
          -0.9,
          -0.9,
          -1,
          -1,
          -1,
          -1,
          -1.2,
          -1.3,
          -2,
          -2.1,
          -2.2,
          -2.2,
          -2.3,
          -2.3,
          -7.1,
          -30.7
         ],
         "yaxis": "y"
        }
       ],
       "layout": {
        "barmode": "relative",
        "height": 700,
        "legend": {
         "tracegroupgap": 0
        },
        "template": {
         "data": {
          "bar": [
           {
            "error_x": {
             "color": "#2a3f5f"
            },
            "error_y": {
             "color": "#2a3f5f"
            },
            "marker": {
             "line": {
              "color": "#E5ECF6",
              "width": 0.5
             },
             "pattern": {
              "fillmode": "overlay",
              "size": 10,
              "solidity": 0.2
             }
            },
            "type": "bar"
           }
          ],
          "barpolar": [
           {
            "marker": {
             "line": {
              "color": "#E5ECF6",
              "width": 0.5
             },
             "pattern": {
              "fillmode": "overlay",
              "size": 10,
              "solidity": 0.2
             }
            },
            "type": "barpolar"
           }
          ],
          "carpet": [
           {
            "aaxis": {
             "endlinecolor": "#2a3f5f",
             "gridcolor": "white",
             "linecolor": "white",
             "minorgridcolor": "white",
             "startlinecolor": "#2a3f5f"
            },
            "baxis": {
             "endlinecolor": "#2a3f5f",
             "gridcolor": "white",
             "linecolor": "white",
             "minorgridcolor": "white",
             "startlinecolor": "#2a3f5f"
            },
            "type": "carpet"
           }
          ],
          "choropleth": [
           {
            "colorbar": {
             "outlinewidth": 0,
             "ticks": ""
            },
            "type": "choropleth"
           }
          ],
          "contour": [
           {
            "colorbar": {
             "outlinewidth": 0,
             "ticks": ""
            },
            "colorscale": [
             [
              0,
              "#0d0887"
             ],
             [
              0.1111111111111111,
              "#46039f"
             ],
             [
              0.2222222222222222,
              "#7201a8"
             ],
             [
              0.3333333333333333,
              "#9c179e"
             ],
             [
              0.4444444444444444,
              "#bd3786"
             ],
             [
              0.5555555555555556,
              "#d8576b"
             ],
             [
              0.6666666666666666,
              "#ed7953"
             ],
             [
              0.7777777777777778,
              "#fb9f3a"
             ],
             [
              0.8888888888888888,
              "#fdca26"
             ],
             [
              1,
              "#f0f921"
             ]
            ],
            "type": "contour"
           }
          ],
          "contourcarpet": [
           {
            "colorbar": {
             "outlinewidth": 0,
             "ticks": ""
            },
            "type": "contourcarpet"
           }
          ],
          "heatmap": [
           {
            "colorbar": {
             "outlinewidth": 0,
             "ticks": ""
            },
            "colorscale": [
             [
              0,
              "#0d0887"
             ],
             [
              0.1111111111111111,
              "#46039f"
             ],
             [
              0.2222222222222222,
              "#7201a8"
             ],
             [
              0.3333333333333333,
              "#9c179e"
             ],
             [
              0.4444444444444444,
              "#bd3786"
             ],
             [
              0.5555555555555556,
              "#d8576b"
             ],
             [
              0.6666666666666666,
              "#ed7953"
             ],
             [
              0.7777777777777778,
              "#fb9f3a"
             ],
             [
              0.8888888888888888,
              "#fdca26"
             ],
             [
              1,
              "#f0f921"
             ]
            ],
            "type": "heatmap"
           }
          ],
          "heatmapgl": [
           {
            "colorbar": {
             "outlinewidth": 0,
             "ticks": ""
            },
            "colorscale": [
             [
              0,
              "#0d0887"
             ],
             [
              0.1111111111111111,
              "#46039f"
             ],
             [
              0.2222222222222222,
              "#7201a8"
             ],
             [
              0.3333333333333333,
              "#9c179e"
             ],
             [
              0.4444444444444444,
              "#bd3786"
             ],
             [
              0.5555555555555556,
              "#d8576b"
             ],
             [
              0.6666666666666666,
              "#ed7953"
             ],
             [
              0.7777777777777778,
              "#fb9f3a"
             ],
             [
              0.8888888888888888,
              "#fdca26"
             ],
             [
              1,
              "#f0f921"
             ]
            ],
            "type": "heatmapgl"
           }
          ],
          "histogram": [
           {
            "marker": {
             "pattern": {
              "fillmode": "overlay",
              "size": 10,
              "solidity": 0.2
             }
            },
            "type": "histogram"
           }
          ],
          "histogram2d": [
           {
            "colorbar": {
             "outlinewidth": 0,
             "ticks": ""
            },
            "colorscale": [
             [
              0,
              "#0d0887"
             ],
             [
              0.1111111111111111,
              "#46039f"
             ],
             [
              0.2222222222222222,
              "#7201a8"
             ],
             [
              0.3333333333333333,
              "#9c179e"
             ],
             [
              0.4444444444444444,
              "#bd3786"
             ],
             [
              0.5555555555555556,
              "#d8576b"
             ],
             [
              0.6666666666666666,
              "#ed7953"
             ],
             [
              0.7777777777777778,
              "#fb9f3a"
             ],
             [
              0.8888888888888888,
              "#fdca26"
             ],
             [
              1,
              "#f0f921"
             ]
            ],
            "type": "histogram2d"
           }
          ],
          "histogram2dcontour": [
           {
            "colorbar": {
             "outlinewidth": 0,
             "ticks": ""
            },
            "colorscale": [
             [
              0,
              "#0d0887"
             ],
             [
              0.1111111111111111,
              "#46039f"
             ],
             [
              0.2222222222222222,
              "#7201a8"
             ],
             [
              0.3333333333333333,
              "#9c179e"
             ],
             [
              0.4444444444444444,
              "#bd3786"
             ],
             [
              0.5555555555555556,
              "#d8576b"
             ],
             [
              0.6666666666666666,
              "#ed7953"
             ],
             [
              0.7777777777777778,
              "#fb9f3a"
             ],
             [
              0.8888888888888888,
              "#fdca26"
             ],
             [
              1,
              "#f0f921"
             ]
            ],
            "type": "histogram2dcontour"
           }
          ],
          "mesh3d": [
           {
            "colorbar": {
             "outlinewidth": 0,
             "ticks": ""
            },
            "type": "mesh3d"
           }
          ],
          "parcoords": [
           {
            "line": {
             "colorbar": {
              "outlinewidth": 0,
              "ticks": ""
             }
            },
            "type": "parcoords"
           }
          ],
          "pie": [
           {
            "automargin": true,
            "type": "pie"
           }
          ],
          "scatter": [
           {
            "marker": {
             "colorbar": {
              "outlinewidth": 0,
              "ticks": ""
             }
            },
            "type": "scatter"
           }
          ],
          "scatter3d": [
           {
            "line": {
             "colorbar": {
              "outlinewidth": 0,
              "ticks": ""
             }
            },
            "marker": {
             "colorbar": {
              "outlinewidth": 0,
              "ticks": ""
             }
            },
            "type": "scatter3d"
           }
          ],
          "scattercarpet": [
           {
            "marker": {
             "colorbar": {
              "outlinewidth": 0,
              "ticks": ""
             }
            },
            "type": "scattercarpet"
           }
          ],
          "scattergeo": [
           {
            "marker": {
             "colorbar": {
              "outlinewidth": 0,
              "ticks": ""
             }
            },
            "type": "scattergeo"
           }
          ],
          "scattergl": [
           {
            "marker": {
             "colorbar": {
              "outlinewidth": 0,
              "ticks": ""
             }
            },
            "type": "scattergl"
           }
          ],
          "scattermapbox": [
           {
            "marker": {
             "colorbar": {
              "outlinewidth": 0,
              "ticks": ""
             }
            },
            "type": "scattermapbox"
           }
          ],
          "scatterpolar": [
           {
            "marker": {
             "colorbar": {
              "outlinewidth": 0,
              "ticks": ""
             }
            },
            "type": "scatterpolar"
           }
          ],
          "scatterpolargl": [
           {
            "marker": {
             "colorbar": {
              "outlinewidth": 0,
              "ticks": ""
             }
            },
            "type": "scatterpolargl"
           }
          ],
          "scatterternary": [
           {
            "marker": {
             "colorbar": {
              "outlinewidth": 0,
              "ticks": ""
             }
            },
            "type": "scatterternary"
           }
          ],
          "surface": [
           {
            "colorbar": {
             "outlinewidth": 0,
             "ticks": ""
            },
            "colorscale": [
             [
              0,
              "#0d0887"
             ],
             [
              0.1111111111111111,
              "#46039f"
             ],
             [
              0.2222222222222222,
              "#7201a8"
             ],
             [
              0.3333333333333333,
              "#9c179e"
             ],
             [
              0.4444444444444444,
              "#bd3786"
             ],
             [
              0.5555555555555556,
              "#d8576b"
             ],
             [
              0.6666666666666666,
              "#ed7953"
             ],
             [
              0.7777777777777778,
              "#fb9f3a"
             ],
             [
              0.8888888888888888,
              "#fdca26"
             ],
             [
              1,
              "#f0f921"
             ]
            ],
            "type": "surface"
           }
          ],
          "table": [
           {
            "cells": {
             "fill": {
              "color": "#EBF0F8"
             },
             "line": {
              "color": "white"
             }
            },
            "header": {
             "fill": {
              "color": "#C8D4E3"
             },
             "line": {
              "color": "white"
             }
            },
            "type": "table"
           }
          ]
         },
         "layout": {
          "annotationdefaults": {
           "arrowcolor": "#2a3f5f",
           "arrowhead": 0,
           "arrowwidth": 1
          },
          "autotypenumbers": "strict",
          "coloraxis": {
           "colorbar": {
            "outlinewidth": 0,
            "ticks": ""
           }
          },
          "colorscale": {
           "diverging": [
            [
             0,
             "#8e0152"
            ],
            [
             0.1,
             "#c51b7d"
            ],
            [
             0.2,
             "#de77ae"
            ],
            [
             0.3,
             "#f1b6da"
            ],
            [
             0.4,
             "#fde0ef"
            ],
            [
             0.5,
             "#f7f7f7"
            ],
            [
             0.6,
             "#e6f5d0"
            ],
            [
             0.7,
             "#b8e186"
            ],
            [
             0.8,
             "#7fbc41"
            ],
            [
             0.9,
             "#4d9221"
            ],
            [
             1,
             "#276419"
            ]
           ],
           "sequential": [
            [
             0,
             "#0d0887"
            ],
            [
             0.1111111111111111,
             "#46039f"
            ],
            [
             0.2222222222222222,
             "#7201a8"
            ],
            [
             0.3333333333333333,
             "#9c179e"
            ],
            [
             0.4444444444444444,
             "#bd3786"
            ],
            [
             0.5555555555555556,
             "#d8576b"
            ],
            [
             0.6666666666666666,
             "#ed7953"
            ],
            [
             0.7777777777777778,
             "#fb9f3a"
            ],
            [
             0.8888888888888888,
             "#fdca26"
            ],
            [
             1,
             "#f0f921"
            ]
           ],
           "sequentialminus": [
            [
             0,
             "#0d0887"
            ],
            [
             0.1111111111111111,
             "#46039f"
            ],
            [
             0.2222222222222222,
             "#7201a8"
            ],
            [
             0.3333333333333333,
             "#9c179e"
            ],
            [
             0.4444444444444444,
             "#bd3786"
            ],
            [
             0.5555555555555556,
             "#d8576b"
            ],
            [
             0.6666666666666666,
             "#ed7953"
            ],
            [
             0.7777777777777778,
             "#fb9f3a"
            ],
            [
             0.8888888888888888,
             "#fdca26"
            ],
            [
             1,
             "#f0f921"
            ]
           ]
          },
          "colorway": [
           "#636efa",
           "#EF553B",
           "#00cc96",
           "#ab63fa",
           "#FFA15A",
           "#19d3f3",
           "#FF6692",
           "#B6E880",
           "#FF97FF",
           "#FECB52"
          ],
          "font": {
           "color": "#2a3f5f"
          },
          "geo": {
           "bgcolor": "white",
           "lakecolor": "white",
           "landcolor": "#E5ECF6",
           "showlakes": true,
           "showland": true,
           "subunitcolor": "white"
          },
          "hoverlabel": {
           "align": "left"
          },
          "hovermode": "closest",
          "mapbox": {
           "style": "light"
          },
          "paper_bgcolor": "white",
          "plot_bgcolor": "#E5ECF6",
          "polar": {
           "angularaxis": {
            "gridcolor": "white",
            "linecolor": "white",
            "ticks": ""
           },
           "bgcolor": "#E5ECF6",
           "radialaxis": {
            "gridcolor": "white",
            "linecolor": "white",
            "ticks": ""
           }
          },
          "scene": {
           "xaxis": {
            "backgroundcolor": "#E5ECF6",
            "gridcolor": "white",
            "gridwidth": 2,
            "linecolor": "white",
            "showbackground": true,
            "ticks": "",
            "zerolinecolor": "white"
           },
           "yaxis": {
            "backgroundcolor": "#E5ECF6",
            "gridcolor": "white",
            "gridwidth": 2,
            "linecolor": "white",
            "showbackground": true,
            "ticks": "",
            "zerolinecolor": "white"
           },
           "zaxis": {
            "backgroundcolor": "#E5ECF6",
            "gridcolor": "white",
            "gridwidth": 2,
            "linecolor": "white",
            "showbackground": true,
            "ticks": "",
            "zerolinecolor": "white"
           }
          },
          "shapedefaults": {
           "line": {
            "color": "#2a3f5f"
           }
          },
          "ternary": {
           "aaxis": {
            "gridcolor": "white",
            "linecolor": "white",
            "ticks": ""
           },
           "baxis": {
            "gridcolor": "white",
            "linecolor": "white",
            "ticks": ""
           },
           "bgcolor": "#E5ECF6",
           "caxis": {
            "gridcolor": "white",
            "linecolor": "white",
            "ticks": ""
           }
          },
          "title": {
           "x": 0.05
          },
          "xaxis": {
           "automargin": true,
           "gridcolor": "white",
           "linecolor": "white",
           "ticks": "",
           "title": {
            "standoff": 15
           },
           "zerolinecolor": "white",
           "zerolinewidth": 2
          },
          "yaxis": {
           "automargin": true,
           "gridcolor": "white",
           "linecolor": "white",
           "ticks": "",
           "title": {
            "standoff": 15
           },
           "zerolinecolor": "white",
           "zerolinewidth": 2
          }
         }
        },
        "title": {
         "text": "Weights of Logistic Regression"
        },
        "width": 1000,
        "xaxis": {
         "anchor": "y",
         "domain": [
          0,
          1
         ],
         "title": {
          "text": "attribute"
         }
        },
        "yaxis": {
         "anchor": "x",
         "domain": [
          0,
          1
         ],
         "title": {
          "text": "weight"
         }
        }
       }
      },
      "text/html": [
       "<div>                            <div id=\"ccea48f3-e72b-4b28-970c-8bb9874820a0\" class=\"plotly-graph-div\" style=\"height:700px; width:1000px;\"></div>            <script type=\"text/javascript\">                require([\"plotly\"], function(Plotly) {                    window.PLOTLYENV=window.PLOTLYENV || {};                                    if (document.getElementById(\"ccea48f3-e72b-4b28-970c-8bb9874820a0\")) {                    Plotly.newPlot(                        \"ccea48f3-e72b-4b28-970c-8bb9874820a0\",                        [{\"alignmentgroup\":\"True\",\"hovertemplate\":\"attribute=%{x}<br>weight=%{y}<extra></extra>\",\"legendgroup\":\"\",\"marker\":{\"color\":\"#636efa\",\"pattern\":{\"shape\":\"\"}},\"name\":\"\",\"offsetgroup\":\"\",\"orientation\":\"v\",\"showlegend\":false,\"textposition\":\"outside\",\"texttemplate\":\"%{y:.2s}\",\"x\":[\"employment_secondary\",\"housing_and_infrastructure_surface_variation\",\"age_percentage_between_20_64\",\"canton_Schwyz\",\"agriculture_variation_surface_perc\",\"canton_Basel_Stadt\",\"employment_primary\",\"total_surface\",\"canton_Ticino\",\"population_variation\",\"age_percentage_more_64\",\"canton_Obwalden\",\"canton_Appenzell_Innerrhoden\",\"divorce_rate\",\"marriage_rate\",\"new_housing_units_per_capita\",\"agriculture_surface_perc\",\"foreigner_percentage\",\"canton_Uri\",\"population_density\",\"canton_Wallis\",\"canton_Schaffhausen\",\"canton_Aargau\",\"canton_Fribourg\",\"canton_Neuchatel\",\"canton_Basel_Landschaft\",\"canton_Nidwalden\",\"forest_surface_perc\",\"canton_Geneve\",\"empty_housing_units\",\"unproductive_surface_perc\",\"canton_St_Gallen\",\"canton_Zurich\",\"canton_Bern\",\"birth_rate\",\"canton_Jura\",\"canton_Zug\",\"canton_Solothurn\",\"canton_Thurgau\",\"canton_Vaud\",\"canton_Luzern\",\"canton_Graubunden\",\"housing_and_infrastructure_surface\",\"canton_Appenzell_Ausserrhoden\",\"avg_household_size\",\"canton_Glarus\",\"private_households\",\"employment_tertiary\",\"population\"],\"xaxis\":\"x\",\"y\":[11.1,5.6,3.9,3.9,3.8,3.7,3.1,3.1,2.5,2.4,2.3,2.3,2.1,1.7,1.2,0.6,0.6,0.4,0.2,0.1,-0.0,-0.1,-0.3,-0.3,-0.4,-0.4,-0.5,-0.5,-0.6,-0.6,-0.8,-0.8,-0.9,-0.9,-0.9,-1.0,-1.0,-1.0,-1.0,-1.2,-1.3,-2.0,-2.1,-2.2,-2.2,-2.3,-2.3,-7.1,-30.7],\"yaxis\":\"y\",\"type\":\"bar\",\"textfont\":{\"size\":12},\"cliponaxis\":false,\"textangle\":0}],                        {\"template\":{\"data\":{\"bar\":[{\"error_x\":{\"color\":\"#2a3f5f\"},\"error_y\":{\"color\":\"#2a3f5f\"},\"marker\":{\"line\":{\"color\":\"#E5ECF6\",\"width\":0.5},\"pattern\":{\"fillmode\":\"overlay\",\"size\":10,\"solidity\":0.2}},\"type\":\"bar\"}],\"barpolar\":[{\"marker\":{\"line\":{\"color\":\"#E5ECF6\",\"width\":0.5},\"pattern\":{\"fillmode\":\"overlay\",\"size\":10,\"solidity\":0.2}},\"type\":\"barpolar\"}],\"carpet\":[{\"aaxis\":{\"endlinecolor\":\"#2a3f5f\",\"gridcolor\":\"white\",\"linecolor\":\"white\",\"minorgridcolor\":\"white\",\"startlinecolor\":\"#2a3f5f\"},\"baxis\":{\"endlinecolor\":\"#2a3f5f\",\"gridcolor\":\"white\",\"linecolor\":\"white\",\"minorgridcolor\":\"white\",\"startlinecolor\":\"#2a3f5f\"},\"type\":\"carpet\"}],\"choropleth\":[{\"colorbar\":{\"outlinewidth\":0,\"ticks\":\"\"},\"type\":\"choropleth\"}],\"contour\":[{\"colorbar\":{\"outlinewidth\":0,\"ticks\":\"\"},\"colorscale\":[[0.0,\"#0d0887\"],[0.1111111111111111,\"#46039f\"],[0.2222222222222222,\"#7201a8\"],[0.3333333333333333,\"#9c179e\"],[0.4444444444444444,\"#bd3786\"],[0.5555555555555556,\"#d8576b\"],[0.6666666666666666,\"#ed7953\"],[0.7777777777777778,\"#fb9f3a\"],[0.8888888888888888,\"#fdca26\"],[1.0,\"#f0f921\"]],\"type\":\"contour\"}],\"contourcarpet\":[{\"colorbar\":{\"outlinewidth\":0,\"ticks\":\"\"},\"type\":\"contourcarpet\"}],\"heatmap\":[{\"colorbar\":{\"outlinewidth\":0,\"ticks\":\"\"},\"colorscale\":[[0.0,\"#0d0887\"],[0.1111111111111111,\"#46039f\"],[0.2222222222222222,\"#7201a8\"],[0.3333333333333333,\"#9c179e\"],[0.4444444444444444,\"#bd3786\"],[0.5555555555555556,\"#d8576b\"],[0.6666666666666666,\"#ed7953\"],[0.7777777777777778,\"#fb9f3a\"],[0.8888888888888888,\"#fdca26\"],[1.0,\"#f0f921\"]],\"type\":\"heatmap\"}],\"heatmapgl\":[{\"colorbar\":{\"outlinewidth\":0,\"ticks\":\"\"},\"colorscale\":[[0.0,\"#0d0887\"],[0.1111111111111111,\"#46039f\"],[0.2222222222222222,\"#7201a8\"],[0.3333333333333333,\"#9c179e\"],[0.4444444444444444,\"#bd3786\"],[0.5555555555555556,\"#d8576b\"],[0.6666666666666666,\"#ed7953\"],[0.7777777777777778,\"#fb9f3a\"],[0.8888888888888888,\"#fdca26\"],[1.0,\"#f0f921\"]],\"type\":\"heatmapgl\"}],\"histogram\":[{\"marker\":{\"pattern\":{\"fillmode\":\"overlay\",\"size\":10,\"solidity\":0.2}},\"type\":\"histogram\"}],\"histogram2d\":[{\"colorbar\":{\"outlinewidth\":0,\"ticks\":\"\"},\"colorscale\":[[0.0,\"#0d0887\"],[0.1111111111111111,\"#46039f\"],[0.2222222222222222,\"#7201a8\"],[0.3333333333333333,\"#9c179e\"],[0.4444444444444444,\"#bd3786\"],[0.5555555555555556,\"#d8576b\"],[0.6666666666666666,\"#ed7953\"],[0.7777777777777778,\"#fb9f3a\"],[0.8888888888888888,\"#fdca26\"],[1.0,\"#f0f921\"]],\"type\":\"histogram2d\"}],\"histogram2dcontour\":[{\"colorbar\":{\"outlinewidth\":0,\"ticks\":\"\"},\"colorscale\":[[0.0,\"#0d0887\"],[0.1111111111111111,\"#46039f\"],[0.2222222222222222,\"#7201a8\"],[0.3333333333333333,\"#9c179e\"],[0.4444444444444444,\"#bd3786\"],[0.5555555555555556,\"#d8576b\"],[0.6666666666666666,\"#ed7953\"],[0.7777777777777778,\"#fb9f3a\"],[0.8888888888888888,\"#fdca26\"],[1.0,\"#f0f921\"]],\"type\":\"histogram2dcontour\"}],\"mesh3d\":[{\"colorbar\":{\"outlinewidth\":0,\"ticks\":\"\"},\"type\":\"mesh3d\"}],\"parcoords\":[{\"line\":{\"colorbar\":{\"outlinewidth\":0,\"ticks\":\"\"}},\"type\":\"parcoords\"}],\"pie\":[{\"automargin\":true,\"type\":\"pie\"}],\"scatter\":[{\"marker\":{\"colorbar\":{\"outlinewidth\":0,\"ticks\":\"\"}},\"type\":\"scatter\"}],\"scatter3d\":[{\"line\":{\"colorbar\":{\"outlinewidth\":0,\"ticks\":\"\"}},\"marker\":{\"colorbar\":{\"outlinewidth\":0,\"ticks\":\"\"}},\"type\":\"scatter3d\"}],\"scattercarpet\":[{\"marker\":{\"colorbar\":{\"outlinewidth\":0,\"ticks\":\"\"}},\"type\":\"scattercarpet\"}],\"scattergeo\":[{\"marker\":{\"colorbar\":{\"outlinewidth\":0,\"ticks\":\"\"}},\"type\":\"scattergeo\"}],\"scattergl\":[{\"marker\":{\"colorbar\":{\"outlinewidth\":0,\"ticks\":\"\"}},\"type\":\"scattergl\"}],\"scattermapbox\":[{\"marker\":{\"colorbar\":{\"outlinewidth\":0,\"ticks\":\"\"}},\"type\":\"scattermapbox\"}],\"scatterpolar\":[{\"marker\":{\"colorbar\":{\"outlinewidth\":0,\"ticks\":\"\"}},\"type\":\"scatterpolar\"}],\"scatterpolargl\":[{\"marker\":{\"colorbar\":{\"outlinewidth\":0,\"ticks\":\"\"}},\"type\":\"scatterpolargl\"}],\"scatterternary\":[{\"marker\":{\"colorbar\":{\"outlinewidth\":0,\"ticks\":\"\"}},\"type\":\"scatterternary\"}],\"surface\":[{\"colorbar\":{\"outlinewidth\":0,\"ticks\":\"\"},\"colorscale\":[[0.0,\"#0d0887\"],[0.1111111111111111,\"#46039f\"],[0.2222222222222222,\"#7201a8\"],[0.3333333333333333,\"#9c179e\"],[0.4444444444444444,\"#bd3786\"],[0.5555555555555556,\"#d8576b\"],[0.6666666666666666,\"#ed7953\"],[0.7777777777777778,\"#fb9f3a\"],[0.8888888888888888,\"#fdca26\"],[1.0,\"#f0f921\"]],\"type\":\"surface\"}],\"table\":[{\"cells\":{\"fill\":{\"color\":\"#EBF0F8\"},\"line\":{\"color\":\"white\"}},\"header\":{\"fill\":{\"color\":\"#C8D4E3\"},\"line\":{\"color\":\"white\"}},\"type\":\"table\"}]},\"layout\":{\"annotationdefaults\":{\"arrowcolor\":\"#2a3f5f\",\"arrowhead\":0,\"arrowwidth\":1},\"autotypenumbers\":\"strict\",\"coloraxis\":{\"colorbar\":{\"outlinewidth\":0,\"ticks\":\"\"}},\"colorscale\":{\"diverging\":[[0,\"#8e0152\"],[0.1,\"#c51b7d\"],[0.2,\"#de77ae\"],[0.3,\"#f1b6da\"],[0.4,\"#fde0ef\"],[0.5,\"#f7f7f7\"],[0.6,\"#e6f5d0\"],[0.7,\"#b8e186\"],[0.8,\"#7fbc41\"],[0.9,\"#4d9221\"],[1,\"#276419\"]],\"sequential\":[[0.0,\"#0d0887\"],[0.1111111111111111,\"#46039f\"],[0.2222222222222222,\"#7201a8\"],[0.3333333333333333,\"#9c179e\"],[0.4444444444444444,\"#bd3786\"],[0.5555555555555556,\"#d8576b\"],[0.6666666666666666,\"#ed7953\"],[0.7777777777777778,\"#fb9f3a\"],[0.8888888888888888,\"#fdca26\"],[1.0,\"#f0f921\"]],\"sequentialminus\":[[0.0,\"#0d0887\"],[0.1111111111111111,\"#46039f\"],[0.2222222222222222,\"#7201a8\"],[0.3333333333333333,\"#9c179e\"],[0.4444444444444444,\"#bd3786\"],[0.5555555555555556,\"#d8576b\"],[0.6666666666666666,\"#ed7953\"],[0.7777777777777778,\"#fb9f3a\"],[0.8888888888888888,\"#fdca26\"],[1.0,\"#f0f921\"]]},\"colorway\":[\"#636efa\",\"#EF553B\",\"#00cc96\",\"#ab63fa\",\"#FFA15A\",\"#19d3f3\",\"#FF6692\",\"#B6E880\",\"#FF97FF\",\"#FECB52\"],\"font\":{\"color\":\"#2a3f5f\"},\"geo\":{\"bgcolor\":\"white\",\"lakecolor\":\"white\",\"landcolor\":\"#E5ECF6\",\"showlakes\":true,\"showland\":true,\"subunitcolor\":\"white\"},\"hoverlabel\":{\"align\":\"left\"},\"hovermode\":\"closest\",\"mapbox\":{\"style\":\"light\"},\"paper_bgcolor\":\"white\",\"plot_bgcolor\":\"#E5ECF6\",\"polar\":{\"angularaxis\":{\"gridcolor\":\"white\",\"linecolor\":\"white\",\"ticks\":\"\"},\"bgcolor\":\"#E5ECF6\",\"radialaxis\":{\"gridcolor\":\"white\",\"linecolor\":\"white\",\"ticks\":\"\"}},\"scene\":{\"xaxis\":{\"backgroundcolor\":\"#E5ECF6\",\"gridcolor\":\"white\",\"gridwidth\":2,\"linecolor\":\"white\",\"showbackground\":true,\"ticks\":\"\",\"zerolinecolor\":\"white\"},\"yaxis\":{\"backgroundcolor\":\"#E5ECF6\",\"gridcolor\":\"white\",\"gridwidth\":2,\"linecolor\":\"white\",\"showbackground\":true,\"ticks\":\"\",\"zerolinecolor\":\"white\"},\"zaxis\":{\"backgroundcolor\":\"#E5ECF6\",\"gridcolor\":\"white\",\"gridwidth\":2,\"linecolor\":\"white\",\"showbackground\":true,\"ticks\":\"\",\"zerolinecolor\":\"white\"}},\"shapedefaults\":{\"line\":{\"color\":\"#2a3f5f\"}},\"ternary\":{\"aaxis\":{\"gridcolor\":\"white\",\"linecolor\":\"white\",\"ticks\":\"\"},\"baxis\":{\"gridcolor\":\"white\",\"linecolor\":\"white\",\"ticks\":\"\"},\"bgcolor\":\"#E5ECF6\",\"caxis\":{\"gridcolor\":\"white\",\"linecolor\":\"white\",\"ticks\":\"\"}},\"title\":{\"x\":0.05},\"xaxis\":{\"automargin\":true,\"gridcolor\":\"white\",\"linecolor\":\"white\",\"ticks\":\"\",\"title\":{\"standoff\":15},\"zerolinecolor\":\"white\",\"zerolinewidth\":2},\"yaxis\":{\"automargin\":true,\"gridcolor\":\"white\",\"linecolor\":\"white\",\"ticks\":\"\",\"title\":{\"standoff\":15},\"zerolinecolor\":\"white\",\"zerolinewidth\":2}}},\"xaxis\":{\"anchor\":\"y\",\"domain\":[0.0,1.0],\"title\":{\"text\":\"attribute\"}},\"yaxis\":{\"anchor\":\"x\",\"domain\":[0.0,1.0],\"title\":{\"text\":\"weight\"}},\"legend\":{\"tracegroupgap\":0},\"title\":{\"text\":\"Weights of Logistic Regression\"},\"barmode\":\"relative\",\"height\":700,\"width\":1000},                        {\"responsive\": true}                    ).then(function(){\n",
       "                            \n",
       "var gd = document.getElementById('ccea48f3-e72b-4b28-970c-8bb9874820a0');\n",
       "var x = new MutationObserver(function (mutations, observer) {{\n",
       "        var display = window.getComputedStyle(gd).display;\n",
       "        if (!display || display === 'none') {{\n",
       "            console.log([gd, 'removed!']);\n",
       "            Plotly.purge(gd);\n",
       "            observer.disconnect();\n",
       "        }}\n",
       "}});\n",
       "\n",
       "// Listen for the removal of the full notebook cells\n",
       "var notebookContainer = gd.closest('#notebook-container');\n",
       "if (notebookContainer) {{\n",
       "    x.observe(notebookContainer, {childList: true});\n",
       "}}\n",
       "\n",
       "// Listen for the clearing of the current output cell\n",
       "var outputEl = gd.closest('.output');\n",
       "if (outputEl) {{\n",
       "    x.observe(outputEl, {childList: true});\n",
       "}}\n",
       "\n",
       "                        })                };                });            </script>        </div>"
      ]
     },
     "metadata": {},
     "output_type": "display_data"
    }
   ],
   "source": [
    "# Plot logistic regression attribute weights\n",
    "lg.logistic_reg_plot(X_attr_2, logreg)"
   ]
  },
  {
   "cell_type": "code",
   "execution_count": 25,
   "metadata": {},
   "outputs": [
    {
     "name": "stdout",
     "output_type": "stream",
     "text": [
      "Classification report: \n",
      "               precision    recall  f1-score   support\n",
      "\n",
      "         0.0       0.56      0.19      0.29        26\n",
      "         1.0       0.90      0.98      0.94       191\n",
      "\n",
      "    accuracy                           0.88       217\n",
      "   macro avg       0.73      0.59      0.61       217\n",
      "weighted avg       0.86      0.88      0.86       217\n",
      "\n"
     ]
    }
   ],
   "source": [
    "# Evaluation metrics\n",
    "print(\"Classification report: \\n\", classification_report(y_test, y_pred_lg))"
   ]
  },
  {
   "cell_type": "code",
   "execution_count": 26,
   "metadata": {},
   "outputs": [
    {
     "data": {
      "text/plain": [
       "<sklearn.metrics._plot.confusion_matrix.ConfusionMatrixDisplay at 0x7fddb006db50>"
      ]
     },
     "execution_count": 26,
     "metadata": {},
     "output_type": "execute_result"
    },
    {
     "data": {
      "image/png": "[encoded data removed]",
      "text/plain": [
       "<Figure size 432x288 with 2 Axes>"
      ]
     },
     "metadata": {
      "needs_background": "light"
     },
     "output_type": "display_data"
    }
   ],
   "source": [
    "# Confusion matrix\n",
    "cm = confusion_matrix(y_test, y_pred_lg)\n",
    "ConfusionMatrixDisplay(cm, display_labels=labels).plot()"
   ]
  },
  {
   "cell_type": "code",
   "execution_count": 27,
   "metadata": {},
   "outputs": [
    {
     "data": {
      "application/vnd.plotly.v1+json": {
       "config": {
        "plotlyServerURL": "https://plot.ly"
       },
       "data": [
        {
         "customdata": [
          [
           "Bretonnières"
          ],
          [
           "Mies"
          ],
          [
           "Ropraz"
          ],
          [
           "Hergiswil bei Willisau"
          ],
          [
           "Pont-en-Ogoz"
          ],
          [
           "Valeyres-sous-Ursins"
          ],
          [
           "Küblis"
          ],
          [
           "Sierre"
          ],
          [
           "Granges-Paccot"
          ],
          [
           "Amlikon-Bissegg"
          ],
          [
           "Saubraz"
          ],
          [
           "Bodio"
          ],
          [
           "Würenlingen"
          ],
          [
           "Wenslingen"
          ],
          [
           "Engelberg"
          ],
          [
           "Zwingen"
          ],
          [
           "Savièse"
          ],
          [
           "Lüterkofen-Ichertswil"
          ],
          [
           "Kappel am Albis"
          ],
          [
           "Bogis-Bossey"
          ],
          [
           "Petit-Val"
          ],
          [
           "Menznau"
          ],
          [
           "Gansingen"
          ],
          [
           "Lostorf"
          ],
          [
           "Mauborget"
          ],
          [
           "Forst-Längenbühl"
          ],
          [
           "Dürnten"
          ],
          [
           "Oberwil (BL)"
          ],
          [
           "Novazzano"
          ],
          [
           "Eiken"
          ],
          [
           "Mollens (VD)"
          ],
          [
           "Mümliswil-Ramiswil"
          ],
          [
           "Ottenbach"
          ],
          [
           "Turtmann-Unterems"
          ],
          [
           "Weggis"
          ],
          [
           "Dietwil"
          ],
          [
           "Gingins"
          ],
          [
           "Presinge"
          ],
          [
           "Kaisten"
          ],
          [
           "Ammerswil"
          ],
          [
           "Hornussen"
          ],
          [
           "Lens"
          ],
          [
           "Konolfingen"
          ],
          [
           "Mörel-Filet"
          ],
          [
           "Schangnau"
          ],
          [
           "Sarmenstorf"
          ],
          [
           "Biasca"
          ],
          [
           "Bremblens"
          ],
          [
           "Eschert"
          ],
          [
           "Le Bémont (JU)"
          ],
          [
           "Härkingen"
          ],
          [
           "Beromünster"
          ],
          [
           "Riedholz"
          ],
          [
           "Herzogenbuchsee"
          ],
          [
           "Fontenais"
          ],
          [
           "Wimmis"
          ],
          [
           "Boudry"
          ],
          [
           "Cortébert"
          ],
          [
           "Hohenrain"
          ],
          [
           "Therwil"
          ],
          [
           "Rüdtligen-Alchenflüh"
          ],
          [
           "Porza"
          ],
          [
           "Comano"
          ],
          [
           "Müllheim"
          ],
          [
           "Bioggio"
          ],
          [
           "Luterbach"
          ],
          [
           "Courchapoix"
          ],
          [
           "Rütschelen"
          ],
          [
           "Innertkirchen"
          ],
          [
           "Gilly"
          ],
          [
           "Riviera"
          ],
          [
           "Bürglen (UR)"
          ],
          [
           "Klosters"
          ],
          [
           "Augst"
          ],
          [
           "Ueberstorf"
          ],
          [
           "Oberwil-Lieli"
          ],
          [
           "Fislisbach"
          ],
          [
           "Mergoscia"
          ],
          [
           "Bois-d'Amont"
          ],
          [
           "Leuk"
          ],
          [
           "Wald (BE)"
          ],
          [
           "Einsiedeln"
          ],
          [
           "Huttwil"
          ],
          [
           "Gambarogno"
          ],
          [
           "Hindelbank"
          ],
          [
           "Rothrist"
          ],
          [
           "Albinen"
          ],
          [
           "Goms"
          ],
          [
           "Vallorbe"
          ],
          [
           "Orbe"
          ],
          [
           "Laufenburg"
          ],
          [
           "Wegenstetten"
          ],
          [
           "Staffelbach"
          ],
          [
           "Coeuve"
          ],
          [
           "Unterlangenegg"
          ],
          [
           "Tramelan"
          ],
          [
           "Les Genevez (JU)"
          ],
          [
           "Trüllikon"
          ],
          [
           "Conthey"
          ],
          [
           "Blenio"
          ],
          [
           "Baldingen"
          ],
          [
           "Oberlunkhofen"
          ],
          [
           "Sargans"
          ],
          [
           "Vullierens"
          ],
          [
           "Centovalli"
          ],
          [
           "Rougemont"
          ],
          [
           "Perroy"
          ],
          [
           "Lenk"
          ],
          [
           "Oberwil bei Büren"
          ],
          [
           "Busswil bei Melchnau"
          ],
          [
           "Täuffelen"
          ],
          [
           "Dalpe"
          ],
          [
           "Coldrerio"
          ],
          [
           "Steinen"
          ],
          [
           "Eschenz"
          ],
          [
           "Brienzwiler"
          ],
          [
           "Morcote"
          ],
          [
           "Beatenberg"
          ],
          [
           "Lignerolle"
          ],
          [
           "Trimmis"
          ],
          [
           "Allaman"
          ],
          [
           "Büron"
          ],
          [
           "Heimiswil"
          ],
          [
           "Valbirse"
          ],
          [
           "Rothenthurm"
          ],
          [
           "Remaufens"
          ],
          [
           "Hägendorf"
          ],
          [
           "Büttikon"
          ],
          [
           "Sion"
          ],
          [
           "Mirchel"
          ],
          [
           "Schöfflisdorf"
          ],
          [
           "Hägglingen"
          ],
          [
           "Egg"
          ],
          [
           "Basadingen-Schlattingen"
          ],
          [
           "Bichelsee-Balterswil"
          ],
          [
           "Alchenstorf"
          ],
          [
           "Buchs (SG)"
          ],
          [
           "Hochfelden"
          ],
          [
           "Avenches"
          ],
          [
           "Studen (BE)"
          ],
          [
           "Kleinbösingen"
          ],
          [
           "Ettingen"
          ],
          [
           "Scheuren"
          ],
          [
           "Dänikon"
          ],
          [
           "Meiringen"
          ],
          [
           "Dallenwil"
          ],
          [
           "Alpthal"
          ],
          [
           "Bergdietikon"
          ],
          [
           "Ehrendingen"
          ],
          [
           "Herrliberg"
          ],
          [
           "Dozwil"
          ],
          [
           "Le Chenit"
          ],
          [
           "Sorvilier"
          ],
          [
           "Steinmaur"
          ],
          [
           "Milvignes"
          ],
          [
           "Niederhasli"
          ],
          [
           "Erstfeld"
          ],
          [
           "Niedergösgen"
          ],
          [
           "Freienbach"
          ],
          [
           "Siglistorf"
          ],
          [
           "Schwellbrunn"
          ],
          [
           "Choulex"
          ],
          [
           "Plasselb"
          ],
          [
           "Grossaffoltern"
          ],
          [
           "Chêne-Bourg"
          ],
          [
           "Bözen"
          ],
          [
           "Truttikon"
          ],
          [
           "Aedermannsdorf"
          ],
          [
           "Ménières"
          ],
          [
           "Ursins"
          ],
          [
           "Eisten"
          ],
          [
           "Monteggio"
          ],
          [
           "Wald (AR)"
          ],
          [
           "Kappel (SO)"
          ],
          [
           "Astano"
          ],
          [
           "Realp"
          ],
          [
           "Lengwil"
          ],
          [
           "Treyvaux"
          ],
          [
           "Château-d'Oex"
          ],
          [
           "Grosshöchstetten"
          ],
          [
           "Eggiwil"
          ],
          [
           "Villorsonnens"
          ],
          [
           "Gretzenbach"
          ],
          [
           "Evolène"
          ],
          [
           "Saint-Légier-La Chiésaz"
          ],
          [
           "Heitenried"
          ],
          [
           "Bürglen (TG)"
          ],
          [
           "Féchy"
          ],
          [
           "Mörigen"
          ],
          [
           "Reinach (BL)"
          ],
          [
           "Liedertswil"
          ]
         ],
         "hovertemplate": "True Y=1.0<br>% Yes=%{x}<br>Error=%{y}<br>Municipality=%{customdata[0]}<extra></extra>",
         "legendgroup": "1.0",
         "marker": {
          "color": "#636efa",
          "symbol": "circle"
         },
         "mode": "markers",
         "name": "1.0",
         "orientation": "v",
         "showlegend": true,
         "type": "scatter",
         "x": [
          55,
          50.4,
          62.8,
          68.1,
          66.5,
          64.5,
          63.5,
          60.1,
          53.7,
          60.4,
          54.5,
          64.9,
          59.4,
          54.4,
          55,
          61.6,
          62.2,
          53.3,
          52.8,
          52.5,
          69.2,
          63.9,
          55.3,
          55.2,
          66.7,
          66.9,
          55.6,
          52.2,
          67.3,
          61.8,
          58.9,
          66.1,
          50.7,
          58.2,
          50.7,
          61.1,
          53.9,
          51.6,
          56.6,
          54.1,
          64.4,
          58.7,
          51.5,
          50.3,
          77.6,
          59.8,
          64,
          64.8,
          78.9,
          63.5,
          65.1,
          55.2,
          50.5,
          50.7,
          59.3,
          61,
          55.2,
          63,
          60.4,
          53.5,
          60.7,
          60.6,
          58.5,
          58.5,
          66.7,
          53.1,
          65.2,
          56.8,
          59.8,
          55.8,
          65.9,
          62.8,
          56.3,
          56.7,
          59,
          60.2,
          50.2,
          63.4,
          56.7,
          55.9,
          55.4,
          59.6,
          60.6,
          60.9,
          57.5,
          62.9,
          60.4,
          50.2,
          65.2,
          55.9,
          54.1,
          63.3,
          72.2,
          68.1,
          63.8,
          63.7,
          54.6,
          63.5,
          63.9,
          66.4,
          59.4,
          51.9,
          52.4,
          52.4,
          53.4,
          65.1,
          54.4,
          61.4,
          59.6,
          68.5,
          54.8,
          57.1,
          63.7,
          61.8,
          54.8,
          62.5,
          54.5,
          60.3,
          60.6,
          56,
          56.2,
          60.7,
          59.1,
          69.4,
          78.5,
          59.1,
          61.4,
          66.5,
          55.7,
          71.2,
          61.7,
          55.2,
          51.8,
          61.1,
          58.9,
          64.3,
          53.3,
          64.8,
          64.4,
          67.4,
          57.1,
          58.2,
          65.1,
          61.8,
          53.4,
          62.3,
          81.1,
          57,
          53.3,
          51.7,
          64.8,
          64.2,
          68,
          58.5,
          51.1,
          58.2,
          63,
          60.3,
          56.9,
          66.5,
          61.8,
          50.8,
          69.3,
          53.9,
          51.7,
          65.8,
          56.1,
          64.6,
          62.7,
          51,
          63.3,
          65.4,
          51.2,
          55.4,
          54.8,
          58.9,
          50.7,
          64.4,
          59.7,
          50.6,
          69.9,
          69.7,
          55.5,
          66.4,
          52,
          57.8,
          61.2,
          53.5,
          62.8,
          54.9,
          70.4
         ],
         "xaxis": "x",
         "y": [
          0,
          1,
          0,
          0,
          0,
          0,
          0,
          0,
          0,
          0,
          0,
          0,
          0,
          0,
          0,
          0,
          0,
          0,
          0,
          0,
          0,
          0,
          0,
          0,
          0,
          0,
          0,
          0,
          0,
          0,
          0,
          0,
          0,
          0,
          0,
          0,
          0,
          0,
          0,
          0,
          0,
          0,
          0,
          0,
          0,
          0,
          0,
          0,
          0,
          0,
          0,
          0,
          0,
          0,
          0,
          0,
          0,
          0,
          0,
          0,
          0,
          0,
          0,
          0,
          0,
          0,
          0,
          0,
          0,
          0,
          0,
          0,
          1,
          0,
          0,
          0,
          0,
          0,
          0,
          0,
          0,
          0,
          0,
          0,
          0,
          0,
          0,
          0,
          0,
          0,
          0,
          0,
          0,
          0,
          0,
          0,
          0,
          0,
          0,
          0,
          0,
          0,
          0,
          0,
          0,
          0,
          0,
          0,
          0,
          0,
          0,
          0,
          0,
          0,
          0,
          0,
          0,
          0,
          0,
          0,
          0,
          0,
          0,
          0,
          0,
          0,
          0,
          0,
          0,
          0,
          0,
          0,
          0,
          0,
          0,
          0,
          0,
          0,
          0,
          0,
          0,
          0,
          0,
          0,
          0,
          0,
          0,
          0,
          0,
          0,
          0,
          0,
          0,
          0,
          0,
          0,
          0,
          0,
          0,
          0,
          0,
          0,
          0,
          0,
          1,
          0,
          0,
          0,
          0,
          0,
          0,
          0,
          0,
          0,
          0,
          0,
          0,
          0,
          0,
          0,
          0,
          0,
          0,
          0,
          0,
          0,
          0,
          0,
          0,
          1,
          0
         ],
         "yaxis": "y"
        },
        {
         "customdata": [
          [
           "Safiental"
          ],
          [
           "Ziefen"
          ],
          [
           "Maur"
          ],
          [
           "Begnins"
          ],
          [
           "Bätterkinden"
          ],
          [
           "Fürstenau"
          ],
          [
           "Apples"
          ],
          [
           "Schelten"
          ],
          [
           "Ittigen"
          ],
          [
           "Muri (AG)"
          ],
          [
           "Veyrier"
          ],
          [
           "Schwerzenbach"
          ],
          [
           "Lutry"
          ],
          [
           "Genève"
          ],
          [
           "Unterbäch"
          ],
          [
           "Richterswil"
          ],
          [
           "Ennetbaden"
          ],
          [
           "Pregny-Chambésy"
          ],
          [
           "Onsernone"
          ],
          [
           "Bedigliora"
          ],
          [
           "Wettswil am Albis"
          ],
          [
           "Hedingen"
          ],
          [
           "La Chaux-de-Fonds"
          ],
          [
           "Carouge (GE)"
          ],
          [
           "Mauraz"
          ],
          [
           "Rheinfelden"
          ]
         ],
         "hovertemplate": "True Y=0.0<br>% Yes=%{x}<br>Error=%{y}<br>Municipality=%{customdata[0]}<extra></extra>",
         "legendgroup": "0.0",
         "marker": {
          "color": "#EF553B",
          "symbol": "circle"
         },
         "mode": "markers",
         "name": "0.0",
         "orientation": "v",
         "showlegend": true,
         "type": "scatter",
         "x": [
          47.4,
          48.3,
          50,
          49.2,
          47.7,
          49.2,
          49.2,
          48.1,
          47.1,
          49.4,
          49,
          46.6,
          50,
          44.8,
          46.5,
          48.1,
          30.9,
          48,
          49.1,
          48.1,
          46.6,
          46.1,
          49.7,
          43.4,
          40.6,
          49.2
         ],
         "xaxis": "x",
         "y": [
          1,
          1,
          1,
          1,
          1,
          0,
          1,
          1,
          0,
          1,
          1,
          1,
          1,
          0,
          1,
          1,
          1,
          0,
          1,
          1,
          1,
          1,
          1,
          0,
          1,
          1
         ],
         "yaxis": "y"
        }
       ],
       "layout": {
        "legend": {
         "title": {
          "text": "True Y"
         },
         "tracegroupgap": 0
        },
        "template": {
         "data": {
          "bar": [
           {
            "error_x": {
             "color": "#2a3f5f"
            },
            "error_y": {
             "color": "#2a3f5f"
            },
            "marker": {
             "line": {
              "color": "#E5ECF6",
              "width": 0.5
             },
             "pattern": {
              "fillmode": "overlay",
              "size": 10,
              "solidity": 0.2
             }
            },
            "type": "bar"
           }
          ],
          "barpolar": [
           {
            "marker": {
             "line": {
              "color": "#E5ECF6",
              "width": 0.5
             },
             "pattern": {
              "fillmode": "overlay",
              "size": 10,
              "solidity": 0.2
             }
            },
            "type": "barpolar"
           }
          ],
          "carpet": [
           {
            "aaxis": {
             "endlinecolor": "#2a3f5f",
             "gridcolor": "white",
             "linecolor": "white",
             "minorgridcolor": "white",
             "startlinecolor": "#2a3f5f"
            },
            "baxis": {
             "endlinecolor": "#2a3f5f",
             "gridcolor": "white",
             "linecolor": "white",
             "minorgridcolor": "white",
             "startlinecolor": "#2a3f5f"
            },
            "type": "carpet"
           }
          ],
          "choropleth": [
           {
            "colorbar": {
             "outlinewidth": 0,
             "ticks": ""
            },
            "type": "choropleth"
           }
          ],
          "contour": [
           {
            "colorbar": {
             "outlinewidth": 0,
             "ticks": ""
            },
            "colorscale": [
             [
              0,
              "#0d0887"
             ],
             [
              0.1111111111111111,
              "#46039f"
             ],
             [
              0.2222222222222222,
              "#7201a8"
             ],
             [
              0.3333333333333333,
              "#9c179e"
             ],
             [
              0.4444444444444444,
              "#bd3786"
             ],
             [
              0.5555555555555556,
              "#d8576b"
             ],
             [
              0.6666666666666666,
              "#ed7953"
             ],
             [
              0.7777777777777778,
              "#fb9f3a"
             ],
             [
              0.8888888888888888,
              "#fdca26"
             ],
             [
              1,
              "#f0f921"
             ]
            ],
            "type": "contour"
           }
          ],
          "contourcarpet": [
           {
            "colorbar": {
             "outlinewidth": 0,
             "ticks": ""
            },
            "type": "contourcarpet"
           }
          ],
          "heatmap": [
           {
            "colorbar": {
             "outlinewidth": 0,
             "ticks": ""
            },
            "colorscale": [
             [
              0,
              "#0d0887"
             ],
             [
              0.1111111111111111,
              "#46039f"
             ],
             [
              0.2222222222222222,
              "#7201a8"
             ],
             [
              0.3333333333333333,
              "#9c179e"
             ],
             [
              0.4444444444444444,
              "#bd3786"
             ],
             [
              0.5555555555555556,
              "#d8576b"
             ],
             [
              0.6666666666666666,
              "#ed7953"
             ],
             [
              0.7777777777777778,
              "#fb9f3a"
             ],
             [
              0.8888888888888888,
              "#fdca26"
             ],
             [
              1,
              "#f0f921"
             ]
            ],
            "type": "heatmap"
           }
          ],
          "heatmapgl": [
           {
            "colorbar": {
             "outlinewidth": 0,
             "ticks": ""
            },
            "colorscale": [
             [
              0,
              "#0d0887"
             ],
             [
              0.1111111111111111,
              "#46039f"
             ],
             [
              0.2222222222222222,
              "#7201a8"
             ],
             [
              0.3333333333333333,
              "#9c179e"
             ],
             [
              0.4444444444444444,
              "#bd3786"
             ],
             [
              0.5555555555555556,
              "#d8576b"
             ],
             [
              0.6666666666666666,
              "#ed7953"
             ],
             [
              0.7777777777777778,
              "#fb9f3a"
             ],
             [
              0.8888888888888888,
              "#fdca26"
             ],
             [
              1,
              "#f0f921"
             ]
            ],
            "type": "heatmapgl"
           }
          ],
          "histogram": [
           {
            "marker": {
             "pattern": {
              "fillmode": "overlay",
              "size": 10,
              "solidity": 0.2
             }
            },
            "type": "histogram"
           }
          ],
          "histogram2d": [
           {
            "colorbar": {
             "outlinewidth": 0,
             "ticks": ""
            },
            "colorscale": [
             [
              0,
              "#0d0887"
             ],
             [
              0.1111111111111111,
              "#46039f"
             ],
             [
              0.2222222222222222,
              "#7201a8"
             ],
             [
              0.3333333333333333,
              "#9c179e"
             ],
             [
              0.4444444444444444,
              "#bd3786"
             ],
             [
              0.5555555555555556,
              "#d8576b"
             ],
             [
              0.6666666666666666,
              "#ed7953"
             ],
             [
              0.7777777777777778,
              "#fb9f3a"
             ],
             [
              0.8888888888888888,
              "#fdca26"
             ],
             [
              1,
              "#f0f921"
             ]
            ],
            "type": "histogram2d"
           }
          ],
          "histogram2dcontour": [
           {
            "colorbar": {
             "outlinewidth": 0,
             "ticks": ""
            },
            "colorscale": [
             [
              0,
              "#0d0887"
             ],
             [
              0.1111111111111111,
              "#46039f"
             ],
             [
              0.2222222222222222,
              "#7201a8"
             ],
             [
              0.3333333333333333,
              "#9c179e"
             ],
             [
              0.4444444444444444,
              "#bd3786"
             ],
             [
              0.5555555555555556,
              "#d8576b"
             ],
             [
              0.6666666666666666,
              "#ed7953"
             ],
             [
              0.7777777777777778,
              "#fb9f3a"
             ],
             [
              0.8888888888888888,
              "#fdca26"
             ],
             [
              1,
              "#f0f921"
             ]
            ],
            "type": "histogram2dcontour"
           }
          ],
          "mesh3d": [
           {
            "colorbar": {
             "outlinewidth": 0,
             "ticks": ""
            },
            "type": "mesh3d"
           }
          ],
          "parcoords": [
           {
            "line": {
             "colorbar": {
              "outlinewidth": 0,
              "ticks": ""
             }
            },
            "type": "parcoords"
           }
          ],
          "pie": [
           {
            "automargin": true,
            "type": "pie"
           }
          ],
          "scatter": [
           {
            "marker": {
             "colorbar": {
              "outlinewidth": 0,
              "ticks": ""
             }
            },
            "type": "scatter"
           }
          ],
          "scatter3d": [
           {
            "line": {
             "colorbar": {
              "outlinewidth": 0,
              "ticks": ""
             }
            },
            "marker": {
             "colorbar": {
              "outlinewidth": 0,
              "ticks": ""
             }
            },
            "type": "scatter3d"
           }
          ],
          "scattercarpet": [
           {
            "marker": {
             "colorbar": {
              "outlinewidth": 0,
              "ticks": ""
             }
            },
            "type": "scattercarpet"
           }
          ],
          "scattergeo": [
           {
            "marker": {
             "colorbar": {
              "outlinewidth": 0,
              "ticks": ""
             }
            },
            "type": "scattergeo"
           }
          ],
          "scattergl": [
           {
            "marker": {
             "colorbar": {
              "outlinewidth": 0,
              "ticks": ""
             }
            },
            "type": "scattergl"
           }
          ],
          "scattermapbox": [
           {
            "marker": {
             "colorbar": {
              "outlinewidth": 0,
              "ticks": ""
             }
            },
            "type": "scattermapbox"
           }
          ],
          "scatterpolar": [
           {
            "marker": {
             "colorbar": {
              "outlinewidth": 0,
              "ticks": ""
             }
            },
            "type": "scatterpolar"
           }
          ],
          "scatterpolargl": [
           {
            "marker": {
             "colorbar": {
              "outlinewidth": 0,
              "ticks": ""
             }
            },
            "type": "scatterpolargl"
           }
          ],
          "scatterternary": [
           {
            "marker": {
             "colorbar": {
              "outlinewidth": 0,
              "ticks": ""
             }
            },
            "type": "scatterternary"
           }
          ],
          "surface": [
           {
            "colorbar": {
             "outlinewidth": 0,
             "ticks": ""
            },
            "colorscale": [
             [
              0,
              "#0d0887"
             ],
             [
              0.1111111111111111,
              "#46039f"
             ],
             [
              0.2222222222222222,
              "#7201a8"
             ],
             [
              0.3333333333333333,
              "#9c179e"
             ],
             [
              0.4444444444444444,
              "#bd3786"
             ],
             [
              0.5555555555555556,
              "#d8576b"
             ],
             [
              0.6666666666666666,
              "#ed7953"
             ],
             [
              0.7777777777777778,
              "#fb9f3a"
             ],
             [
              0.8888888888888888,
              "#fdca26"
             ],
             [
              1,
              "#f0f921"
             ]
            ],
            "type": "surface"
           }
          ],
          "table": [
           {
            "cells": {
             "fill": {
              "color": "#EBF0F8"
             },
             "line": {
              "color": "white"
             }
            },
            "header": {
             "fill": {
              "color": "#C8D4E3"
             },
             "line": {
              "color": "white"
             }
            },
            "type": "table"
           }
          ]
         },
         "layout": {
          "annotationdefaults": {
           "arrowcolor": "#2a3f5f",
           "arrowhead": 0,
           "arrowwidth": 1
          },
          "autotypenumbers": "strict",
          "coloraxis": {
           "colorbar": {
            "outlinewidth": 0,
            "ticks": ""
           }
          },
          "colorscale": {
           "diverging": [
            [
             0,
             "#8e0152"
            ],
            [
             0.1,
             "#c51b7d"
            ],
            [
             0.2,
             "#de77ae"
            ],
            [
             0.3,
             "#f1b6da"
            ],
            [
             0.4,
             "#fde0ef"
            ],
            [
             0.5,
             "#f7f7f7"
            ],
            [
             0.6,
             "#e6f5d0"
            ],
            [
             0.7,
             "#b8e186"
            ],
            [
             0.8,
             "#7fbc41"
            ],
            [
             0.9,
             "#4d9221"
            ],
            [
             1,
             "#276419"
            ]
           ],
           "sequential": [
            [
             0,
             "#0d0887"
            ],
            [
             0.1111111111111111,
             "#46039f"
            ],
            [
             0.2222222222222222,
             "#7201a8"
            ],
            [
             0.3333333333333333,
             "#9c179e"
            ],
            [
             0.4444444444444444,
             "#bd3786"
            ],
            [
             0.5555555555555556,
             "#d8576b"
            ],
            [
             0.6666666666666666,
             "#ed7953"
            ],
            [
             0.7777777777777778,
             "#fb9f3a"
            ],
            [
             0.8888888888888888,
             "#fdca26"
            ],
            [
             1,
             "#f0f921"
            ]
           ],
           "sequentialminus": [
            [
             0,
             "#0d0887"
            ],
            [
             0.1111111111111111,
             "#46039f"
            ],
            [
             0.2222222222222222,
             "#7201a8"
            ],
            [
             0.3333333333333333,
             "#9c179e"
            ],
            [
             0.4444444444444444,
             "#bd3786"
            ],
            [
             0.5555555555555556,
             "#d8576b"
            ],
            [
             0.6666666666666666,
             "#ed7953"
            ],
            [
             0.7777777777777778,
             "#fb9f3a"
            ],
            [
             0.8888888888888888,
             "#fdca26"
            ],
            [
             1,
             "#f0f921"
            ]
           ]
          },
          "colorway": [
           "#636efa",
           "#EF553B",
           "#00cc96",
           "#ab63fa",
           "#FFA15A",
           "#19d3f3",
           "#FF6692",
           "#B6E880",
           "#FF97FF",
           "#FECB52"
          ],
          "font": {
           "color": "#2a3f5f"
          },
          "geo": {
           "bgcolor": "white",
           "lakecolor": "white",
           "landcolor": "#E5ECF6",
           "showlakes": true,
           "showland": true,
           "subunitcolor": "white"
          },
          "hoverlabel": {
           "align": "left"
          },
          "hovermode": "closest",
          "mapbox": {
           "style": "light"
          },
          "paper_bgcolor": "white",
          "plot_bgcolor": "#E5ECF6",
          "polar": {
           "angularaxis": {
            "gridcolor": "white",
            "linecolor": "white",
            "ticks": ""
           },
           "bgcolor": "#E5ECF6",
           "radialaxis": {
            "gridcolor": "white",
            "linecolor": "white",
            "ticks": ""
           }
          },
          "scene": {
           "xaxis": {
            "backgroundcolor": "#E5ECF6",
            "gridcolor": "white",
            "gridwidth": 2,
            "linecolor": "white",
            "showbackground": true,
            "ticks": "",
            "zerolinecolor": "white"
           },
           "yaxis": {
            "backgroundcolor": "#E5ECF6",
            "gridcolor": "white",
            "gridwidth": 2,
            "linecolor": "white",
            "showbackground": true,
            "ticks": "",
            "zerolinecolor": "white"
           },
           "zaxis": {
            "backgroundcolor": "#E5ECF6",
            "gridcolor": "white",
            "gridwidth": 2,
            "linecolor": "white",
            "showbackground": true,
            "ticks": "",
            "zerolinecolor": "white"
           }
          },
          "shapedefaults": {
           "line": {
            "color": "#2a3f5f"
           }
          },
          "ternary": {
           "aaxis": {
            "gridcolor": "white",
            "linecolor": "white",
            "ticks": ""
           },
           "baxis": {
            "gridcolor": "white",
            "linecolor": "white",
            "ticks": ""
           },
           "bgcolor": "#E5ECF6",
           "caxis": {
            "gridcolor": "white",
            "linecolor": "white",
            "ticks": ""
           }
          },
          "title": {
           "x": 0.05
          },
          "xaxis": {
           "automargin": true,
           "gridcolor": "white",
           "linecolor": "white",
           "ticks": "",
           "title": {
            "standoff": 15
           },
           "zerolinecolor": "white",
           "zerolinewidth": 2
          },
          "yaxis": {
           "automargin": true,
           "gridcolor": "white",
           "linecolor": "white",
           "ticks": "",
           "title": {
            "standoff": 15
           },
           "zerolinecolor": "white",
           "zerolinewidth": 2
          }
         }
        },
        "title": {
         "text": "% Yes & Error Rate"
        },
        "xaxis": {
         "anchor": "y",
         "domain": [
          0,
          1
         ],
         "title": {
          "text": "% Yes"
         }
        },
        "yaxis": {
         "anchor": "x",
         "domain": [
          0,
          1
         ],
         "title": {
          "text": "Error"
         }
        }
       }
      },
      "text/html": [
       "<div>                            <div id=\"424440f6-e13b-4752-aff0-bf628ad9f2e0\" class=\"plotly-graph-div\" style=\"height:525px; width:100%;\"></div>            <script type=\"text/javascript\">                require([\"plotly\"], function(Plotly) {                    window.PLOTLYENV=window.PLOTLYENV || {};                                    if (document.getElementById(\"424440f6-e13b-4752-aff0-bf628ad9f2e0\")) {                    Plotly.newPlot(                        \"424440f6-e13b-4752-aff0-bf628ad9f2e0\",                        [{\"customdata\":[[\"Bretonni\\u00e8res\"],[\"Mies\"],[\"Ropraz\"],[\"Hergiswil bei Willisau\"],[\"Pont-en-Ogoz\"],[\"Valeyres-sous-Ursins\"],[\"K\\u00fcblis\"],[\"Sierre\"],[\"Granges-Paccot\"],[\"Amlikon-Bissegg\"],[\"Saubraz\"],[\"Bodio\"],[\"W\\u00fcrenlingen\"],[\"Wenslingen\"],[\"Engelberg\"],[\"Zwingen\"],[\"Savi\\u00e8se\"],[\"L\\u00fcterkofen-Ichertswil\"],[\"Kappel am Albis\"],[\"Bogis-Bossey\"],[\"Petit-Val\"],[\"Menznau\"],[\"Gansingen\"],[\"Lostorf\"],[\"Mauborget\"],[\"Forst-L\\u00e4ngenb\\u00fchl\"],[\"D\\u00fcrnten\"],[\"Oberwil (BL)\"],[\"Novazzano\"],[\"Eiken\"],[\"Mollens (VD)\"],[\"M\\u00fcmliswil-Ramiswil\"],[\"Ottenbach\"],[\"Turtmann-Unterems\"],[\"Weggis\"],[\"Dietwil\"],[\"Gingins\"],[\"Presinge\"],[\"Kaisten\"],[\"Ammerswil\"],[\"Hornussen\"],[\"Lens\"],[\"Konolfingen\"],[\"M\\u00f6rel-Filet\"],[\"Schangnau\"],[\"Sarmenstorf\"],[\"Biasca\"],[\"Bremblens\"],[\"Eschert\"],[\"Le B\\u00e9mont (JU)\"],[\"H\\u00e4rkingen\"],[\"Berom\\u00fcnster\"],[\"Riedholz\"],[\"Herzogenbuchsee\"],[\"Fontenais\"],[\"Wimmis\"],[\"Boudry\"],[\"Cort\\u00e9bert\"],[\"Hohenrain\"],[\"Therwil\"],[\"R\\u00fcdtligen-Alchenfl\\u00fch\"],[\"Porza\"],[\"Comano\"],[\"M\\u00fcllheim\"],[\"Bioggio\"],[\"Luterbach\"],[\"Courchapoix\"],[\"R\\u00fctschelen\"],[\"Innertkirchen\"],[\"Gilly\"],[\"Riviera\"],[\"B\\u00fcrglen (UR)\"],[\"Klosters\"],[\"Augst\"],[\"Ueberstorf\"],[\"Oberwil-Lieli\"],[\"Fislisbach\"],[\"Mergoscia\"],[\"Bois-d'Amont\"],[\"Leuk\"],[\"Wald (BE)\"],[\"Einsiedeln\"],[\"Huttwil\"],[\"Gambarogno\"],[\"Hindelbank\"],[\"Rothrist\"],[\"Albinen\"],[\"Goms\"],[\"Vallorbe\"],[\"Orbe\"],[\"Laufenburg\"],[\"Wegenstetten\"],[\"Staffelbach\"],[\"Coeuve\"],[\"Unterlangenegg\"],[\"Tramelan\"],[\"Les Genevez (JU)\"],[\"Tr\\u00fcllikon\"],[\"Conthey\"],[\"Blenio\"],[\"Baldingen\"],[\"Oberlunkhofen\"],[\"Sargans\"],[\"Vullierens\"],[\"Centovalli\"],[\"Rougemont\"],[\"Perroy\"],[\"Lenk\"],[\"Oberwil bei B\\u00fcren\"],[\"Busswil bei Melchnau\"],[\"T\\u00e4uffelen\"],[\"Dalpe\"],[\"Coldrerio\"],[\"Steinen\"],[\"Eschenz\"],[\"Brienzwiler\"],[\"Morcote\"],[\"Beatenberg\"],[\"Lignerolle\"],[\"Trimmis\"],[\"Allaman\"],[\"B\\u00fcron\"],[\"Heimiswil\"],[\"Valbirse\"],[\"Rothenthurm\"],[\"Remaufens\"],[\"H\\u00e4gendorf\"],[\"B\\u00fcttikon\"],[\"Sion\"],[\"Mirchel\"],[\"Sch\\u00f6fflisdorf\"],[\"H\\u00e4gglingen\"],[\"Egg\"],[\"Basadingen-Schlattingen\"],[\"Bichelsee-Balterswil\"],[\"Alchenstorf\"],[\"Buchs (SG)\"],[\"Hochfelden\"],[\"Avenches\"],[\"Studen (BE)\"],[\"Kleinb\\u00f6singen\"],[\"Ettingen\"],[\"Scheuren\"],[\"D\\u00e4nikon\"],[\"Meiringen\"],[\"Dallenwil\"],[\"Alpthal\"],[\"Bergdietikon\"],[\"Ehrendingen\"],[\"Herrliberg\"],[\"Dozwil\"],[\"Le Chenit\"],[\"Sorvilier\"],[\"Steinmaur\"],[\"Milvignes\"],[\"Niederhasli\"],[\"Erstfeld\"],[\"Niederg\\u00f6sgen\"],[\"Freienbach\"],[\"Siglistorf\"],[\"Schwellbrunn\"],[\"Choulex\"],[\"Plasselb\"],[\"Grossaffoltern\"],[\"Ch\\u00eane-Bourg\"],[\"B\\u00f6zen\"],[\"Truttikon\"],[\"Aedermannsdorf\"],[\"M\\u00e9ni\\u00e8res\"],[\"Ursins\"],[\"Eisten\"],[\"Monteggio\"],[\"Wald (AR)\"],[\"Kappel (SO)\"],[\"Astano\"],[\"Realp\"],[\"Lengwil\"],[\"Treyvaux\"],[\"Ch\\u00e2teau-d'Oex\"],[\"Grossh\\u00f6chstetten\"],[\"Eggiwil\"],[\"Villorsonnens\"],[\"Gretzenbach\"],[\"Evol\\u00e8ne\"],[\"Saint-L\\u00e9gier-La Chi\\u00e9saz\"],[\"Heitenried\"],[\"B\\u00fcrglen (TG)\"],[\"F\\u00e9chy\"],[\"M\\u00f6rigen\"],[\"Reinach (BL)\"],[\"Liedertswil\"]],\"hovertemplate\":\"True Y=1.0<br>% Yes=%{x}<br>Error=%{y}<br>Municipality=%{customdata[0]}<extra></extra>\",\"legendgroup\":\"1.0\",\"marker\":{\"color\":\"#636efa\",\"symbol\":\"circle\"},\"mode\":\"markers\",\"name\":\"1.0\",\"orientation\":\"v\",\"showlegend\":true,\"x\":[55.0,50.4,62.8,68.1,66.5,64.5,63.5,60.1,53.7,60.4,54.5,64.9,59.4,54.4,55.0,61.6,62.2,53.3,52.8,52.5,69.2,63.9,55.3,55.2,66.7,66.9,55.6,52.2,67.3,61.8,58.9,66.1,50.7,58.2,50.7,61.1,53.9,51.6,56.6,54.1,64.4,58.7,51.5,50.3,77.6,59.8,64.0,64.8,78.9,63.5,65.1,55.2,50.5,50.7,59.3,61.0,55.2,63.0,60.4,53.5,60.7,60.6,58.5,58.5,66.7,53.1,65.2,56.8,59.8,55.8,65.9,62.8,56.3,56.7,59.0,60.2,50.2,63.4,56.7,55.9,55.4,59.6,60.6,60.9,57.5,62.9,60.4,50.2,65.2,55.9,54.1,63.3,72.2,68.1,63.8,63.7,54.6,63.5,63.9,66.4,59.4,51.9,52.4,52.4,53.4,65.1,54.4,61.4,59.6,68.5,54.8,57.1,63.7,61.8,54.8,62.5,54.5,60.3,60.6,56.0,56.2,60.7,59.1,69.4,78.5,59.1,61.4,66.5,55.7,71.2,61.7,55.2,51.8,61.1,58.9,64.3,53.3,64.8,64.4,67.4,57.1,58.2,65.1,61.8,53.4,62.3,81.1,57.0,53.3,51.7,64.8,64.2,68.0,58.5,51.1,58.2,63.0,60.3,56.9,66.5,61.8,50.8,69.3,53.9,51.7,65.8,56.1,64.6,62.7,51.0,63.3,65.4,51.2,55.4,54.8,58.9,50.7,64.4,59.7,50.6,69.9,69.7,55.5,66.4,52.0,57.8,61.2,53.5,62.8,54.9,70.4],\"xaxis\":\"x\",\"y\":[0.0,1.0,0.0,0.0,0.0,0.0,0.0,0.0,0.0,0.0,0.0,0.0,0.0,0.0,0.0,0.0,0.0,0.0,0.0,0.0,0.0,0.0,0.0,0.0,0.0,0.0,0.0,0.0,0.0,0.0,0.0,0.0,0.0,0.0,0.0,0.0,0.0,0.0,0.0,0.0,0.0,0.0,0.0,0.0,0.0,0.0,0.0,0.0,0.0,0.0,0.0,0.0,0.0,0.0,0.0,0.0,0.0,0.0,0.0,0.0,0.0,0.0,0.0,0.0,0.0,0.0,0.0,0.0,0.0,0.0,0.0,0.0,1.0,0.0,0.0,0.0,0.0,0.0,0.0,0.0,0.0,0.0,0.0,0.0,0.0,0.0,0.0,0.0,0.0,0.0,0.0,0.0,0.0,0.0,0.0,0.0,0.0,0.0,0.0,0.0,0.0,0.0,0.0,0.0,0.0,0.0,0.0,0.0,0.0,0.0,0.0,0.0,0.0,0.0,0.0,0.0,0.0,0.0,0.0,0.0,0.0,0.0,0.0,0.0,0.0,0.0,0.0,0.0,0.0,0.0,0.0,0.0,0.0,0.0,0.0,0.0,0.0,0.0,0.0,0.0,0.0,0.0,0.0,0.0,0.0,0.0,0.0,0.0,0.0,0.0,0.0,0.0,0.0,0.0,0.0,0.0,0.0,0.0,0.0,0.0,0.0,0.0,0.0,0.0,1.0,0.0,0.0,0.0,0.0,0.0,0.0,0.0,0.0,0.0,0.0,0.0,0.0,0.0,0.0,0.0,0.0,0.0,0.0,0.0,0.0,0.0,0.0,0.0,0.0,1.0,0.0],\"yaxis\":\"y\",\"type\":\"scatter\"},{\"customdata\":[[\"Safiental\"],[\"Ziefen\"],[\"Maur\"],[\"Begnins\"],[\"B\\u00e4tterkinden\"],[\"F\\u00fcrstenau\"],[\"Apples\"],[\"Schelten\"],[\"Ittigen\"],[\"Muri (AG)\"],[\"Veyrier\"],[\"Schwerzenbach\"],[\"Lutry\"],[\"Gen\\u00e8ve\"],[\"Unterb\\u00e4ch\"],[\"Richterswil\"],[\"Ennetbaden\"],[\"Pregny-Chamb\\u00e9sy\"],[\"Onsernone\"],[\"Bedigliora\"],[\"Wettswil am Albis\"],[\"Hedingen\"],[\"La Chaux-de-Fonds\"],[\"Carouge (GE)\"],[\"Mauraz\"],[\"Rheinfelden\"]],\"hovertemplate\":\"True Y=0.0<br>% Yes=%{x}<br>Error=%{y}<br>Municipality=%{customdata[0]}<extra></extra>\",\"legendgroup\":\"0.0\",\"marker\":{\"color\":\"#EF553B\",\"symbol\":\"circle\"},\"mode\":\"markers\",\"name\":\"0.0\",\"orientation\":\"v\",\"showlegend\":true,\"x\":[47.4,48.3,50.0,49.2,47.7,49.2,49.2,48.1,47.1,49.4,49.0,46.6,50.0,44.8,46.5,48.1,30.9,48.0,49.1,48.1,46.6,46.1,49.7,43.4,40.6,49.2],\"xaxis\":\"x\",\"y\":[1.0,1.0,1.0,1.0,1.0,0.0,1.0,1.0,0.0,1.0,1.0,1.0,1.0,0.0,1.0,1.0,1.0,0.0,1.0,1.0,1.0,1.0,1.0,0.0,1.0,1.0],\"yaxis\":\"y\",\"type\":\"scatter\"}],                        {\"template\":{\"data\":{\"bar\":[{\"error_x\":{\"color\":\"#2a3f5f\"},\"error_y\":{\"color\":\"#2a3f5f\"},\"marker\":{\"line\":{\"color\":\"#E5ECF6\",\"width\":0.5},\"pattern\":{\"fillmode\":\"overlay\",\"size\":10,\"solidity\":0.2}},\"type\":\"bar\"}],\"barpolar\":[{\"marker\":{\"line\":{\"color\":\"#E5ECF6\",\"width\":0.5},\"pattern\":{\"fillmode\":\"overlay\",\"size\":10,\"solidity\":0.2}},\"type\":\"barpolar\"}],\"carpet\":[{\"aaxis\":{\"endlinecolor\":\"#2a3f5f\",\"gridcolor\":\"white\",\"linecolor\":\"white\",\"minorgridcolor\":\"white\",\"startlinecolor\":\"#2a3f5f\"},\"baxis\":{\"endlinecolor\":\"#2a3f5f\",\"gridcolor\":\"white\",\"linecolor\":\"white\",\"minorgridcolor\":\"white\",\"startlinecolor\":\"#2a3f5f\"},\"type\":\"carpet\"}],\"choropleth\":[{\"colorbar\":{\"outlinewidth\":0,\"ticks\":\"\"},\"type\":\"choropleth\"}],\"contour\":[{\"colorbar\":{\"outlinewidth\":0,\"ticks\":\"\"},\"colorscale\":[[0.0,\"#0d0887\"],[0.1111111111111111,\"#46039f\"],[0.2222222222222222,\"#7201a8\"],[0.3333333333333333,\"#9c179e\"],[0.4444444444444444,\"#bd3786\"],[0.5555555555555556,\"#d8576b\"],[0.6666666666666666,\"#ed7953\"],[0.7777777777777778,\"#fb9f3a\"],[0.8888888888888888,\"#fdca26\"],[1.0,\"#f0f921\"]],\"type\":\"contour\"}],\"contourcarpet\":[{\"colorbar\":{\"outlinewidth\":0,\"ticks\":\"\"},\"type\":\"contourcarpet\"}],\"heatmap\":[{\"colorbar\":{\"outlinewidth\":0,\"ticks\":\"\"},\"colorscale\":[[0.0,\"#0d0887\"],[0.1111111111111111,\"#46039f\"],[0.2222222222222222,\"#7201a8\"],[0.3333333333333333,\"#9c179e\"],[0.4444444444444444,\"#bd3786\"],[0.5555555555555556,\"#d8576b\"],[0.6666666666666666,\"#ed7953\"],[0.7777777777777778,\"#fb9f3a\"],[0.8888888888888888,\"#fdca26\"],[1.0,\"#f0f921\"]],\"type\":\"heatmap\"}],\"heatmapgl\":[{\"colorbar\":{\"outlinewidth\":0,\"ticks\":\"\"},\"colorscale\":[[0.0,\"#0d0887\"],[0.1111111111111111,\"#46039f\"],[0.2222222222222222,\"#7201a8\"],[0.3333333333333333,\"#9c179e\"],[0.4444444444444444,\"#bd3786\"],[0.5555555555555556,\"#d8576b\"],[0.6666666666666666,\"#ed7953\"],[0.7777777777777778,\"#fb9f3a\"],[0.8888888888888888,\"#fdca26\"],[1.0,\"#f0f921\"]],\"type\":\"heatmapgl\"}],\"histogram\":[{\"marker\":{\"pattern\":{\"fillmode\":\"overlay\",\"size\":10,\"solidity\":0.2}},\"type\":\"histogram\"}],\"histogram2d\":[{\"colorbar\":{\"outlinewidth\":0,\"ticks\":\"\"},\"colorscale\":[[0.0,\"#0d0887\"],[0.1111111111111111,\"#46039f\"],[0.2222222222222222,\"#7201a8\"],[0.3333333333333333,\"#9c179e\"],[0.4444444444444444,\"#bd3786\"],[0.5555555555555556,\"#d8576b\"],[0.6666666666666666,\"#ed7953\"],[0.7777777777777778,\"#fb9f3a\"],[0.8888888888888888,\"#fdca26\"],[1.0,\"#f0f921\"]],\"type\":\"histogram2d\"}],\"histogram2dcontour\":[{\"colorbar\":{\"outlinewidth\":0,\"ticks\":\"\"},\"colorscale\":[[0.0,\"#0d0887\"],[0.1111111111111111,\"#46039f\"],[0.2222222222222222,\"#7201a8\"],[0.3333333333333333,\"#9c179e\"],[0.4444444444444444,\"#bd3786\"],[0.5555555555555556,\"#d8576b\"],[0.6666666666666666,\"#ed7953\"],[0.7777777777777778,\"#fb9f3a\"],[0.8888888888888888,\"#fdca26\"],[1.0,\"#f0f921\"]],\"type\":\"histogram2dcontour\"}],\"mesh3d\":[{\"colorbar\":{\"outlinewidth\":0,\"ticks\":\"\"},\"type\":\"mesh3d\"}],\"parcoords\":[{\"line\":{\"colorbar\":{\"outlinewidth\":0,\"ticks\":\"\"}},\"type\":\"parcoords\"}],\"pie\":[{\"automargin\":true,\"type\":\"pie\"}],\"scatter\":[{\"marker\":{\"colorbar\":{\"outlinewidth\":0,\"ticks\":\"\"}},\"type\":\"scatter\"}],\"scatter3d\":[{\"line\":{\"colorbar\":{\"outlinewidth\":0,\"ticks\":\"\"}},\"marker\":{\"colorbar\":{\"outlinewidth\":0,\"ticks\":\"\"}},\"type\":\"scatter3d\"}],\"scattercarpet\":[{\"marker\":{\"colorbar\":{\"outlinewidth\":0,\"ticks\":\"\"}},\"type\":\"scattercarpet\"}],\"scattergeo\":[{\"marker\":{\"colorbar\":{\"outlinewidth\":0,\"ticks\":\"\"}},\"type\":\"scattergeo\"}],\"scattergl\":[{\"marker\":{\"colorbar\":{\"outlinewidth\":0,\"ticks\":\"\"}},\"type\":\"scattergl\"}],\"scattermapbox\":[{\"marker\":{\"colorbar\":{\"outlinewidth\":0,\"ticks\":\"\"}},\"type\":\"scattermapbox\"}],\"scatterpolar\":[{\"marker\":{\"colorbar\":{\"outlinewidth\":0,\"ticks\":\"\"}},\"type\":\"scatterpolar\"}],\"scatterpolargl\":[{\"marker\":{\"colorbar\":{\"outlinewidth\":0,\"ticks\":\"\"}},\"type\":\"scatterpolargl\"}],\"scatterternary\":[{\"marker\":{\"colorbar\":{\"outlinewidth\":0,\"ticks\":\"\"}},\"type\":\"scatterternary\"}],\"surface\":[{\"colorbar\":{\"outlinewidth\":0,\"ticks\":\"\"},\"colorscale\":[[0.0,\"#0d0887\"],[0.1111111111111111,\"#46039f\"],[0.2222222222222222,\"#7201a8\"],[0.3333333333333333,\"#9c179e\"],[0.4444444444444444,\"#bd3786\"],[0.5555555555555556,\"#d8576b\"],[0.6666666666666666,\"#ed7953\"],[0.7777777777777778,\"#fb9f3a\"],[0.8888888888888888,\"#fdca26\"],[1.0,\"#f0f921\"]],\"type\":\"surface\"}],\"table\":[{\"cells\":{\"fill\":{\"color\":\"#EBF0F8\"},\"line\":{\"color\":\"white\"}},\"header\":{\"fill\":{\"color\":\"#C8D4E3\"},\"line\":{\"color\":\"white\"}},\"type\":\"table\"}]},\"layout\":{\"annotationdefaults\":{\"arrowcolor\":\"#2a3f5f\",\"arrowhead\":0,\"arrowwidth\":1},\"autotypenumbers\":\"strict\",\"coloraxis\":{\"colorbar\":{\"outlinewidth\":0,\"ticks\":\"\"}},\"colorscale\":{\"diverging\":[[0,\"#8e0152\"],[0.1,\"#c51b7d\"],[0.2,\"#de77ae\"],[0.3,\"#f1b6da\"],[0.4,\"#fde0ef\"],[0.5,\"#f7f7f7\"],[0.6,\"#e6f5d0\"],[0.7,\"#b8e186\"],[0.8,\"#7fbc41\"],[0.9,\"#4d9221\"],[1,\"#276419\"]],\"sequential\":[[0.0,\"#0d0887\"],[0.1111111111111111,\"#46039f\"],[0.2222222222222222,\"#7201a8\"],[0.3333333333333333,\"#9c179e\"],[0.4444444444444444,\"#bd3786\"],[0.5555555555555556,\"#d8576b\"],[0.6666666666666666,\"#ed7953\"],[0.7777777777777778,\"#fb9f3a\"],[0.8888888888888888,\"#fdca26\"],[1.0,\"#f0f921\"]],\"sequentialminus\":[[0.0,\"#0d0887\"],[0.1111111111111111,\"#46039f\"],[0.2222222222222222,\"#7201a8\"],[0.3333333333333333,\"#9c179e\"],[0.4444444444444444,\"#bd3786\"],[0.5555555555555556,\"#d8576b\"],[0.6666666666666666,\"#ed7953\"],[0.7777777777777778,\"#fb9f3a\"],[0.8888888888888888,\"#fdca26\"],[1.0,\"#f0f921\"]]},\"colorway\":[\"#636efa\",\"#EF553B\",\"#00cc96\",\"#ab63fa\",\"#FFA15A\",\"#19d3f3\",\"#FF6692\",\"#B6E880\",\"#FF97FF\",\"#FECB52\"],\"font\":{\"color\":\"#2a3f5f\"},\"geo\":{\"bgcolor\":\"white\",\"lakecolor\":\"white\",\"landcolor\":\"#E5ECF6\",\"showlakes\":true,\"showland\":true,\"subunitcolor\":\"white\"},\"hoverlabel\":{\"align\":\"left\"},\"hovermode\":\"closest\",\"mapbox\":{\"style\":\"light\"},\"paper_bgcolor\":\"white\",\"plot_bgcolor\":\"#E5ECF6\",\"polar\":{\"angularaxis\":{\"gridcolor\":\"white\",\"linecolor\":\"white\",\"ticks\":\"\"},\"bgcolor\":\"#E5ECF6\",\"radialaxis\":{\"gridcolor\":\"white\",\"linecolor\":\"white\",\"ticks\":\"\"}},\"scene\":{\"xaxis\":{\"backgroundcolor\":\"#E5ECF6\",\"gridcolor\":\"white\",\"gridwidth\":2,\"linecolor\":\"white\",\"showbackground\":true,\"ticks\":\"\",\"zerolinecolor\":\"white\"},\"yaxis\":{\"backgroundcolor\":\"#E5ECF6\",\"gridcolor\":\"white\",\"gridwidth\":2,\"linecolor\":\"white\",\"showbackground\":true,\"ticks\":\"\",\"zerolinecolor\":\"white\"},\"zaxis\":{\"backgroundcolor\":\"#E5ECF6\",\"gridcolor\":\"white\",\"gridwidth\":2,\"linecolor\":\"white\",\"showbackground\":true,\"ticks\":\"\",\"zerolinecolor\":\"white\"}},\"shapedefaults\":{\"line\":{\"color\":\"#2a3f5f\"}},\"ternary\":{\"aaxis\":{\"gridcolor\":\"white\",\"linecolor\":\"white\",\"ticks\":\"\"},\"baxis\":{\"gridcolor\":\"white\",\"linecolor\":\"white\",\"ticks\":\"\"},\"bgcolor\":\"#E5ECF6\",\"caxis\":{\"gridcolor\":\"white\",\"linecolor\":\"white\",\"ticks\":\"\"}},\"title\":{\"x\":0.05},\"xaxis\":{\"automargin\":true,\"gridcolor\":\"white\",\"linecolor\":\"white\",\"ticks\":\"\",\"title\":{\"standoff\":15},\"zerolinecolor\":\"white\",\"zerolinewidth\":2},\"yaxis\":{\"automargin\":true,\"gridcolor\":\"white\",\"linecolor\":\"white\",\"ticks\":\"\",\"title\":{\"standoff\":15},\"zerolinecolor\":\"white\",\"zerolinewidth\":2}}},\"xaxis\":{\"anchor\":\"y\",\"domain\":[0.0,1.0],\"title\":{\"text\":\"% Yes\"}},\"yaxis\":{\"anchor\":\"x\",\"domain\":[0.0,1.0],\"title\":{\"text\":\"Error\"}},\"legend\":{\"title\":{\"text\":\"True Y\"},\"tracegroupgap\":0},\"title\":{\"text\":\"% Yes & Error Rate\"}},                        {\"responsive\": true}                    ).then(function(){\n",
       "                            \n",
       "var gd = document.getElementById('424440f6-e13b-4752-aff0-bf628ad9f2e0');\n",
       "var x = new MutationObserver(function (mutations, observer) {{\n",
       "        var display = window.getComputedStyle(gd).display;\n",
       "        if (!display || display === 'none') {{\n",
       "            console.log([gd, 'removed!']);\n",
       "            Plotly.purge(gd);\n",
       "            observer.disconnect();\n",
       "        }}\n",
       "}});\n",
       "\n",
       "// Listen for the removal of the full notebook cells\n",
       "var notebookContainer = gd.closest('#notebook-container');\n",
       "if (notebookContainer) {{\n",
       "    x.observe(notebookContainer, {childList: true});\n",
       "}}\n",
       "\n",
       "// Listen for the clearing of the current output cell\n",
       "var outputEl = gd.closest('.output');\n",
       "if (outputEl) {{\n",
       "    x.observe(outputEl, {childList: true});\n",
       "}}\n",
       "\n",
       "                        })                };                });            </script>        </div>"
      ]
     },
     "metadata": {},
     "output_type": "display_data"
    }
   ],
   "source": [
    "# Plot % Yes & Error\n",
    "plts.plot_yes_perc_error(X_test_all, y_test, y_pred_lg) "
   ]
  },
  {
   "cell_type": "markdown",
   "metadata": {},
   "source": [
    "#### KNN"
   ]
  },
  {
   "cell_type": "code",
   "execution_count": 28,
   "metadata": {},
   "outputs": [],
   "source": [
    "# Find best k for KNN model\n",
    "best_k_dict, accuracies_knn = ea.knn_analysis_hp(X_train, X_dev, y_train, y_dev)"
   ]
  },
  {
   "cell_type": "code",
   "execution_count": 29,
   "metadata": {},
   "outputs": [
    {
     "data": {
      "text/html": [
       "<div>\n",
       "<style scoped>\n",
       "    .dataframe tbody tr th:only-of-type {\n",
       "        vertical-align: middle;\n",
       "    }\n",
       "\n",
       "    .dataframe tbody tr th {\n",
       "        vertical-align: top;\n",
       "    }\n",
       "\n",
       "    .dataframe thead th {\n",
       "        text-align: right;\n",
       "    }\n",
       "</style>\n",
       "<table border=\"1\" class=\"dataframe\">\n",
       "  <thead>\n",
       "    <tr style=\"text-align: right;\">\n",
       "      <th></th>\n",
       "      <th>k</th>\n",
       "      <th>accu_rate</th>\n",
       "    </tr>\n",
       "  </thead>\n",
       "  <tbody>\n",
       "    <tr>\n",
       "      <th>0</th>\n",
       "      <td>1.0</td>\n",
       "      <td>0.792627</td>\n",
       "    </tr>\n",
       "    <tr>\n",
       "      <th>1</th>\n",
       "      <td>3.0</td>\n",
       "      <td>0.815668</td>\n",
       "    </tr>\n",
       "    <tr>\n",
       "      <th>2</th>\n",
       "      <td>5.0</td>\n",
       "      <td>0.801843</td>\n",
       "    </tr>\n",
       "    <tr>\n",
       "      <th>3</th>\n",
       "      <td>7.0</td>\n",
       "      <td>0.815668</td>\n",
       "    </tr>\n",
       "    <tr>\n",
       "      <th>4</th>\n",
       "      <td>9.0</td>\n",
       "      <td>0.824885</td>\n",
       "    </tr>\n",
       "    <tr>\n",
       "      <th>5</th>\n",
       "      <td>11.0</td>\n",
       "      <td>0.829493</td>\n",
       "    </tr>\n",
       "    <tr>\n",
       "      <th>6</th>\n",
       "      <td>13.0</td>\n",
       "      <td>0.847926</td>\n",
       "    </tr>\n",
       "    <tr>\n",
       "      <th>7</th>\n",
       "      <td>15.0</td>\n",
       "      <td>0.83871</td>\n",
       "    </tr>\n",
       "    <tr>\n",
       "      <th>8</th>\n",
       "      <td>17.0</td>\n",
       "      <td>0.83871</td>\n",
       "    </tr>\n",
       "    <tr>\n",
       "      <th>9</th>\n",
       "      <td>19.0</td>\n",
       "      <td>0.83871</td>\n",
       "    </tr>\n",
       "    <tr>\n",
       "      <th>10</th>\n",
       "      <td>21.0</td>\n",
       "      <td>0.843318</td>\n",
       "    </tr>\n",
       "    <tr>\n",
       "      <th>11</th>\n",
       "      <td>23.0</td>\n",
       "      <td>0.843318</td>\n",
       "    </tr>\n",
       "    <tr>\n",
       "      <th>12</th>\n",
       "      <td>25.0</td>\n",
       "      <td>0.843318</td>\n",
       "    </tr>\n",
       "    <tr>\n",
       "      <th>13</th>\n",
       "      <td>27.0</td>\n",
       "      <td>0.843318</td>\n",
       "    </tr>\n",
       "    <tr>\n",
       "      <th>14</th>\n",
       "      <td>29.0</td>\n",
       "      <td>0.843318</td>\n",
       "    </tr>\n",
       "    <tr>\n",
       "      <th>15</th>\n",
       "      <td>31.0</td>\n",
       "      <td>0.843318</td>\n",
       "    </tr>\n",
       "    <tr>\n",
       "      <th>16</th>\n",
       "      <td>33.0</td>\n",
       "      <td>0.843318</td>\n",
       "    </tr>\n",
       "    <tr>\n",
       "      <th>17</th>\n",
       "      <td>35.0</td>\n",
       "      <td>0.843318</td>\n",
       "    </tr>\n",
       "    <tr>\n",
       "      <th>18</th>\n",
       "      <td>37.0</td>\n",
       "      <td>0.83871</td>\n",
       "    </tr>\n",
       "    <tr>\n",
       "      <th>19</th>\n",
       "      <td>39.0</td>\n",
       "      <td>0.834101</td>\n",
       "    </tr>\n",
       "  </tbody>\n",
       "</table>\n",
       "</div>"
      ],
      "text/plain": [
       "       k accu_rate\n",
       "0    1.0  0.792627\n",
       "1    3.0  0.815668\n",
       "2    5.0  0.801843\n",
       "3    7.0  0.815668\n",
       "4    9.0  0.824885\n",
       "5   11.0  0.829493\n",
       "6   13.0  0.847926\n",
       "7   15.0   0.83871\n",
       "8   17.0   0.83871\n",
       "9   19.0   0.83871\n",
       "10  21.0  0.843318\n",
       "11  23.0  0.843318\n",
       "12  25.0  0.843318\n",
       "13  27.0  0.843318\n",
       "14  29.0  0.843318\n",
       "15  31.0  0.843318\n",
       "16  33.0  0.843318\n",
       "17  35.0  0.843318\n",
       "18  37.0   0.83871\n",
       "19  39.0  0.834101"
      ]
     },
     "execution_count": 29,
     "metadata": {},
     "output_type": "execute_result"
    }
   ],
   "source": [
    "accuracies_knn"
   ]
  },
  {
   "cell_type": "code",
   "execution_count": 30,
   "metadata": {},
   "outputs": [
    {
     "data": {
      "text/plain": [
       "<module 'matplotlib.pylab' from '/Library/Frameworks/Python.framework/Versions/3.9/lib/python3.9/site-packages/matplotlib/pylab.py'>"
      ]
     },
     "execution_count": 30,
     "metadata": {},
     "output_type": "execute_result"
    },
    {
     "data": {
      "image/png": "[encoded data removed]",
      "text/plain": [
       "<Figure size 864x432 with 1 Axes>"
      ]
     },
     "metadata": {
      "needs_background": "light"
     },
     "output_type": "display_data"
    }
   ],
   "source": [
    "# Plot k vs accuracy \n",
    "ea.knn_k_plot(accuracies_knn)"
   ]
  },
  {
   "cell_type": "code",
   "execution_count": 31,
   "metadata": {},
   "outputs": [],
   "source": [
    "# Make prediction with best k\n",
    "y_pred_knn = ea.knn_analysis_max_k(X_train, X_test, y_train, y_test, best_k_dict[\"max_k\"])"
   ]
  },
  {
   "cell_type": "code",
   "execution_count": 32,
   "metadata": {},
   "outputs": [
    {
     "name": "stdout",
     "output_type": "stream",
     "text": [
      "Classification report: \n",
      "               precision    recall  f1-score   support\n",
      "\n",
      "         0.0       0.50      0.12      0.19        26\n",
      "         1.0       0.89      0.98      0.94       191\n",
      "\n",
      "    accuracy                           0.88       217\n",
      "   macro avg       0.70      0.55      0.56       217\n",
      "weighted avg       0.84      0.88      0.85       217\n",
      "\n"
     ]
    }
   ],
   "source": [
    "# Evaluation metrics\n",
    "print(\"Classification report: \\n\", classification_report(y_test, y_pred_knn))"
   ]
  },
  {
   "cell_type": "code",
   "execution_count": 33,
   "metadata": {},
   "outputs": [
    {
     "data": {
      "text/plain": [
       "<sklearn.metrics._plot.confusion_matrix.ConfusionMatrixDisplay at 0x7fddd10001f0>"
      ]
     },
     "execution_count": 33,
     "metadata": {},
     "output_type": "execute_result"
    },
    {
     "data": {
      "image/png": "[encoded data removed]",
      "text/plain": [
       "<Figure size 432x288 with 2 Axes>"
      ]
     },
     "metadata": {
      "needs_background": "light"
     },
     "output_type": "display_data"
    }
   ],
   "source": [
    "# Confusion matrix\n",
    "cm = confusion_matrix(y_test, y_pred_knn)\n",
    "ConfusionMatrixDisplay(cm, display_labels=labels).plot()"
   ]
  },
  {
   "cell_type": "code",
   "execution_count": 34,
   "metadata": {},
   "outputs": [
    {
     "data": {
      "application/vnd.plotly.v1+json": {
       "config": {
        "plotlyServerURL": "https://plot.ly"
       },
       "data": [
        {
         "customdata": [
          [
           "Bretonnières"
          ],
          [
           "Mies"
          ],
          [
           "Ropraz"
          ],
          [
           "Hergiswil bei Willisau"
          ],
          [
           "Pont-en-Ogoz"
          ],
          [
           "Valeyres-sous-Ursins"
          ],
          [
           "Küblis"
          ],
          [
           "Sierre"
          ],
          [
           "Granges-Paccot"
          ],
          [
           "Amlikon-Bissegg"
          ],
          [
           "Saubraz"
          ],
          [
           "Bodio"
          ],
          [
           "Würenlingen"
          ],
          [
           "Wenslingen"
          ],
          [
           "Engelberg"
          ],
          [
           "Zwingen"
          ],
          [
           "Savièse"
          ],
          [
           "Lüterkofen-Ichertswil"
          ],
          [
           "Kappel am Albis"
          ],
          [
           "Bogis-Bossey"
          ],
          [
           "Petit-Val"
          ],
          [
           "Menznau"
          ],
          [
           "Gansingen"
          ],
          [
           "Lostorf"
          ],
          [
           "Mauborget"
          ],
          [
           "Forst-Längenbühl"
          ],
          [
           "Dürnten"
          ],
          [
           "Oberwil (BL)"
          ],
          [
           "Novazzano"
          ],
          [
           "Eiken"
          ],
          [
           "Mollens (VD)"
          ],
          [
           "Mümliswil-Ramiswil"
          ],
          [
           "Ottenbach"
          ],
          [
           "Turtmann-Unterems"
          ],
          [
           "Weggis"
          ],
          [
           "Dietwil"
          ],
          [
           "Gingins"
          ],
          [
           "Presinge"
          ],
          [
           "Kaisten"
          ],
          [
           "Ammerswil"
          ],
          [
           "Hornussen"
          ],
          [
           "Lens"
          ],
          [
           "Konolfingen"
          ],
          [
           "Mörel-Filet"
          ],
          [
           "Schangnau"
          ],
          [
           "Sarmenstorf"
          ],
          [
           "Biasca"
          ],
          [
           "Bremblens"
          ],
          [
           "Eschert"
          ],
          [
           "Le Bémont (JU)"
          ],
          [
           "Härkingen"
          ],
          [
           "Beromünster"
          ],
          [
           "Riedholz"
          ],
          [
           "Herzogenbuchsee"
          ],
          [
           "Fontenais"
          ],
          [
           "Wimmis"
          ],
          [
           "Boudry"
          ],
          [
           "Cortébert"
          ],
          [
           "Hohenrain"
          ],
          [
           "Therwil"
          ],
          [
           "Rüdtligen-Alchenflüh"
          ],
          [
           "Porza"
          ],
          [
           "Comano"
          ],
          [
           "Müllheim"
          ],
          [
           "Bioggio"
          ],
          [
           "Luterbach"
          ],
          [
           "Courchapoix"
          ],
          [
           "Rütschelen"
          ],
          [
           "Innertkirchen"
          ],
          [
           "Gilly"
          ],
          [
           "Riviera"
          ],
          [
           "Bürglen (UR)"
          ],
          [
           "Klosters"
          ],
          [
           "Augst"
          ],
          [
           "Ueberstorf"
          ],
          [
           "Oberwil-Lieli"
          ],
          [
           "Fislisbach"
          ],
          [
           "Mergoscia"
          ],
          [
           "Bois-d'Amont"
          ],
          [
           "Leuk"
          ],
          [
           "Wald (BE)"
          ],
          [
           "Einsiedeln"
          ],
          [
           "Huttwil"
          ],
          [
           "Gambarogno"
          ],
          [
           "Hindelbank"
          ],
          [
           "Rothrist"
          ],
          [
           "Albinen"
          ],
          [
           "Goms"
          ],
          [
           "Vallorbe"
          ],
          [
           "Orbe"
          ],
          [
           "Laufenburg"
          ],
          [
           "Wegenstetten"
          ],
          [
           "Staffelbach"
          ],
          [
           "Coeuve"
          ],
          [
           "Unterlangenegg"
          ],
          [
           "Tramelan"
          ],
          [
           "Les Genevez (JU)"
          ],
          [
           "Trüllikon"
          ],
          [
           "Conthey"
          ],
          [
           "Blenio"
          ],
          [
           "Baldingen"
          ],
          [
           "Oberlunkhofen"
          ],
          [
           "Sargans"
          ],
          [
           "Vullierens"
          ],
          [
           "Centovalli"
          ],
          [
           "Rougemont"
          ],
          [
           "Perroy"
          ],
          [
           "Lenk"
          ],
          [
           "Oberwil bei Büren"
          ],
          [
           "Busswil bei Melchnau"
          ],
          [
           "Täuffelen"
          ],
          [
           "Dalpe"
          ],
          [
           "Coldrerio"
          ],
          [
           "Steinen"
          ],
          [
           "Eschenz"
          ],
          [
           "Brienzwiler"
          ],
          [
           "Morcote"
          ],
          [
           "Beatenberg"
          ],
          [
           "Lignerolle"
          ],
          [
           "Trimmis"
          ],
          [
           "Allaman"
          ],
          [
           "Büron"
          ],
          [
           "Heimiswil"
          ],
          [
           "Valbirse"
          ],
          [
           "Rothenthurm"
          ],
          [
           "Remaufens"
          ],
          [
           "Hägendorf"
          ],
          [
           "Büttikon"
          ],
          [
           "Sion"
          ],
          [
           "Mirchel"
          ],
          [
           "Schöfflisdorf"
          ],
          [
           "Hägglingen"
          ],
          [
           "Egg"
          ],
          [
           "Basadingen-Schlattingen"
          ],
          [
           "Bichelsee-Balterswil"
          ],
          [
           "Alchenstorf"
          ],
          [
           "Buchs (SG)"
          ],
          [
           "Hochfelden"
          ],
          [
           "Avenches"
          ],
          [
           "Studen (BE)"
          ],
          [
           "Kleinbösingen"
          ],
          [
           "Ettingen"
          ],
          [
           "Scheuren"
          ],
          [
           "Dänikon"
          ],
          [
           "Meiringen"
          ],
          [
           "Dallenwil"
          ],
          [
           "Alpthal"
          ],
          [
           "Bergdietikon"
          ],
          [
           "Ehrendingen"
          ],
          [
           "Herrliberg"
          ],
          [
           "Dozwil"
          ],
          [
           "Le Chenit"
          ],
          [
           "Sorvilier"
          ],
          [
           "Steinmaur"
          ],
          [
           "Milvignes"
          ],
          [
           "Niederhasli"
          ],
          [
           "Erstfeld"
          ],
          [
           "Niedergösgen"
          ],
          [
           "Freienbach"
          ],
          [
           "Siglistorf"
          ],
          [
           "Schwellbrunn"
          ],
          [
           "Choulex"
          ],
          [
           "Plasselb"
          ],
          [
           "Grossaffoltern"
          ],
          [
           "Chêne-Bourg"
          ],
          [
           "Bözen"
          ],
          [
           "Truttikon"
          ],
          [
           "Aedermannsdorf"
          ],
          [
           "Ménières"
          ],
          [
           "Ursins"
          ],
          [
           "Eisten"
          ],
          [
           "Monteggio"
          ],
          [
           "Wald (AR)"
          ],
          [
           "Kappel (SO)"
          ],
          [
           "Astano"
          ],
          [
           "Realp"
          ],
          [
           "Lengwil"
          ],
          [
           "Treyvaux"
          ],
          [
           "Château-d'Oex"
          ],
          [
           "Grosshöchstetten"
          ],
          [
           "Eggiwil"
          ],
          [
           "Villorsonnens"
          ],
          [
           "Gretzenbach"
          ],
          [
           "Evolène"
          ],
          [
           "Saint-Légier-La Chiésaz"
          ],
          [
           "Heitenried"
          ],
          [
           "Bürglen (TG)"
          ],
          [
           "Féchy"
          ],
          [
           "Mörigen"
          ],
          [
           "Reinach (BL)"
          ],
          [
           "Liedertswil"
          ]
         ],
         "hovertemplate": "True Y=1.0<br>% Yes=%{x}<br>Error=%{y}<br>Municipality=%{customdata[0]}<extra></extra>",
         "legendgroup": "1.0",
         "marker": {
          "color": "#636efa",
          "symbol": "circle"
         },
         "mode": "markers",
         "name": "1.0",
         "orientation": "v",
         "showlegend": true,
         "type": "scatter",
         "x": [
          55,
          50.4,
          62.8,
          68.1,
          66.5,
          64.5,
          63.5,
          60.1,
          53.7,
          60.4,
          54.5,
          64.9,
          59.4,
          54.4,
          55,
          61.6,
          62.2,
          53.3,
          52.8,
          52.5,
          69.2,
          63.9,
          55.3,
          55.2,
          66.7,
          66.9,
          55.6,
          52.2,
          67.3,
          61.8,
          58.9,
          66.1,
          50.7,
          58.2,
          50.7,
          61.1,
          53.9,
          51.6,
          56.6,
          54.1,
          64.4,
          58.7,
          51.5,
          50.3,
          77.6,
          59.8,
          64,
          64.8,
          78.9,
          63.5,
          65.1,
          55.2,
          50.5,
          50.7,
          59.3,
          61,
          55.2,
          63,
          60.4,
          53.5,
          60.7,
          60.6,
          58.5,
          58.5,
          66.7,
          53.1,
          65.2,
          56.8,
          59.8,
          55.8,
          65.9,
          62.8,
          56.3,
          56.7,
          59,
          60.2,
          50.2,
          63.4,
          56.7,
          55.9,
          55.4,
          59.6,
          60.6,
          60.9,
          57.5,
          62.9,
          60.4,
          50.2,
          65.2,
          55.9,
          54.1,
          63.3,
          72.2,
          68.1,
          63.8,
          63.7,
          54.6,
          63.5,
          63.9,
          66.4,
          59.4,
          51.9,
          52.4,
          52.4,
          53.4,
          65.1,
          54.4,
          61.4,
          59.6,
          68.5,
          54.8,
          57.1,
          63.7,
          61.8,
          54.8,
          62.5,
          54.5,
          60.3,
          60.6,
          56,
          56.2,
          60.7,
          59.1,
          69.4,
          78.5,
          59.1,
          61.4,
          66.5,
          55.7,
          71.2,
          61.7,
          55.2,
          51.8,
          61.1,
          58.9,
          64.3,
          53.3,
          64.8,
          64.4,
          67.4,
          57.1,
          58.2,
          65.1,
          61.8,
          53.4,
          62.3,
          81.1,
          57,
          53.3,
          51.7,
          64.8,
          64.2,
          68,
          58.5,
          51.1,
          58.2,
          63,
          60.3,
          56.9,
          66.5,
          61.8,
          50.8,
          69.3,
          53.9,
          51.7,
          65.8,
          56.1,
          64.6,
          62.7,
          51,
          63.3,
          65.4,
          51.2,
          55.4,
          54.8,
          58.9,
          50.7,
          64.4,
          59.7,
          50.6,
          69.9,
          69.7,
          55.5,
          66.4,
          52,
          57.8,
          61.2,
          53.5,
          62.8,
          54.9,
          70.4
         ],
         "xaxis": "x",
         "y": [
          0,
          1,
          0,
          0,
          0,
          0,
          0,
          0,
          0,
          0,
          1,
          0,
          0,
          0,
          0,
          0,
          0,
          0,
          0,
          1,
          0,
          0,
          0,
          0,
          0,
          0,
          0,
          0,
          0,
          0,
          0,
          0,
          0,
          0,
          0,
          0,
          0,
          0,
          0,
          0,
          0,
          0,
          0,
          0,
          0,
          0,
          0,
          0,
          0,
          0,
          0,
          0,
          0,
          0,
          0,
          0,
          0,
          0,
          0,
          0,
          0,
          0,
          0,
          0,
          0,
          0,
          0,
          0,
          0,
          0,
          0,
          0,
          0,
          0,
          0,
          0,
          0,
          0,
          0,
          0,
          0,
          0,
          0,
          0,
          0,
          0,
          0,
          0,
          0,
          0,
          0,
          0,
          0,
          0,
          0,
          0,
          0,
          0,
          0,
          0,
          0,
          0,
          0,
          0,
          0,
          0,
          0,
          0,
          0,
          0,
          0,
          0,
          0,
          0,
          0,
          0,
          0,
          0,
          0,
          0,
          0,
          0,
          0,
          0,
          0,
          0,
          0,
          0,
          0,
          0,
          0,
          0,
          0,
          0,
          0,
          0,
          0,
          0,
          0,
          0,
          0,
          0,
          0,
          0,
          0,
          0,
          0,
          0,
          0,
          0,
          0,
          0,
          0,
          0,
          0,
          0,
          0,
          0,
          0,
          0,
          0,
          0,
          0,
          0,
          0,
          0,
          0,
          0,
          0,
          0,
          0,
          0,
          0,
          0,
          0,
          0,
          0,
          0,
          0,
          0,
          0,
          0,
          0,
          0,
          0,
          0,
          0,
          0,
          0,
          0,
          0
         ],
         "yaxis": "y"
        },
        {
         "customdata": [
          [
           "Safiental"
          ],
          [
           "Ziefen"
          ],
          [
           "Maur"
          ],
          [
           "Begnins"
          ],
          [
           "Bätterkinden"
          ],
          [
           "Fürstenau"
          ],
          [
           "Apples"
          ],
          [
           "Schelten"
          ],
          [
           "Ittigen"
          ],
          [
           "Muri (AG)"
          ],
          [
           "Veyrier"
          ],
          [
           "Schwerzenbach"
          ],
          [
           "Lutry"
          ],
          [
           "Genève"
          ],
          [
           "Unterbäch"
          ],
          [
           "Richterswil"
          ],
          [
           "Ennetbaden"
          ],
          [
           "Pregny-Chambésy"
          ],
          [
           "Onsernone"
          ],
          [
           "Bedigliora"
          ],
          [
           "Wettswil am Albis"
          ],
          [
           "Hedingen"
          ],
          [
           "La Chaux-de-Fonds"
          ],
          [
           "Carouge (GE)"
          ],
          [
           "Mauraz"
          ],
          [
           "Rheinfelden"
          ]
         ],
         "hovertemplate": "True Y=0.0<br>% Yes=%{x}<br>Error=%{y}<br>Municipality=%{customdata[0]}<extra></extra>",
         "legendgroup": "0.0",
         "marker": {
          "color": "#EF553B",
          "symbol": "circle"
         },
         "mode": "markers",
         "name": "0.0",
         "orientation": "v",
         "showlegend": true,
         "type": "scatter",
         "x": [
          47.4,
          48.3,
          50,
          49.2,
          47.7,
          49.2,
          49.2,
          48.1,
          47.1,
          49.4,
          49,
          46.6,
          50,
          44.8,
          46.5,
          48.1,
          30.9,
          48,
          49.1,
          48.1,
          46.6,
          46.1,
          49.7,
          43.4,
          40.6,
          49.2
         ],
         "xaxis": "x",
         "y": [
          1,
          1,
          1,
          1,
          1,
          1,
          1,
          1,
          0,
          1,
          1,
          0,
          1,
          1,
          1,
          1,
          1,
          1,
          1,
          1,
          0,
          1,
          1,
          1,
          1,
          1
         ],
         "yaxis": "y"
        }
       ],
       "layout": {
        "legend": {
         "title": {
          "text": "True Y"
         },
         "tracegroupgap": 0
        },
        "template": {
         "data": {
          "bar": [
           {
            "error_x": {
             "color": "#2a3f5f"
            },
            "error_y": {
             "color": "#2a3f5f"
            },
            "marker": {
             "line": {
              "color": "#E5ECF6",
              "width": 0.5
             },
             "pattern": {
              "fillmode": "overlay",
              "size": 10,
              "solidity": 0.2
             }
            },
            "type": "bar"
           }
          ],
          "barpolar": [
           {
            "marker": {
             "line": {
              "color": "#E5ECF6",
              "width": 0.5
             },
             "pattern": {
              "fillmode": "overlay",
              "size": 10,
              "solidity": 0.2
             }
            },
            "type": "barpolar"
           }
          ],
          "carpet": [
           {
            "aaxis": {
             "endlinecolor": "#2a3f5f",
             "gridcolor": "white",
             "linecolor": "white",
             "minorgridcolor": "white",
             "startlinecolor": "#2a3f5f"
            },
            "baxis": {
             "endlinecolor": "#2a3f5f",
             "gridcolor": "white",
             "linecolor": "white",
             "minorgridcolor": "white",
             "startlinecolor": "#2a3f5f"
            },
            "type": "carpet"
           }
          ],
          "choropleth": [
           {
            "colorbar": {
             "outlinewidth": 0,
             "ticks": ""
            },
            "type": "choropleth"
           }
          ],
          "contour": [
           {
            "colorbar": {
             "outlinewidth": 0,
             "ticks": ""
            },
            "colorscale": [
             [
              0,
              "#0d0887"
             ],
             [
              0.1111111111111111,
              "#46039f"
             ],
             [
              0.2222222222222222,
              "#7201a8"
             ],
             [
              0.3333333333333333,
              "#9c179e"
             ],
             [
              0.4444444444444444,
              "#bd3786"
             ],
             [
              0.5555555555555556,
              "#d8576b"
             ],
             [
              0.6666666666666666,
              "#ed7953"
             ],
             [
              0.7777777777777778,
              "#fb9f3a"
             ],
             [
              0.8888888888888888,
              "#fdca26"
             ],
             [
              1,
              "#f0f921"
             ]
            ],
            "type": "contour"
           }
          ],
          "contourcarpet": [
           {
            "colorbar": {
             "outlinewidth": 0,
             "ticks": ""
            },
            "type": "contourcarpet"
           }
          ],
          "heatmap": [
           {
            "colorbar": {
             "outlinewidth": 0,
             "ticks": ""
            },
            "colorscale": [
             [
              0,
              "#0d0887"
             ],
             [
              0.1111111111111111,
              "#46039f"
             ],
             [
              0.2222222222222222,
              "#7201a8"
             ],
             [
              0.3333333333333333,
              "#9c179e"
             ],
             [
              0.4444444444444444,
              "#bd3786"
             ],
             [
              0.5555555555555556,
              "#d8576b"
             ],
             [
              0.6666666666666666,
              "#ed7953"
             ],
             [
              0.7777777777777778,
              "#fb9f3a"
             ],
             [
              0.8888888888888888,
              "#fdca26"
             ],
             [
              1,
              "#f0f921"
             ]
            ],
            "type": "heatmap"
           }
          ],
          "heatmapgl": [
           {
            "colorbar": {
             "outlinewidth": 0,
             "ticks": ""
            },
            "colorscale": [
             [
              0,
              "#0d0887"
             ],
             [
              0.1111111111111111,
              "#46039f"
             ],
             [
              0.2222222222222222,
              "#7201a8"
             ],
             [
              0.3333333333333333,
              "#9c179e"
             ],
             [
              0.4444444444444444,
              "#bd3786"
             ],
             [
              0.5555555555555556,
              "#d8576b"
             ],
             [
              0.6666666666666666,
              "#ed7953"
             ],
             [
              0.7777777777777778,
              "#fb9f3a"
             ],
             [
              0.8888888888888888,
              "#fdca26"
             ],
             [
              1,
              "#f0f921"
             ]
            ],
            "type": "heatmapgl"
           }
          ],
          "histogram": [
           {
            "marker": {
             "pattern": {
              "fillmode": "overlay",
              "size": 10,
              "solidity": 0.2
             }
            },
            "type": "histogram"
           }
          ],
          "histogram2d": [
           {
            "colorbar": {
             "outlinewidth": 0,
             "ticks": ""
            },
            "colorscale": [
             [
              0,
              "#0d0887"
             ],
             [
              0.1111111111111111,
              "#46039f"
             ],
             [
              0.2222222222222222,
              "#7201a8"
             ],
             [
              0.3333333333333333,
              "#9c179e"
             ],
             [
              0.4444444444444444,
              "#bd3786"
             ],
             [
              0.5555555555555556,
              "#d8576b"
             ],
             [
              0.6666666666666666,
              "#ed7953"
             ],
             [
              0.7777777777777778,
              "#fb9f3a"
             ],
             [
              0.8888888888888888,
              "#fdca26"
             ],
             [
              1,
              "#f0f921"
             ]
            ],
            "type": "histogram2d"
           }
          ],
          "histogram2dcontour": [
           {
            "colorbar": {
             "outlinewidth": 0,
             "ticks": ""
            },
            "colorscale": [
             [
              0,
              "#0d0887"
             ],
             [
              0.1111111111111111,
              "#46039f"
             ],
             [
              0.2222222222222222,
              "#7201a8"
             ],
             [
              0.3333333333333333,
              "#9c179e"
             ],
             [
              0.4444444444444444,
              "#bd3786"
             ],
             [
              0.5555555555555556,
              "#d8576b"
             ],
             [
              0.6666666666666666,
              "#ed7953"
             ],
             [
              0.7777777777777778,
              "#fb9f3a"
             ],
             [
              0.8888888888888888,
              "#fdca26"
             ],
             [
              1,
              "#f0f921"
             ]
            ],
            "type": "histogram2dcontour"
           }
          ],
          "mesh3d": [
           {
            "colorbar": {
             "outlinewidth": 0,
             "ticks": ""
            },
            "type": "mesh3d"
           }
          ],
          "parcoords": [
           {
            "line": {
             "colorbar": {
              "outlinewidth": 0,
              "ticks": ""
             }
            },
            "type": "parcoords"
           }
          ],
          "pie": [
           {
            "automargin": true,
            "type": "pie"
           }
          ],
          "scatter": [
           {
            "marker": {
             "colorbar": {
              "outlinewidth": 0,
              "ticks": ""
             }
            },
            "type": "scatter"
           }
          ],
          "scatter3d": [
           {
            "line": {
             "colorbar": {
              "outlinewidth": 0,
              "ticks": ""
             }
            },
            "marker": {
             "colorbar": {
              "outlinewidth": 0,
              "ticks": ""
             }
            },
            "type": "scatter3d"
           }
          ],
          "scattercarpet": [
           {
            "marker": {
             "colorbar": {
              "outlinewidth": 0,
              "ticks": ""
             }
            },
            "type": "scattercarpet"
           }
          ],
          "scattergeo": [
           {
            "marker": {
             "colorbar": {
              "outlinewidth": 0,
              "ticks": ""
             }
            },
            "type": "scattergeo"
           }
          ],
          "scattergl": [
           {
            "marker": {
             "colorbar": {
              "outlinewidth": 0,
              "ticks": ""
             }
            },
            "type": "scattergl"
           }
          ],
          "scattermapbox": [
           {
            "marker": {
             "colorbar": {
              "outlinewidth": 0,
              "ticks": ""
             }
            },
            "type": "scattermapbox"
           }
          ],
          "scatterpolar": [
           {
            "marker": {
             "colorbar": {
              "outlinewidth": 0,
              "ticks": ""
             }
            },
            "type": "scatterpolar"
           }
          ],
          "scatterpolargl": [
           {
            "marker": {
             "colorbar": {
              "outlinewidth": 0,
              "ticks": ""
             }
            },
            "type": "scatterpolargl"
           }
          ],
          "scatterternary": [
           {
            "marker": {
             "colorbar": {
              "outlinewidth": 0,
              "ticks": ""
             }
            },
            "type": "scatterternary"
           }
          ],
          "surface": [
           {
            "colorbar": {
             "outlinewidth": 0,
             "ticks": ""
            },
            "colorscale": [
             [
              0,
              "#0d0887"
             ],
             [
              0.1111111111111111,
              "#46039f"
             ],
             [
              0.2222222222222222,
              "#7201a8"
             ],
             [
              0.3333333333333333,
              "#9c179e"
             ],
             [
              0.4444444444444444,
              "#bd3786"
             ],
             [
              0.5555555555555556,
              "#d8576b"
             ],
             [
              0.6666666666666666,
              "#ed7953"
             ],
             [
              0.7777777777777778,
              "#fb9f3a"
             ],
             [
              0.8888888888888888,
              "#fdca26"
             ],
             [
              1,
              "#f0f921"
             ]
            ],
            "type": "surface"
           }
          ],
          "table": [
           {
            "cells": {
             "fill": {
              "color": "#EBF0F8"
             },
             "line": {
              "color": "white"
             }
            },
            "header": {
             "fill": {
              "color": "#C8D4E3"
             },
             "line": {
              "color": "white"
             }
            },
            "type": "table"
           }
          ]
         },
         "layout": {
          "annotationdefaults": {
           "arrowcolor": "#2a3f5f",
           "arrowhead": 0,
           "arrowwidth": 1
          },
          "autotypenumbers": "strict",
          "coloraxis": {
           "colorbar": {
            "outlinewidth": 0,
            "ticks": ""
           }
          },
          "colorscale": {
           "diverging": [
            [
             0,
             "#8e0152"
            ],
            [
             0.1,
             "#c51b7d"
            ],
            [
             0.2,
             "#de77ae"
            ],
            [
             0.3,
             "#f1b6da"
            ],
            [
             0.4,
             "#fde0ef"
            ],
            [
             0.5,
             "#f7f7f7"
            ],
            [
             0.6,
             "#e6f5d0"
            ],
            [
             0.7,
             "#b8e186"
            ],
            [
             0.8,
             "#7fbc41"
            ],
            [
             0.9,
             "#4d9221"
            ],
            [
             1,
             "#276419"
            ]
           ],
           "sequential": [
            [
             0,
             "#0d0887"
            ],
            [
             0.1111111111111111,
             "#46039f"
            ],
            [
             0.2222222222222222,
             "#7201a8"
            ],
            [
             0.3333333333333333,
             "#9c179e"
            ],
            [
             0.4444444444444444,
             "#bd3786"
            ],
            [
             0.5555555555555556,
             "#d8576b"
            ],
            [
             0.6666666666666666,
             "#ed7953"
            ],
            [
             0.7777777777777778,
             "#fb9f3a"
            ],
            [
             0.8888888888888888,
             "#fdca26"
            ],
            [
             1,
             "#f0f921"
            ]
           ],
           "sequentialminus": [
            [
             0,
             "#0d0887"
            ],
            [
             0.1111111111111111,
             "#46039f"
            ],
            [
             0.2222222222222222,
             "#7201a8"
            ],
            [
             0.3333333333333333,
             "#9c179e"
            ],
            [
             0.4444444444444444,
             "#bd3786"
            ],
            [
             0.5555555555555556,
             "#d8576b"
            ],
            [
             0.6666666666666666,
             "#ed7953"
            ],
            [
             0.7777777777777778,
             "#fb9f3a"
            ],
            [
             0.8888888888888888,
             "#fdca26"
            ],
            [
             1,
             "#f0f921"
            ]
           ]
          },
          "colorway": [
           "#636efa",
           "#EF553B",
           "#00cc96",
           "#ab63fa",
           "#FFA15A",
           "#19d3f3",
           "#FF6692",
           "#B6E880",
           "#FF97FF",
           "#FECB52"
          ],
          "font": {
           "color": "#2a3f5f"
          },
          "geo": {
           "bgcolor": "white",
           "lakecolor": "white",
           "landcolor": "#E5ECF6",
           "showlakes": true,
           "showland": true,
           "subunitcolor": "white"
          },
          "hoverlabel": {
           "align": "left"
          },
          "hovermode": "closest",
          "mapbox": {
           "style": "light"
          },
          "paper_bgcolor": "white",
          "plot_bgcolor": "#E5ECF6",
          "polar": {
           "angularaxis": {
            "gridcolor": "white",
            "linecolor": "white",
            "ticks": ""
           },
           "bgcolor": "#E5ECF6",
           "radialaxis": {
            "gridcolor": "white",
            "linecolor": "white",
            "ticks": ""
           }
          },
          "scene": {
           "xaxis": {
            "backgroundcolor": "#E5ECF6",
            "gridcolor": "white",
            "gridwidth": 2,
            "linecolor": "white",
            "showbackground": true,
            "ticks": "",
            "zerolinecolor": "white"
           },
           "yaxis": {
            "backgroundcolor": "#E5ECF6",
            "gridcolor": "white",
            "gridwidth": 2,
            "linecolor": "white",
            "showbackground": true,
            "ticks": "",
            "zerolinecolor": "white"
           },
           "zaxis": {
            "backgroundcolor": "#E5ECF6",
            "gridcolor": "white",
            "gridwidth": 2,
            "linecolor": "white",
            "showbackground": true,
            "ticks": "",
            "zerolinecolor": "white"
           }
          },
          "shapedefaults": {
           "line": {
            "color": "#2a3f5f"
           }
          },
          "ternary": {
           "aaxis": {
            "gridcolor": "white",
            "linecolor": "white",
            "ticks": ""
           },
           "baxis": {
            "gridcolor": "white",
            "linecolor": "white",
            "ticks": ""
           },
           "bgcolor": "#E5ECF6",
           "caxis": {
            "gridcolor": "white",
            "linecolor": "white",
            "ticks": ""
           }
          },
          "title": {
           "x": 0.05
          },
          "xaxis": {
           "automargin": true,
           "gridcolor": "white",
           "linecolor": "white",
           "ticks": "",
           "title": {
            "standoff": 15
           },
           "zerolinecolor": "white",
           "zerolinewidth": 2
          },
          "yaxis": {
           "automargin": true,
           "gridcolor": "white",
           "linecolor": "white",
           "ticks": "",
           "title": {
            "standoff": 15
           },
           "zerolinecolor": "white",
           "zerolinewidth": 2
          }
         }
        },
        "title": {
         "text": "% Yes & Error Rate"
        },
        "xaxis": {
         "anchor": "y",
         "domain": [
          0,
          1
         ],
         "title": {
          "text": "% Yes"
         }
        },
        "yaxis": {
         "anchor": "x",
         "domain": [
          0,
          1
         ],
         "title": {
          "text": "Error"
         }
        }
       }
      },
      "text/html": [
       "<div>                            <div id=\"c4f3d245-d2ed-41d3-b319-f907dfd7b5b4\" class=\"plotly-graph-div\" style=\"height:525px; width:100%;\"></div>            <script type=\"text/javascript\">                require([\"plotly\"], function(Plotly) {                    window.PLOTLYENV=window.PLOTLYENV || {};                                    if (document.getElementById(\"c4f3d245-d2ed-41d3-b319-f907dfd7b5b4\")) {                    Plotly.newPlot(                        \"c4f3d245-d2ed-41d3-b319-f907dfd7b5b4\",                        [{\"customdata\":[[\"Bretonni\\u00e8res\"],[\"Mies\"],[\"Ropraz\"],[\"Hergiswil bei Willisau\"],[\"Pont-en-Ogoz\"],[\"Valeyres-sous-Ursins\"],[\"K\\u00fcblis\"],[\"Sierre\"],[\"Granges-Paccot\"],[\"Amlikon-Bissegg\"],[\"Saubraz\"],[\"Bodio\"],[\"W\\u00fcrenlingen\"],[\"Wenslingen\"],[\"Engelberg\"],[\"Zwingen\"],[\"Savi\\u00e8se\"],[\"L\\u00fcterkofen-Ichertswil\"],[\"Kappel am Albis\"],[\"Bogis-Bossey\"],[\"Petit-Val\"],[\"Menznau\"],[\"Gansingen\"],[\"Lostorf\"],[\"Mauborget\"],[\"Forst-L\\u00e4ngenb\\u00fchl\"],[\"D\\u00fcrnten\"],[\"Oberwil (BL)\"],[\"Novazzano\"],[\"Eiken\"],[\"Mollens (VD)\"],[\"M\\u00fcmliswil-Ramiswil\"],[\"Ottenbach\"],[\"Turtmann-Unterems\"],[\"Weggis\"],[\"Dietwil\"],[\"Gingins\"],[\"Presinge\"],[\"Kaisten\"],[\"Ammerswil\"],[\"Hornussen\"],[\"Lens\"],[\"Konolfingen\"],[\"M\\u00f6rel-Filet\"],[\"Schangnau\"],[\"Sarmenstorf\"],[\"Biasca\"],[\"Bremblens\"],[\"Eschert\"],[\"Le B\\u00e9mont (JU)\"],[\"H\\u00e4rkingen\"],[\"Berom\\u00fcnster\"],[\"Riedholz\"],[\"Herzogenbuchsee\"],[\"Fontenais\"],[\"Wimmis\"],[\"Boudry\"],[\"Cort\\u00e9bert\"],[\"Hohenrain\"],[\"Therwil\"],[\"R\\u00fcdtligen-Alchenfl\\u00fch\"],[\"Porza\"],[\"Comano\"],[\"M\\u00fcllheim\"],[\"Bioggio\"],[\"Luterbach\"],[\"Courchapoix\"],[\"R\\u00fctschelen\"],[\"Innertkirchen\"],[\"Gilly\"],[\"Riviera\"],[\"B\\u00fcrglen (UR)\"],[\"Klosters\"],[\"Augst\"],[\"Ueberstorf\"],[\"Oberwil-Lieli\"],[\"Fislisbach\"],[\"Mergoscia\"],[\"Bois-d'Amont\"],[\"Leuk\"],[\"Wald (BE)\"],[\"Einsiedeln\"],[\"Huttwil\"],[\"Gambarogno\"],[\"Hindelbank\"],[\"Rothrist\"],[\"Albinen\"],[\"Goms\"],[\"Vallorbe\"],[\"Orbe\"],[\"Laufenburg\"],[\"Wegenstetten\"],[\"Staffelbach\"],[\"Coeuve\"],[\"Unterlangenegg\"],[\"Tramelan\"],[\"Les Genevez (JU)\"],[\"Tr\\u00fcllikon\"],[\"Conthey\"],[\"Blenio\"],[\"Baldingen\"],[\"Oberlunkhofen\"],[\"Sargans\"],[\"Vullierens\"],[\"Centovalli\"],[\"Rougemont\"],[\"Perroy\"],[\"Lenk\"],[\"Oberwil bei B\\u00fcren\"],[\"Busswil bei Melchnau\"],[\"T\\u00e4uffelen\"],[\"Dalpe\"],[\"Coldrerio\"],[\"Steinen\"],[\"Eschenz\"],[\"Brienzwiler\"],[\"Morcote\"],[\"Beatenberg\"],[\"Lignerolle\"],[\"Trimmis\"],[\"Allaman\"],[\"B\\u00fcron\"],[\"Heimiswil\"],[\"Valbirse\"],[\"Rothenthurm\"],[\"Remaufens\"],[\"H\\u00e4gendorf\"],[\"B\\u00fcttikon\"],[\"Sion\"],[\"Mirchel\"],[\"Sch\\u00f6fflisdorf\"],[\"H\\u00e4gglingen\"],[\"Egg\"],[\"Basadingen-Schlattingen\"],[\"Bichelsee-Balterswil\"],[\"Alchenstorf\"],[\"Buchs (SG)\"],[\"Hochfelden\"],[\"Avenches\"],[\"Studen (BE)\"],[\"Kleinb\\u00f6singen\"],[\"Ettingen\"],[\"Scheuren\"],[\"D\\u00e4nikon\"],[\"Meiringen\"],[\"Dallenwil\"],[\"Alpthal\"],[\"Bergdietikon\"],[\"Ehrendingen\"],[\"Herrliberg\"],[\"Dozwil\"],[\"Le Chenit\"],[\"Sorvilier\"],[\"Steinmaur\"],[\"Milvignes\"],[\"Niederhasli\"],[\"Erstfeld\"],[\"Niederg\\u00f6sgen\"],[\"Freienbach\"],[\"Siglistorf\"],[\"Schwellbrunn\"],[\"Choulex\"],[\"Plasselb\"],[\"Grossaffoltern\"],[\"Ch\\u00eane-Bourg\"],[\"B\\u00f6zen\"],[\"Truttikon\"],[\"Aedermannsdorf\"],[\"M\\u00e9ni\\u00e8res\"],[\"Ursins\"],[\"Eisten\"],[\"Monteggio\"],[\"Wald (AR)\"],[\"Kappel (SO)\"],[\"Astano\"],[\"Realp\"],[\"Lengwil\"],[\"Treyvaux\"],[\"Ch\\u00e2teau-d'Oex\"],[\"Grossh\\u00f6chstetten\"],[\"Eggiwil\"],[\"Villorsonnens\"],[\"Gretzenbach\"],[\"Evol\\u00e8ne\"],[\"Saint-L\\u00e9gier-La Chi\\u00e9saz\"],[\"Heitenried\"],[\"B\\u00fcrglen (TG)\"],[\"F\\u00e9chy\"],[\"M\\u00f6rigen\"],[\"Reinach (BL)\"],[\"Liedertswil\"]],\"hovertemplate\":\"True Y=1.0<br>% Yes=%{x}<br>Error=%{y}<br>Municipality=%{customdata[0]}<extra></extra>\",\"legendgroup\":\"1.0\",\"marker\":{\"color\":\"#636efa\",\"symbol\":\"circle\"},\"mode\":\"markers\",\"name\":\"1.0\",\"orientation\":\"v\",\"showlegend\":true,\"x\":[55.0,50.4,62.8,68.1,66.5,64.5,63.5,60.1,53.7,60.4,54.5,64.9,59.4,54.4,55.0,61.6,62.2,53.3,52.8,52.5,69.2,63.9,55.3,55.2,66.7,66.9,55.6,52.2,67.3,61.8,58.9,66.1,50.7,58.2,50.7,61.1,53.9,51.6,56.6,54.1,64.4,58.7,51.5,50.3,77.6,59.8,64.0,64.8,78.9,63.5,65.1,55.2,50.5,50.7,59.3,61.0,55.2,63.0,60.4,53.5,60.7,60.6,58.5,58.5,66.7,53.1,65.2,56.8,59.8,55.8,65.9,62.8,56.3,56.7,59.0,60.2,50.2,63.4,56.7,55.9,55.4,59.6,60.6,60.9,57.5,62.9,60.4,50.2,65.2,55.9,54.1,63.3,72.2,68.1,63.8,63.7,54.6,63.5,63.9,66.4,59.4,51.9,52.4,52.4,53.4,65.1,54.4,61.4,59.6,68.5,54.8,57.1,63.7,61.8,54.8,62.5,54.5,60.3,60.6,56.0,56.2,60.7,59.1,69.4,78.5,59.1,61.4,66.5,55.7,71.2,61.7,55.2,51.8,61.1,58.9,64.3,53.3,64.8,64.4,67.4,57.1,58.2,65.1,61.8,53.4,62.3,81.1,57.0,53.3,51.7,64.8,64.2,68.0,58.5,51.1,58.2,63.0,60.3,56.9,66.5,61.8,50.8,69.3,53.9,51.7,65.8,56.1,64.6,62.7,51.0,63.3,65.4,51.2,55.4,54.8,58.9,50.7,64.4,59.7,50.6,69.9,69.7,55.5,66.4,52.0,57.8,61.2,53.5,62.8,54.9,70.4],\"xaxis\":\"x\",\"y\":[0.0,1.0,0.0,0.0,0.0,0.0,0.0,0.0,0.0,0.0,1.0,0.0,0.0,0.0,0.0,0.0,0.0,0.0,0.0,1.0,0.0,0.0,0.0,0.0,0.0,0.0,0.0,0.0,0.0,0.0,0.0,0.0,0.0,0.0,0.0,0.0,0.0,0.0,0.0,0.0,0.0,0.0,0.0,0.0,0.0,0.0,0.0,0.0,0.0,0.0,0.0,0.0,0.0,0.0,0.0,0.0,0.0,0.0,0.0,0.0,0.0,0.0,0.0,0.0,0.0,0.0,0.0,0.0,0.0,0.0,0.0,0.0,0.0,0.0,0.0,0.0,0.0,0.0,0.0,0.0,0.0,0.0,0.0,0.0,0.0,0.0,0.0,0.0,0.0,0.0,0.0,0.0,0.0,0.0,0.0,0.0,0.0,0.0,0.0,0.0,0.0,0.0,0.0,0.0,0.0,0.0,0.0,0.0,0.0,0.0,0.0,0.0,0.0,0.0,0.0,0.0,0.0,0.0,0.0,0.0,0.0,0.0,0.0,0.0,0.0,0.0,0.0,0.0,0.0,0.0,0.0,0.0,0.0,0.0,0.0,0.0,0.0,0.0,0.0,0.0,0.0,0.0,0.0,0.0,0.0,0.0,0.0,0.0,0.0,0.0,0.0,0.0,0.0,0.0,0.0,0.0,0.0,0.0,0.0,0.0,0.0,0.0,0.0,0.0,0.0,0.0,0.0,0.0,0.0,0.0,0.0,0.0,0.0,0.0,0.0,0.0,0.0,0.0,0.0,0.0,0.0,0.0,0.0,0.0,0.0,0.0,0.0,0.0,0.0,0.0,0.0],\"yaxis\":\"y\",\"type\":\"scatter\"},{\"customdata\":[[\"Safiental\"],[\"Ziefen\"],[\"Maur\"],[\"Begnins\"],[\"B\\u00e4tterkinden\"],[\"F\\u00fcrstenau\"],[\"Apples\"],[\"Schelten\"],[\"Ittigen\"],[\"Muri (AG)\"],[\"Veyrier\"],[\"Schwerzenbach\"],[\"Lutry\"],[\"Gen\\u00e8ve\"],[\"Unterb\\u00e4ch\"],[\"Richterswil\"],[\"Ennetbaden\"],[\"Pregny-Chamb\\u00e9sy\"],[\"Onsernone\"],[\"Bedigliora\"],[\"Wettswil am Albis\"],[\"Hedingen\"],[\"La Chaux-de-Fonds\"],[\"Carouge (GE)\"],[\"Mauraz\"],[\"Rheinfelden\"]],\"hovertemplate\":\"True Y=0.0<br>% Yes=%{x}<br>Error=%{y}<br>Municipality=%{customdata[0]}<extra></extra>\",\"legendgroup\":\"0.0\",\"marker\":{\"color\":\"#EF553B\",\"symbol\":\"circle\"},\"mode\":\"markers\",\"name\":\"0.0\",\"orientation\":\"v\",\"showlegend\":true,\"x\":[47.4,48.3,50.0,49.2,47.7,49.2,49.2,48.1,47.1,49.4,49.0,46.6,50.0,44.8,46.5,48.1,30.9,48.0,49.1,48.1,46.6,46.1,49.7,43.4,40.6,49.2],\"xaxis\":\"x\",\"y\":[1.0,1.0,1.0,1.0,1.0,1.0,1.0,1.0,0.0,1.0,1.0,0.0,1.0,1.0,1.0,1.0,1.0,1.0,1.0,1.0,0.0,1.0,1.0,1.0,1.0,1.0],\"yaxis\":\"y\",\"type\":\"scatter\"}],                        {\"template\":{\"data\":{\"bar\":[{\"error_x\":{\"color\":\"#2a3f5f\"},\"error_y\":{\"color\":\"#2a3f5f\"},\"marker\":{\"line\":{\"color\":\"#E5ECF6\",\"width\":0.5},\"pattern\":{\"fillmode\":\"overlay\",\"size\":10,\"solidity\":0.2}},\"type\":\"bar\"}],\"barpolar\":[{\"marker\":{\"line\":{\"color\":\"#E5ECF6\",\"width\":0.5},\"pattern\":{\"fillmode\":\"overlay\",\"size\":10,\"solidity\":0.2}},\"type\":\"barpolar\"}],\"carpet\":[{\"aaxis\":{\"endlinecolor\":\"#2a3f5f\",\"gridcolor\":\"white\",\"linecolor\":\"white\",\"minorgridcolor\":\"white\",\"startlinecolor\":\"#2a3f5f\"},\"baxis\":{\"endlinecolor\":\"#2a3f5f\",\"gridcolor\":\"white\",\"linecolor\":\"white\",\"minorgridcolor\":\"white\",\"startlinecolor\":\"#2a3f5f\"},\"type\":\"carpet\"}],\"choropleth\":[{\"colorbar\":{\"outlinewidth\":0,\"ticks\":\"\"},\"type\":\"choropleth\"}],\"contour\":[{\"colorbar\":{\"outlinewidth\":0,\"ticks\":\"\"},\"colorscale\":[[0.0,\"#0d0887\"],[0.1111111111111111,\"#46039f\"],[0.2222222222222222,\"#7201a8\"],[0.3333333333333333,\"#9c179e\"],[0.4444444444444444,\"#bd3786\"],[0.5555555555555556,\"#d8576b\"],[0.6666666666666666,\"#ed7953\"],[0.7777777777777778,\"#fb9f3a\"],[0.8888888888888888,\"#fdca26\"],[1.0,\"#f0f921\"]],\"type\":\"contour\"}],\"contourcarpet\":[{\"colorbar\":{\"outlinewidth\":0,\"ticks\":\"\"},\"type\":\"contourcarpet\"}],\"heatmap\":[{\"colorbar\":{\"outlinewidth\":0,\"ticks\":\"\"},\"colorscale\":[[0.0,\"#0d0887\"],[0.1111111111111111,\"#46039f\"],[0.2222222222222222,\"#7201a8\"],[0.3333333333333333,\"#9c179e\"],[0.4444444444444444,\"#bd3786\"],[0.5555555555555556,\"#d8576b\"],[0.6666666666666666,\"#ed7953\"],[0.7777777777777778,\"#fb9f3a\"],[0.8888888888888888,\"#fdca26\"],[1.0,\"#f0f921\"]],\"type\":\"heatmap\"}],\"heatmapgl\":[{\"colorbar\":{\"outlinewidth\":0,\"ticks\":\"\"},\"colorscale\":[[0.0,\"#0d0887\"],[0.1111111111111111,\"#46039f\"],[0.2222222222222222,\"#7201a8\"],[0.3333333333333333,\"#9c179e\"],[0.4444444444444444,\"#bd3786\"],[0.5555555555555556,\"#d8576b\"],[0.6666666666666666,\"#ed7953\"],[0.7777777777777778,\"#fb9f3a\"],[0.8888888888888888,\"#fdca26\"],[1.0,\"#f0f921\"]],\"type\":\"heatmapgl\"}],\"histogram\":[{\"marker\":{\"pattern\":{\"fillmode\":\"overlay\",\"size\":10,\"solidity\":0.2}},\"type\":\"histogram\"}],\"histogram2d\":[{\"colorbar\":{\"outlinewidth\":0,\"ticks\":\"\"},\"colorscale\":[[0.0,\"#0d0887\"],[0.1111111111111111,\"#46039f\"],[0.2222222222222222,\"#7201a8\"],[0.3333333333333333,\"#9c179e\"],[0.4444444444444444,\"#bd3786\"],[0.5555555555555556,\"#d8576b\"],[0.6666666666666666,\"#ed7953\"],[0.7777777777777778,\"#fb9f3a\"],[0.8888888888888888,\"#fdca26\"],[1.0,\"#f0f921\"]],\"type\":\"histogram2d\"}],\"histogram2dcontour\":[{\"colorbar\":{\"outlinewidth\":0,\"ticks\":\"\"},\"colorscale\":[[0.0,\"#0d0887\"],[0.1111111111111111,\"#46039f\"],[0.2222222222222222,\"#7201a8\"],[0.3333333333333333,\"#9c179e\"],[0.4444444444444444,\"#bd3786\"],[0.5555555555555556,\"#d8576b\"],[0.6666666666666666,\"#ed7953\"],[0.7777777777777778,\"#fb9f3a\"],[0.8888888888888888,\"#fdca26\"],[1.0,\"#f0f921\"]],\"type\":\"histogram2dcontour\"}],\"mesh3d\":[{\"colorbar\":{\"outlinewidth\":0,\"ticks\":\"\"},\"type\":\"mesh3d\"}],\"parcoords\":[{\"line\":{\"colorbar\":{\"outlinewidth\":0,\"ticks\":\"\"}},\"type\":\"parcoords\"}],\"pie\":[{\"automargin\":true,\"type\":\"pie\"}],\"scatter\":[{\"marker\":{\"colorbar\":{\"outlinewidth\":0,\"ticks\":\"\"}},\"type\":\"scatter\"}],\"scatter3d\":[{\"line\":{\"colorbar\":{\"outlinewidth\":0,\"ticks\":\"\"}},\"marker\":{\"colorbar\":{\"outlinewidth\":0,\"ticks\":\"\"}},\"type\":\"scatter3d\"}],\"scattercarpet\":[{\"marker\":{\"colorbar\":{\"outlinewidth\":0,\"ticks\":\"\"}},\"type\":\"scattercarpet\"}],\"scattergeo\":[{\"marker\":{\"colorbar\":{\"outlinewidth\":0,\"ticks\":\"\"}},\"type\":\"scattergeo\"}],\"scattergl\":[{\"marker\":{\"colorbar\":{\"outlinewidth\":0,\"ticks\":\"\"}},\"type\":\"scattergl\"}],\"scattermapbox\":[{\"marker\":{\"colorbar\":{\"outlinewidth\":0,\"ticks\":\"\"}},\"type\":\"scattermapbox\"}],\"scatterpolar\":[{\"marker\":{\"colorbar\":{\"outlinewidth\":0,\"ticks\":\"\"}},\"type\":\"scatterpolar\"}],\"scatterpolargl\":[{\"marker\":{\"colorbar\":{\"outlinewidth\":0,\"ticks\":\"\"}},\"type\":\"scatterpolargl\"}],\"scatterternary\":[{\"marker\":{\"colorbar\":{\"outlinewidth\":0,\"ticks\":\"\"}},\"type\":\"scatterternary\"}],\"surface\":[{\"colorbar\":{\"outlinewidth\":0,\"ticks\":\"\"},\"colorscale\":[[0.0,\"#0d0887\"],[0.1111111111111111,\"#46039f\"],[0.2222222222222222,\"#7201a8\"],[0.3333333333333333,\"#9c179e\"],[0.4444444444444444,\"#bd3786\"],[0.5555555555555556,\"#d8576b\"],[0.6666666666666666,\"#ed7953\"],[0.7777777777777778,\"#fb9f3a\"],[0.8888888888888888,\"#fdca26\"],[1.0,\"#f0f921\"]],\"type\":\"surface\"}],\"table\":[{\"cells\":{\"fill\":{\"color\":\"#EBF0F8\"},\"line\":{\"color\":\"white\"}},\"header\":{\"fill\":{\"color\":\"#C8D4E3\"},\"line\":{\"color\":\"white\"}},\"type\":\"table\"}]},\"layout\":{\"annotationdefaults\":{\"arrowcolor\":\"#2a3f5f\",\"arrowhead\":0,\"arrowwidth\":1},\"autotypenumbers\":\"strict\",\"coloraxis\":{\"colorbar\":{\"outlinewidth\":0,\"ticks\":\"\"}},\"colorscale\":{\"diverging\":[[0,\"#8e0152\"],[0.1,\"#c51b7d\"],[0.2,\"#de77ae\"],[0.3,\"#f1b6da\"],[0.4,\"#fde0ef\"],[0.5,\"#f7f7f7\"],[0.6,\"#e6f5d0\"],[0.7,\"#b8e186\"],[0.8,\"#7fbc41\"],[0.9,\"#4d9221\"],[1,\"#276419\"]],\"sequential\":[[0.0,\"#0d0887\"],[0.1111111111111111,\"#46039f\"],[0.2222222222222222,\"#7201a8\"],[0.3333333333333333,\"#9c179e\"],[0.4444444444444444,\"#bd3786\"],[0.5555555555555556,\"#d8576b\"],[0.6666666666666666,\"#ed7953\"],[0.7777777777777778,\"#fb9f3a\"],[0.8888888888888888,\"#fdca26\"],[1.0,\"#f0f921\"]],\"sequentialminus\":[[0.0,\"#0d0887\"],[0.1111111111111111,\"#46039f\"],[0.2222222222222222,\"#7201a8\"],[0.3333333333333333,\"#9c179e\"],[0.4444444444444444,\"#bd3786\"],[0.5555555555555556,\"#d8576b\"],[0.6666666666666666,\"#ed7953\"],[0.7777777777777778,\"#fb9f3a\"],[0.8888888888888888,\"#fdca26\"],[1.0,\"#f0f921\"]]},\"colorway\":[\"#636efa\",\"#EF553B\",\"#00cc96\",\"#ab63fa\",\"#FFA15A\",\"#19d3f3\",\"#FF6692\",\"#B6E880\",\"#FF97FF\",\"#FECB52\"],\"font\":{\"color\":\"#2a3f5f\"},\"geo\":{\"bgcolor\":\"white\",\"lakecolor\":\"white\",\"landcolor\":\"#E5ECF6\",\"showlakes\":true,\"showland\":true,\"subunitcolor\":\"white\"},\"hoverlabel\":{\"align\":\"left\"},\"hovermode\":\"closest\",\"mapbox\":{\"style\":\"light\"},\"paper_bgcolor\":\"white\",\"plot_bgcolor\":\"#E5ECF6\",\"polar\":{\"angularaxis\":{\"gridcolor\":\"white\",\"linecolor\":\"white\",\"ticks\":\"\"},\"bgcolor\":\"#E5ECF6\",\"radialaxis\":{\"gridcolor\":\"white\",\"linecolor\":\"white\",\"ticks\":\"\"}},\"scene\":{\"xaxis\":{\"backgroundcolor\":\"#E5ECF6\",\"gridcolor\":\"white\",\"gridwidth\":2,\"linecolor\":\"white\",\"showbackground\":true,\"ticks\":\"\",\"zerolinecolor\":\"white\"},\"yaxis\":{\"backgroundcolor\":\"#E5ECF6\",\"gridcolor\":\"white\",\"gridwidth\":2,\"linecolor\":\"white\",\"showbackground\":true,\"ticks\":\"\",\"zerolinecolor\":\"white\"},\"zaxis\":{\"backgroundcolor\":\"#E5ECF6\",\"gridcolor\":\"white\",\"gridwidth\":2,\"linecolor\":\"white\",\"showbackground\":true,\"ticks\":\"\",\"zerolinecolor\":\"white\"}},\"shapedefaults\":{\"line\":{\"color\":\"#2a3f5f\"}},\"ternary\":{\"aaxis\":{\"gridcolor\":\"white\",\"linecolor\":\"white\",\"ticks\":\"\"},\"baxis\":{\"gridcolor\":\"white\",\"linecolor\":\"white\",\"ticks\":\"\"},\"bgcolor\":\"#E5ECF6\",\"caxis\":{\"gridcolor\":\"white\",\"linecolor\":\"white\",\"ticks\":\"\"}},\"title\":{\"x\":0.05},\"xaxis\":{\"automargin\":true,\"gridcolor\":\"white\",\"linecolor\":\"white\",\"ticks\":\"\",\"title\":{\"standoff\":15},\"zerolinecolor\":\"white\",\"zerolinewidth\":2},\"yaxis\":{\"automargin\":true,\"gridcolor\":\"white\",\"linecolor\":\"white\",\"ticks\":\"\",\"title\":{\"standoff\":15},\"zerolinecolor\":\"white\",\"zerolinewidth\":2}}},\"xaxis\":{\"anchor\":\"y\",\"domain\":[0.0,1.0],\"title\":{\"text\":\"% Yes\"}},\"yaxis\":{\"anchor\":\"x\",\"domain\":[0.0,1.0],\"title\":{\"text\":\"Error\"}},\"legend\":{\"title\":{\"text\":\"True Y\"},\"tracegroupgap\":0},\"title\":{\"text\":\"% Yes & Error Rate\"}},                        {\"responsive\": true}                    ).then(function(){\n",
       "                            \n",
       "var gd = document.getElementById('c4f3d245-d2ed-41d3-b319-f907dfd7b5b4');\n",
       "var x = new MutationObserver(function (mutations, observer) {{\n",
       "        var display = window.getComputedStyle(gd).display;\n",
       "        if (!display || display === 'none') {{\n",
       "            console.log([gd, 'removed!']);\n",
       "            Plotly.purge(gd);\n",
       "            observer.disconnect();\n",
       "        }}\n",
       "}});\n",
       "\n",
       "// Listen for the removal of the full notebook cells\n",
       "var notebookContainer = gd.closest('#notebook-container');\n",
       "if (notebookContainer) {{\n",
       "    x.observe(notebookContainer, {childList: true});\n",
       "}}\n",
       "\n",
       "// Listen for the clearing of the current output cell\n",
       "var outputEl = gd.closest('.output');\n",
       "if (outputEl) {{\n",
       "    x.observe(outputEl, {childList: true});\n",
       "}}\n",
       "\n",
       "                        })                };                });            </script>        </div>"
      ]
     },
     "metadata": {},
     "output_type": "display_data"
    }
   ],
   "source": [
    "# Plot % Yes & Error\n",
    "plts.plot_yes_perc_error(X_test_all, y_test, y_pred_knn) "
   ]
  },
  {
   "cell_type": "markdown",
   "metadata": {},
   "source": [
    "#### Decision Tree"
   ]
  },
  {
   "cell_type": "code",
   "execution_count": 35,
   "metadata": {},
   "outputs": [
    {
     "data": {
      "text/html": [
       "<div>\n",
       "<style scoped>\n",
       "    .dataframe tbody tr th:only-of-type {\n",
       "        vertical-align: middle;\n",
       "    }\n",
       "\n",
       "    .dataframe tbody tr th {\n",
       "        vertical-align: top;\n",
       "    }\n",
       "\n",
       "    .dataframe thead th {\n",
       "        text-align: right;\n",
       "    }\n",
       "</style>\n",
       "<table border=\"1\" class=\"dataframe\">\n",
       "  <thead>\n",
       "    <tr style=\"text-align: right;\">\n",
       "      <th></th>\n",
       "      <th>criterion</th>\n",
       "      <th>depth</th>\n",
       "      <th>accu_rate</th>\n",
       "    </tr>\n",
       "  </thead>\n",
       "  <tbody>\n",
       "    <tr>\n",
       "      <th>0</th>\n",
       "      <td>gini</td>\n",
       "      <td>1</td>\n",
       "      <td>0.834101</td>\n",
       "    </tr>\n",
       "    <tr>\n",
       "      <th>1</th>\n",
       "      <td>gini</td>\n",
       "      <td>2</td>\n",
       "      <td>0.843318</td>\n",
       "    </tr>\n",
       "    <tr>\n",
       "      <th>2</th>\n",
       "      <td>gini</td>\n",
       "      <td>3</td>\n",
       "      <td>0.852535</td>\n",
       "    </tr>\n",
       "    <tr>\n",
       "      <th>3</th>\n",
       "      <td>gini</td>\n",
       "      <td>4</td>\n",
       "      <td>0.852535</td>\n",
       "    </tr>\n",
       "    <tr>\n",
       "      <th>4</th>\n",
       "      <td>gini</td>\n",
       "      <td>5</td>\n",
       "      <td>0.857143</td>\n",
       "    </tr>\n",
       "    <tr>\n",
       "      <th>...</th>\n",
       "      <td>...</td>\n",
       "      <td>...</td>\n",
       "      <td>...</td>\n",
       "    </tr>\n",
       "    <tr>\n",
       "      <th>93</th>\n",
       "      <td>entropy</td>\n",
       "      <td>45</td>\n",
       "      <td>0.769585</td>\n",
       "    </tr>\n",
       "    <tr>\n",
       "      <th>94</th>\n",
       "      <td>entropy</td>\n",
       "      <td>46</td>\n",
       "      <td>0.769585</td>\n",
       "    </tr>\n",
       "    <tr>\n",
       "      <th>95</th>\n",
       "      <td>entropy</td>\n",
       "      <td>47</td>\n",
       "      <td>0.769585</td>\n",
       "    </tr>\n",
       "    <tr>\n",
       "      <th>96</th>\n",
       "      <td>entropy</td>\n",
       "      <td>48</td>\n",
       "      <td>0.769585</td>\n",
       "    </tr>\n",
       "    <tr>\n",
       "      <th>97</th>\n",
       "      <td>entropy</td>\n",
       "      <td>49</td>\n",
       "      <td>0.769585</td>\n",
       "    </tr>\n",
       "  </tbody>\n",
       "</table>\n",
       "<p>98 rows × 3 columns</p>\n",
       "</div>"
      ],
      "text/plain": [
       "   criterion depth accu_rate\n",
       "0       gini     1  0.834101\n",
       "1       gini     2  0.843318\n",
       "2       gini     3  0.852535\n",
       "3       gini     4  0.852535\n",
       "4       gini     5  0.857143\n",
       "..       ...   ...       ...\n",
       "93   entropy    45  0.769585\n",
       "94   entropy    46  0.769585\n",
       "95   entropy    47  0.769585\n",
       "96   entropy    48  0.769585\n",
       "97   entropy    49  0.769585\n",
       "\n",
       "[98 rows x 3 columns]"
      ]
     },
     "execution_count": 35,
     "metadata": {},
     "output_type": "execute_result"
    }
   ],
   "source": [
    "# Find best params for decision tree\n",
    "dt_best_params_dict, accuracies_dt = ea.decision_tree_hp(X_train, X_dev, y_train, y_dev)\n",
    "accuracies_dt"
   ]
  },
  {
   "cell_type": "code",
   "execution_count": 36,
   "metadata": {},
   "outputs": [
    {
     "data": {
      "image/png": "[encoded data removed]",
      "text/plain": [
       "<Figure size 864x432 with 1 Axes>"
      ]
     },
     "metadata": {
      "needs_background": "light"
     },
     "output_type": "display_data"
    },
    {
     "data": {
      "text/plain": [
       "<module 'matplotlib.pylab' from '/Library/Frameworks/Python.framework/Versions/3.9/lib/python3.9/site-packages/matplotlib/pylab.py'>"
      ]
     },
     "execution_count": 36,
     "metadata": {},
     "output_type": "execute_result"
    }
   ],
   "source": [
    "# Plot depth vs accuracy \n",
    "ea.decision_tree_depth_plot(accuracies_dt)"
   ]
  },
  {
   "cell_type": "code",
   "execution_count": 37,
   "metadata": {},
   "outputs": [],
   "source": [
    "# Make prediction with best params\n",
    "y_pred_dt, clf = ea.decision_tree_max_hp(X_train, X_test, y_train, y_test, \n",
    "                                    dt_best_params_dict[\"max_criterion\"], \n",
    "                                    dt_best_params_dict[\"max_depth_tree\"])"
   ]
  },
  {
   "cell_type": "code",
   "execution_count": 38,
   "metadata": {},
   "outputs": [
    {
     "name": "stdout",
     "output_type": "stream",
     "text": [
      "Textual model: \n",
      "\n",
      "|--- population <= 0.02\n",
      "|   |--- canton_Graubunden <= 0.50\n",
      "|   |   |--- population_density <= 0.03\n",
      "|   |   |   |--- private_households <= 0.12\n",
      "|   |   |   |   |--- forest_surface_perc <= 0.31\n",
      "|   |   |   |   |   |--- class: 1.0\n",
      "|   |   |   |   |--- forest_surface_perc >  0.31\n",
      "|   |   |   |   |   |--- class: 0.0\n",
      "|   |   |   |--- private_households >  0.12\n",
      "|   |   |   |   |--- housing_and_infrastructure_surface_variation <= 0.13\n",
      "|   |   |   |   |   |--- class: 1.0\n",
      "|   |   |   |   |--- housing_and_infrastructure_surface_variation >  0.13\n",
      "|   |   |   |   |   |--- class: 1.0\n",
      "|   |   |--- population_density >  0.03\n",
      "|   |   |   |--- employment_secondary <= 0.02\n",
      "|   |   |   |   |--- population <= 0.01\n",
      "|   |   |   |   |   |--- class: 1.0\n",
      "|   |   |   |   |--- population >  0.01\n",
      "|   |   |   |   |   |--- class: 0.0\n",
      "|   |   |   |--- employment_secondary >  0.02\n",
      "|   |   |   |   |--- empty_housing_units <= 0.00\n",
      "|   |   |   |   |   |--- class: 1.0\n",
      "|   |   |   |   |--- empty_housing_units >  0.00\n",
      "|   |   |   |   |   |--- class: 1.0\n",
      "|   |--- canton_Graubunden >  0.50\n",
      "|   |   |--- forest_surface_perc <= 0.24\n",
      "|   |   |   |--- employment_tertiary <= 0.05\n",
      "|   |   |   |   |--- class: 1.0\n",
      "|   |   |   |--- employment_tertiary >  0.05\n",
      "|   |   |   |   |--- private_households <= 0.75\n",
      "|   |   |   |   |   |--- class: 0.0\n",
      "|   |   |   |   |--- private_households >  0.75\n",
      "|   |   |   |   |   |--- class: 1.0\n",
      "|   |   |--- forest_surface_perc >  0.24\n",
      "|   |   |   |--- employment_secondary <= 0.07\n",
      "|   |   |   |   |--- foreigner_percentage <= 0.23\n",
      "|   |   |   |   |   |--- class: 1.0\n",
      "|   |   |   |   |--- foreigner_percentage >  0.23\n",
      "|   |   |   |   |   |--- class: 0.0\n",
      "|   |   |   |--- employment_secondary >  0.07\n",
      "|   |   |   |   |--- class: 1.0\n",
      "|--- population >  0.02\n",
      "|   |--- private_households <= 0.45\n",
      "|   |   |--- age_percentage_between_20_64 <= 0.59\n",
      "|   |   |   |--- employment_tertiary <= 0.06\n",
      "|   |   |   |   |--- class: 1.0\n",
      "|   |   |   |--- employment_tertiary >  0.06\n",
      "|   |   |   |   |--- population_density <= 0.40\n",
      "|   |   |   |   |   |--- class: 0.0\n",
      "|   |   |   |   |--- population_density >  0.40\n",
      "|   |   |   |   |   |--- class: 1.0\n",
      "|   |   |--- age_percentage_between_20_64 >  0.59\n",
      "|   |   |   |--- agriculture_surface_perc <= 0.13\n",
      "|   |   |   |   |--- class: 0.0\n",
      "|   |   |   |--- agriculture_surface_perc >  0.13\n",
      "|   |   |   |   |--- birth_rate <= 0.25\n",
      "|   |   |   |   |   |--- class: 1.0\n",
      "|   |   |   |   |--- birth_rate >  0.25\n",
      "|   |   |   |   |   |--- class: 1.0\n",
      "|   |--- private_households >  0.45\n",
      "|   |   |--- marriage_rate <= 0.13\n",
      "|   |   |   |--- employment_primary <= 0.00\n",
      "|   |   |   |   |--- class: 0.0\n",
      "|   |   |   |--- employment_primary >  0.00\n",
      "|   |   |   |   |--- class: 1.0\n",
      "|   |   |--- marriage_rate >  0.13\n",
      "|   |   |   |--- birth_rate <= 0.18\n",
      "|   |   |   |   |--- avg_household_size <= 0.36\n",
      "|   |   |   |   |   |--- class: 1.0\n",
      "|   |   |   |   |--- avg_household_size >  0.36\n",
      "|   |   |   |   |   |--- class: 0.0\n",
      "|   |   |   |--- birth_rate >  0.18\n",
      "|   |   |   |   |--- employment_tertiary <= 0.37\n",
      "|   |   |   |   |   |--- class: 0.0\n",
      "|   |   |   |   |--- employment_tertiary >  0.37\n",
      "|   |   |   |   |   |--- class: 1.0\n",
      "\n"
     ]
    }
   ],
   "source": [
    "# Plot best decision tree\n",
    "dt.plot_best_decision_tree(clf, X_attr_2)"
   ]
  },
  {
   "cell_type": "code",
   "execution_count": 39,
   "metadata": {},
   "outputs": [
    {
     "name": "stdout",
     "output_type": "stream",
     "text": [
      "Classification report: \n",
      "               precision    recall  f1-score   support\n",
      "\n",
      "         0.0       0.43      0.23      0.30        26\n",
      "         1.0       0.90      0.96      0.93       191\n",
      "\n",
      "    accuracy                           0.87       217\n",
      "   macro avg       0.67      0.59      0.61       217\n",
      "weighted avg       0.84      0.87      0.85       217\n",
      "\n"
     ]
    }
   ],
   "source": [
    "# Evaluation metrics\n",
    "print(\"Classification report: \\n\", classification_report(y_test, y_pred_dt))"
   ]
  },
  {
   "cell_type": "code",
   "execution_count": 40,
   "metadata": {},
   "outputs": [
    {
     "data": {
      "text/plain": [
       "<sklearn.metrics._plot.confusion_matrix.ConfusionMatrixDisplay at 0x7fdd80711070>"
      ]
     },
     "execution_count": 40,
     "metadata": {},
     "output_type": "execute_result"
    },
    {
     "data": {
      "image/png": "[encoded data removed]",
      "text/plain": [
       "<Figure size 432x288 with 2 Axes>"
      ]
     },
     "metadata": {
      "needs_background": "light"
     },
     "output_type": "display_data"
    }
   ],
   "source": [
    "# Confusion matrix\n",
    "cm = confusion_matrix(y_test, y_pred_dt)\n",
    "ConfusionMatrixDisplay(cm, display_labels=labels).plot()"
   ]
  },
  {
   "cell_type": "code",
   "execution_count": 41,
   "metadata": {},
   "outputs": [
    {
     "data": {
      "application/vnd.plotly.v1+json": {
       "config": {
        "plotlyServerURL": "https://plot.ly"
       },
       "data": [
        {
         "customdata": [
          [
           "Bretonnières"
          ],
          [
           "Mies"
          ],
          [
           "Ropraz"
          ],
          [
           "Hergiswil bei Willisau"
          ],
          [
           "Pont-en-Ogoz"
          ],
          [
           "Valeyres-sous-Ursins"
          ],
          [
           "Küblis"
          ],
          [
           "Sierre"
          ],
          [
           "Granges-Paccot"
          ],
          [
           "Amlikon-Bissegg"
          ],
          [
           "Saubraz"
          ],
          [
           "Bodio"
          ],
          [
           "Würenlingen"
          ],
          [
           "Wenslingen"
          ],
          [
           "Engelberg"
          ],
          [
           "Zwingen"
          ],
          [
           "Savièse"
          ],
          [
           "Lüterkofen-Ichertswil"
          ],
          [
           "Kappel am Albis"
          ],
          [
           "Bogis-Bossey"
          ],
          [
           "Petit-Val"
          ],
          [
           "Menznau"
          ],
          [
           "Gansingen"
          ],
          [
           "Lostorf"
          ],
          [
           "Mauborget"
          ],
          [
           "Forst-Längenbühl"
          ],
          [
           "Dürnten"
          ],
          [
           "Oberwil (BL)"
          ],
          [
           "Novazzano"
          ],
          [
           "Eiken"
          ],
          [
           "Mollens (VD)"
          ],
          [
           "Mümliswil-Ramiswil"
          ],
          [
           "Ottenbach"
          ],
          [
           "Turtmann-Unterems"
          ],
          [
           "Weggis"
          ],
          [
           "Dietwil"
          ],
          [
           "Gingins"
          ],
          [
           "Presinge"
          ],
          [
           "Kaisten"
          ],
          [
           "Ammerswil"
          ],
          [
           "Hornussen"
          ],
          [
           "Lens"
          ],
          [
           "Konolfingen"
          ],
          [
           "Mörel-Filet"
          ],
          [
           "Schangnau"
          ],
          [
           "Sarmenstorf"
          ],
          [
           "Biasca"
          ],
          [
           "Bremblens"
          ],
          [
           "Eschert"
          ],
          [
           "Le Bémont (JU)"
          ],
          [
           "Härkingen"
          ],
          [
           "Beromünster"
          ],
          [
           "Riedholz"
          ],
          [
           "Herzogenbuchsee"
          ],
          [
           "Fontenais"
          ],
          [
           "Wimmis"
          ],
          [
           "Boudry"
          ],
          [
           "Cortébert"
          ],
          [
           "Hohenrain"
          ],
          [
           "Therwil"
          ],
          [
           "Rüdtligen-Alchenflüh"
          ],
          [
           "Porza"
          ],
          [
           "Comano"
          ],
          [
           "Müllheim"
          ],
          [
           "Bioggio"
          ],
          [
           "Luterbach"
          ],
          [
           "Courchapoix"
          ],
          [
           "Rütschelen"
          ],
          [
           "Innertkirchen"
          ],
          [
           "Gilly"
          ],
          [
           "Riviera"
          ],
          [
           "Bürglen (UR)"
          ],
          [
           "Klosters"
          ],
          [
           "Augst"
          ],
          [
           "Ueberstorf"
          ],
          [
           "Oberwil-Lieli"
          ],
          [
           "Fislisbach"
          ],
          [
           "Mergoscia"
          ],
          [
           "Bois-d'Amont"
          ],
          [
           "Leuk"
          ],
          [
           "Wald (BE)"
          ],
          [
           "Einsiedeln"
          ],
          [
           "Huttwil"
          ],
          [
           "Gambarogno"
          ],
          [
           "Hindelbank"
          ],
          [
           "Rothrist"
          ],
          [
           "Albinen"
          ],
          [
           "Goms"
          ],
          [
           "Vallorbe"
          ],
          [
           "Orbe"
          ],
          [
           "Laufenburg"
          ],
          [
           "Wegenstetten"
          ],
          [
           "Staffelbach"
          ],
          [
           "Coeuve"
          ],
          [
           "Unterlangenegg"
          ],
          [
           "Tramelan"
          ],
          [
           "Les Genevez (JU)"
          ],
          [
           "Trüllikon"
          ],
          [
           "Conthey"
          ],
          [
           "Blenio"
          ],
          [
           "Baldingen"
          ],
          [
           "Oberlunkhofen"
          ],
          [
           "Sargans"
          ],
          [
           "Vullierens"
          ],
          [
           "Centovalli"
          ],
          [
           "Rougemont"
          ],
          [
           "Perroy"
          ],
          [
           "Lenk"
          ],
          [
           "Oberwil bei Büren"
          ],
          [
           "Busswil bei Melchnau"
          ],
          [
           "Täuffelen"
          ],
          [
           "Dalpe"
          ],
          [
           "Coldrerio"
          ],
          [
           "Steinen"
          ],
          [
           "Eschenz"
          ],
          [
           "Brienzwiler"
          ],
          [
           "Morcote"
          ],
          [
           "Beatenberg"
          ],
          [
           "Lignerolle"
          ],
          [
           "Trimmis"
          ],
          [
           "Allaman"
          ],
          [
           "Büron"
          ],
          [
           "Heimiswil"
          ],
          [
           "Valbirse"
          ],
          [
           "Rothenthurm"
          ],
          [
           "Remaufens"
          ],
          [
           "Hägendorf"
          ],
          [
           "Büttikon"
          ],
          [
           "Sion"
          ],
          [
           "Mirchel"
          ],
          [
           "Schöfflisdorf"
          ],
          [
           "Hägglingen"
          ],
          [
           "Egg"
          ],
          [
           "Basadingen-Schlattingen"
          ],
          [
           "Bichelsee-Balterswil"
          ],
          [
           "Alchenstorf"
          ],
          [
           "Buchs (SG)"
          ],
          [
           "Hochfelden"
          ],
          [
           "Avenches"
          ],
          [
           "Studen (BE)"
          ],
          [
           "Kleinbösingen"
          ],
          [
           "Ettingen"
          ],
          [
           "Scheuren"
          ],
          [
           "Dänikon"
          ],
          [
           "Meiringen"
          ],
          [
           "Dallenwil"
          ],
          [
           "Alpthal"
          ],
          [
           "Bergdietikon"
          ],
          [
           "Ehrendingen"
          ],
          [
           "Herrliberg"
          ],
          [
           "Dozwil"
          ],
          [
           "Le Chenit"
          ],
          [
           "Sorvilier"
          ],
          [
           "Steinmaur"
          ],
          [
           "Milvignes"
          ],
          [
           "Niederhasli"
          ],
          [
           "Erstfeld"
          ],
          [
           "Niedergösgen"
          ],
          [
           "Freienbach"
          ],
          [
           "Siglistorf"
          ],
          [
           "Schwellbrunn"
          ],
          [
           "Choulex"
          ],
          [
           "Plasselb"
          ],
          [
           "Grossaffoltern"
          ],
          [
           "Chêne-Bourg"
          ],
          [
           "Bözen"
          ],
          [
           "Truttikon"
          ],
          [
           "Aedermannsdorf"
          ],
          [
           "Ménières"
          ],
          [
           "Ursins"
          ],
          [
           "Eisten"
          ],
          [
           "Monteggio"
          ],
          [
           "Wald (AR)"
          ],
          [
           "Kappel (SO)"
          ],
          [
           "Astano"
          ],
          [
           "Realp"
          ],
          [
           "Lengwil"
          ],
          [
           "Treyvaux"
          ],
          [
           "Château-d'Oex"
          ],
          [
           "Grosshöchstetten"
          ],
          [
           "Eggiwil"
          ],
          [
           "Villorsonnens"
          ],
          [
           "Gretzenbach"
          ],
          [
           "Evolène"
          ],
          [
           "Saint-Légier-La Chiésaz"
          ],
          [
           "Heitenried"
          ],
          [
           "Bürglen (TG)"
          ],
          [
           "Féchy"
          ],
          [
           "Mörigen"
          ],
          [
           "Reinach (BL)"
          ],
          [
           "Liedertswil"
          ]
         ],
         "hovertemplate": "True Y=1.0<br>% Yes=%{x}<br>Error=%{y}<br>Municipality=%{customdata[0]}<extra></extra>",
         "legendgroup": "1.0",
         "marker": {
          "color": "#636efa",
          "symbol": "circle"
         },
         "mode": "markers",
         "name": "1.0",
         "orientation": "v",
         "showlegend": true,
         "type": "scatter",
         "x": [
          55,
          50.4,
          62.8,
          68.1,
          66.5,
          64.5,
          63.5,
          60.1,
          53.7,
          60.4,
          54.5,
          64.9,
          59.4,
          54.4,
          55,
          61.6,
          62.2,
          53.3,
          52.8,
          52.5,
          69.2,
          63.9,
          55.3,
          55.2,
          66.7,
          66.9,
          55.6,
          52.2,
          67.3,
          61.8,
          58.9,
          66.1,
          50.7,
          58.2,
          50.7,
          61.1,
          53.9,
          51.6,
          56.6,
          54.1,
          64.4,
          58.7,
          51.5,
          50.3,
          77.6,
          59.8,
          64,
          64.8,
          78.9,
          63.5,
          65.1,
          55.2,
          50.5,
          50.7,
          59.3,
          61,
          55.2,
          63,
          60.4,
          53.5,
          60.7,
          60.6,
          58.5,
          58.5,
          66.7,
          53.1,
          65.2,
          56.8,
          59.8,
          55.8,
          65.9,
          62.8,
          56.3,
          56.7,
          59,
          60.2,
          50.2,
          63.4,
          56.7,
          55.9,
          55.4,
          59.6,
          60.6,
          60.9,
          57.5,
          62.9,
          60.4,
          50.2,
          65.2,
          55.9,
          54.1,
          63.3,
          72.2,
          68.1,
          63.8,
          63.7,
          54.6,
          63.5,
          63.9,
          66.4,
          59.4,
          51.9,
          52.4,
          52.4,
          53.4,
          65.1,
          54.4,
          61.4,
          59.6,
          68.5,
          54.8,
          57.1,
          63.7,
          61.8,
          54.8,
          62.5,
          54.5,
          60.3,
          60.6,
          56,
          56.2,
          60.7,
          59.1,
          69.4,
          78.5,
          59.1,
          61.4,
          66.5,
          55.7,
          71.2,
          61.7,
          55.2,
          51.8,
          61.1,
          58.9,
          64.3,
          53.3,
          64.8,
          64.4,
          67.4,
          57.1,
          58.2,
          65.1,
          61.8,
          53.4,
          62.3,
          81.1,
          57,
          53.3,
          51.7,
          64.8,
          64.2,
          68,
          58.5,
          51.1,
          58.2,
          63,
          60.3,
          56.9,
          66.5,
          61.8,
          50.8,
          69.3,
          53.9,
          51.7,
          65.8,
          56.1,
          64.6,
          62.7,
          51,
          63.3,
          65.4,
          51.2,
          55.4,
          54.8,
          58.9,
          50.7,
          64.4,
          59.7,
          50.6,
          69.9,
          69.7,
          55.5,
          66.4,
          52,
          57.8,
          61.2,
          53.5,
          62.8,
          54.9,
          70.4
         ],
         "xaxis": "x",
         "y": [
          0,
          0,
          0,
          0,
          0,
          0,
          0,
          1,
          0,
          0,
          0,
          0,
          0,
          0,
          0,
          0,
          0,
          0,
          0,
          0,
          0,
          0,
          0,
          0,
          0,
          0,
          1,
          1,
          0,
          0,
          0,
          0,
          0,
          0,
          0,
          0,
          0,
          0,
          0,
          0,
          0,
          0,
          0,
          0,
          0,
          0,
          0,
          0,
          0,
          0,
          0,
          0,
          0,
          0,
          0,
          0,
          0,
          0,
          0,
          0,
          0,
          0,
          0,
          0,
          0,
          0,
          0,
          0,
          0,
          0,
          0,
          0,
          1,
          0,
          0,
          0,
          0,
          0,
          0,
          0,
          0,
          0,
          0,
          0,
          0,
          0,
          0,
          0,
          0,
          0,
          0,
          0,
          0,
          0,
          0,
          0,
          0,
          0,
          0,
          0,
          0,
          0,
          0,
          0,
          0,
          0,
          0,
          0,
          0,
          0,
          0,
          0,
          0,
          0,
          0,
          0,
          0,
          0,
          0,
          0,
          0,
          0,
          0,
          0,
          0,
          0,
          0,
          0,
          0,
          0,
          0,
          0,
          1,
          0,
          0,
          0,
          0,
          0,
          0,
          0,
          0,
          0,
          0,
          0,
          0,
          0,
          0,
          0,
          1,
          1,
          0,
          0,
          0,
          0,
          0,
          0,
          0,
          0,
          0,
          0,
          0,
          0,
          0,
          0,
          0,
          0,
          0,
          0,
          0,
          0,
          0,
          0,
          0,
          0,
          0,
          0,
          0,
          0,
          0,
          0,
          0,
          0,
          0,
          0,
          0,
          0,
          0,
          0,
          0,
          1,
          0
         ],
         "yaxis": "y"
        },
        {
         "customdata": [
          [
           "Safiental"
          ],
          [
           "Ziefen"
          ],
          [
           "Maur"
          ],
          [
           "Begnins"
          ],
          [
           "Bätterkinden"
          ],
          [
           "Fürstenau"
          ],
          [
           "Apples"
          ],
          [
           "Schelten"
          ],
          [
           "Ittigen"
          ],
          [
           "Muri (AG)"
          ],
          [
           "Veyrier"
          ],
          [
           "Schwerzenbach"
          ],
          [
           "Lutry"
          ],
          [
           "Genève"
          ],
          [
           "Unterbäch"
          ],
          [
           "Richterswil"
          ],
          [
           "Ennetbaden"
          ],
          [
           "Pregny-Chambésy"
          ],
          [
           "Onsernone"
          ],
          [
           "Bedigliora"
          ],
          [
           "Wettswil am Albis"
          ],
          [
           "Hedingen"
          ],
          [
           "La Chaux-de-Fonds"
          ],
          [
           "Carouge (GE)"
          ],
          [
           "Mauraz"
          ],
          [
           "Rheinfelden"
          ]
         ],
         "hovertemplate": "True Y=0.0<br>% Yes=%{x}<br>Error=%{y}<br>Municipality=%{customdata[0]}<extra></extra>",
         "legendgroup": "0.0",
         "marker": {
          "color": "#EF553B",
          "symbol": "circle"
         },
         "mode": "markers",
         "name": "0.0",
         "orientation": "v",
         "showlegend": true,
         "type": "scatter",
         "x": [
          47.4,
          48.3,
          50,
          49.2,
          47.7,
          49.2,
          49.2,
          48.1,
          47.1,
          49.4,
          49,
          46.6,
          50,
          44.8,
          46.5,
          48.1,
          30.9,
          48,
          49.1,
          48.1,
          46.6,
          46.1,
          49.7,
          43.4,
          40.6,
          49.2
         ],
         "xaxis": "x",
         "y": [
          1,
          1,
          0,
          1,
          1,
          1,
          1,
          1,
          0,
          1,
          1,
          1,
          0,
          0,
          1,
          1,
          1,
          1,
          1,
          1,
          1,
          1,
          1,
          0,
          1,
          0
         ],
         "yaxis": "y"
        }
       ],
       "layout": {
        "legend": {
         "title": {
          "text": "True Y"
         },
         "tracegroupgap": 0
        },
        "template": {
         "data": {
          "bar": [
           {
            "error_x": {
             "color": "#2a3f5f"
            },
            "error_y": {
             "color": "#2a3f5f"
            },
            "marker": {
             "line": {
              "color": "#E5ECF6",
              "width": 0.5
             },
             "pattern": {
              "fillmode": "overlay",
              "size": 10,
              "solidity": 0.2
             }
            },
            "type": "bar"
           }
          ],
          "barpolar": [
           {
            "marker": {
             "line": {
              "color": "#E5ECF6",
              "width": 0.5
             },
             "pattern": {
              "fillmode": "overlay",
              "size": 10,
              "solidity": 0.2
             }
            },
            "type": "barpolar"
           }
          ],
          "carpet": [
           {
            "aaxis": {
             "endlinecolor": "#2a3f5f",
             "gridcolor": "white",
             "linecolor": "white",
             "minorgridcolor": "white",
             "startlinecolor": "#2a3f5f"
            },
            "baxis": {
             "endlinecolor": "#2a3f5f",
             "gridcolor": "white",
             "linecolor": "white",
             "minorgridcolor": "white",
             "startlinecolor": "#2a3f5f"
            },
            "type": "carpet"
           }
          ],
          "choropleth": [
           {
            "colorbar": {
             "outlinewidth": 0,
             "ticks": ""
            },
            "type": "choropleth"
           }
          ],
          "contour": [
           {
            "colorbar": {
             "outlinewidth": 0,
             "ticks": ""
            },
            "colorscale": [
             [
              0,
              "#0d0887"
             ],
             [
              0.1111111111111111,
              "#46039f"
             ],
             [
              0.2222222222222222,
              "#7201a8"
             ],
             [
              0.3333333333333333,
              "#9c179e"
             ],
             [
              0.4444444444444444,
              "#bd3786"
             ],
             [
              0.5555555555555556,
              "#d8576b"
             ],
             [
              0.6666666666666666,
              "#ed7953"
             ],
             [
              0.7777777777777778,
              "#fb9f3a"
             ],
             [
              0.8888888888888888,
              "#fdca26"
             ],
             [
              1,
              "#f0f921"
             ]
            ],
            "type": "contour"
           }
          ],
          "contourcarpet": [
           {
            "colorbar": {
             "outlinewidth": 0,
             "ticks": ""
            },
            "type": "contourcarpet"
           }
          ],
          "heatmap": [
           {
            "colorbar": {
             "outlinewidth": 0,
             "ticks": ""
            },
            "colorscale": [
             [
              0,
              "#0d0887"
             ],
             [
              0.1111111111111111,
              "#46039f"
             ],
             [
              0.2222222222222222,
              "#7201a8"
             ],
             [
              0.3333333333333333,
              "#9c179e"
             ],
             [
              0.4444444444444444,
              "#bd3786"
             ],
             [
              0.5555555555555556,
              "#d8576b"
             ],
             [
              0.6666666666666666,
              "#ed7953"
             ],
             [
              0.7777777777777778,
              "#fb9f3a"
             ],
             [
              0.8888888888888888,
              "#fdca26"
             ],
             [
              1,
              "#f0f921"
             ]
            ],
            "type": "heatmap"
           }
          ],
          "heatmapgl": [
           {
            "colorbar": {
             "outlinewidth": 0,
             "ticks": ""
            },
            "colorscale": [
             [
              0,
              "#0d0887"
             ],
             [
              0.1111111111111111,
              "#46039f"
             ],
             [
              0.2222222222222222,
              "#7201a8"
             ],
             [
              0.3333333333333333,
              "#9c179e"
             ],
             [
              0.4444444444444444,
              "#bd3786"
             ],
             [
              0.5555555555555556,
              "#d8576b"
             ],
             [
              0.6666666666666666,
              "#ed7953"
             ],
             [
              0.7777777777777778,
              "#fb9f3a"
             ],
             [
              0.8888888888888888,
              "#fdca26"
             ],
             [
              1,
              "#f0f921"
             ]
            ],
            "type": "heatmapgl"
           }
          ],
          "histogram": [
           {
            "marker": {
             "pattern": {
              "fillmode": "overlay",
              "size": 10,
              "solidity": 0.2
             }
            },
            "type": "histogram"
           }
          ],
          "histogram2d": [
           {
            "colorbar": {
             "outlinewidth": 0,
             "ticks": ""
            },
            "colorscale": [
             [
              0,
              "#0d0887"
             ],
             [
              0.1111111111111111,
              "#46039f"
             ],
             [
              0.2222222222222222,
              "#7201a8"
             ],
             [
              0.3333333333333333,
              "#9c179e"
             ],
             [
              0.4444444444444444,
              "#bd3786"
             ],
             [
              0.5555555555555556,
              "#d8576b"
             ],
             [
              0.6666666666666666,
              "#ed7953"
             ],
             [
              0.7777777777777778,
              "#fb9f3a"
             ],
             [
              0.8888888888888888,
              "#fdca26"
             ],
             [
              1,
              "#f0f921"
             ]
            ],
            "type": "histogram2d"
           }
          ],
          "histogram2dcontour": [
           {
            "colorbar": {
             "outlinewidth": 0,
             "ticks": ""
            },
            "colorscale": [
             [
              0,
              "#0d0887"
             ],
             [
              0.1111111111111111,
              "#46039f"
             ],
             [
              0.2222222222222222,
              "#7201a8"
             ],
             [
              0.3333333333333333,
              "#9c179e"
             ],
             [
              0.4444444444444444,
              "#bd3786"
             ],
             [
              0.5555555555555556,
              "#d8576b"
             ],
             [
              0.6666666666666666,
              "#ed7953"
             ],
             [
              0.7777777777777778,
              "#fb9f3a"
             ],
             [
              0.8888888888888888,
              "#fdca26"
             ],
             [
              1,
              "#f0f921"
             ]
            ],
            "type": "histogram2dcontour"
           }
          ],
          "mesh3d": [
           {
            "colorbar": {
             "outlinewidth": 0,
             "ticks": ""
            },
            "type": "mesh3d"
           }
          ],
          "parcoords": [
           {
            "line": {
             "colorbar": {
              "outlinewidth": 0,
              "ticks": ""
             }
            },
            "type": "parcoords"
           }
          ],
          "pie": [
           {
            "automargin": true,
            "type": "pie"
           }
          ],
          "scatter": [
           {
            "marker": {
             "colorbar": {
              "outlinewidth": 0,
              "ticks": ""
             }
            },
            "type": "scatter"
           }
          ],
          "scatter3d": [
           {
            "line": {
             "colorbar": {
              "outlinewidth": 0,
              "ticks": ""
             }
            },
            "marker": {
             "colorbar": {
              "outlinewidth": 0,
              "ticks": ""
             }
            },
            "type": "scatter3d"
           }
          ],
          "scattercarpet": [
           {
            "marker": {
             "colorbar": {
              "outlinewidth": 0,
              "ticks": ""
             }
            },
            "type": "scattercarpet"
           }
          ],
          "scattergeo": [
           {
            "marker": {
             "colorbar": {
              "outlinewidth": 0,
              "ticks": ""
             }
            },
            "type": "scattergeo"
           }
          ],
          "scattergl": [
           {
            "marker": {
             "colorbar": {
              "outlinewidth": 0,
              "ticks": ""
             }
            },
            "type": "scattergl"
           }
          ],
          "scattermapbox": [
           {
            "marker": {
             "colorbar": {
              "outlinewidth": 0,
              "ticks": ""
             }
            },
            "type": "scattermapbox"
           }
          ],
          "scatterpolar": [
           {
            "marker": {
             "colorbar": {
              "outlinewidth": 0,
              "ticks": ""
             }
            },
            "type": "scatterpolar"
           }
          ],
          "scatterpolargl": [
           {
            "marker": {
             "colorbar": {
              "outlinewidth": 0,
              "ticks": ""
             }
            },
            "type": "scatterpolargl"
           }
          ],
          "scatterternary": [
           {
            "marker": {
             "colorbar": {
              "outlinewidth": 0,
              "ticks": ""
             }
            },
            "type": "scatterternary"
           }
          ],
          "surface": [
           {
            "colorbar": {
             "outlinewidth": 0,
             "ticks": ""
            },
            "colorscale": [
             [
              0,
              "#0d0887"
             ],
             [
              0.1111111111111111,
              "#46039f"
             ],
             [
              0.2222222222222222,
              "#7201a8"
             ],
             [
              0.3333333333333333,
              "#9c179e"
             ],
             [
              0.4444444444444444,
              "#bd3786"
             ],
             [
              0.5555555555555556,
              "#d8576b"
             ],
             [
              0.6666666666666666,
              "#ed7953"
             ],
             [
              0.7777777777777778,
              "#fb9f3a"
             ],
             [
              0.8888888888888888,
              "#fdca26"
             ],
             [
              1,
              "#f0f921"
             ]
            ],
            "type": "surface"
           }
          ],
          "table": [
           {
            "cells": {
             "fill": {
              "color": "#EBF0F8"
             },
             "line": {
              "color": "white"
             }
            },
            "header": {
             "fill": {
              "color": "#C8D4E3"
             },
             "line": {
              "color": "white"
             }
            },
            "type": "table"
           }
          ]
         },
         "layout": {
          "annotationdefaults": {
           "arrowcolor": "#2a3f5f",
           "arrowhead": 0,
           "arrowwidth": 1
          },
          "autotypenumbers": "strict",
          "coloraxis": {
           "colorbar": {
            "outlinewidth": 0,
            "ticks": ""
           }
          },
          "colorscale": {
           "diverging": [
            [
             0,
             "#8e0152"
            ],
            [
             0.1,
             "#c51b7d"
            ],
            [
             0.2,
             "#de77ae"
            ],
            [
             0.3,
             "#f1b6da"
            ],
            [
             0.4,
             "#fde0ef"
            ],
            [
             0.5,
             "#f7f7f7"
            ],
            [
             0.6,
             "#e6f5d0"
            ],
            [
             0.7,
             "#b8e186"
            ],
            [
             0.8,
             "#7fbc41"
            ],
            [
             0.9,
             "#4d9221"
            ],
            [
             1,
             "#276419"
            ]
           ],
           "sequential": [
            [
             0,
             "#0d0887"
            ],
            [
             0.1111111111111111,
             "#46039f"
            ],
            [
             0.2222222222222222,
             "#7201a8"
            ],
            [
             0.3333333333333333,
             "#9c179e"
            ],
            [
             0.4444444444444444,
             "#bd3786"
            ],
            [
             0.5555555555555556,
             "#d8576b"
            ],
            [
             0.6666666666666666,
             "#ed7953"
            ],
            [
             0.7777777777777778,
             "#fb9f3a"
            ],
            [
             0.8888888888888888,
             "#fdca26"
            ],
            [
             1,
             "#f0f921"
            ]
           ],
           "sequentialminus": [
            [
             0,
             "#0d0887"
            ],
            [
             0.1111111111111111,
             "#46039f"
            ],
            [
             0.2222222222222222,
             "#7201a8"
            ],
            [
             0.3333333333333333,
             "#9c179e"
            ],
            [
             0.4444444444444444,
             "#bd3786"
            ],
            [
             0.5555555555555556,
             "#d8576b"
            ],
            [
             0.6666666666666666,
             "#ed7953"
            ],
            [
             0.7777777777777778,
             "#fb9f3a"
            ],
            [
             0.8888888888888888,
             "#fdca26"
            ],
            [
             1,
             "#f0f921"
            ]
           ]
          },
          "colorway": [
           "#636efa",
           "#EF553B",
           "#00cc96",
           "#ab63fa",
           "#FFA15A",
           "#19d3f3",
           "#FF6692",
           "#B6E880",
           "#FF97FF",
           "#FECB52"
          ],
          "font": {
           "color": "#2a3f5f"
          },
          "geo": {
           "bgcolor": "white",
           "lakecolor": "white",
           "landcolor": "#E5ECF6",
           "showlakes": true,
           "showland": true,
           "subunitcolor": "white"
          },
          "hoverlabel": {
           "align": "left"
          },
          "hovermode": "closest",
          "mapbox": {
           "style": "light"
          },
          "paper_bgcolor": "white",
          "plot_bgcolor": "#E5ECF6",
          "polar": {
           "angularaxis": {
            "gridcolor": "white",
            "linecolor": "white",
            "ticks": ""
           },
           "bgcolor": "#E5ECF6",
           "radialaxis": {
            "gridcolor": "white",
            "linecolor": "white",
            "ticks": ""
           }
          },
          "scene": {
           "xaxis": {
            "backgroundcolor": "#E5ECF6",
            "gridcolor": "white",
            "gridwidth": 2,
            "linecolor": "white",
            "showbackground": true,
            "ticks": "",
            "zerolinecolor": "white"
           },
           "yaxis": {
            "backgroundcolor": "#E5ECF6",
            "gridcolor": "white",
            "gridwidth": 2,
            "linecolor": "white",
            "showbackground": true,
            "ticks": "",
            "zerolinecolor": "white"
           },
           "zaxis": {
            "backgroundcolor": "#E5ECF6",
            "gridcolor": "white",
            "gridwidth": 2,
            "linecolor": "white",
            "showbackground": true,
            "ticks": "",
            "zerolinecolor": "white"
           }
          },
          "shapedefaults": {
           "line": {
            "color": "#2a3f5f"
           }
          },
          "ternary": {
           "aaxis": {
            "gridcolor": "white",
            "linecolor": "white",
            "ticks": ""
           },
           "baxis": {
            "gridcolor": "white",
            "linecolor": "white",
            "ticks": ""
           },
           "bgcolor": "#E5ECF6",
           "caxis": {
            "gridcolor": "white",
            "linecolor": "white",
            "ticks": ""
           }
          },
          "title": {
           "x": 0.05
          },
          "xaxis": {
           "automargin": true,
           "gridcolor": "white",
           "linecolor": "white",
           "ticks": "",
           "title": {
            "standoff": 15
           },
           "zerolinecolor": "white",
           "zerolinewidth": 2
          },
          "yaxis": {
           "automargin": true,
           "gridcolor": "white",
           "linecolor": "white",
           "ticks": "",
           "title": {
            "standoff": 15
           },
           "zerolinecolor": "white",
           "zerolinewidth": 2
          }
         }
        },
        "title": {
         "text": "% Yes & Error Rate"
        },
        "xaxis": {
         "anchor": "y",
         "domain": [
          0,
          1
         ],
         "title": {
          "text": "% Yes"
         }
        },
        "yaxis": {
         "anchor": "x",
         "domain": [
          0,
          1
         ],
         "title": {
          "text": "Error"
         }
        }
       }
      },
      "text/html": [
       "<div>                            <div id=\"7319bdba-5206-469f-be94-f89bac3f348d\" class=\"plotly-graph-div\" style=\"height:525px; width:100%;\"></div>            <script type=\"text/javascript\">                require([\"plotly\"], function(Plotly) {                    window.PLOTLYENV=window.PLOTLYENV || {};                                    if (document.getElementById(\"7319bdba-5206-469f-be94-f89bac3f348d\")) {                    Plotly.newPlot(                        \"7319bdba-5206-469f-be94-f89bac3f348d\",                        [{\"customdata\":[[\"Bretonni\\u00e8res\"],[\"Mies\"],[\"Ropraz\"],[\"Hergiswil bei Willisau\"],[\"Pont-en-Ogoz\"],[\"Valeyres-sous-Ursins\"],[\"K\\u00fcblis\"],[\"Sierre\"],[\"Granges-Paccot\"],[\"Amlikon-Bissegg\"],[\"Saubraz\"],[\"Bodio\"],[\"W\\u00fcrenlingen\"],[\"Wenslingen\"],[\"Engelberg\"],[\"Zwingen\"],[\"Savi\\u00e8se\"],[\"L\\u00fcterkofen-Ichertswil\"],[\"Kappel am Albis\"],[\"Bogis-Bossey\"],[\"Petit-Val\"],[\"Menznau\"],[\"Gansingen\"],[\"Lostorf\"],[\"Mauborget\"],[\"Forst-L\\u00e4ngenb\\u00fchl\"],[\"D\\u00fcrnten\"],[\"Oberwil (BL)\"],[\"Novazzano\"],[\"Eiken\"],[\"Mollens (VD)\"],[\"M\\u00fcmliswil-Ramiswil\"],[\"Ottenbach\"],[\"Turtmann-Unterems\"],[\"Weggis\"],[\"Dietwil\"],[\"Gingins\"],[\"Presinge\"],[\"Kaisten\"],[\"Ammerswil\"],[\"Hornussen\"],[\"Lens\"],[\"Konolfingen\"],[\"M\\u00f6rel-Filet\"],[\"Schangnau\"],[\"Sarmenstorf\"],[\"Biasca\"],[\"Bremblens\"],[\"Eschert\"],[\"Le B\\u00e9mont (JU)\"],[\"H\\u00e4rkingen\"],[\"Berom\\u00fcnster\"],[\"Riedholz\"],[\"Herzogenbuchsee\"],[\"Fontenais\"],[\"Wimmis\"],[\"Boudry\"],[\"Cort\\u00e9bert\"],[\"Hohenrain\"],[\"Therwil\"],[\"R\\u00fcdtligen-Alchenfl\\u00fch\"],[\"Porza\"],[\"Comano\"],[\"M\\u00fcllheim\"],[\"Bioggio\"],[\"Luterbach\"],[\"Courchapoix\"],[\"R\\u00fctschelen\"],[\"Innertkirchen\"],[\"Gilly\"],[\"Riviera\"],[\"B\\u00fcrglen (UR)\"],[\"Klosters\"],[\"Augst\"],[\"Ueberstorf\"],[\"Oberwil-Lieli\"],[\"Fislisbach\"],[\"Mergoscia\"],[\"Bois-d'Amont\"],[\"Leuk\"],[\"Wald (BE)\"],[\"Einsiedeln\"],[\"Huttwil\"],[\"Gambarogno\"],[\"Hindelbank\"],[\"Rothrist\"],[\"Albinen\"],[\"Goms\"],[\"Vallorbe\"],[\"Orbe\"],[\"Laufenburg\"],[\"Wegenstetten\"],[\"Staffelbach\"],[\"Coeuve\"],[\"Unterlangenegg\"],[\"Tramelan\"],[\"Les Genevez (JU)\"],[\"Tr\\u00fcllikon\"],[\"Conthey\"],[\"Blenio\"],[\"Baldingen\"],[\"Oberlunkhofen\"],[\"Sargans\"],[\"Vullierens\"],[\"Centovalli\"],[\"Rougemont\"],[\"Perroy\"],[\"Lenk\"],[\"Oberwil bei B\\u00fcren\"],[\"Busswil bei Melchnau\"],[\"T\\u00e4uffelen\"],[\"Dalpe\"],[\"Coldrerio\"],[\"Steinen\"],[\"Eschenz\"],[\"Brienzwiler\"],[\"Morcote\"],[\"Beatenberg\"],[\"Lignerolle\"],[\"Trimmis\"],[\"Allaman\"],[\"B\\u00fcron\"],[\"Heimiswil\"],[\"Valbirse\"],[\"Rothenthurm\"],[\"Remaufens\"],[\"H\\u00e4gendorf\"],[\"B\\u00fcttikon\"],[\"Sion\"],[\"Mirchel\"],[\"Sch\\u00f6fflisdorf\"],[\"H\\u00e4gglingen\"],[\"Egg\"],[\"Basadingen-Schlattingen\"],[\"Bichelsee-Balterswil\"],[\"Alchenstorf\"],[\"Buchs (SG)\"],[\"Hochfelden\"],[\"Avenches\"],[\"Studen (BE)\"],[\"Kleinb\\u00f6singen\"],[\"Ettingen\"],[\"Scheuren\"],[\"D\\u00e4nikon\"],[\"Meiringen\"],[\"Dallenwil\"],[\"Alpthal\"],[\"Bergdietikon\"],[\"Ehrendingen\"],[\"Herrliberg\"],[\"Dozwil\"],[\"Le Chenit\"],[\"Sorvilier\"],[\"Steinmaur\"],[\"Milvignes\"],[\"Niederhasli\"],[\"Erstfeld\"],[\"Niederg\\u00f6sgen\"],[\"Freienbach\"],[\"Siglistorf\"],[\"Schwellbrunn\"],[\"Choulex\"],[\"Plasselb\"],[\"Grossaffoltern\"],[\"Ch\\u00eane-Bourg\"],[\"B\\u00f6zen\"],[\"Truttikon\"],[\"Aedermannsdorf\"],[\"M\\u00e9ni\\u00e8res\"],[\"Ursins\"],[\"Eisten\"],[\"Monteggio\"],[\"Wald (AR)\"],[\"Kappel (SO)\"],[\"Astano\"],[\"Realp\"],[\"Lengwil\"],[\"Treyvaux\"],[\"Ch\\u00e2teau-d'Oex\"],[\"Grossh\\u00f6chstetten\"],[\"Eggiwil\"],[\"Villorsonnens\"],[\"Gretzenbach\"],[\"Evol\\u00e8ne\"],[\"Saint-L\\u00e9gier-La Chi\\u00e9saz\"],[\"Heitenried\"],[\"B\\u00fcrglen (TG)\"],[\"F\\u00e9chy\"],[\"M\\u00f6rigen\"],[\"Reinach (BL)\"],[\"Liedertswil\"]],\"hovertemplate\":\"True Y=1.0<br>% Yes=%{x}<br>Error=%{y}<br>Municipality=%{customdata[0]}<extra></extra>\",\"legendgroup\":\"1.0\",\"marker\":{\"color\":\"#636efa\",\"symbol\":\"circle\"},\"mode\":\"markers\",\"name\":\"1.0\",\"orientation\":\"v\",\"showlegend\":true,\"x\":[55.0,50.4,62.8,68.1,66.5,64.5,63.5,60.1,53.7,60.4,54.5,64.9,59.4,54.4,55.0,61.6,62.2,53.3,52.8,52.5,69.2,63.9,55.3,55.2,66.7,66.9,55.6,52.2,67.3,61.8,58.9,66.1,50.7,58.2,50.7,61.1,53.9,51.6,56.6,54.1,64.4,58.7,51.5,50.3,77.6,59.8,64.0,64.8,78.9,63.5,65.1,55.2,50.5,50.7,59.3,61.0,55.2,63.0,60.4,53.5,60.7,60.6,58.5,58.5,66.7,53.1,65.2,56.8,59.8,55.8,65.9,62.8,56.3,56.7,59.0,60.2,50.2,63.4,56.7,55.9,55.4,59.6,60.6,60.9,57.5,62.9,60.4,50.2,65.2,55.9,54.1,63.3,72.2,68.1,63.8,63.7,54.6,63.5,63.9,66.4,59.4,51.9,52.4,52.4,53.4,65.1,54.4,61.4,59.6,68.5,54.8,57.1,63.7,61.8,54.8,62.5,54.5,60.3,60.6,56.0,56.2,60.7,59.1,69.4,78.5,59.1,61.4,66.5,55.7,71.2,61.7,55.2,51.8,61.1,58.9,64.3,53.3,64.8,64.4,67.4,57.1,58.2,65.1,61.8,53.4,62.3,81.1,57.0,53.3,51.7,64.8,64.2,68.0,58.5,51.1,58.2,63.0,60.3,56.9,66.5,61.8,50.8,69.3,53.9,51.7,65.8,56.1,64.6,62.7,51.0,63.3,65.4,51.2,55.4,54.8,58.9,50.7,64.4,59.7,50.6,69.9,69.7,55.5,66.4,52.0,57.8,61.2,53.5,62.8,54.9,70.4],\"xaxis\":\"x\",\"y\":[0.0,0.0,0.0,0.0,0.0,0.0,0.0,1.0,0.0,0.0,0.0,0.0,0.0,0.0,0.0,0.0,0.0,0.0,0.0,0.0,0.0,0.0,0.0,0.0,0.0,0.0,1.0,1.0,0.0,0.0,0.0,0.0,0.0,0.0,0.0,0.0,0.0,0.0,0.0,0.0,0.0,0.0,0.0,0.0,0.0,0.0,0.0,0.0,0.0,0.0,0.0,0.0,0.0,0.0,0.0,0.0,0.0,0.0,0.0,0.0,0.0,0.0,0.0,0.0,0.0,0.0,0.0,0.0,0.0,0.0,0.0,0.0,1.0,0.0,0.0,0.0,0.0,0.0,0.0,0.0,0.0,0.0,0.0,0.0,0.0,0.0,0.0,0.0,0.0,0.0,0.0,0.0,0.0,0.0,0.0,0.0,0.0,0.0,0.0,0.0,0.0,0.0,0.0,0.0,0.0,0.0,0.0,0.0,0.0,0.0,0.0,0.0,0.0,0.0,0.0,0.0,0.0,0.0,0.0,0.0,0.0,0.0,0.0,0.0,0.0,0.0,0.0,0.0,0.0,0.0,0.0,0.0,1.0,0.0,0.0,0.0,0.0,0.0,0.0,0.0,0.0,0.0,0.0,0.0,0.0,0.0,0.0,0.0,1.0,1.0,0.0,0.0,0.0,0.0,0.0,0.0,0.0,0.0,0.0,0.0,0.0,0.0,0.0,0.0,0.0,0.0,0.0,0.0,0.0,0.0,0.0,0.0,0.0,0.0,0.0,0.0,0.0,0.0,0.0,0.0,0.0,0.0,0.0,0.0,0.0,0.0,0.0,0.0,0.0,1.0,0.0],\"yaxis\":\"y\",\"type\":\"scatter\"},{\"customdata\":[[\"Safiental\"],[\"Ziefen\"],[\"Maur\"],[\"Begnins\"],[\"B\\u00e4tterkinden\"],[\"F\\u00fcrstenau\"],[\"Apples\"],[\"Schelten\"],[\"Ittigen\"],[\"Muri (AG)\"],[\"Veyrier\"],[\"Schwerzenbach\"],[\"Lutry\"],[\"Gen\\u00e8ve\"],[\"Unterb\\u00e4ch\"],[\"Richterswil\"],[\"Ennetbaden\"],[\"Pregny-Chamb\\u00e9sy\"],[\"Onsernone\"],[\"Bedigliora\"],[\"Wettswil am Albis\"],[\"Hedingen\"],[\"La Chaux-de-Fonds\"],[\"Carouge (GE)\"],[\"Mauraz\"],[\"Rheinfelden\"]],\"hovertemplate\":\"True Y=0.0<br>% Yes=%{x}<br>Error=%{y}<br>Municipality=%{customdata[0]}<extra></extra>\",\"legendgroup\":\"0.0\",\"marker\":{\"color\":\"#EF553B\",\"symbol\":\"circle\"},\"mode\":\"markers\",\"name\":\"0.0\",\"orientation\":\"v\",\"showlegend\":true,\"x\":[47.4,48.3,50.0,49.2,47.7,49.2,49.2,48.1,47.1,49.4,49.0,46.6,50.0,44.8,46.5,48.1,30.9,48.0,49.1,48.1,46.6,46.1,49.7,43.4,40.6,49.2],\"xaxis\":\"x\",\"y\":[1.0,1.0,0.0,1.0,1.0,1.0,1.0,1.0,0.0,1.0,1.0,1.0,0.0,0.0,1.0,1.0,1.0,1.0,1.0,1.0,1.0,1.0,1.0,0.0,1.0,0.0],\"yaxis\":\"y\",\"type\":\"scatter\"}],                        {\"template\":{\"data\":{\"bar\":[{\"error_x\":{\"color\":\"#2a3f5f\"},\"error_y\":{\"color\":\"#2a3f5f\"},\"marker\":{\"line\":{\"color\":\"#E5ECF6\",\"width\":0.5},\"pattern\":{\"fillmode\":\"overlay\",\"size\":10,\"solidity\":0.2}},\"type\":\"bar\"}],\"barpolar\":[{\"marker\":{\"line\":{\"color\":\"#E5ECF6\",\"width\":0.5},\"pattern\":{\"fillmode\":\"overlay\",\"size\":10,\"solidity\":0.2}},\"type\":\"barpolar\"}],\"carpet\":[{\"aaxis\":{\"endlinecolor\":\"#2a3f5f\",\"gridcolor\":\"white\",\"linecolor\":\"white\",\"minorgridcolor\":\"white\",\"startlinecolor\":\"#2a3f5f\"},\"baxis\":{\"endlinecolor\":\"#2a3f5f\",\"gridcolor\":\"white\",\"linecolor\":\"white\",\"minorgridcolor\":\"white\",\"startlinecolor\":\"#2a3f5f\"},\"type\":\"carpet\"}],\"choropleth\":[{\"colorbar\":{\"outlinewidth\":0,\"ticks\":\"\"},\"type\":\"choropleth\"}],\"contour\":[{\"colorbar\":{\"outlinewidth\":0,\"ticks\":\"\"},\"colorscale\":[[0.0,\"#0d0887\"],[0.1111111111111111,\"#46039f\"],[0.2222222222222222,\"#7201a8\"],[0.3333333333333333,\"#9c179e\"],[0.4444444444444444,\"#bd3786\"],[0.5555555555555556,\"#d8576b\"],[0.6666666666666666,\"#ed7953\"],[0.7777777777777778,\"#fb9f3a\"],[0.8888888888888888,\"#fdca26\"],[1.0,\"#f0f921\"]],\"type\":\"contour\"}],\"contourcarpet\":[{\"colorbar\":{\"outlinewidth\":0,\"ticks\":\"\"},\"type\":\"contourcarpet\"}],\"heatmap\":[{\"colorbar\":{\"outlinewidth\":0,\"ticks\":\"\"},\"colorscale\":[[0.0,\"#0d0887\"],[0.1111111111111111,\"#46039f\"],[0.2222222222222222,\"#7201a8\"],[0.3333333333333333,\"#9c179e\"],[0.4444444444444444,\"#bd3786\"],[0.5555555555555556,\"#d8576b\"],[0.6666666666666666,\"#ed7953\"],[0.7777777777777778,\"#fb9f3a\"],[0.8888888888888888,\"#fdca26\"],[1.0,\"#f0f921\"]],\"type\":\"heatmap\"}],\"heatmapgl\":[{\"colorbar\":{\"outlinewidth\":0,\"ticks\":\"\"},\"colorscale\":[[0.0,\"#0d0887\"],[0.1111111111111111,\"#46039f\"],[0.2222222222222222,\"#7201a8\"],[0.3333333333333333,\"#9c179e\"],[0.4444444444444444,\"#bd3786\"],[0.5555555555555556,\"#d8576b\"],[0.6666666666666666,\"#ed7953\"],[0.7777777777777778,\"#fb9f3a\"],[0.8888888888888888,\"#fdca26\"],[1.0,\"#f0f921\"]],\"type\":\"heatmapgl\"}],\"histogram\":[{\"marker\":{\"pattern\":{\"fillmode\":\"overlay\",\"size\":10,\"solidity\":0.2}},\"type\":\"histogram\"}],\"histogram2d\":[{\"colorbar\":{\"outlinewidth\":0,\"ticks\":\"\"},\"colorscale\":[[0.0,\"#0d0887\"],[0.1111111111111111,\"#46039f\"],[0.2222222222222222,\"#7201a8\"],[0.3333333333333333,\"#9c179e\"],[0.4444444444444444,\"#bd3786\"],[0.5555555555555556,\"#d8576b\"],[0.6666666666666666,\"#ed7953\"],[0.7777777777777778,\"#fb9f3a\"],[0.8888888888888888,\"#fdca26\"],[1.0,\"#f0f921\"]],\"type\":\"histogram2d\"}],\"histogram2dcontour\":[{\"colorbar\":{\"outlinewidth\":0,\"ticks\":\"\"},\"colorscale\":[[0.0,\"#0d0887\"],[0.1111111111111111,\"#46039f\"],[0.2222222222222222,\"#7201a8\"],[0.3333333333333333,\"#9c179e\"],[0.4444444444444444,\"#bd3786\"],[0.5555555555555556,\"#d8576b\"],[0.6666666666666666,\"#ed7953\"],[0.7777777777777778,\"#fb9f3a\"],[0.8888888888888888,\"#fdca26\"],[1.0,\"#f0f921\"]],\"type\":\"histogram2dcontour\"}],\"mesh3d\":[{\"colorbar\":{\"outlinewidth\":0,\"ticks\":\"\"},\"type\":\"mesh3d\"}],\"parcoords\":[{\"line\":{\"colorbar\":{\"outlinewidth\":0,\"ticks\":\"\"}},\"type\":\"parcoords\"}],\"pie\":[{\"automargin\":true,\"type\":\"pie\"}],\"scatter\":[{\"marker\":{\"colorbar\":{\"outlinewidth\":0,\"ticks\":\"\"}},\"type\":\"scatter\"}],\"scatter3d\":[{\"line\":{\"colorbar\":{\"outlinewidth\":0,\"ticks\":\"\"}},\"marker\":{\"colorbar\":{\"outlinewidth\":0,\"ticks\":\"\"}},\"type\":\"scatter3d\"}],\"scattercarpet\":[{\"marker\":{\"colorbar\":{\"outlinewidth\":0,\"ticks\":\"\"}},\"type\":\"scattercarpet\"}],\"scattergeo\":[{\"marker\":{\"colorbar\":{\"outlinewidth\":0,\"ticks\":\"\"}},\"type\":\"scattergeo\"}],\"scattergl\":[{\"marker\":{\"colorbar\":{\"outlinewidth\":0,\"ticks\":\"\"}},\"type\":\"scattergl\"}],\"scattermapbox\":[{\"marker\":{\"colorbar\":{\"outlinewidth\":0,\"ticks\":\"\"}},\"type\":\"scattermapbox\"}],\"scatterpolar\":[{\"marker\":{\"colorbar\":{\"outlinewidth\":0,\"ticks\":\"\"}},\"type\":\"scatterpolar\"}],\"scatterpolargl\":[{\"marker\":{\"colorbar\":{\"outlinewidth\":0,\"ticks\":\"\"}},\"type\":\"scatterpolargl\"}],\"scatterternary\":[{\"marker\":{\"colorbar\":{\"outlinewidth\":0,\"ticks\":\"\"}},\"type\":\"scatterternary\"}],\"surface\":[{\"colorbar\":{\"outlinewidth\":0,\"ticks\":\"\"},\"colorscale\":[[0.0,\"#0d0887\"],[0.1111111111111111,\"#46039f\"],[0.2222222222222222,\"#7201a8\"],[0.3333333333333333,\"#9c179e\"],[0.4444444444444444,\"#bd3786\"],[0.5555555555555556,\"#d8576b\"],[0.6666666666666666,\"#ed7953\"],[0.7777777777777778,\"#fb9f3a\"],[0.8888888888888888,\"#fdca26\"],[1.0,\"#f0f921\"]],\"type\":\"surface\"}],\"table\":[{\"cells\":{\"fill\":{\"color\":\"#EBF0F8\"},\"line\":{\"color\":\"white\"}},\"header\":{\"fill\":{\"color\":\"#C8D4E3\"},\"line\":{\"color\":\"white\"}},\"type\":\"table\"}]},\"layout\":{\"annotationdefaults\":{\"arrowcolor\":\"#2a3f5f\",\"arrowhead\":0,\"arrowwidth\":1},\"autotypenumbers\":\"strict\",\"coloraxis\":{\"colorbar\":{\"outlinewidth\":0,\"ticks\":\"\"}},\"colorscale\":{\"diverging\":[[0,\"#8e0152\"],[0.1,\"#c51b7d\"],[0.2,\"#de77ae\"],[0.3,\"#f1b6da\"],[0.4,\"#fde0ef\"],[0.5,\"#f7f7f7\"],[0.6,\"#e6f5d0\"],[0.7,\"#b8e186\"],[0.8,\"#7fbc41\"],[0.9,\"#4d9221\"],[1,\"#276419\"]],\"sequential\":[[0.0,\"#0d0887\"],[0.1111111111111111,\"#46039f\"],[0.2222222222222222,\"#7201a8\"],[0.3333333333333333,\"#9c179e\"],[0.4444444444444444,\"#bd3786\"],[0.5555555555555556,\"#d8576b\"],[0.6666666666666666,\"#ed7953\"],[0.7777777777777778,\"#fb9f3a\"],[0.8888888888888888,\"#fdca26\"],[1.0,\"#f0f921\"]],\"sequentialminus\":[[0.0,\"#0d0887\"],[0.1111111111111111,\"#46039f\"],[0.2222222222222222,\"#7201a8\"],[0.3333333333333333,\"#9c179e\"],[0.4444444444444444,\"#bd3786\"],[0.5555555555555556,\"#d8576b\"],[0.6666666666666666,\"#ed7953\"],[0.7777777777777778,\"#fb9f3a\"],[0.8888888888888888,\"#fdca26\"],[1.0,\"#f0f921\"]]},\"colorway\":[\"#636efa\",\"#EF553B\",\"#00cc96\",\"#ab63fa\",\"#FFA15A\",\"#19d3f3\",\"#FF6692\",\"#B6E880\",\"#FF97FF\",\"#FECB52\"],\"font\":{\"color\":\"#2a3f5f\"},\"geo\":{\"bgcolor\":\"white\",\"lakecolor\":\"white\",\"landcolor\":\"#E5ECF6\",\"showlakes\":true,\"showland\":true,\"subunitcolor\":\"white\"},\"hoverlabel\":{\"align\":\"left\"},\"hovermode\":\"closest\",\"mapbox\":{\"style\":\"light\"},\"paper_bgcolor\":\"white\",\"plot_bgcolor\":\"#E5ECF6\",\"polar\":{\"angularaxis\":{\"gridcolor\":\"white\",\"linecolor\":\"white\",\"ticks\":\"\"},\"bgcolor\":\"#E5ECF6\",\"radialaxis\":{\"gridcolor\":\"white\",\"linecolor\":\"white\",\"ticks\":\"\"}},\"scene\":{\"xaxis\":{\"backgroundcolor\":\"#E5ECF6\",\"gridcolor\":\"white\",\"gridwidth\":2,\"linecolor\":\"white\",\"showbackground\":true,\"ticks\":\"\",\"zerolinecolor\":\"white\"},\"yaxis\":{\"backgroundcolor\":\"#E5ECF6\",\"gridcolor\":\"white\",\"gridwidth\":2,\"linecolor\":\"white\",\"showbackground\":true,\"ticks\":\"\",\"zerolinecolor\":\"white\"},\"zaxis\":{\"backgroundcolor\":\"#E5ECF6\",\"gridcolor\":\"white\",\"gridwidth\":2,\"linecolor\":\"white\",\"showbackground\":true,\"ticks\":\"\",\"zerolinecolor\":\"white\"}},\"shapedefaults\":{\"line\":{\"color\":\"#2a3f5f\"}},\"ternary\":{\"aaxis\":{\"gridcolor\":\"white\",\"linecolor\":\"white\",\"ticks\":\"\"},\"baxis\":{\"gridcolor\":\"white\",\"linecolor\":\"white\",\"ticks\":\"\"},\"bgcolor\":\"#E5ECF6\",\"caxis\":{\"gridcolor\":\"white\",\"linecolor\":\"white\",\"ticks\":\"\"}},\"title\":{\"x\":0.05},\"xaxis\":{\"automargin\":true,\"gridcolor\":\"white\",\"linecolor\":\"white\",\"ticks\":\"\",\"title\":{\"standoff\":15},\"zerolinecolor\":\"white\",\"zerolinewidth\":2},\"yaxis\":{\"automargin\":true,\"gridcolor\":\"white\",\"linecolor\":\"white\",\"ticks\":\"\",\"title\":{\"standoff\":15},\"zerolinecolor\":\"white\",\"zerolinewidth\":2}}},\"xaxis\":{\"anchor\":\"y\",\"domain\":[0.0,1.0],\"title\":{\"text\":\"% Yes\"}},\"yaxis\":{\"anchor\":\"x\",\"domain\":[0.0,1.0],\"title\":{\"text\":\"Error\"}},\"legend\":{\"title\":{\"text\":\"True Y\"},\"tracegroupgap\":0},\"title\":{\"text\":\"% Yes & Error Rate\"}},                        {\"responsive\": true}                    ).then(function(){\n",
       "                            \n",
       "var gd = document.getElementById('7319bdba-5206-469f-be94-f89bac3f348d');\n",
       "var x = new MutationObserver(function (mutations, observer) {{\n",
       "        var display = window.getComputedStyle(gd).display;\n",
       "        if (!display || display === 'none') {{\n",
       "            console.log([gd, 'removed!']);\n",
       "            Plotly.purge(gd);\n",
       "            observer.disconnect();\n",
       "        }}\n",
       "}});\n",
       "\n",
       "// Listen for the removal of the full notebook cells\n",
       "var notebookContainer = gd.closest('#notebook-container');\n",
       "if (notebookContainer) {{\n",
       "    x.observe(notebookContainer, {childList: true});\n",
       "}}\n",
       "\n",
       "// Listen for the clearing of the current output cell\n",
       "var outputEl = gd.closest('.output');\n",
       "if (outputEl) {{\n",
       "    x.observe(outputEl, {childList: true});\n",
       "}}\n",
       "\n",
       "                        })                };                });            </script>        </div>"
      ]
     },
     "metadata": {},
     "output_type": "display_data"
    }
   ],
   "source": [
    "# Plot % Yes & Error\n",
    "plts.plot_yes_perc_error(X_test_all, y_test, y_pred_dt) "
   ]
  },
  {
   "cell_type": "markdown",
   "metadata": {},
   "source": [
    "#### Random Forest"
   ]
  },
  {
   "cell_type": "code",
   "execution_count": 42,
   "metadata": {},
   "outputs": [],
   "source": [
    "# Find best params for Random Forest model\n",
    "best_params_rf, best_acc_rf, accuracies_rf = rf.random_forest(X_train=X_train, X_dev=X_dev, \n",
    "                                            y_train=y_train, y_dev=y_dev, random_state = True)"
   ]
  },
  {
   "cell_type": "code",
   "execution_count": 43,
   "metadata": {},
   "outputs": [
    {
     "data": {
      "text/html": [
       "<div>\n",
       "<style scoped>\n",
       "    .dataframe tbody tr th:only-of-type {\n",
       "        vertical-align: middle;\n",
       "    }\n",
       "\n",
       "    .dataframe tbody tr th {\n",
       "        vertical-align: top;\n",
       "    }\n",
       "\n",
       "    .dataframe thead th {\n",
       "        text-align: right;\n",
       "    }\n",
       "</style>\n",
       "<table border=\"1\" class=\"dataframe\">\n",
       "  <thead>\n",
       "    <tr style=\"text-align: right;\">\n",
       "      <th></th>\n",
       "      <th>criterion</th>\n",
       "      <th>n_estimators</th>\n",
       "      <th>max_depth</th>\n",
       "      <th>accuracy</th>\n",
       "    </tr>\n",
       "  </thead>\n",
       "  <tbody>\n",
       "    <tr>\n",
       "      <th>0</th>\n",
       "      <td>gini</td>\n",
       "      <td>1</td>\n",
       "      <td>1</td>\n",
       "      <td>0.838710</td>\n",
       "    </tr>\n",
       "    <tr>\n",
       "      <th>1</th>\n",
       "      <td>gini</td>\n",
       "      <td>1</td>\n",
       "      <td>5</td>\n",
       "      <td>0.843318</td>\n",
       "    </tr>\n",
       "    <tr>\n",
       "      <th>2</th>\n",
       "      <td>gini</td>\n",
       "      <td>1</td>\n",
       "      <td>10</td>\n",
       "      <td>0.797235</td>\n",
       "    </tr>\n",
       "    <tr>\n",
       "      <th>3</th>\n",
       "      <td>gini</td>\n",
       "      <td>1</td>\n",
       "      <td>20</td>\n",
       "      <td>0.774194</td>\n",
       "    </tr>\n",
       "    <tr>\n",
       "      <th>4</th>\n",
       "      <td>gini</td>\n",
       "      <td>1</td>\n",
       "      <td>40</td>\n",
       "      <td>0.774194</td>\n",
       "    </tr>\n",
       "    <tr>\n",
       "      <th>...</th>\n",
       "      <td>...</td>\n",
       "      <td>...</td>\n",
       "      <td>...</td>\n",
       "      <td>...</td>\n",
       "    </tr>\n",
       "    <tr>\n",
       "      <th>283</th>\n",
       "      <td>entropy</td>\n",
       "      <td>500</td>\n",
       "      <td>200</td>\n",
       "      <td>0.852535</td>\n",
       "    </tr>\n",
       "    <tr>\n",
       "      <th>284</th>\n",
       "      <td>entropy</td>\n",
       "      <td>500</td>\n",
       "      <td>250</td>\n",
       "      <td>0.852535</td>\n",
       "    </tr>\n",
       "    <tr>\n",
       "      <th>285</th>\n",
       "      <td>entropy</td>\n",
       "      <td>500</td>\n",
       "      <td>300</td>\n",
       "      <td>0.852535</td>\n",
       "    </tr>\n",
       "    <tr>\n",
       "      <th>286</th>\n",
       "      <td>entropy</td>\n",
       "      <td>500</td>\n",
       "      <td>400</td>\n",
       "      <td>0.852535</td>\n",
       "    </tr>\n",
       "    <tr>\n",
       "      <th>287</th>\n",
       "      <td>entropy</td>\n",
       "      <td>500</td>\n",
       "      <td>500</td>\n",
       "      <td>0.852535</td>\n",
       "    </tr>\n",
       "  </tbody>\n",
       "</table>\n",
       "<p>288 rows × 4 columns</p>\n",
       "</div>"
      ],
      "text/plain": [
       "    criterion  n_estimators  max_depth  accuracy\n",
       "0        gini             1          1  0.838710\n",
       "1        gini             1          5  0.843318\n",
       "2        gini             1         10  0.797235\n",
       "3        gini             1         20  0.774194\n",
       "4        gini             1         40  0.774194\n",
       "..        ...           ...        ...       ...\n",
       "283   entropy           500        200  0.852535\n",
       "284   entropy           500        250  0.852535\n",
       "285   entropy           500        300  0.852535\n",
       "286   entropy           500        400  0.852535\n",
       "287   entropy           500        500  0.852535\n",
       "\n",
       "[288 rows x 4 columns]"
      ]
     },
     "execution_count": 43,
     "metadata": {},
     "output_type": "execute_result"
    }
   ],
   "source": [
    "accuracies_rf"
   ]
  },
  {
   "cell_type": "code",
   "execution_count": null,
   "metadata": {},
   "outputs": [],
   "source": [
    "# Plot random forests' accuracies based on parameters\n",
    "rf.plot_random_forest(accuracies_rf)"
   ]
  },
  {
   "cell_type": "code",
   "execution_count": null,
   "metadata": {
    "scrolled": true
   },
   "outputs": [],
   "source": [
    "# Make prediction with best model\n",
    "y_test_pred_rf = rf.predict_random_forest(best_params_rf, X_train, y_train, X_test, random_state = True)"
   ]
  },
  {
   "cell_type": "code",
   "execution_count": null,
   "metadata": {},
   "outputs": [],
   "source": [
    "# Evaluation metrics \n",
    "print(\"Test Data - Classification Report: \\n\", classification_report(y_test, y_test_pred_rf))"
   ]
  },
  {
   "cell_type": "code",
   "execution_count": null,
   "metadata": {},
   "outputs": [],
   "source": [
    "# Confusion matrix\n",
    "cm = confusion_matrix(y_test, y_test_pred_rf)\n",
    "ConfusionMatrixDisplay(cm, display_labels=labels).plot()"
   ]
  },
  {
   "cell_type": "code",
   "execution_count": null,
   "metadata": {},
   "outputs": [],
   "source": [
    "# Feature Importance\n",
    "rf.feature_importance_random_forest(X_train, y_train, best_params_rf)"
   ]
  },
  {
   "cell_type": "code",
   "execution_count": null,
   "metadata": {},
   "outputs": [],
   "source": [
    "# Plot % Yes & Error\n",
    "plts.plot_yes_perc_error(X_test_all, y_test, y_test_pred_rf) "
   ]
  },
  {
   "cell_type": "markdown",
   "metadata": {},
   "source": [
    "#### Neural Networks "
   ]
  },
  {
   "cell_type": "code",
   "execution_count": null,
   "metadata": {},
   "outputs": [],
   "source": [
    "# Find best params for neural net\n",
    "best_parameters_nn, best_accuracy_nn, accuracies_nn = nn.fit_nn(X_train, X_dev, y_train, y_dev)"
   ]
  },
  {
   "cell_type": "code",
   "execution_count": null,
   "metadata": {},
   "outputs": [],
   "source": [
    "accuracies_nn"
   ]
  },
  {
   "cell_type": "code",
   "execution_count": null,
   "metadata": {},
   "outputs": [],
   "source": [
    "# Plot tested params & accuracies\n",
    "nn.plot_nn(accuracies_nn)"
   ]
  },
  {
   "cell_type": "code",
   "execution_count": null,
   "metadata": {},
   "outputs": [],
   "source": [
    "# Make prediction with best model \n",
    "y_pred_nn = nn.predict_best_model_nn(best_parameters_nn, X_train, y_train, X_test)"
   ]
  },
  {
   "cell_type": "code",
   "execution_count": null,
   "metadata": {},
   "outputs": [],
   "source": [
    "# Evaluation metrics\n",
    "print(\"Classification report: \\n\", classification_report(y_test, y_pred_nn))"
   ]
  },
  {
   "cell_type": "code",
   "execution_count": null,
   "metadata": {},
   "outputs": [],
   "source": [
    "# Confusion matrix\n",
    "cm = confusion_matrix(y_test, y_pred_nn)\n",
    "ConfusionMatrixDisplay(cm, display_labels=labels).plot()"
   ]
  },
  {
   "cell_type": "code",
   "execution_count": null,
   "metadata": {},
   "outputs": [],
   "source": [
    "# Plot % Yes & Error\n",
    "plts.plot_yes_perc_error(X_test_all, y_test, y_pred_nn) "
   ]
  },
  {
   "cell_type": "markdown",
   "metadata": {},
   "source": [
    "### Conclusions"
   ]
  },
  {
   "cell_type": "code",
   "execution_count": null,
   "metadata": {},
   "outputs": [],
   "source": [
    "# Table comparing best models and accuracies?\n",
    "models = ['Logistic Regression', 'KNN', 'Decision Trees', 'Random_Forest', 'Neural Networks']\n",
    "outputs = [y_pred_lg, y_pred_knn, y_pred_dt, y_test_pred_rf, y_pred_nn]\n",
    "table = []\n",
    "\n",
    "for model, y_pred in zip(models, outputs):\n",
    "    tn, fp, fn, tp = confusion_matrix(y_test, y_pred).ravel()\n",
    "    accuracy_all = (tn + tp) / len(y_pred)\n",
    "    specificity = tn / (tn + fp)\n",
    "    recall = tp / (tp + fn)\n",
    "    table.append([model, accuracy_all, specificity, recall])\n",
    "                  \n",
    " \n",
    "all_results = pd.DataFrame(table, columns= ['Model','Accuracy','Specificity', 'recall'])\n",
    "all_results\n",
    "    "
   ]
  },
  {
   "cell_type": "code",
   "execution_count": null,
   "metadata": {},
   "outputs": [],
   "source": []
  }
 ],
 "metadata": {
  "kernelspec": {
   "display_name": "Python 3 (ipykernel)",
   "language": "python",
   "name": "python3"
  },
  "language_info": {
   "codemirror_mode": {
    "name": "ipython",
    "version": 3
   },
   "file_extension": ".py",
   "mimetype": "text/x-python",
   "name": "python",
   "nbconvert_exporter": "python",
   "pygments_lexer": "ipython3",
   "version": "3.9.10"
  },
  "vscode": {
   "interpreter": {
    "hash": "26de051ba29f2982a8de78e945f0abaf191376122a1563185a90213a26c5da77"
   }
  }
 },
 "nbformat": 4,
 "nbformat_minor": 2
}
